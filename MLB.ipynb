{
 "cells": [
  {
   "cell_type": "code",
   "execution_count": 2,
   "metadata": {},
   "outputs": [],
   "source": [
    "import pandas as pd"
   ]
  },
  {
   "cell_type": "markdown",
   "metadata": {},
   "source": [
    "# D1"
   ]
  },
  {
   "cell_type": "markdown",
   "metadata": {},
   "source": [
    "## PECOTA"
   ]
  },
  {
   "cell_type": "code",
   "execution_count": 3,
   "metadata": {},
   "outputs": [],
   "source": [
    "data_2019=pd.read_excel(\"Projection Systems Data.xlsx\", sheet_name='2019')"
   ]
  },
  {
   "cell_type": "code",
   "execution_count": 4,
   "metadata": {},
   "outputs": [
    {
     "data": {
      "text/html": [
       "<div>\n",
       "<style scoped>\n",
       "    .dataframe tbody tr th:only-of-type {\n",
       "        vertical-align: middle;\n",
       "    }\n",
       "\n",
       "    .dataframe tbody tr th {\n",
       "        vertical-align: top;\n",
       "    }\n",
       "\n",
       "    .dataframe thead th {\n",
       "        text-align: right;\n",
       "    }\n",
       "</style>\n",
       "<table border=\"1\" class=\"dataframe\">\n",
       "  <thead>\n",
       "    <tr style=\"text-align: right;\">\n",
       "      <th></th>\n",
       "      <th>Unnamed: 0</th>\n",
       "      <th>PECOTA</th>\n",
       "      <th>FanGraphs</th>\n",
       "      <th>ZiPs</th>\n",
       "      <th>Act Wins</th>\n",
       "      <th>Total</th>\n",
       "      <th>pred_Total</th>\n",
       "      <th>pcg_Actual</th>\n",
       "      <th>pcg_PECOTA</th>\n",
       "      <th>pcg_FanGraphs</th>\n",
       "      <th>pcg_ZiPs</th>\n",
       "    </tr>\n",
       "  </thead>\n",
       "  <tbody>\n",
       "    <tr>\n",
       "      <th>0</th>\n",
       "      <td>Arizona Diamondbacks</td>\n",
       "      <td>82</td>\n",
       "      <td>79</td>\n",
       "      <td>77</td>\n",
       "      <td>85</td>\n",
       "      <td>162</td>\n",
       "      <td>162</td>\n",
       "      <td>0.524691</td>\n",
       "      <td>0.506173</td>\n",
       "      <td>0.487654</td>\n",
       "      <td>0.475309</td>\n",
       "    </tr>\n",
       "    <tr>\n",
       "      <th>1</th>\n",
       "      <td>Atlanta Braves</td>\n",
       "      <td>85</td>\n",
       "      <td>82</td>\n",
       "      <td>87</td>\n",
       "      <td>97</td>\n",
       "      <td>162</td>\n",
       "      <td>162</td>\n",
       "      <td>0.598765</td>\n",
       "      <td>0.524691</td>\n",
       "      <td>0.506173</td>\n",
       "      <td>0.537037</td>\n",
       "    </tr>\n",
       "    <tr>\n",
       "      <th>2</th>\n",
       "      <td>Baltimore Orioles</td>\n",
       "      <td>57</td>\n",
       "      <td>62</td>\n",
       "      <td>59</td>\n",
       "      <td>54</td>\n",
       "      <td>162</td>\n",
       "      <td>162</td>\n",
       "      <td>0.333333</td>\n",
       "      <td>0.351852</td>\n",
       "      <td>0.382716</td>\n",
       "      <td>0.364198</td>\n",
       "    </tr>\n",
       "    <tr>\n",
       "      <th>3</th>\n",
       "      <td>Boston Red Sox</td>\n",
       "      <td>90</td>\n",
       "      <td>96</td>\n",
       "      <td>94</td>\n",
       "      <td>84</td>\n",
       "      <td>162</td>\n",
       "      <td>162</td>\n",
       "      <td>0.518519</td>\n",
       "      <td>0.555556</td>\n",
       "      <td>0.592593</td>\n",
       "      <td>0.580247</td>\n",
       "    </tr>\n",
       "    <tr>\n",
       "      <th>4</th>\n",
       "      <td>Chicago Cubs</td>\n",
       "      <td>79</td>\n",
       "      <td>87</td>\n",
       "      <td>87</td>\n",
       "      <td>84</td>\n",
       "      <td>162</td>\n",
       "      <td>162</td>\n",
       "      <td>0.518519</td>\n",
       "      <td>0.487654</td>\n",
       "      <td>0.537037</td>\n",
       "      <td>0.537037</td>\n",
       "    </tr>\n",
       "    <tr>\n",
       "      <th>5</th>\n",
       "      <td>Chicago White Sox</td>\n",
       "      <td>70</td>\n",
       "      <td>69</td>\n",
       "      <td>68</td>\n",
       "      <td>72</td>\n",
       "      <td>161</td>\n",
       "      <td>162</td>\n",
       "      <td>0.447205</td>\n",
       "      <td>0.432099</td>\n",
       "      <td>0.425926</td>\n",
       "      <td>0.419753</td>\n",
       "    </tr>\n",
       "    <tr>\n",
       "      <th>6</th>\n",
       "      <td>Cincinnati Reds</td>\n",
       "      <td>81</td>\n",
       "      <td>81</td>\n",
       "      <td>80</td>\n",
       "      <td>75</td>\n",
       "      <td>162</td>\n",
       "      <td>162</td>\n",
       "      <td>0.462963</td>\n",
       "      <td>0.500000</td>\n",
       "      <td>0.500000</td>\n",
       "      <td>0.493827</td>\n",
       "    </tr>\n",
       "    <tr>\n",
       "      <th>7</th>\n",
       "      <td>Cleveland Guardians/Indians</td>\n",
       "      <td>96</td>\n",
       "      <td>92</td>\n",
       "      <td>96</td>\n",
       "      <td>93</td>\n",
       "      <td>162</td>\n",
       "      <td>162</td>\n",
       "      <td>0.574074</td>\n",
       "      <td>0.592593</td>\n",
       "      <td>0.567901</td>\n",
       "      <td>0.592593</td>\n",
       "    </tr>\n",
       "    <tr>\n",
       "      <th>8</th>\n",
       "      <td>Colorado Rockies</td>\n",
       "      <td>84</td>\n",
       "      <td>81</td>\n",
       "      <td>79</td>\n",
       "      <td>71</td>\n",
       "      <td>162</td>\n",
       "      <td>162</td>\n",
       "      <td>0.438272</td>\n",
       "      <td>0.518519</td>\n",
       "      <td>0.500000</td>\n",
       "      <td>0.487654</td>\n",
       "    </tr>\n",
       "    <tr>\n",
       "      <th>9</th>\n",
       "      <td>Detroit Tigers</td>\n",
       "      <td>67</td>\n",
       "      <td>69</td>\n",
       "      <td>68</td>\n",
       "      <td>47</td>\n",
       "      <td>161</td>\n",
       "      <td>162</td>\n",
       "      <td>0.291925</td>\n",
       "      <td>0.413580</td>\n",
       "      <td>0.425926</td>\n",
       "      <td>0.419753</td>\n",
       "    </tr>\n",
       "    <tr>\n",
       "      <th>10</th>\n",
       "      <td>Houston Astros</td>\n",
       "      <td>98</td>\n",
       "      <td>94</td>\n",
       "      <td>97</td>\n",
       "      <td>107</td>\n",
       "      <td>162</td>\n",
       "      <td>162</td>\n",
       "      <td>0.660494</td>\n",
       "      <td>0.604938</td>\n",
       "      <td>0.580247</td>\n",
       "      <td>0.598765</td>\n",
       "    </tr>\n",
       "    <tr>\n",
       "      <th>11</th>\n",
       "      <td>Kansas City Royals</td>\n",
       "      <td>72</td>\n",
       "      <td>71</td>\n",
       "      <td>68</td>\n",
       "      <td>59</td>\n",
       "      <td>162</td>\n",
       "      <td>162</td>\n",
       "      <td>0.364198</td>\n",
       "      <td>0.444444</td>\n",
       "      <td>0.438272</td>\n",
       "      <td>0.419753</td>\n",
       "    </tr>\n",
       "    <tr>\n",
       "      <th>12</th>\n",
       "      <td>Los Angeles Angels</td>\n",
       "      <td>80</td>\n",
       "      <td>84</td>\n",
       "      <td>81</td>\n",
       "      <td>72</td>\n",
       "      <td>162</td>\n",
       "      <td>162</td>\n",
       "      <td>0.444444</td>\n",
       "      <td>0.493827</td>\n",
       "      <td>0.518519</td>\n",
       "      <td>0.500000</td>\n",
       "    </tr>\n",
       "    <tr>\n",
       "      <th>13</th>\n",
       "      <td>Los Angeles Dodgers</td>\n",
       "      <td>93</td>\n",
       "      <td>93</td>\n",
       "      <td>93</td>\n",
       "      <td>106</td>\n",
       "      <td>162</td>\n",
       "      <td>162</td>\n",
       "      <td>0.654321</td>\n",
       "      <td>0.574074</td>\n",
       "      <td>0.574074</td>\n",
       "      <td>0.574074</td>\n",
       "    </tr>\n",
       "    <tr>\n",
       "      <th>14</th>\n",
       "      <td>Miami Marlins</td>\n",
       "      <td>68</td>\n",
       "      <td>66</td>\n",
       "      <td>56</td>\n",
       "      <td>57</td>\n",
       "      <td>162</td>\n",
       "      <td>162</td>\n",
       "      <td>0.351852</td>\n",
       "      <td>0.419753</td>\n",
       "      <td>0.407407</td>\n",
       "      <td>0.345679</td>\n",
       "    </tr>\n",
       "    <tr>\n",
       "      <th>15</th>\n",
       "      <td>Milwaukee Brewers</td>\n",
       "      <td>88</td>\n",
       "      <td>81</td>\n",
       "      <td>85</td>\n",
       "      <td>89</td>\n",
       "      <td>162</td>\n",
       "      <td>162</td>\n",
       "      <td>0.549383</td>\n",
       "      <td>0.543210</td>\n",
       "      <td>0.500000</td>\n",
       "      <td>0.524691</td>\n",
       "    </tr>\n",
       "    <tr>\n",
       "      <th>16</th>\n",
       "      <td>Minnesota Twins</td>\n",
       "      <td>82</td>\n",
       "      <td>83</td>\n",
       "      <td>83</td>\n",
       "      <td>101</td>\n",
       "      <td>162</td>\n",
       "      <td>162</td>\n",
       "      <td>0.623457</td>\n",
       "      <td>0.506173</td>\n",
       "      <td>0.512346</td>\n",
       "      <td>0.512346</td>\n",
       "    </tr>\n",
       "    <tr>\n",
       "      <th>17</th>\n",
       "      <td>New York Mets</td>\n",
       "      <td>87</td>\n",
       "      <td>85</td>\n",
       "      <td>87</td>\n",
       "      <td>86</td>\n",
       "      <td>162</td>\n",
       "      <td>162</td>\n",
       "      <td>0.530864</td>\n",
       "      <td>0.537037</td>\n",
       "      <td>0.524691</td>\n",
       "      <td>0.537037</td>\n",
       "    </tr>\n",
       "    <tr>\n",
       "      <th>18</th>\n",
       "      <td>New York Yankees</td>\n",
       "      <td>97</td>\n",
       "      <td>95</td>\n",
       "      <td>98</td>\n",
       "      <td>103</td>\n",
       "      <td>162</td>\n",
       "      <td>162</td>\n",
       "      <td>0.635802</td>\n",
       "      <td>0.598765</td>\n",
       "      <td>0.586420</td>\n",
       "      <td>0.604938</td>\n",
       "    </tr>\n",
       "    <tr>\n",
       "      <th>19</th>\n",
       "      <td>Oakland Athletics</td>\n",
       "      <td>79</td>\n",
       "      <td>81</td>\n",
       "      <td>86</td>\n",
       "      <td>97</td>\n",
       "      <td>162</td>\n",
       "      <td>162</td>\n",
       "      <td>0.598765</td>\n",
       "      <td>0.487654</td>\n",
       "      <td>0.500000</td>\n",
       "      <td>0.530864</td>\n",
       "    </tr>\n",
       "    <tr>\n",
       "      <th>20</th>\n",
       "      <td>Philadelphia Phillies</td>\n",
       "      <td>85</td>\n",
       "      <td>81</td>\n",
       "      <td>87</td>\n",
       "      <td>81</td>\n",
       "      <td>162</td>\n",
       "      <td>162</td>\n",
       "      <td>0.500000</td>\n",
       "      <td>0.524691</td>\n",
       "      <td>0.500000</td>\n",
       "      <td>0.537037</td>\n",
       "    </tr>\n",
       "    <tr>\n",
       "      <th>21</th>\n",
       "      <td>Pittsburgh Pirates</td>\n",
       "      <td>80</td>\n",
       "      <td>80</td>\n",
       "      <td>78</td>\n",
       "      <td>69</td>\n",
       "      <td>162</td>\n",
       "      <td>162</td>\n",
       "      <td>0.425926</td>\n",
       "      <td>0.493827</td>\n",
       "      <td>0.493827</td>\n",
       "      <td>0.481481</td>\n",
       "    </tr>\n",
       "    <tr>\n",
       "      <th>22</th>\n",
       "      <td>San Diego Padres</td>\n",
       "      <td>79</td>\n",
       "      <td>79</td>\n",
       "      <td>81</td>\n",
       "      <td>70</td>\n",
       "      <td>162</td>\n",
       "      <td>162</td>\n",
       "      <td>0.432099</td>\n",
       "      <td>0.487654</td>\n",
       "      <td>0.487654</td>\n",
       "      <td>0.500000</td>\n",
       "    </tr>\n",
       "    <tr>\n",
       "      <th>23</th>\n",
       "      <td>San Francisco Giants</td>\n",
       "      <td>73</td>\n",
       "      <td>76</td>\n",
       "      <td>70</td>\n",
       "      <td>77</td>\n",
       "      <td>162</td>\n",
       "      <td>162</td>\n",
       "      <td>0.475309</td>\n",
       "      <td>0.450617</td>\n",
       "      <td>0.469136</td>\n",
       "      <td>0.432099</td>\n",
       "    </tr>\n",
       "    <tr>\n",
       "      <th>24</th>\n",
       "      <td>Seattle Mariners</td>\n",
       "      <td>72</td>\n",
       "      <td>73</td>\n",
       "      <td>76</td>\n",
       "      <td>68</td>\n",
       "      <td>162</td>\n",
       "      <td>162</td>\n",
       "      <td>0.419753</td>\n",
       "      <td>0.444444</td>\n",
       "      <td>0.450617</td>\n",
       "      <td>0.469136</td>\n",
       "    </tr>\n",
       "    <tr>\n",
       "      <th>25</th>\n",
       "      <td>St. Louis Cardinals</td>\n",
       "      <td>85</td>\n",
       "      <td>86</td>\n",
       "      <td>86</td>\n",
       "      <td>91</td>\n",
       "      <td>162</td>\n",
       "      <td>162</td>\n",
       "      <td>0.561728</td>\n",
       "      <td>0.524691</td>\n",
       "      <td>0.530864</td>\n",
       "      <td>0.530864</td>\n",
       "    </tr>\n",
       "    <tr>\n",
       "      <th>26</th>\n",
       "      <td>Tampa Bay Rays</td>\n",
       "      <td>85</td>\n",
       "      <td>85</td>\n",
       "      <td>84</td>\n",
       "      <td>96</td>\n",
       "      <td>162</td>\n",
       "      <td>162</td>\n",
       "      <td>0.592593</td>\n",
       "      <td>0.524691</td>\n",
       "      <td>0.524691</td>\n",
       "      <td>0.518519</td>\n",
       "    </tr>\n",
       "    <tr>\n",
       "      <th>27</th>\n",
       "      <td>Texas Rangers</td>\n",
       "      <td>70</td>\n",
       "      <td>74</td>\n",
       "      <td>68</td>\n",
       "      <td>78</td>\n",
       "      <td>162</td>\n",
       "      <td>162</td>\n",
       "      <td>0.481481</td>\n",
       "      <td>0.432099</td>\n",
       "      <td>0.456790</td>\n",
       "      <td>0.419753</td>\n",
       "    </tr>\n",
       "    <tr>\n",
       "      <th>28</th>\n",
       "      <td>Toronto Blue Jays</td>\n",
       "      <td>76</td>\n",
       "      <td>77</td>\n",
       "      <td>75</td>\n",
       "      <td>67</td>\n",
       "      <td>162</td>\n",
       "      <td>162</td>\n",
       "      <td>0.413580</td>\n",
       "      <td>0.469136</td>\n",
       "      <td>0.475309</td>\n",
       "      <td>0.462963</td>\n",
       "    </tr>\n",
       "    <tr>\n",
       "      <th>29</th>\n",
       "      <td>Washington Nationals</td>\n",
       "      <td>89</td>\n",
       "      <td>90</td>\n",
       "      <td>93</td>\n",
       "      <td>93</td>\n",
       "      <td>162</td>\n",
       "      <td>162</td>\n",
       "      <td>0.574074</td>\n",
       "      <td>0.549383</td>\n",
       "      <td>0.555556</td>\n",
       "      <td>0.574074</td>\n",
       "    </tr>\n",
       "  </tbody>\n",
       "</table>\n",
       "</div>"
      ],
      "text/plain": [
       "                     Unnamed: 0  PECOTA  FanGraphs  ZiPs  Act Wins  Total  \\\n",
       "0          Arizona Diamondbacks      82         79    77        85    162   \n",
       "1                Atlanta Braves      85         82    87        97    162   \n",
       "2             Baltimore Orioles      57         62    59        54    162   \n",
       "3                Boston Red Sox      90         96    94        84    162   \n",
       "4                  Chicago Cubs      79         87    87        84    162   \n",
       "5             Chicago White Sox      70         69    68        72    161   \n",
       "6               Cincinnati Reds      81         81    80        75    162   \n",
       "7   Cleveland Guardians/Indians      96         92    96        93    162   \n",
       "8              Colorado Rockies      84         81    79        71    162   \n",
       "9                Detroit Tigers      67         69    68        47    161   \n",
       "10               Houston Astros      98         94    97       107    162   \n",
       "11           Kansas City Royals      72         71    68        59    162   \n",
       "12           Los Angeles Angels      80         84    81        72    162   \n",
       "13          Los Angeles Dodgers      93         93    93       106    162   \n",
       "14                Miami Marlins      68         66    56        57    162   \n",
       "15            Milwaukee Brewers      88         81    85        89    162   \n",
       "16              Minnesota Twins      82         83    83       101    162   \n",
       "17                New York Mets      87         85    87        86    162   \n",
       "18             New York Yankees      97         95    98       103    162   \n",
       "19            Oakland Athletics      79         81    86        97    162   \n",
       "20        Philadelphia Phillies      85         81    87        81    162   \n",
       "21           Pittsburgh Pirates      80         80    78        69    162   \n",
       "22             San Diego Padres      79         79    81        70    162   \n",
       "23         San Francisco Giants      73         76    70        77    162   \n",
       "24             Seattle Mariners      72         73    76        68    162   \n",
       "25          St. Louis Cardinals      85         86    86        91    162   \n",
       "26               Tampa Bay Rays      85         85    84        96    162   \n",
       "27                Texas Rangers      70         74    68        78    162   \n",
       "28            Toronto Blue Jays      76         77    75        67    162   \n",
       "29         Washington Nationals      89         90    93        93    162   \n",
       "\n",
       "    pred_Total  pcg_Actual  pcg_PECOTA  pcg_FanGraphs  pcg_ZiPs  \n",
       "0          162    0.524691    0.506173       0.487654  0.475309  \n",
       "1          162    0.598765    0.524691       0.506173  0.537037  \n",
       "2          162    0.333333    0.351852       0.382716  0.364198  \n",
       "3          162    0.518519    0.555556       0.592593  0.580247  \n",
       "4          162    0.518519    0.487654       0.537037  0.537037  \n",
       "5          162    0.447205    0.432099       0.425926  0.419753  \n",
       "6          162    0.462963    0.500000       0.500000  0.493827  \n",
       "7          162    0.574074    0.592593       0.567901  0.592593  \n",
       "8          162    0.438272    0.518519       0.500000  0.487654  \n",
       "9          162    0.291925    0.413580       0.425926  0.419753  \n",
       "10         162    0.660494    0.604938       0.580247  0.598765  \n",
       "11         162    0.364198    0.444444       0.438272  0.419753  \n",
       "12         162    0.444444    0.493827       0.518519  0.500000  \n",
       "13         162    0.654321    0.574074       0.574074  0.574074  \n",
       "14         162    0.351852    0.419753       0.407407  0.345679  \n",
       "15         162    0.549383    0.543210       0.500000  0.524691  \n",
       "16         162    0.623457    0.506173       0.512346  0.512346  \n",
       "17         162    0.530864    0.537037       0.524691  0.537037  \n",
       "18         162    0.635802    0.598765       0.586420  0.604938  \n",
       "19         162    0.598765    0.487654       0.500000  0.530864  \n",
       "20         162    0.500000    0.524691       0.500000  0.537037  \n",
       "21         162    0.425926    0.493827       0.493827  0.481481  \n",
       "22         162    0.432099    0.487654       0.487654  0.500000  \n",
       "23         162    0.475309    0.450617       0.469136  0.432099  \n",
       "24         162    0.419753    0.444444       0.450617  0.469136  \n",
       "25         162    0.561728    0.524691       0.530864  0.530864  \n",
       "26         162    0.592593    0.524691       0.524691  0.518519  \n",
       "27         162    0.481481    0.432099       0.456790  0.419753  \n",
       "28         162    0.413580    0.469136       0.475309  0.462963  \n",
       "29         162    0.574074    0.549383       0.555556  0.574074  "
      ]
     },
     "execution_count": 4,
     "metadata": {},
     "output_type": "execute_result"
    }
   ],
   "source": [
    "data_2019"
   ]
  },
  {
   "cell_type": "code",
   "execution_count": 5,
   "metadata": {},
   "outputs": [],
   "source": [
    "data_2019['mean_PECOTA']=data_2019['pcg_PECOTA']*data_2019['pred_Total']"
   ]
  },
  {
   "cell_type": "code",
   "execution_count": 6,
   "metadata": {},
   "outputs": [
    {
     "data": {
      "text/html": [
       "<div>\n",
       "<style scoped>\n",
       "    .dataframe tbody tr th:only-of-type {\n",
       "        vertical-align: middle;\n",
       "    }\n",
       "\n",
       "    .dataframe tbody tr th {\n",
       "        vertical-align: top;\n",
       "    }\n",
       "\n",
       "    .dataframe thead th {\n",
       "        text-align: right;\n",
       "    }\n",
       "</style>\n",
       "<table border=\"1\" class=\"dataframe\">\n",
       "  <thead>\n",
       "    <tr style=\"text-align: right;\">\n",
       "      <th></th>\n",
       "      <th>Unnamed: 0</th>\n",
       "      <th>PECOTA</th>\n",
       "      <th>FanGraphs</th>\n",
       "      <th>ZiPs</th>\n",
       "      <th>Act Wins</th>\n",
       "      <th>Total</th>\n",
       "      <th>pred_Total</th>\n",
       "      <th>pcg_Actual</th>\n",
       "      <th>pcg_PECOTA</th>\n",
       "      <th>pcg_FanGraphs</th>\n",
       "      <th>pcg_ZiPs</th>\n",
       "      <th>mean_PECOTA</th>\n",
       "    </tr>\n",
       "  </thead>\n",
       "  <tbody>\n",
       "    <tr>\n",
       "      <th>0</th>\n",
       "      <td>Arizona Diamondbacks</td>\n",
       "      <td>82</td>\n",
       "      <td>79</td>\n",
       "      <td>77</td>\n",
       "      <td>85</td>\n",
       "      <td>162</td>\n",
       "      <td>162</td>\n",
       "      <td>0.524691</td>\n",
       "      <td>0.506173</td>\n",
       "      <td>0.487654</td>\n",
       "      <td>0.475309</td>\n",
       "      <td>82.0</td>\n",
       "    </tr>\n",
       "    <tr>\n",
       "      <th>1</th>\n",
       "      <td>Atlanta Braves</td>\n",
       "      <td>85</td>\n",
       "      <td>82</td>\n",
       "      <td>87</td>\n",
       "      <td>97</td>\n",
       "      <td>162</td>\n",
       "      <td>162</td>\n",
       "      <td>0.598765</td>\n",
       "      <td>0.524691</td>\n",
       "      <td>0.506173</td>\n",
       "      <td>0.537037</td>\n",
       "      <td>85.0</td>\n",
       "    </tr>\n",
       "    <tr>\n",
       "      <th>2</th>\n",
       "      <td>Baltimore Orioles</td>\n",
       "      <td>57</td>\n",
       "      <td>62</td>\n",
       "      <td>59</td>\n",
       "      <td>54</td>\n",
       "      <td>162</td>\n",
       "      <td>162</td>\n",
       "      <td>0.333333</td>\n",
       "      <td>0.351852</td>\n",
       "      <td>0.382716</td>\n",
       "      <td>0.364198</td>\n",
       "      <td>57.0</td>\n",
       "    </tr>\n",
       "    <tr>\n",
       "      <th>3</th>\n",
       "      <td>Boston Red Sox</td>\n",
       "      <td>90</td>\n",
       "      <td>96</td>\n",
       "      <td>94</td>\n",
       "      <td>84</td>\n",
       "      <td>162</td>\n",
       "      <td>162</td>\n",
       "      <td>0.518519</td>\n",
       "      <td>0.555556</td>\n",
       "      <td>0.592593</td>\n",
       "      <td>0.580247</td>\n",
       "      <td>90.0</td>\n",
       "    </tr>\n",
       "    <tr>\n",
       "      <th>4</th>\n",
       "      <td>Chicago Cubs</td>\n",
       "      <td>79</td>\n",
       "      <td>87</td>\n",
       "      <td>87</td>\n",
       "      <td>84</td>\n",
       "      <td>162</td>\n",
       "      <td>162</td>\n",
       "      <td>0.518519</td>\n",
       "      <td>0.487654</td>\n",
       "      <td>0.537037</td>\n",
       "      <td>0.537037</td>\n",
       "      <td>79.0</td>\n",
       "    </tr>\n",
       "  </tbody>\n",
       "</table>\n",
       "</div>"
      ],
      "text/plain": [
       "             Unnamed: 0  PECOTA  FanGraphs  ZiPs  Act Wins  Total  pred_Total  \\\n",
       "0  Arizona Diamondbacks      82         79    77        85    162         162   \n",
       "1        Atlanta Braves      85         82    87        97    162         162   \n",
       "2     Baltimore Orioles      57         62    59        54    162         162   \n",
       "3        Boston Red Sox      90         96    94        84    162         162   \n",
       "4          Chicago Cubs      79         87    87        84    162         162   \n",
       "\n",
       "   pcg_Actual  pcg_PECOTA  pcg_FanGraphs  pcg_ZiPs  mean_PECOTA  \n",
       "0    0.524691    0.506173       0.487654  0.475309         82.0  \n",
       "1    0.598765    0.524691       0.506173  0.537037         85.0  \n",
       "2    0.333333    0.351852       0.382716  0.364198         57.0  \n",
       "3    0.518519    0.555556       0.592593  0.580247         90.0  \n",
       "4    0.518519    0.487654       0.537037  0.537037         79.0  "
      ]
     },
     "execution_count": 6,
     "metadata": {},
     "output_type": "execute_result"
    }
   ],
   "source": [
    "data_2019.head()"
   ]
  },
  {
   "cell_type": "code",
   "execution_count": 7,
   "metadata": {},
   "outputs": [],
   "source": [
    "data_2019['variance_PECOTA']=data_2019['mean_PECOTA']*(1-data_2019['pcg_PECOTA'])"
   ]
  },
  {
   "cell_type": "code",
   "execution_count": 8,
   "metadata": {},
   "outputs": [
    {
     "data": {
      "text/html": [
       "<div>\n",
       "<style scoped>\n",
       "    .dataframe tbody tr th:only-of-type {\n",
       "        vertical-align: middle;\n",
       "    }\n",
       "\n",
       "    .dataframe tbody tr th {\n",
       "        vertical-align: top;\n",
       "    }\n",
       "\n",
       "    .dataframe thead th {\n",
       "        text-align: right;\n",
       "    }\n",
       "</style>\n",
       "<table border=\"1\" class=\"dataframe\">\n",
       "  <thead>\n",
       "    <tr style=\"text-align: right;\">\n",
       "      <th></th>\n",
       "      <th>Unnamed: 0</th>\n",
       "      <th>PECOTA</th>\n",
       "      <th>FanGraphs</th>\n",
       "      <th>ZiPs</th>\n",
       "      <th>Act Wins</th>\n",
       "      <th>Total</th>\n",
       "      <th>pred_Total</th>\n",
       "      <th>pcg_Actual</th>\n",
       "      <th>pcg_PECOTA</th>\n",
       "      <th>pcg_FanGraphs</th>\n",
       "      <th>pcg_ZiPs</th>\n",
       "      <th>mean_PECOTA</th>\n",
       "      <th>variance_PECOTA</th>\n",
       "    </tr>\n",
       "  </thead>\n",
       "  <tbody>\n",
       "    <tr>\n",
       "      <th>0</th>\n",
       "      <td>Arizona Diamondbacks</td>\n",
       "      <td>82</td>\n",
       "      <td>79</td>\n",
       "      <td>77</td>\n",
       "      <td>85</td>\n",
       "      <td>162</td>\n",
       "      <td>162</td>\n",
       "      <td>0.524691</td>\n",
       "      <td>0.506173</td>\n",
       "      <td>0.487654</td>\n",
       "      <td>0.475309</td>\n",
       "      <td>82.0</td>\n",
       "      <td>40.493827</td>\n",
       "    </tr>\n",
       "    <tr>\n",
       "      <th>1</th>\n",
       "      <td>Atlanta Braves</td>\n",
       "      <td>85</td>\n",
       "      <td>82</td>\n",
       "      <td>87</td>\n",
       "      <td>97</td>\n",
       "      <td>162</td>\n",
       "      <td>162</td>\n",
       "      <td>0.598765</td>\n",
       "      <td>0.524691</td>\n",
       "      <td>0.506173</td>\n",
       "      <td>0.537037</td>\n",
       "      <td>85.0</td>\n",
       "      <td>40.401235</td>\n",
       "    </tr>\n",
       "    <tr>\n",
       "      <th>2</th>\n",
       "      <td>Baltimore Orioles</td>\n",
       "      <td>57</td>\n",
       "      <td>62</td>\n",
       "      <td>59</td>\n",
       "      <td>54</td>\n",
       "      <td>162</td>\n",
       "      <td>162</td>\n",
       "      <td>0.333333</td>\n",
       "      <td>0.351852</td>\n",
       "      <td>0.382716</td>\n",
       "      <td>0.364198</td>\n",
       "      <td>57.0</td>\n",
       "      <td>36.944444</td>\n",
       "    </tr>\n",
       "    <tr>\n",
       "      <th>3</th>\n",
       "      <td>Boston Red Sox</td>\n",
       "      <td>90</td>\n",
       "      <td>96</td>\n",
       "      <td>94</td>\n",
       "      <td>84</td>\n",
       "      <td>162</td>\n",
       "      <td>162</td>\n",
       "      <td>0.518519</td>\n",
       "      <td>0.555556</td>\n",
       "      <td>0.592593</td>\n",
       "      <td>0.580247</td>\n",
       "      <td>90.0</td>\n",
       "      <td>40.000000</td>\n",
       "    </tr>\n",
       "    <tr>\n",
       "      <th>4</th>\n",
       "      <td>Chicago Cubs</td>\n",
       "      <td>79</td>\n",
       "      <td>87</td>\n",
       "      <td>87</td>\n",
       "      <td>84</td>\n",
       "      <td>162</td>\n",
       "      <td>162</td>\n",
       "      <td>0.518519</td>\n",
       "      <td>0.487654</td>\n",
       "      <td>0.537037</td>\n",
       "      <td>0.537037</td>\n",
       "      <td>79.0</td>\n",
       "      <td>40.475309</td>\n",
       "    </tr>\n",
       "  </tbody>\n",
       "</table>\n",
       "</div>"
      ],
      "text/plain": [
       "             Unnamed: 0  PECOTA  FanGraphs  ZiPs  Act Wins  Total  pred_Total  \\\n",
       "0  Arizona Diamondbacks      82         79    77        85    162         162   \n",
       "1        Atlanta Braves      85         82    87        97    162         162   \n",
       "2     Baltimore Orioles      57         62    59        54    162         162   \n",
       "3        Boston Red Sox      90         96    94        84    162         162   \n",
       "4          Chicago Cubs      79         87    87        84    162         162   \n",
       "\n",
       "   pcg_Actual  pcg_PECOTA  pcg_FanGraphs  pcg_ZiPs  mean_PECOTA  \\\n",
       "0    0.524691    0.506173       0.487654  0.475309         82.0   \n",
       "1    0.598765    0.524691       0.506173  0.537037         85.0   \n",
       "2    0.333333    0.351852       0.382716  0.364198         57.0   \n",
       "3    0.518519    0.555556       0.592593  0.580247         90.0   \n",
       "4    0.518519    0.487654       0.537037  0.537037         79.0   \n",
       "\n",
       "   variance_PECOTA  \n",
       "0        40.493827  \n",
       "1        40.401235  \n",
       "2        36.944444  \n",
       "3        40.000000  \n",
       "4        40.475309  "
      ]
     },
     "execution_count": 8,
     "metadata": {},
     "output_type": "execute_result"
    }
   ],
   "source": [
    "data_2019.head()"
   ]
  },
  {
   "cell_type": "code",
   "execution_count": 9,
   "metadata": {},
   "outputs": [],
   "source": [
    "data_2019['Xi']=data_2019['Act Wins']/data_2019['Total']*data_2019['pred_Total']"
   ]
  },
  {
   "cell_type": "code",
   "execution_count": 10,
   "metadata": {},
   "outputs": [
    {
     "data": {
      "text/html": [
       "<div>\n",
       "<style scoped>\n",
       "    .dataframe tbody tr th:only-of-type {\n",
       "        vertical-align: middle;\n",
       "    }\n",
       "\n",
       "    .dataframe tbody tr th {\n",
       "        vertical-align: top;\n",
       "    }\n",
       "\n",
       "    .dataframe thead th {\n",
       "        text-align: right;\n",
       "    }\n",
       "</style>\n",
       "<table border=\"1\" class=\"dataframe\">\n",
       "  <thead>\n",
       "    <tr style=\"text-align: right;\">\n",
       "      <th></th>\n",
       "      <th>Unnamed: 0</th>\n",
       "      <th>PECOTA</th>\n",
       "      <th>FanGraphs</th>\n",
       "      <th>ZiPs</th>\n",
       "      <th>Act Wins</th>\n",
       "      <th>Total</th>\n",
       "      <th>pred_Total</th>\n",
       "      <th>pcg_Actual</th>\n",
       "      <th>pcg_PECOTA</th>\n",
       "      <th>pcg_FanGraphs</th>\n",
       "      <th>pcg_ZiPs</th>\n",
       "      <th>mean_PECOTA</th>\n",
       "      <th>variance_PECOTA</th>\n",
       "      <th>Xi</th>\n",
       "    </tr>\n",
       "  </thead>\n",
       "  <tbody>\n",
       "    <tr>\n",
       "      <th>0</th>\n",
       "      <td>Arizona Diamondbacks</td>\n",
       "      <td>82</td>\n",
       "      <td>79</td>\n",
       "      <td>77</td>\n",
       "      <td>85</td>\n",
       "      <td>162</td>\n",
       "      <td>162</td>\n",
       "      <td>0.524691</td>\n",
       "      <td>0.506173</td>\n",
       "      <td>0.487654</td>\n",
       "      <td>0.475309</td>\n",
       "      <td>82.0</td>\n",
       "      <td>40.493827</td>\n",
       "      <td>85.0</td>\n",
       "    </tr>\n",
       "    <tr>\n",
       "      <th>1</th>\n",
       "      <td>Atlanta Braves</td>\n",
       "      <td>85</td>\n",
       "      <td>82</td>\n",
       "      <td>87</td>\n",
       "      <td>97</td>\n",
       "      <td>162</td>\n",
       "      <td>162</td>\n",
       "      <td>0.598765</td>\n",
       "      <td>0.524691</td>\n",
       "      <td>0.506173</td>\n",
       "      <td>0.537037</td>\n",
       "      <td>85.0</td>\n",
       "      <td>40.401235</td>\n",
       "      <td>97.0</td>\n",
       "    </tr>\n",
       "    <tr>\n",
       "      <th>2</th>\n",
       "      <td>Baltimore Orioles</td>\n",
       "      <td>57</td>\n",
       "      <td>62</td>\n",
       "      <td>59</td>\n",
       "      <td>54</td>\n",
       "      <td>162</td>\n",
       "      <td>162</td>\n",
       "      <td>0.333333</td>\n",
       "      <td>0.351852</td>\n",
       "      <td>0.382716</td>\n",
       "      <td>0.364198</td>\n",
       "      <td>57.0</td>\n",
       "      <td>36.944444</td>\n",
       "      <td>54.0</td>\n",
       "    </tr>\n",
       "    <tr>\n",
       "      <th>3</th>\n",
       "      <td>Boston Red Sox</td>\n",
       "      <td>90</td>\n",
       "      <td>96</td>\n",
       "      <td>94</td>\n",
       "      <td>84</td>\n",
       "      <td>162</td>\n",
       "      <td>162</td>\n",
       "      <td>0.518519</td>\n",
       "      <td>0.555556</td>\n",
       "      <td>0.592593</td>\n",
       "      <td>0.580247</td>\n",
       "      <td>90.0</td>\n",
       "      <td>40.000000</td>\n",
       "      <td>84.0</td>\n",
       "    </tr>\n",
       "    <tr>\n",
       "      <th>4</th>\n",
       "      <td>Chicago Cubs</td>\n",
       "      <td>79</td>\n",
       "      <td>87</td>\n",
       "      <td>87</td>\n",
       "      <td>84</td>\n",
       "      <td>162</td>\n",
       "      <td>162</td>\n",
       "      <td>0.518519</td>\n",
       "      <td>0.487654</td>\n",
       "      <td>0.537037</td>\n",
       "      <td>0.537037</td>\n",
       "      <td>79.0</td>\n",
       "      <td>40.475309</td>\n",
       "      <td>84.0</td>\n",
       "    </tr>\n",
       "  </tbody>\n",
       "</table>\n",
       "</div>"
      ],
      "text/plain": [
       "             Unnamed: 0  PECOTA  FanGraphs  ZiPs  Act Wins  Total  pred_Total  \\\n",
       "0  Arizona Diamondbacks      82         79    77        85    162         162   \n",
       "1        Atlanta Braves      85         82    87        97    162         162   \n",
       "2     Baltimore Orioles      57         62    59        54    162         162   \n",
       "3        Boston Red Sox      90         96    94        84    162         162   \n",
       "4          Chicago Cubs      79         87    87        84    162         162   \n",
       "\n",
       "   pcg_Actual  pcg_PECOTA  pcg_FanGraphs  pcg_ZiPs  mean_PECOTA  \\\n",
       "0    0.524691    0.506173       0.487654  0.475309         82.0   \n",
       "1    0.598765    0.524691       0.506173  0.537037         85.0   \n",
       "2    0.333333    0.351852       0.382716  0.364198         57.0   \n",
       "3    0.518519    0.555556       0.592593  0.580247         90.0   \n",
       "4    0.518519    0.487654       0.537037  0.537037         79.0   \n",
       "\n",
       "   variance_PECOTA    Xi  \n",
       "0        40.493827  85.0  \n",
       "1        40.401235  97.0  \n",
       "2        36.944444  54.0  \n",
       "3        40.000000  84.0  \n",
       "4        40.475309  84.0  "
      ]
     },
     "execution_count": 10,
     "metadata": {},
     "output_type": "execute_result"
    }
   ],
   "source": [
    "data_2019.head()"
   ]
  },
  {
   "cell_type": "code",
   "execution_count": 11,
   "metadata": {},
   "outputs": [],
   "source": [
    "data_2019['D1 Term']=((data_2019['Xi']-data_2019['mean_PECOTA'])/(data_2019['variance_PECOTA']**(1/2)))**2"
   ]
  },
  {
   "cell_type": "code",
   "execution_count": 12,
   "metadata": {},
   "outputs": [
    {
     "data": {
      "text/html": [
       "<div>\n",
       "<style scoped>\n",
       "    .dataframe tbody tr th:only-of-type {\n",
       "        vertical-align: middle;\n",
       "    }\n",
       "\n",
       "    .dataframe tbody tr th {\n",
       "        vertical-align: top;\n",
       "    }\n",
       "\n",
       "    .dataframe thead th {\n",
       "        text-align: right;\n",
       "    }\n",
       "</style>\n",
       "<table border=\"1\" class=\"dataframe\">\n",
       "  <thead>\n",
       "    <tr style=\"text-align: right;\">\n",
       "      <th></th>\n",
       "      <th>Unnamed: 0</th>\n",
       "      <th>PECOTA</th>\n",
       "      <th>FanGraphs</th>\n",
       "      <th>ZiPs</th>\n",
       "      <th>Act Wins</th>\n",
       "      <th>Total</th>\n",
       "      <th>pred_Total</th>\n",
       "      <th>pcg_Actual</th>\n",
       "      <th>pcg_PECOTA</th>\n",
       "      <th>pcg_FanGraphs</th>\n",
       "      <th>pcg_ZiPs</th>\n",
       "      <th>mean_PECOTA</th>\n",
       "      <th>variance_PECOTA</th>\n",
       "      <th>Xi</th>\n",
       "      <th>D1 Term</th>\n",
       "    </tr>\n",
       "  </thead>\n",
       "  <tbody>\n",
       "    <tr>\n",
       "      <th>0</th>\n",
       "      <td>Arizona Diamondbacks</td>\n",
       "      <td>82</td>\n",
       "      <td>79</td>\n",
       "      <td>77</td>\n",
       "      <td>85</td>\n",
       "      <td>162</td>\n",
       "      <td>162</td>\n",
       "      <td>0.524691</td>\n",
       "      <td>0.506173</td>\n",
       "      <td>0.487654</td>\n",
       "      <td>0.475309</td>\n",
       "      <td>82.0</td>\n",
       "      <td>40.493827</td>\n",
       "      <td>85.0</td>\n",
       "      <td>0.222256</td>\n",
       "    </tr>\n",
       "    <tr>\n",
       "      <th>1</th>\n",
       "      <td>Atlanta Braves</td>\n",
       "      <td>85</td>\n",
       "      <td>82</td>\n",
       "      <td>87</td>\n",
       "      <td>97</td>\n",
       "      <td>162</td>\n",
       "      <td>162</td>\n",
       "      <td>0.598765</td>\n",
       "      <td>0.524691</td>\n",
       "      <td>0.506173</td>\n",
       "      <td>0.537037</td>\n",
       "      <td>85.0</td>\n",
       "      <td>40.401235</td>\n",
       "      <td>97.0</td>\n",
       "      <td>3.564248</td>\n",
       "    </tr>\n",
       "    <tr>\n",
       "      <th>2</th>\n",
       "      <td>Baltimore Orioles</td>\n",
       "      <td>57</td>\n",
       "      <td>62</td>\n",
       "      <td>59</td>\n",
       "      <td>54</td>\n",
       "      <td>162</td>\n",
       "      <td>162</td>\n",
       "      <td>0.333333</td>\n",
       "      <td>0.351852</td>\n",
       "      <td>0.382716</td>\n",
       "      <td>0.364198</td>\n",
       "      <td>57.0</td>\n",
       "      <td>36.944444</td>\n",
       "      <td>54.0</td>\n",
       "      <td>0.243609</td>\n",
       "    </tr>\n",
       "    <tr>\n",
       "      <th>3</th>\n",
       "      <td>Boston Red Sox</td>\n",
       "      <td>90</td>\n",
       "      <td>96</td>\n",
       "      <td>94</td>\n",
       "      <td>84</td>\n",
       "      <td>162</td>\n",
       "      <td>162</td>\n",
       "      <td>0.518519</td>\n",
       "      <td>0.555556</td>\n",
       "      <td>0.592593</td>\n",
       "      <td>0.580247</td>\n",
       "      <td>90.0</td>\n",
       "      <td>40.000000</td>\n",
       "      <td>84.0</td>\n",
       "      <td>0.900000</td>\n",
       "    </tr>\n",
       "    <tr>\n",
       "      <th>4</th>\n",
       "      <td>Chicago Cubs</td>\n",
       "      <td>79</td>\n",
       "      <td>87</td>\n",
       "      <td>87</td>\n",
       "      <td>84</td>\n",
       "      <td>162</td>\n",
       "      <td>162</td>\n",
       "      <td>0.518519</td>\n",
       "      <td>0.487654</td>\n",
       "      <td>0.537037</td>\n",
       "      <td>0.537037</td>\n",
       "      <td>79.0</td>\n",
       "      <td>40.475309</td>\n",
       "      <td>84.0</td>\n",
       "      <td>0.617661</td>\n",
       "    </tr>\n",
       "  </tbody>\n",
       "</table>\n",
       "</div>"
      ],
      "text/plain": [
       "             Unnamed: 0  PECOTA  FanGraphs  ZiPs  Act Wins  Total  pred_Total  \\\n",
       "0  Arizona Diamondbacks      82         79    77        85    162         162   \n",
       "1        Atlanta Braves      85         82    87        97    162         162   \n",
       "2     Baltimore Orioles      57         62    59        54    162         162   \n",
       "3        Boston Red Sox      90         96    94        84    162         162   \n",
       "4          Chicago Cubs      79         87    87        84    162         162   \n",
       "\n",
       "   pcg_Actual  pcg_PECOTA  pcg_FanGraphs  pcg_ZiPs  mean_PECOTA  \\\n",
       "0    0.524691    0.506173       0.487654  0.475309         82.0   \n",
       "1    0.598765    0.524691       0.506173  0.537037         85.0   \n",
       "2    0.333333    0.351852       0.382716  0.364198         57.0   \n",
       "3    0.518519    0.555556       0.592593  0.580247         90.0   \n",
       "4    0.518519    0.487654       0.537037  0.537037         79.0   \n",
       "\n",
       "   variance_PECOTA    Xi   D1 Term  \n",
       "0        40.493827  85.0  0.222256  \n",
       "1        40.401235  97.0  3.564248  \n",
       "2        36.944444  54.0  0.243609  \n",
       "3        40.000000  84.0  0.900000  \n",
       "4        40.475309  84.0  0.617661  "
      ]
     },
     "execution_count": 12,
     "metadata": {},
     "output_type": "execute_result"
    }
   ],
   "source": [
    "data_2019.head()"
   ]
  },
  {
   "cell_type": "code",
   "execution_count": 13,
   "metadata": {},
   "outputs": [
    {
     "data": {
      "text/plain": [
       "68.09378692633885"
      ]
     },
     "execution_count": 13,
     "metadata": {},
     "output_type": "execute_result"
    }
   ],
   "source": [
    "D1_PECOTA_2019=data_2019['D1 Term'].sum()\n",
    "D1_PECOTA_2019"
   ]
  },
  {
   "cell_type": "code",
   "execution_count": 14,
   "metadata": {},
   "outputs": [],
   "source": [
    "data_2020=pd.read_excel(\"Projection Systems Data.xlsx\", sheet_name='2020')"
   ]
  },
  {
   "cell_type": "code",
   "execution_count": 15,
   "metadata": {},
   "outputs": [
    {
     "data": {
      "text/plain": [
       "39.6583995016601"
      ]
     },
     "execution_count": 15,
     "metadata": {},
     "output_type": "execute_result"
    }
   ],
   "source": [
    "data_2020['mean_PECOTA']=data_2020['pcg_PECOTA']*data_2020['pred_Total']\n",
    "data_2020['variance_PECOTA']=data_2020['mean_PECOTA']*(1-data_2020['pcg_PECOTA'])\n",
    "data_2020['Xi']=data_2020['Act Wins']/data_2020['Total']*data_2020['pred_Total']\n",
    "data_2020['D1 Term']=((data_2020['Xi']-data_2020['mean_PECOTA'])/(data_2020['variance_PECOTA']**(1/2)))**2\n",
    "D1_PECOTA_2020=data_2020['D1 Term'].sum()\n",
    "D1_PECOTA_2020"
   ]
  },
  {
   "cell_type": "code",
   "execution_count": 16,
   "metadata": {},
   "outputs": [
    {
     "data": {
      "text/html": [
       "<div>\n",
       "<style scoped>\n",
       "    .dataframe tbody tr th:only-of-type {\n",
       "        vertical-align: middle;\n",
       "    }\n",
       "\n",
       "    .dataframe tbody tr th {\n",
       "        vertical-align: top;\n",
       "    }\n",
       "\n",
       "    .dataframe thead th {\n",
       "        text-align: right;\n",
       "    }\n",
       "</style>\n",
       "<table border=\"1\" class=\"dataframe\">\n",
       "  <thead>\n",
       "    <tr style=\"text-align: right;\">\n",
       "      <th></th>\n",
       "      <th>Unnamed: 0</th>\n",
       "      <th>PECOTA</th>\n",
       "      <th>FanGraphs</th>\n",
       "      <th>ZiPs</th>\n",
       "      <th>Act Wins</th>\n",
       "      <th>Total</th>\n",
       "      <th>pred_Total</th>\n",
       "      <th>pcg_Actual</th>\n",
       "      <th>pcg_PECOTA</th>\n",
       "      <th>pcg_FanGraphs</th>\n",
       "      <th>pcg_ZiPs</th>\n",
       "      <th>mean_PECOTA</th>\n",
       "      <th>variance_PECOTA</th>\n",
       "      <th>Xi</th>\n",
       "      <th>D1 Term</th>\n",
       "    </tr>\n",
       "  </thead>\n",
       "  <tbody>\n",
       "    <tr>\n",
       "      <th>0</th>\n",
       "      <td>Arizona Diamondbacks</td>\n",
       "      <td>29.6</td>\n",
       "      <td>31</td>\n",
       "      <td>30</td>\n",
       "      <td>25</td>\n",
       "      <td>60</td>\n",
       "      <td>60</td>\n",
       "      <td>0.416667</td>\n",
       "      <td>0.493333</td>\n",
       "      <td>0.516667</td>\n",
       "      <td>0.500000</td>\n",
       "      <td>29.6</td>\n",
       "      <td>14.997333</td>\n",
       "      <td>25.0</td>\n",
       "      <td>1.410917</td>\n",
       "    </tr>\n",
       "    <tr>\n",
       "      <th>1</th>\n",
       "      <td>Atlanta Braves</td>\n",
       "      <td>30.5</td>\n",
       "      <td>33</td>\n",
       "      <td>33</td>\n",
       "      <td>35</td>\n",
       "      <td>60</td>\n",
       "      <td>60</td>\n",
       "      <td>0.583333</td>\n",
       "      <td>0.508333</td>\n",
       "      <td>0.550000</td>\n",
       "      <td>0.550000</td>\n",
       "      <td>30.5</td>\n",
       "      <td>14.995833</td>\n",
       "      <td>35.0</td>\n",
       "      <td>1.350375</td>\n",
       "    </tr>\n",
       "    <tr>\n",
       "      <th>2</th>\n",
       "      <td>Baltimore Orioles</td>\n",
       "      <td>21.5</td>\n",
       "      <td>21</td>\n",
       "      <td>20</td>\n",
       "      <td>25</td>\n",
       "      <td>60</td>\n",
       "      <td>60</td>\n",
       "      <td>0.416667</td>\n",
       "      <td>0.358333</td>\n",
       "      <td>0.350000</td>\n",
       "      <td>0.333333</td>\n",
       "      <td>21.5</td>\n",
       "      <td>13.795833</td>\n",
       "      <td>25.0</td>\n",
       "      <td>0.887949</td>\n",
       "    </tr>\n",
       "    <tr>\n",
       "      <th>3</th>\n",
       "      <td>Boston Red Sox</td>\n",
       "      <td>30.0</td>\n",
       "      <td>31</td>\n",
       "      <td>30</td>\n",
       "      <td>24</td>\n",
       "      <td>60</td>\n",
       "      <td>60</td>\n",
       "      <td>0.400000</td>\n",
       "      <td>0.500000</td>\n",
       "      <td>0.516667</td>\n",
       "      <td>0.500000</td>\n",
       "      <td>30.0</td>\n",
       "      <td>15.000000</td>\n",
       "      <td>24.0</td>\n",
       "      <td>2.400000</td>\n",
       "    </tr>\n",
       "    <tr>\n",
       "      <th>4</th>\n",
       "      <td>Chicago Cubs</td>\n",
       "      <td>31.5</td>\n",
       "      <td>32</td>\n",
       "      <td>32</td>\n",
       "      <td>34</td>\n",
       "      <td>60</td>\n",
       "      <td>60</td>\n",
       "      <td>0.566667</td>\n",
       "      <td>0.525000</td>\n",
       "      <td>0.533333</td>\n",
       "      <td>0.533333</td>\n",
       "      <td>31.5</td>\n",
       "      <td>14.962500</td>\n",
       "      <td>34.0</td>\n",
       "      <td>0.417711</td>\n",
       "    </tr>\n",
       "  </tbody>\n",
       "</table>\n",
       "</div>"
      ],
      "text/plain": [
       "             Unnamed: 0  PECOTA  FanGraphs  ZiPs  Act Wins  Total  pred_Total  \\\n",
       "0  Arizona Diamondbacks    29.6         31    30        25     60          60   \n",
       "1        Atlanta Braves    30.5         33    33        35     60          60   \n",
       "2     Baltimore Orioles    21.5         21    20        25     60          60   \n",
       "3        Boston Red Sox    30.0         31    30        24     60          60   \n",
       "4          Chicago Cubs    31.5         32    32        34     60          60   \n",
       "\n",
       "   pcg_Actual  pcg_PECOTA  pcg_FanGraphs  pcg_ZiPs  mean_PECOTA  \\\n",
       "0    0.416667    0.493333       0.516667  0.500000         29.6   \n",
       "1    0.583333    0.508333       0.550000  0.550000         30.5   \n",
       "2    0.416667    0.358333       0.350000  0.333333         21.5   \n",
       "3    0.400000    0.500000       0.516667  0.500000         30.0   \n",
       "4    0.566667    0.525000       0.533333  0.533333         31.5   \n",
       "\n",
       "   variance_PECOTA    Xi   D1 Term  \n",
       "0        14.997333  25.0  1.410917  \n",
       "1        14.995833  35.0  1.350375  \n",
       "2        13.795833  25.0  0.887949  \n",
       "3        15.000000  24.0  2.400000  \n",
       "4        14.962500  34.0  0.417711  "
      ]
     },
     "execution_count": 16,
     "metadata": {},
     "output_type": "execute_result"
    }
   ],
   "source": [
    "data_2020.head()"
   ]
  },
  {
   "cell_type": "code",
   "execution_count": 17,
   "metadata": {},
   "outputs": [],
   "source": [
    "data_2021=pd.read_excel(\"Projection Systems Data.xlsx\", sheet_name='2021')"
   ]
  },
  {
   "cell_type": "code",
   "execution_count": 18,
   "metadata": {},
   "outputs": [
    {
     "data": {
      "text/plain": [
       "123.87026575451779"
      ]
     },
     "execution_count": 18,
     "metadata": {},
     "output_type": "execute_result"
    }
   ],
   "source": [
    "data_2021['mean_PECOTA']=data_2021['pcg_PECOTA']*data_2021['pred_Total']\n",
    "data_2021['variance_PECOTA']=data_2021['mean_PECOTA']*(1-data_2021['pcg_PECOTA'])\n",
    "data_2021['Xi']=data_2021['Act Wins']/data_2021['Total']*data_2021['pred_Total']\n",
    "data_2021['D1 Term']=((data_2021['Xi']-data_2021['mean_PECOTA'])/(data_2021['variance_PECOTA']**(1/2)))**2\n",
    "D1_PECOTA_2021=data_2021['D1 Term'].sum()\n",
    "D1_PECOTA_2021"
   ]
  },
  {
   "cell_type": "code",
   "execution_count": 19,
   "metadata": {},
   "outputs": [
    {
     "data": {
      "text/html": [
       "<div>\n",
       "<style scoped>\n",
       "    .dataframe tbody tr th:only-of-type {\n",
       "        vertical-align: middle;\n",
       "    }\n",
       "\n",
       "    .dataframe tbody tr th {\n",
       "        vertical-align: top;\n",
       "    }\n",
       "\n",
       "    .dataframe thead th {\n",
       "        text-align: right;\n",
       "    }\n",
       "</style>\n",
       "<table border=\"1\" class=\"dataframe\">\n",
       "  <thead>\n",
       "    <tr style=\"text-align: right;\">\n",
       "      <th></th>\n",
       "      <th>Unnamed: 0</th>\n",
       "      <th>PECOTA</th>\n",
       "      <th>FanGraphs</th>\n",
       "      <th>ZiPs</th>\n",
       "      <th>Act Wins</th>\n",
       "      <th>Total</th>\n",
       "      <th>pred_Total</th>\n",
       "      <th>pcg_Actual</th>\n",
       "      <th>pcg_PECOTA</th>\n",
       "      <th>pcg_FanGraphs</th>\n",
       "      <th>pcg_ZiPs</th>\n",
       "      <th>Unnamed: 11</th>\n",
       "      <th>mean_PECOTA</th>\n",
       "      <th>variance_PECOTA</th>\n",
       "      <th>Xi</th>\n",
       "      <th>D1 Term</th>\n",
       "    </tr>\n",
       "  </thead>\n",
       "  <tbody>\n",
       "    <tr>\n",
       "      <th>0</th>\n",
       "      <td>Arizona Diamondbacks</td>\n",
       "      <td>78.6</td>\n",
       "      <td>74</td>\n",
       "      <td>69</td>\n",
       "      <td>52</td>\n",
       "      <td>162</td>\n",
       "      <td>162</td>\n",
       "      <td>0.320988</td>\n",
       "      <td>0.485185</td>\n",
       "      <td>0.456790</td>\n",
       "      <td>0.425926</td>\n",
       "      <td>NaN</td>\n",
       "      <td>78.6</td>\n",
       "      <td>40.464444</td>\n",
       "      <td>52.000000</td>\n",
       "      <td>17.485968</td>\n",
       "    </tr>\n",
       "    <tr>\n",
       "      <th>1</th>\n",
       "      <td>Atlanta Braves</td>\n",
       "      <td>82.0</td>\n",
       "      <td>89</td>\n",
       "      <td>91</td>\n",
       "      <td>88</td>\n",
       "      <td>161</td>\n",
       "      <td>162</td>\n",
       "      <td>0.546584</td>\n",
       "      <td>0.506173</td>\n",
       "      <td>0.549383</td>\n",
       "      <td>0.561728</td>\n",
       "      <td>NaN</td>\n",
       "      <td>82.0</td>\n",
       "      <td>40.493827</td>\n",
       "      <td>88.546584</td>\n",
       "      <td>1.058378</td>\n",
       "    </tr>\n",
       "    <tr>\n",
       "      <th>2</th>\n",
       "      <td>Baltimore Orioles</td>\n",
       "      <td>65.8</td>\n",
       "      <td>66</td>\n",
       "      <td>65</td>\n",
       "      <td>52</td>\n",
       "      <td>162</td>\n",
       "      <td>162</td>\n",
       "      <td>0.320988</td>\n",
       "      <td>0.406173</td>\n",
       "      <td>0.407407</td>\n",
       "      <td>0.401235</td>\n",
       "      <td>NaN</td>\n",
       "      <td>65.8</td>\n",
       "      <td>39.073827</td>\n",
       "      <td>52.000000</td>\n",
       "      <td>4.873851</td>\n",
       "    </tr>\n",
       "    <tr>\n",
       "      <th>3</th>\n",
       "      <td>Boston Red Sox</td>\n",
       "      <td>79.7</td>\n",
       "      <td>85</td>\n",
       "      <td>79</td>\n",
       "      <td>92</td>\n",
       "      <td>162</td>\n",
       "      <td>162</td>\n",
       "      <td>0.567901</td>\n",
       "      <td>0.491975</td>\n",
       "      <td>0.524691</td>\n",
       "      <td>0.487654</td>\n",
       "      <td>NaN</td>\n",
       "      <td>79.7</td>\n",
       "      <td>40.489568</td>\n",
       "      <td>92.000000</td>\n",
       "      <td>3.736518</td>\n",
       "    </tr>\n",
       "    <tr>\n",
       "      <th>4</th>\n",
       "      <td>Chicago Cubs</td>\n",
       "      <td>85.7</td>\n",
       "      <td>77</td>\n",
       "      <td>81</td>\n",
       "      <td>71</td>\n",
       "      <td>162</td>\n",
       "      <td>162</td>\n",
       "      <td>0.438272</td>\n",
       "      <td>0.529012</td>\n",
       "      <td>0.475309</td>\n",
       "      <td>0.500000</td>\n",
       "      <td>NaN</td>\n",
       "      <td>85.7</td>\n",
       "      <td>40.363642</td>\n",
       "      <td>71.000000</td>\n",
       "      <td>5.353580</td>\n",
       "    </tr>\n",
       "  </tbody>\n",
       "</table>\n",
       "</div>"
      ],
      "text/plain": [
       "             Unnamed: 0  PECOTA  FanGraphs  ZiPs  Act Wins  Total  pred_Total  \\\n",
       "0  Arizona Diamondbacks    78.6         74    69        52    162         162   \n",
       "1        Atlanta Braves    82.0         89    91        88    161         162   \n",
       "2     Baltimore Orioles    65.8         66    65        52    162         162   \n",
       "3        Boston Red Sox    79.7         85    79        92    162         162   \n",
       "4          Chicago Cubs    85.7         77    81        71    162         162   \n",
       "\n",
       "   pcg_Actual  pcg_PECOTA  pcg_FanGraphs  pcg_ZiPs Unnamed: 11  mean_PECOTA  \\\n",
       "0    0.320988    0.485185       0.456790  0.425926         NaN         78.6   \n",
       "1    0.546584    0.506173       0.549383  0.561728         NaN         82.0   \n",
       "2    0.320988    0.406173       0.407407  0.401235         NaN         65.8   \n",
       "3    0.567901    0.491975       0.524691  0.487654         NaN         79.7   \n",
       "4    0.438272    0.529012       0.475309  0.500000         NaN         85.7   \n",
       "\n",
       "   variance_PECOTA         Xi    D1 Term  \n",
       "0        40.464444  52.000000  17.485968  \n",
       "1        40.493827  88.546584   1.058378  \n",
       "2        39.073827  52.000000   4.873851  \n",
       "3        40.489568  92.000000   3.736518  \n",
       "4        40.363642  71.000000   5.353580  "
      ]
     },
     "execution_count": 19,
     "metadata": {},
     "output_type": "execute_result"
    }
   ],
   "source": [
    "data_2021.head()"
   ]
  },
  {
   "cell_type": "code",
   "execution_count": 20,
   "metadata": {},
   "outputs": [],
   "source": [
    "data_2022=pd.read_excel(\"Projection Systems Data.xlsx\", sheet_name='2022')"
   ]
  },
  {
   "cell_type": "code",
   "execution_count": 21,
   "metadata": {},
   "outputs": [
    {
     "data": {
      "text/plain": [
       "68.66382052078879"
      ]
     },
     "execution_count": 21,
     "metadata": {},
     "output_type": "execute_result"
    }
   ],
   "source": [
    "data_2022['mean_PECOTA']=data_2022['pcg_PECOTA']*data_2022['pred_Total']\n",
    "data_2022['variance_PECOTA']=data_2022['mean_PECOTA']*(1-data_2022['pcg_PECOTA'])\n",
    "data_2022['Xi']=data_2022['Act Wins']/data_2022['Total']*data_2022['pred_Total']\n",
    "data_2022['D1 Term']=((data_2022['Xi']-data_2022['mean_PECOTA'])/(data_2022['variance_PECOTA']**(1/2)))**2\n",
    "D1_PECOTA_2022=data_2022['D1 Term'].sum()\n",
    "D1_PECOTA_2022"
   ]
  },
  {
   "cell_type": "code",
   "execution_count": 22,
   "metadata": {},
   "outputs": [
    {
     "data": {
      "text/plain": [
       "68.66382052078879"
      ]
     },
     "execution_count": 22,
     "metadata": {},
     "output_type": "execute_result"
    }
   ],
   "source": [
    "D1_PECOTA_2022"
   ]
  },
  {
   "cell_type": "code",
   "execution_count": 23,
   "metadata": {},
   "outputs": [
    {
     "data": {
      "text/plain": [
       "66.9884352227857"
      ]
     },
     "execution_count": 23,
     "metadata": {},
     "output_type": "execute_result"
    }
   ],
   "source": [
    "data_2018=pd.read_excel(\"Projection Systems Data.xlsx\", sheet_name='2018')\n",
    "data_2018['mean_PECOTA']=data_2018['pcg_PECOTA']*data_2018['pred_Total']\n",
    "data_2018['variance_PECOTA']=data_2018['mean_PECOTA']*(1-data_2018['pcg_PECOTA'])\n",
    "data_2018['Xi']=data_2018['Act Wins']/data_2018['Total']*data_2018['pred_Total']\n",
    "data_2018['D1 Term']=((data_2018['Xi']-data_2018['mean_PECOTA'])/(data_2018['variance_PECOTA']**(1/2)))**2\n",
    "D1_PECOTA_2018=data_2018['D1 Term'].sum()\n",
    "D1_PECOTA_2018"
   ]
  },
  {
   "cell_type": "code",
   "execution_count": 24,
   "metadata": {},
   "outputs": [
    {
     "data": {
      "text/plain": [
       "59.98806990715396"
      ]
     },
     "execution_count": 24,
     "metadata": {},
     "output_type": "execute_result"
    }
   ],
   "source": [
    "data_2017=pd.read_excel(\"Projection Systems Data.xlsx\", sheet_name='2017')\n",
    "data_2017['mean_PECOTA']=data_2017['pcg_PECOTA']*data_2017['pred_Total']\n",
    "data_2017['variance_PECOTA']=data_2017['mean_PECOTA']*(1-data_2017['pcg_PECOTA'])\n",
    "data_2017['Xi']=data_2017['Act Wins']/data_2017['Total']*data_2017['pred_Total']\n",
    "data_2017['D1 Term']=((data_2017['Xi']-data_2017['mean_PECOTA'])/(data_2017['variance_PECOTA']**(1/2)))**2\n",
    "D1_PECOTA_2017=data_2017['D1 Term'].sum()\n",
    "D1_PECOTA_2017"
   ]
  },
  {
   "cell_type": "code",
   "execution_count": 25,
   "metadata": {},
   "outputs": [
    {
     "data": {
      "text/plain": [
       "59.98806990715396"
      ]
     },
     "execution_count": 25,
     "metadata": {},
     "output_type": "execute_result"
    }
   ],
   "source": [
    "data_2017=pd.read_excel(\"Projection Systems Data.xlsx\", sheet_name='2017')\n",
    "data_2017['mean_PECOTA']=data_2017['pcg_PECOTA']*data_2017['pred_Total']\n",
    "data_2017['variance_PECOTA']=data_2017['mean_PECOTA']*(1-data_2017['pcg_PECOTA'])\n",
    "data_2017['Xi']=data_2017['Act Wins']/data_2017['Total']*data_2017['pred_Total']\n",
    "data_2017['D1 Term']=((data_2017['Xi']-data_2017['mean_PECOTA'])/(data_2017['variance_PECOTA']**(1/2)))**2\n",
    "D1_PECOTA_2017=data_2017['D1 Term'].sum()\n",
    "D1_PECOTA_2017"
   ]
  },
  {
   "cell_type": "code",
   "execution_count": 26,
   "metadata": {},
   "outputs": [
    {
     "data": {
      "text/plain": [
       "53.70302018616177"
      ]
     },
     "execution_count": 26,
     "metadata": {},
     "output_type": "execute_result"
    }
   ],
   "source": [
    "data_2016=pd.read_excel(\"Projection Systems Data.xlsx\", sheet_name='2016')\n",
    "data_2016['mean_PECOTA']=data_2016['pcg_PECOTA']*data_2016['pred_Total']\n",
    "data_2016['variance_PECOTA']=data_2016['mean_PECOTA']*(1-data_2016['pcg_PECOTA'])\n",
    "data_2016['Xi']=data_2016['Act Wins']/data_2016['Total']*data_2016['pred_Total']\n",
    "data_2016['D1 Term']=((data_2016['Xi']-data_2016['mean_PECOTA'])/(data_2016['variance_PECOTA']**(1/2)))**2\n",
    "D1_PECOTA_2016=data_2016['D1 Term'].sum()\n",
    "D1_PECOTA_2016"
   ]
  },
  {
   "cell_type": "code",
   "execution_count": 27,
   "metadata": {},
   "outputs": [
    {
     "data": {
      "text/plain": [
       "74.17147787726395"
      ]
     },
     "execution_count": 27,
     "metadata": {},
     "output_type": "execute_result"
    }
   ],
   "source": [
    "data_2015=pd.read_excel(\"Projection Systems Data.xlsx\", sheet_name='2015')\n",
    "data_2015['mean_PECOTA']=data_2015['pcg_PECOTA']*data_2015['pred_Total']\n",
    "data_2015['variance_PECOTA']=data_2015['mean_PECOTA']*(1-data_2015['pcg_PECOTA'])\n",
    "data_2015['Xi']=data_2015['Act Wins']/data_2015['Total']*data_2015['pred_Total']\n",
    "data_2015['D1 Term']=((data_2015['Xi']-data_2015['mean_PECOTA'])/(data_2015['variance_PECOTA']**(1/2)))**2\n",
    "D1_PECOTA_2015=data_2015['D1 Term'].sum()\n",
    "D1_PECOTA_2015"
   ]
  },
  {
   "cell_type": "code",
   "execution_count": 28,
   "metadata": {},
   "outputs": [
    {
     "data": {
      "text/plain": [
       "57.45169021363353"
      ]
     },
     "execution_count": 28,
     "metadata": {},
     "output_type": "execute_result"
    }
   ],
   "source": [
    "data_2014=pd.read_excel(\"Projection Systems Data.xlsx\", sheet_name='2014')\n",
    "data_2014['mean_PECOTA']=data_2014['pcg_PECOTA']*data_2014['pred_Total']\n",
    "data_2014['variance_PECOTA']=data_2014['mean_PECOTA']*(1-data_2014['pcg_PECOTA'])\n",
    "data_2014['Xi']=data_2014['Act Wins']/data_2014['Total']*data_2014['pred_Total']\n",
    "data_2014['D1 Term']=((data_2014['Xi']-data_2014['mean_PECOTA'])/(data_2014['variance_PECOTA']**(1/2)))**2\n",
    "D1_PECOTA_2014=data_2014['D1 Term'].sum()\n",
    "D1_PECOTA_2014"
   ]
  },
  {
   "cell_type": "code",
   "execution_count": 29,
   "metadata": {},
   "outputs": [
    {
     "data": {
      "text/plain": [
       "62.89235168197773"
      ]
     },
     "execution_count": 29,
     "metadata": {},
     "output_type": "execute_result"
    }
   ],
   "source": [
    "data_2013=pd.read_excel(\"Projection Systems Data.xlsx\", sheet_name='2013')\n",
    "data_2013['mean_PECOTA']=data_2013['pcg_PECOTA']*data_2013['pred_Total']\n",
    "data_2013['variance_PECOTA']=data_2013['mean_PECOTA']*(1-data_2013['pcg_PECOTA'])\n",
    "data_2013['Xi']=data_2013['Act Wins']/data_2013['Total']*data_2013['pred_Total']\n",
    "data_2013['D1 Term']=((data_2013['Xi']-data_2013['mean_PECOTA'])/(data_2013['variance_PECOTA']**(1/2)))**2\n",
    "D1_PECOTA_2013=data_2013['D1 Term'].sum()\n",
    "D1_PECOTA_2013"
   ]
  },
  {
   "cell_type": "code",
   "execution_count": 30,
   "metadata": {},
   "outputs": [
    {
     "data": {
      "text/plain": [
       "81.4399222019516"
      ]
     },
     "execution_count": 30,
     "metadata": {},
     "output_type": "execute_result"
    }
   ],
   "source": [
    "data_2012=pd.read_excel(\"Projection Systems Data.xlsx\", sheet_name='2012')\n",
    "data_2012['mean_PECOTA']=data_2012['pcg_PECOTA']*data_2012['pred_Total']\n",
    "data_2012['variance_PECOTA']=data_2012['mean_PECOTA']*(1-data_2012['pcg_PECOTA'])\n",
    "data_2012['Xi']=data_2012['Act Wins']/data_2012['Total']*data_2012['pred_Total']\n",
    "data_2012['D1 Term']=((data_2012['Xi']-data_2012['mean_PECOTA'])/(data_2012['variance_PECOTA']**(1/2)))**2\n",
    "D1_PECOTA_2012=data_2012['D1 Term'].sum()\n",
    "D1_PECOTA_2012"
   ]
  },
  {
   "cell_type": "code",
   "execution_count": 31,
   "metadata": {},
   "outputs": [
    {
     "data": {
      "text/plain": [
       "60.94218678112489"
      ]
     },
     "execution_count": 31,
     "metadata": {},
     "output_type": "execute_result"
    }
   ],
   "source": [
    "data_2011=pd.read_excel(\"Projection Systems Data.xlsx\", sheet_name='2011')\n",
    "data_2011['mean_PECOTA']=data_2011['pcg_PECOTA']*data_2011['pred_Total']\n",
    "data_2011['variance_PECOTA']=data_2011['mean_PECOTA']*(1-data_2011['pcg_PECOTA'])\n",
    "data_2011['Xi']=data_2011['Act Wins']/data_2011['Total']*data_2011['pred_Total']\n",
    "data_2011['D1 Term']=((data_2011['Xi']-data_2011['mean_PECOTA'])/(data_2011['variance_PECOTA']**(1/2)))**2\n",
    "D1_PECOTA_2011=data_2011['D1 Term'].sum()\n",
    "D1_PECOTA_2011"
   ]
  },
  {
   "cell_type": "code",
   "execution_count": 32,
   "metadata": {},
   "outputs": [
    {
     "data": {
      "text/plain": [
       "68.64163147544515"
      ]
     },
     "execution_count": 32,
     "metadata": {},
     "output_type": "execute_result"
    }
   ],
   "source": [
    "data_2010=pd.read_excel(\"Projection Systems Data.xlsx\", sheet_name='2010')\n",
    "data_2010['mean_PECOTA']=data_2010['pcg_PECOTA']*data_2010['pred_Total']\n",
    "data_2010['variance_PECOTA']=data_2010['mean_PECOTA']*(1-data_2010['pcg_PECOTA'])\n",
    "data_2010['Xi']=data_2010['Act Wins']/data_2010['Total']*data_2010['pred_Total']\n",
    "data_2010['D1 Term']=((data_2010['Xi']-data_2010['mean_PECOTA'])/(data_2010['variance_PECOTA']**(1/2)))**2\n",
    "D1_PECOTA_2010=data_2010['D1 Term'].sum()\n",
    "D1_PECOTA_2010"
   ]
  },
  {
   "cell_type": "code",
   "execution_count": 33,
   "metadata": {},
   "outputs": [
    {
     "data": {
      "text/plain": [
       "95.02180249901208"
      ]
     },
     "execution_count": 33,
     "metadata": {},
     "output_type": "execute_result"
    }
   ],
   "source": [
    "data_2009=pd.read_excel(\"Projection Systems Data.xlsx\", sheet_name='2009')\n",
    "data_2009['mean_PECOTA']=data_2009['pcg_PECOTA']*data_2009['pred_Total']\n",
    "data_2009['variance_PECOTA']=data_2009['mean_PECOTA']*(1-data_2009['pcg_PECOTA'])\n",
    "data_2009['Xi']=data_2009['Act Wins']/data_2009['Total']*data_2009['pred_Total']\n",
    "data_2009['D1 Term']=((data_2009['Xi']-data_2009['mean_PECOTA'])/(data_2009['variance_PECOTA']**(1/2)))**2\n",
    "D1_PECOTA_2009=data_2009['D1 Term'].sum()\n",
    "D1_PECOTA_2009"
   ]
  },
  {
   "cell_type": "code",
   "execution_count": 34,
   "metadata": {},
   "outputs": [
    {
     "data": {
      "text/plain": [
       "68.76882762573177"
      ]
     },
     "execution_count": 34,
     "metadata": {},
     "output_type": "execute_result"
    }
   ],
   "source": [
    "data_2008=pd.read_excel(\"Projection Systems Data.xlsx\", sheet_name='2008')\n",
    "data_2008['mean_PECOTA']=data_2008['pcg_PECOTA']*data_2008['pred_Total']\n",
    "data_2008['variance_PECOTA']=data_2008['mean_PECOTA']*(1-data_2008['pcg_PECOTA'])\n",
    "data_2008['Xi']=data_2008['Act Wins']/data_2008['Total']*data_2008['pred_Total']\n",
    "data_2008['D1 Term']=((data_2008['Xi']-data_2008['mean_PECOTA'])/(data_2008['variance_PECOTA']**(1/2)))**2\n",
    "D1_PECOTA_2008=data_2008['D1 Term'].sum()\n",
    "D1_PECOTA_2008"
   ]
  },
  {
   "cell_type": "code",
   "execution_count": 35,
   "metadata": {},
   "outputs": [
    {
     "data": {
      "text/plain": [
       "93.2514052669086"
      ]
     },
     "execution_count": 35,
     "metadata": {},
     "output_type": "execute_result"
    }
   ],
   "source": [
    "data_2023=pd.read_excel(\"Projection Systems Data.xlsx\", sheet_name='2023')\n",
    "data_2023['mean_PECOTA']=data_2023['pcg_PECOTA']*data_2023['pred_Total']\n",
    "data_2023['variance_PECOTA']=data_2023['mean_PECOTA']*(1-data_2023['pcg_PECOTA'])\n",
    "data_2023['Xi']=data_2023['Act Wins']/data_2023['Total']*data_2023['pred_Total']\n",
    "data_2023['D1 Term_PECOTA']=((data_2023['Xi']-data_2023['mean_PECOTA'])/(data_2023['variance_PECOTA']**(1/2)))**2\n",
    "D1_PECOTA_2023=data_2023['D1 Term_PECOTA'].sum()\n",
    "D1_PECOTA_2023"
   ]
  },
  {
   "cell_type": "markdown",
   "metadata": {},
   "source": [
    "## FanGraphs"
   ]
  },
  {
   "cell_type": "code",
   "execution_count": 36,
   "metadata": {},
   "outputs": [
    {
     "data": {
      "text/plain": [
       "84.76395377576539"
      ]
     },
     "execution_count": 36,
     "metadata": {},
     "output_type": "execute_result"
    }
   ],
   "source": [
    "data_2023['mean_FanGraphs']=data_2023['pcg_FanGraphs']*data_2023['pred_Total']\n",
    "data_2023['variance_FanGraphs']=data_2023['mean_FanGraphs']*(1-data_2023['pcg_FanGraphs'])\n",
    "data_2023['Xi']=data_2023['Act Wins']/data_2023['Total']*data_2023['pred_Total']\n",
    "data_2023['D1 Term_FanGraphs']=((data_2023['Xi']-data_2023['mean_FanGraphs'])/(data_2023['variance_FanGraphs']**(1/2)))**2\n",
    "D1_FanGraphs_2023=data_2023['D1 Term_FanGraphs'].sum()\n",
    "D1_FanGraphs_2023"
   ]
  },
  {
   "cell_type": "code",
   "execution_count": 37,
   "metadata": {},
   "outputs": [
    {
     "data": {
      "text/plain": [
       "64.64692313625935"
      ]
     },
     "execution_count": 37,
     "metadata": {},
     "output_type": "execute_result"
    }
   ],
   "source": [
    "data_2017['mean_FanGraphs']=data_2017['pcg_FanGraphs']*data_2017['pred_Total']\n",
    "data_2017['variance_FanGraphs']=data_2017['mean_FanGraphs']*(1-data_2017['pcg_FanGraphs'])\n",
    "data_2017['Xi']=data_2017['Act Wins']/data_2017['Total']*data_2017['pred_Total']\n",
    "data_2017['D1 Term_FanGraphs']=((data_2017['Xi']-data_2017['mean_FanGraphs'])/(data_2017['variance_FanGraphs']**(1/2)))**2\n",
    "D1_FanGraphs_2017=data_2017['D1 Term_FanGraphs'].sum()\n",
    "D1_FanGraphs_2017"
   ]
  },
  {
   "cell_type": "code",
   "execution_count": 38,
   "metadata": {},
   "outputs": [
    {
     "data": {
      "text/plain": [
       "80.94723910953573"
      ]
     },
     "execution_count": 38,
     "metadata": {},
     "output_type": "execute_result"
    }
   ],
   "source": [
    "data_2018['mean_FanGraphs']=data_2018['pcg_FanGraphs']*data_2018['pred_Total']\n",
    "data_2018['variance_FanGraphs']=data_2018['mean_FanGraphs']*(1-data_2018['pcg_FanGraphs'])\n",
    "data_2018['Xi']=data_2018['Act Wins']/data_2018['Total']*data_2018['pred_Total']\n",
    "data_2018['D1 Term_FanGraphs']=((data_2018['Xi']-data_2018['mean_FanGraphs'])/(data_2018['variance_FanGraphs']**(1/2)))**2\n",
    "D1_FanGraphs_2018=data_2018['D1 Term_FanGraphs'].sum()\n",
    "D1_FanGraphs_2018"
   ]
  },
  {
   "cell_type": "code",
   "execution_count": 39,
   "metadata": {},
   "outputs": [
    {
     "data": {
      "text/plain": [
       "75.30496911299343"
      ]
     },
     "execution_count": 39,
     "metadata": {},
     "output_type": "execute_result"
    }
   ],
   "source": [
    "data_2019['mean_FanGraphs']=data_2019['pcg_FanGraphs']*data_2019['pred_Total']\n",
    "data_2019['variance_FanGraphs']=data_2019['mean_FanGraphs']*(1-data_2019['pcg_FanGraphs'])\n",
    "data_2019['Xi']=data_2019['Act Wins']/data_2019['Total']*data_2019['pred_Total']\n",
    "data_2019['D1 Term_FanGraphs']=((data_2019['Xi']-data_2019['mean_FanGraphs'])/(data_2019['variance_FanGraphs']**(1/2)))**2\n",
    "D1_FanGraphs_2019=data_2019['D1 Term_FanGraphs'].sum()\n",
    "D1_FanGraphs_2019"
   ]
  },
  {
   "cell_type": "code",
   "execution_count": 40,
   "metadata": {},
   "outputs": [
    {
     "data": {
      "text/plain": [
       "42.08228524026503"
      ]
     },
     "execution_count": 40,
     "metadata": {},
     "output_type": "execute_result"
    }
   ],
   "source": [
    "data_2020['mean_FanGraphs']=data_2020['pcg_FanGraphs']*data_2020['pred_Total']\n",
    "data_2020['variance_FanGraphs']=data_2020['mean_FanGraphs']*(1-data_2020['pcg_FanGraphs'])\n",
    "data_2020['Xi']=data_2020['Act Wins']/data_2020['Total']*data_2020['pred_Total']\n",
    "data_2020['D1 Term_FanGraphs']=((data_2020['Xi']-data_2020['mean_FanGraphs'])/(data_2020['variance_FanGraphs']**(1/2)))**2\n",
    "D1_FanGraphs_2020=data_2020['D1 Term_FanGraphs'].sum()\n",
    "D1_FanGraphs_2020"
   ]
  },
  {
   "cell_type": "code",
   "execution_count": 41,
   "metadata": {},
   "outputs": [
    {
     "data": {
      "text/plain": [
       "102.97639767783186"
      ]
     },
     "execution_count": 41,
     "metadata": {},
     "output_type": "execute_result"
    }
   ],
   "source": [
    "data_2021['mean_FanGraphs']=data_2021['pcg_FanGraphs']*data_2021['pred_Total']\n",
    "data_2021['variance_FanGraphs']=data_2021['mean_FanGraphs']*(1-data_2021['pcg_FanGraphs'])\n",
    "data_2021['Xi']=data_2021['Act Wins']/data_2021['Total']*data_2021['pred_Total']\n",
    "data_2021['D1 Term_FanGraphs']=((data_2021['Xi']-data_2021['mean_FanGraphs'])/(data_2021['variance_FanGraphs']**(1/2)))**2\n",
    "D1_FanGraphs_2021=data_2021['D1 Term_FanGraphs'].sum()\n",
    "D1_FanGraphs_2021"
   ]
  },
  {
   "cell_type": "code",
   "execution_count": 42,
   "metadata": {},
   "outputs": [
    {
     "data": {
      "text/plain": [
       "71.39193173654738"
      ]
     },
     "execution_count": 42,
     "metadata": {},
     "output_type": "execute_result"
    }
   ],
   "source": [
    "data_2022['mean_FanGraphs']=data_2022['pcg_FanGraphs']*data_2022['pred_Total']\n",
    "data_2022['variance_FanGraphs']=data_2022['mean_FanGraphs']*(1-data_2022['pcg_FanGraphs'])\n",
    "data_2022['Xi']=data_2022['Act Wins']/data_2022['Total']*data_2022['pred_Total']\n",
    "data_2022['D1 Term_FanGraphs']=((data_2022['Xi']-data_2022['mean_FanGraphs'])/(data_2022['variance_FanGraphs']**(1/2)))**2\n",
    "D1_FanGraphs_2022=data_2022['D1 Term_FanGraphs'].sum()\n",
    "D1_FanGraphs_2022"
   ]
  },
  {
   "cell_type": "code",
   "execution_count": 43,
   "metadata": {},
   "outputs": [
    {
     "data": {
      "text/plain": [
       "40.66365394829612"
      ]
     },
     "execution_count": 43,
     "metadata": {},
     "output_type": "execute_result"
    }
   ],
   "source": [
    "data_2016['mean_FanGraphs']=data_2016['pcg_FanGraphs']*data_2016['pred_Total']\n",
    "data_2016['variance_FanGraphs']=data_2016['mean_FanGraphs']*(1-data_2016['pcg_FanGraphs'])\n",
    "data_2016['Xi']=data_2016['Act Wins']/data_2016['Total']*data_2016['pred_Total']\n",
    "data_2016['D1 Term_FanGraphs']=((data_2016['Xi']-data_2016['mean_FanGraphs'])/(data_2016['variance_FanGraphs']**(1/2)))**2\n",
    "D1_FanGraphs_2016=data_2016['D1 Term_FanGraphs'].sum()\n",
    "D1_FanGraphs_2016"
   ]
  },
  {
   "cell_type": "code",
   "execution_count": 44,
   "metadata": {},
   "outputs": [
    {
     "data": {
      "text/plain": [
       "63.69548960597152"
      ]
     },
     "execution_count": 44,
     "metadata": {},
     "output_type": "execute_result"
    }
   ],
   "source": [
    "data_2015['mean_FanGraphs']=data_2015['pcg_FanGraphs']*data_2015['pred_Total']\n",
    "data_2015['variance_FanGraphs']=data_2015['mean_FanGraphs']*(1-data_2015['pcg_FanGraphs'])\n",
    "data_2015['Xi']=data_2015['Act Wins']/data_2015['Total']*data_2015['pred_Total']\n",
    "data_2015['D1 Term_FanGraphs']=((data_2015['Xi']-data_2015['mean_FanGraphs'])/(data_2015['variance_FanGraphs']**(1/2)))**2\n",
    "D1_FanGraphs_2015=data_2015['D1 Term_FanGraphs'].sum()\n",
    "D1_FanGraphs_2015"
   ]
  },
  {
   "cell_type": "code",
   "execution_count": 45,
   "metadata": {},
   "outputs": [
    {
     "data": {
      "text/plain": [
       "49.5276962914446"
      ]
     },
     "execution_count": 45,
     "metadata": {},
     "output_type": "execute_result"
    }
   ],
   "source": [
    "data_2014['mean_FanGraphs']=data_2014['pcg_FanGraphs']*data_2014['pred_Total']\n",
    "data_2014['variance_FanGraphs']=data_2014['mean_FanGraphs']*(1-data_2014['pcg_FanGraphs'])\n",
    "data_2014['Xi']=data_2014['Act Wins']/data_2014['Total']*data_2014['pred_Total']\n",
    "data_2014['D1 Term_FanGraphs']=((data_2014['Xi']-data_2014['mean_FanGraphs'])/(data_2014['variance_FanGraphs']**(1/2)))**2\n",
    "D1_FanGraphs_2014=data_2014['D1 Term_FanGraphs'].sum()\n",
    "D1_FanGraphs_2014"
   ]
  },
  {
   "cell_type": "code",
   "execution_count": 46,
   "metadata": {},
   "outputs": [
    {
     "data": {
      "text/plain": [
       "38.13780993979482"
      ]
     },
     "execution_count": 46,
     "metadata": {},
     "output_type": "execute_result"
    }
   ],
   "source": [
    "data_2013['mean_FanGraphs']=data_2013['pcg_FanGraphs']*data_2013['pred_Total']\n",
    "data_2013['variance_FanGraphs']=data_2013['mean_FanGraphs']*(1-data_2013['pcg_FanGraphs'])\n",
    "data_2013['Xi']=data_2013['Act Wins']/data_2013['Total']*data_2013['pred_Total']\n",
    "data_2013['D1 Term_FanGraphs']=((data_2013['Xi']-data_2013['mean_FanGraphs'])/(data_2013['variance_FanGraphs']**(1/2)))**2\n",
    "D1_FanGraphs_2013=data_2013['D1 Term_FanGraphs'].sum()\n",
    "D1_FanGraphs_2013"
   ]
  },
  {
   "cell_type": "markdown",
   "metadata": {},
   "source": [
    "## ZiPs"
   ]
  },
  {
   "cell_type": "code",
   "execution_count": 47,
   "metadata": {},
   "outputs": [
    {
     "data": {
      "text/plain": [
       "89.03545714274031"
      ]
     },
     "execution_count": 47,
     "metadata": {},
     "output_type": "execute_result"
    }
   ],
   "source": [
    "data_2023['mean_ZiPs']=data_2023['pcg_ZiPs']*data_2023['pred_Total']\n",
    "data_2023['variance_ZiPs']=data_2023['mean_ZiPs']*(1-data_2023['pcg_ZiPs'])\n",
    "data_2023['Xi']=data_2023['Act Wins']/data_2023['Total']*data_2023['pred_Total']\n",
    "data_2023['D1 Term_ZiPs']=((data_2023['Xi']-data_2023['mean_ZiPs'])/(data_2023['variance_ZiPs']**(1/2)))**2\n",
    "D1_ZiPs_2023=data_2023['D1 Term_ZiPs'].sum()\n",
    "D1_ZiPs_2023"
   ]
  },
  {
   "cell_type": "code",
   "execution_count": 48,
   "metadata": {},
   "outputs": [
    {
     "data": {
      "text/plain": [
       "74.0423609216097"
      ]
     },
     "execution_count": 48,
     "metadata": {},
     "output_type": "execute_result"
    }
   ],
   "source": [
    "data_2022['mean_ZiPs']=data_2022['pcg_ZiPs']*data_2022['pred_Total']\n",
    "data_2022['variance_ZiPs']=data_2022['mean_ZiPs']*(1-data_2022['pcg_ZiPs'])\n",
    "data_2022['Xi']=data_2022['Act Wins']/data_2022['Total']*data_2022['pred_Total']\n",
    "data_2022['D1 Term_ZiPs']=((data_2022['Xi']-data_2022['mean_ZiPs'])/(data_2022['variance_ZiPs']**(1/2)))**2\n",
    "D1_ZiPs_2022=data_2022['D1 Term_ZiPs'].sum()\n",
    "D1_ZiPs_2022"
   ]
  },
  {
   "cell_type": "code",
   "execution_count": 49,
   "metadata": {},
   "outputs": [
    {
     "data": {
      "text/plain": [
       "100.97777773960959"
      ]
     },
     "execution_count": 49,
     "metadata": {},
     "output_type": "execute_result"
    }
   ],
   "source": [
    "data_2021['mean_ZiPs']=data_2021['pcg_ZiPs']*data_2021['pred_Total']\n",
    "data_2021['variance_ZiPs']=data_2021['mean_ZiPs']*(1-data_2021['pcg_ZiPs'])\n",
    "data_2021['Xi']=data_2021['Act Wins']/data_2021['Total']*data_2021['pred_Total']\n",
    "data_2021['D1 Term_ZiPs']=((data_2021['Xi']-data_2021['mean_ZiPs'])/(data_2021['variance_ZiPs']**(1/2)))**2\n",
    "D1_ZiPs_2021=data_2021['D1 Term_ZiPs'].sum()\n",
    "D1_ZiPs_2021"
   ]
  },
  {
   "cell_type": "code",
   "execution_count": 50,
   "metadata": {},
   "outputs": [
    {
     "data": {
      "text/plain": [
       "36.75271725434969"
      ]
     },
     "execution_count": 50,
     "metadata": {},
     "output_type": "execute_result"
    }
   ],
   "source": [
    "data_2020['mean_ZiPs']=data_2020['pcg_ZiPs']*data_2020['pred_Total']\n",
    "data_2020['variance_ZiPs']=data_2020['mean_ZiPs']*(1-data_2020['pcg_ZiPs'])\n",
    "data_2020['Xi']=data_2020['Act Wins']/data_2020['Total']*data_2020['pred_Total']\n",
    "data_2020['D1 Term_ZiPs']=((data_2020['Xi']-data_2020['mean_ZiPs'])/(data_2020['variance_ZiPs']**(1/2)))**2\n",
    "D1_ZiPs_2020=data_2020['D1 Term_ZiPs'].sum()\n",
    "D1_ZiPs_2020"
   ]
  },
  {
   "cell_type": "code",
   "execution_count": 51,
   "metadata": {},
   "outputs": [
    {
     "data": {
      "text/plain": [
       "61.282480279633255"
      ]
     },
     "execution_count": 51,
     "metadata": {},
     "output_type": "execute_result"
    }
   ],
   "source": [
    "data_2019['mean_ZiPs']=data_2019['pcg_ZiPs']*data_2019['pred_Total']\n",
    "data_2019['variance_ZiPs']=data_2019['mean_ZiPs']*(1-data_2019['pcg_ZiPs'])\n",
    "data_2019['Xi']=data_2019['Act Wins']/data_2019['Total']*data_2019['pred_Total']\n",
    "data_2019['D1 Term_ZiPs']=((data_2019['Xi']-data_2019['mean_ZiPs'])/(data_2019['variance_ZiPs']**(1/2)))**2\n",
    "D1_ZiPs_2019=data_2019['D1 Term_ZiPs'].sum()\n",
    "D1_ZiPs_2019"
   ]
  },
  {
   "cell_type": "code",
   "execution_count": 52,
   "metadata": {},
   "outputs": [
    {
     "data": {
      "text/plain": [
       "77.59813320433626"
      ]
     },
     "execution_count": 52,
     "metadata": {},
     "output_type": "execute_result"
    }
   ],
   "source": [
    "data_2018['mean_ZiPs']=data_2018['pcg_ZiPs']*data_2018['pred_Total']\n",
    "data_2018['variance_ZiPs']=data_2018['mean_ZiPs']*(1-data_2018['pcg_ZiPs'])\n",
    "data_2018['Xi']=data_2018['Act Wins']/data_2018['Total']*data_2018['pred_Total']\n",
    "data_2018['D1 Term_ZiPs']=((data_2018['Xi']-data_2018['mean_ZiPs'])/(data_2018['variance_ZiPs']**(1/2)))**2\n",
    "D1_ZiPs_2018=data_2018['D1 Term_ZiPs'].sum()\n",
    "D1_ZiPs_2018"
   ]
  },
  {
   "cell_type": "code",
   "execution_count": 53,
   "metadata": {},
   "outputs": [
    {
     "data": {
      "text/plain": [
       "66.46753166100869"
      ]
     },
     "execution_count": 53,
     "metadata": {},
     "output_type": "execute_result"
    }
   ],
   "source": [
    "data_2017['mean_ZiPs']=data_2017['pcg_ZiPs']*data_2017['pred_Total']\n",
    "data_2017['variance_ZiPs']=data_2017['mean_ZiPs']*(1-data_2017['pcg_ZiPs'])\n",
    "data_2017['Xi']=data_2017['Act Wins']/data_2017['Total']*data_2017['pred_Total']\n",
    "data_2017['D1 Term_ZiPs']=((data_2017['Xi']-data_2017['mean_ZiPs'])/(data_2017['variance_ZiPs']**(1/2)))**2\n",
    "D1_ZiPs_2017=data_2017['D1 Term_ZiPs'].sum()\n",
    "D1_ZiPs_2017"
   ]
  },
  {
   "cell_type": "code",
   "execution_count": 54,
   "metadata": {},
   "outputs": [
    {
     "data": {
      "text/plain": [
       "35.71540226678579"
      ]
     },
     "execution_count": 54,
     "metadata": {},
     "output_type": "execute_result"
    }
   ],
   "source": [
    "data_2016['mean_ZiPs']=data_2016['pcg_ZiPs']*data_2016['pred_Total']\n",
    "data_2016['variance_ZiPs']=data_2016['mean_ZiPs']*(1-data_2016['pcg_ZiPs'])\n",
    "data_2016['Xi']=data_2016['Act Wins']/data_2016['Total']*data_2016['pred_Total']\n",
    "data_2016['D1 Term_ZiPs']=((data_2016['Xi']-data_2016['mean_ZiPs'])/(data_2016['variance_ZiPs']**(1/2)))**2\n",
    "D1_ZiPs_2016=data_2016['D1 Term_ZiPs'].sum()\n",
    "D1_ZiPs_2016"
   ]
  },
  {
   "cell_type": "code",
   "execution_count": 55,
   "metadata": {},
   "outputs": [
    {
     "data": {
      "text/plain": [
       "63.7396212007996"
      ]
     },
     "execution_count": 55,
     "metadata": {},
     "output_type": "execute_result"
    }
   ],
   "source": [
    "data_2015['mean_ZiPs']=data_2015['pcg_ZiPs']*data_2015['pred_Total']\n",
    "data_2015['variance_ZiPs']=data_2015['mean_ZiPs']*(1-data_2015['pcg_ZiPs'])\n",
    "data_2015['Xi']=data_2015['Act Wins']/data_2015['Total']*data_2015['pred_Total']\n",
    "data_2015['D1 Term_ZiPs']=((data_2015['Xi']-data_2015['mean_ZiPs'])/(data_2015['variance_ZiPs']**(1/2)))**2\n",
    "D1_ZiPs_2015=data_2015['D1 Term_ZiPs'].sum()\n",
    "D1_ZiPs_2015"
   ]
  },
  {
   "cell_type": "code",
   "execution_count": 56,
   "metadata": {},
   "outputs": [
    {
     "data": {
      "text/plain": [
       "55.16983490275621"
      ]
     },
     "execution_count": 56,
     "metadata": {},
     "output_type": "execute_result"
    }
   ],
   "source": [
    "data_2014['mean_ZiPs']=data_2014['pcg_ZiPs']*data_2014['pred_Total']\n",
    "data_2014['variance_ZiPs']=data_2014['mean_ZiPs']*(1-data_2014['pcg_ZiPs'])\n",
    "data_2014['Xi']=data_2014['Act Wins']/data_2014['Total']*data_2014['pred_Total']\n",
    "data_2014['D1 Term_ZiPs']=((data_2014['Xi']-data_2014['mean_ZiPs'])/(data_2014['variance_ZiPs']**(1/2)))**2\n",
    "D1_ZiPs_2014=data_2014['D1 Term_ZiPs'].sum()\n",
    "D1_ZiPs_2014"
   ]
  },
  {
   "cell_type": "code",
   "execution_count": 57,
   "metadata": {},
   "outputs": [
    {
     "data": {
      "text/plain": [
       "65.3775571299614"
      ]
     },
     "execution_count": 57,
     "metadata": {},
     "output_type": "execute_result"
    }
   ],
   "source": [
    "data_2013['mean_ZiPs']=data_2013['pcg_ZiPs']*data_2013['pred_Total']\n",
    "data_2013['variance_ZiPs']=data_2013['mean_ZiPs']*(1-data_2013['pcg_ZiPs'])\n",
    "data_2013['Xi']=data_2013['Act Wins']/data_2013['Total']*data_2013['pred_Total']\n",
    "data_2013['D1 Term_ZiPs']=((data_2013['Xi']-data_2013['mean_ZiPs'])/(data_2013['variance_ZiPs']**(1/2)))**2\n",
    "D1_ZiPs_2013=data_2013['D1 Term_ZiPs'].sum()\n",
    "D1_ZiPs_2013"
   ]
  },
  {
   "cell_type": "code",
   "execution_count": 58,
   "metadata": {},
   "outputs": [
    {
     "data": {
      "text/plain": [
       "94.86592682602762"
      ]
     },
     "execution_count": 58,
     "metadata": {},
     "output_type": "execute_result"
    }
   ],
   "source": [
    "data_2012['mean_ZiPs']=data_2012['pcg_ZiPs']*data_2012['pred_Total']\n",
    "data_2012['variance_ZiPs']=data_2012['mean_ZiPs']*(1-data_2012['pcg_ZiPs'])\n",
    "data_2012['Xi']=data_2012['Act Wins']/data_2012['Total']*data_2012['pred_Total']\n",
    "data_2012['D1 Term_ZiPs']=((data_2012['Xi']-data_2012['mean_ZiPs'])/(data_2012['variance_ZiPs']**(1/2)))**2\n",
    "D1_ZiPs_2012=data_2012['D1 Term_ZiPs'].sum()\n",
    "D1_ZiPs_2012"
   ]
  },
  {
   "cell_type": "code",
   "execution_count": 59,
   "metadata": {},
   "outputs": [
    {
     "data": {
      "text/plain": [
       "60.93254012515573"
      ]
     },
     "execution_count": 59,
     "metadata": {},
     "output_type": "execute_result"
    }
   ],
   "source": [
    "data_2011['mean_ZiPs']=data_2011['pcg_ZiPs']*data_2011['pred_Total']\n",
    "data_2011['variance_ZiPs']=data_2011['mean_ZiPs']*(1-data_2011['pcg_ZiPs'])\n",
    "data_2011['Xi']=data_2011['Act Wins']/data_2011['Total']*data_2011['pred_Total']\n",
    "data_2011['D1 Term_ZiPs']=((data_2011['Xi']-data_2011['mean_ZiPs'])/(data_2011['variance_ZiPs']**(1/2)))**2\n",
    "D1_ZiPs_2011=data_2011['D1 Term_ZiPs'].sum()\n",
    "D1_ZiPs_2011"
   ]
  },
  {
   "cell_type": "code",
   "execution_count": 60,
   "metadata": {},
   "outputs": [
    {
     "data": {
      "text/plain": [
       "62.917934971859985"
      ]
     },
     "execution_count": 60,
     "metadata": {},
     "output_type": "execute_result"
    }
   ],
   "source": [
    "data_2010['mean_ZiPs']=data_2010['pcg_ZiPs']*data_2010['pred_Total']\n",
    "data_2010['variance_ZiPs']=data_2010['mean_ZiPs']*(1-data_2010['pcg_ZiPs'])\n",
    "data_2010['Xi']=data_2010['Act Wins']/data_2010['Total']*data_2010['pred_Total']\n",
    "data_2010['D1 Term_ZiPs']=((data_2010['Xi']-data_2010['mean_ZiPs'])/(data_2010['variance_ZiPs']**(1/2)))**2\n",
    "D1_ZiPs_2010=data_2010['D1 Term_ZiPs'].sum()\n",
    "D1_ZiPs_2010"
   ]
  },
  {
   "cell_type": "code",
   "execution_count": 61,
   "metadata": {},
   "outputs": [
    {
     "data": {
      "text/plain": [
       "79.05573914861107"
      ]
     },
     "execution_count": 61,
     "metadata": {},
     "output_type": "execute_result"
    }
   ],
   "source": [
    "data_2009['mean_ZiPs']=data_2009['pcg_ZiPs']*data_2009['pred_Total']\n",
    "data_2009['variance_ZiPs']=data_2009['mean_ZiPs']*(1-data_2009['pcg_ZiPs'])\n",
    "data_2009['Xi']=data_2009['Act Wins']/data_2009['Total']*data_2009['pred_Total']\n",
    "data_2009['D1 Term_ZiPs']=((data_2009['Xi']-data_2009['mean_ZiPs'])/(data_2009['variance_ZiPs']**(1/2)))**2\n",
    "D1_ZiPs_2009=data_2009['D1 Term_ZiPs'].sum()\n",
    "D1_ZiPs_2009\t"
   ]
  },
  {
   "cell_type": "code",
   "execution_count": 62,
   "metadata": {},
   "outputs": [
    {
     "data": {
      "text/plain": [
       "76.45506177266365"
      ]
     },
     "execution_count": 62,
     "metadata": {},
     "output_type": "execute_result"
    }
   ],
   "source": [
    "data_2008['mean_ZiPs']=data_2008['pcg_ZiPs']*data_2008['pred_Total']\n",
    "data_2008['variance_ZiPs']=data_2008['mean_ZiPs']*(1-data_2008['pcg_ZiPs'])\n",
    "data_2008['Xi']=data_2008['Act Wins']/data_2008['Total']*data_2008['pred_Total']\n",
    "data_2008['D1 Term_ZiPs']=((data_2008['Xi']-data_2008['mean_ZiPs'])/(data_2008['variance_ZiPs']**(1/2)))**2\n",
    "D1_ZiPs_2008=data_2008['D1 Term_ZiPs'].sum()\n",
    "D1_ZiPs_2008"
   ]
  },
  {
   "cell_type": "markdown",
   "metadata": {},
   "source": [
    "## Steamer"
   ]
  },
  {
   "cell_type": "code",
   "execution_count": 63,
   "metadata": {},
   "outputs": [
    {
     "data": {
      "text/plain": [
       "81.40219991289167"
      ]
     },
     "execution_count": 63,
     "metadata": {},
     "output_type": "execute_result"
    }
   ],
   "source": [
    "data_2018['mean_Steamer']=data_2018['pcg_Steamer']*data_2018['pred_Total']\n",
    "data_2018['variance_Steamer']=data_2018['mean_Steamer']*(1-data_2018['pcg_Steamer'])\n",
    "data_2018['Xi']=data_2018['Act Wins']/data_2018['Total']*data_2018['pred_Total']\n",
    "data_2018['D1 Term_Steamer']=((data_2018['Xi']-data_2018['mean_Steamer'])/(data_2018['variance_Steamer']**(1/2)))**2\n",
    "D1_Steamer_2018=data_2018['D1 Term_Steamer'].sum()\n",
    "D1_Steamer_2018"
   ]
  },
  {
   "cell_type": "code",
   "execution_count": 64,
   "metadata": {},
   "outputs": [
    {
     "data": {
      "text/plain": [
       "62.85726960676656"
      ]
     },
     "execution_count": 64,
     "metadata": {},
     "output_type": "execute_result"
    }
   ],
   "source": [
    "data_2017['mean_Steamer']=data_2017['pcg_Steamer']*data_2017['pred_Total']\n",
    "data_2017['variance_Steamer']=data_2017['mean_Steamer']*(1-data_2017['pcg_Steamer'])\n",
    "data_2017['Xi']=data_2017['Act Wins']/data_2017['Total']*data_2017['pred_Total']\n",
    "data_2017['D1 Term_Steamer']=((data_2017['Xi']-data_2017['mean_Steamer'])/(data_2017['variance_Steamer']**(1/2)))**2\n",
    "D1_Steamer_2017=data_2017['D1 Term_Steamer'].sum()\n",
    "D1_Steamer_2017"
   ]
  },
  {
   "cell_type": "code",
   "execution_count": 65,
   "metadata": {},
   "outputs": [
    {
     "data": {
      "text/plain": [
       "37.57333269696543"
      ]
     },
     "execution_count": 65,
     "metadata": {},
     "output_type": "execute_result"
    }
   ],
   "source": [
    "data_2016['mean_Steamer']=data_2016['pcg_Steamer']*data_2016['pred_Total']\n",
    "data_2016['variance_Steamer']=data_2016['mean_Steamer']*(1-data_2016['pcg_Steamer'])\n",
    "data_2016['Xi']=data_2016['Act Wins']/data_2016['Total']*data_2016['pred_Total']\n",
    "data_2016['D1 Term_Steamer']=((data_2016['Xi']-data_2016['mean_Steamer'])/(data_2016['variance_Steamer']**(1/2)))**2\n",
    "D1_Steamer_2016=data_2016['D1 Term_Steamer'].sum()\n",
    "D1_Steamer_2016"
   ]
  },
  {
   "cell_type": "code",
   "execution_count": 66,
   "metadata": {},
   "outputs": [
    {
     "data": {
      "text/plain": [
       "63.86185333385406"
      ]
     },
     "execution_count": 66,
     "metadata": {},
     "output_type": "execute_result"
    }
   ],
   "source": [
    "data_2015['mean_Steamer']=data_2015['pcg_Steamer']*data_2015['pred_Total']\n",
    "data_2015['variance_Steamer']=data_2015['mean_Steamer']*(1-data_2015['pcg_Steamer'])\n",
    "data_2015['Xi']=data_2015['Act Wins']/data_2015['Total']*data_2015['pred_Total']\n",
    "data_2015['D1 Term_Steamer']=((data_2015['Xi']-data_2015['mean_Steamer'])/(data_2015['variance_Steamer']**(1/2)))**2\n",
    "D1_Steamer_2015=data_2015['D1 Term_Steamer'].sum()\n",
    "D1_Steamer_2015"
   ]
  },
  {
   "cell_type": "code",
   "execution_count": 67,
   "metadata": {},
   "outputs": [
    {
     "data": {
      "text/plain": [
       "47.48492388705097"
      ]
     },
     "execution_count": 67,
     "metadata": {},
     "output_type": "execute_result"
    }
   ],
   "source": [
    "data_2014['mean_Steamer']=data_2014['pcg_Steamer']*data_2014['pred_Total']\n",
    "data_2014['variance_Steamer']=data_2014['mean_Steamer']*(1-data_2014['pcg_Steamer'])\n",
    "data_2014['Xi']=data_2014['Act Wins']/data_2014['Total']*data_2014['pred_Total']\n",
    "data_2014['D1 Term_Steamer']=((data_2014['Xi']-data_2014['mean_Steamer'])/(data_2014['variance_Steamer']**(1/2)))**2\n",
    "D1_Steamer_2014=data_2014['D1 Term_Steamer'].sum()\n",
    "D1_Steamer_2014"
   ]
  },
  {
   "cell_type": "code",
   "execution_count": 68,
   "metadata": {},
   "outputs": [
    {
     "data": {
      "text/plain": [
       "54.3428012769793"
      ]
     },
     "execution_count": 68,
     "metadata": {},
     "output_type": "execute_result"
    }
   ],
   "source": [
    "data_2013['mean_Steamer']=data_2013['pcg_Steamer']*data_2013['pred_Total']\n",
    "data_2013['variance_Steamer']=data_2013['mean_Steamer']*(1-data_2013['pcg_Steamer'])\n",
    "data_2013['Xi']=data_2013['Act Wins']/data_2013['Total']*data_2013['pred_Total']\n",
    "data_2013['D1 Term_Steamer']=((data_2013['Xi']-data_2013['mean_Steamer'])/(data_2013['variance_Steamer']**(1/2)))**2\n",
    "D1_Steamer_2013=data_2013['D1 Term_Steamer'].sum()\n",
    "D1_Steamer_2013"
   ]
  },
  {
   "cell_type": "markdown",
   "metadata": {},
   "source": [
    "## TABLE"
   ]
  },
  {
   "cell_type": "code",
   "execution_count": 69,
   "metadata": {},
   "outputs": [],
   "source": [
    "data = {\n",
    "        'PECOTA':[D1_PECOTA_2023,D1_PECOTA_2022,D1_PECOTA_2021,D1_PECOTA_2020,D1_PECOTA_2019,D1_PECOTA_2018,D1_PECOTA_2017,D1_PECOTA_2016,D1_PECOTA_2015,D1_PECOTA_2014,D1_PECOTA_2013,D1_PECOTA_2012,D1_PECOTA_2011,D1_PECOTA_2010,D1_PECOTA_2009,D1_PECOTA_2008],\n",
    "        'FanGraphs':[D1_FanGraphs_2023,D1_FanGraphs_2022,D1_FanGraphs_2021,D1_FanGraphs_2020,D1_FanGraphs_2019,D1_FanGraphs_2018,D1_FanGraphs_2017,D1_FanGraphs_2016,D1_FanGraphs_2015,D1_FanGraphs_2014,D1_FanGraphs_2013],\n",
    "        'ZiPs':[D1_ZiPs_2023,D1_ZiPs_2022,D1_ZiPs_2021,D1_ZiPs_2020,D1_ZiPs_2019,D1_ZiPs_2018,D1_ZiPs_2017,D1_ZiPs_2016,D1_ZiPs_2015,D1_ZiPs_2014,D1_ZiPs_2013,D1_ZiPs_2012,D1_ZiPs_2011,D1_ZiPs_2010,D1_ZiPs_2009,D1_ZiPs_2008]\n",
    "}\n",
    "data['FanGraphs'].extend([None] * 5)  # \n",
    "data['Steamer'] = [None] * 5 + [D1_Steamer_2018, D1_Steamer_2017, D1_Steamer_2016, D1_Steamer_2015, D1_Steamer_2014, D1_Steamer_2013] + [None] * 5\n"
   ]
  },
  {
   "cell_type": "code",
   "execution_count": 70,
   "metadata": {},
   "outputs": [],
   "source": [
    "D1=pd.DataFrame(\n",
    "    data,index=['2023','2022','2021','2020','2019','2018','2017','2016','2015','2014','2013','2012','2011','2010','2009','2008']\n",
    "                )\n",
    "D1 = D1.round(3)"
   ]
  },
  {
   "cell_type": "code",
   "execution_count": 71,
   "metadata": {},
   "outputs": [
    {
     "data": {
      "text/html": [
       "<div>\n",
       "<style scoped>\n",
       "    .dataframe tbody tr th:only-of-type {\n",
       "        vertical-align: middle;\n",
       "    }\n",
       "\n",
       "    .dataframe tbody tr th {\n",
       "        vertical-align: top;\n",
       "    }\n",
       "\n",
       "    .dataframe thead th {\n",
       "        text-align: right;\n",
       "    }\n",
       "</style>\n",
       "<table border=\"1\" class=\"dataframe\">\n",
       "  <thead>\n",
       "    <tr style=\"text-align: right;\">\n",
       "      <th></th>\n",
       "      <th>PECOTA</th>\n",
       "      <th>FanGraphs</th>\n",
       "      <th>ZiPs</th>\n",
       "      <th>Steamer</th>\n",
       "    </tr>\n",
       "  </thead>\n",
       "  <tbody>\n",
       "    <tr>\n",
       "      <th>2023</th>\n",
       "      <td>93.251</td>\n",
       "      <td>84.764</td>\n",
       "      <td>89.035</td>\n",
       "      <td>NaN</td>\n",
       "    </tr>\n",
       "    <tr>\n",
       "      <th>2022</th>\n",
       "      <td>68.664</td>\n",
       "      <td>71.392</td>\n",
       "      <td>74.042</td>\n",
       "      <td>NaN</td>\n",
       "    </tr>\n",
       "    <tr>\n",
       "      <th>2021</th>\n",
       "      <td>123.870</td>\n",
       "      <td>102.976</td>\n",
       "      <td>100.978</td>\n",
       "      <td>NaN</td>\n",
       "    </tr>\n",
       "    <tr>\n",
       "      <th>2020</th>\n",
       "      <td>39.658</td>\n",
       "      <td>42.082</td>\n",
       "      <td>36.753</td>\n",
       "      <td>NaN</td>\n",
       "    </tr>\n",
       "    <tr>\n",
       "      <th>2019</th>\n",
       "      <td>68.094</td>\n",
       "      <td>75.305</td>\n",
       "      <td>61.282</td>\n",
       "      <td>NaN</td>\n",
       "    </tr>\n",
       "    <tr>\n",
       "      <th>2018</th>\n",
       "      <td>66.988</td>\n",
       "      <td>80.947</td>\n",
       "      <td>77.598</td>\n",
       "      <td>81.402</td>\n",
       "    </tr>\n",
       "    <tr>\n",
       "      <th>2017</th>\n",
       "      <td>59.988</td>\n",
       "      <td>64.647</td>\n",
       "      <td>66.468</td>\n",
       "      <td>62.857</td>\n",
       "    </tr>\n",
       "    <tr>\n",
       "      <th>2016</th>\n",
       "      <td>53.703</td>\n",
       "      <td>40.664</td>\n",
       "      <td>35.715</td>\n",
       "      <td>37.573</td>\n",
       "    </tr>\n",
       "    <tr>\n",
       "      <th>2015</th>\n",
       "      <td>74.171</td>\n",
       "      <td>63.695</td>\n",
       "      <td>63.740</td>\n",
       "      <td>63.862</td>\n",
       "    </tr>\n",
       "    <tr>\n",
       "      <th>2014</th>\n",
       "      <td>57.452</td>\n",
       "      <td>49.528</td>\n",
       "      <td>55.170</td>\n",
       "      <td>47.485</td>\n",
       "    </tr>\n",
       "    <tr>\n",
       "      <th>2013</th>\n",
       "      <td>62.892</td>\n",
       "      <td>38.138</td>\n",
       "      <td>65.378</td>\n",
       "      <td>54.343</td>\n",
       "    </tr>\n",
       "    <tr>\n",
       "      <th>2012</th>\n",
       "      <td>81.440</td>\n",
       "      <td>NaN</td>\n",
       "      <td>94.866</td>\n",
       "      <td>NaN</td>\n",
       "    </tr>\n",
       "    <tr>\n",
       "      <th>2011</th>\n",
       "      <td>60.942</td>\n",
       "      <td>NaN</td>\n",
       "      <td>60.933</td>\n",
       "      <td>NaN</td>\n",
       "    </tr>\n",
       "    <tr>\n",
       "      <th>2010</th>\n",
       "      <td>68.642</td>\n",
       "      <td>NaN</td>\n",
       "      <td>62.918</td>\n",
       "      <td>NaN</td>\n",
       "    </tr>\n",
       "    <tr>\n",
       "      <th>2009</th>\n",
       "      <td>95.022</td>\n",
       "      <td>NaN</td>\n",
       "      <td>79.056</td>\n",
       "      <td>NaN</td>\n",
       "    </tr>\n",
       "    <tr>\n",
       "      <th>2008</th>\n",
       "      <td>68.769</td>\n",
       "      <td>NaN</td>\n",
       "      <td>76.455</td>\n",
       "      <td>NaN</td>\n",
       "    </tr>\n",
       "  </tbody>\n",
       "</table>\n",
       "</div>"
      ],
      "text/plain": [
       "       PECOTA  FanGraphs     ZiPs  Steamer\n",
       "2023   93.251     84.764   89.035      NaN\n",
       "2022   68.664     71.392   74.042      NaN\n",
       "2021  123.870    102.976  100.978      NaN\n",
       "2020   39.658     42.082   36.753      NaN\n",
       "2019   68.094     75.305   61.282      NaN\n",
       "2018   66.988     80.947   77.598   81.402\n",
       "2017   59.988     64.647   66.468   62.857\n",
       "2016   53.703     40.664   35.715   37.573\n",
       "2015   74.171     63.695   63.740   63.862\n",
       "2014   57.452     49.528   55.170   47.485\n",
       "2013   62.892     38.138   65.378   54.343\n",
       "2012   81.440        NaN   94.866      NaN\n",
       "2011   60.942        NaN   60.933      NaN\n",
       "2010   68.642        NaN   62.918      NaN\n",
       "2009   95.022        NaN   79.056      NaN\n",
       "2008   68.769        NaN   76.455      NaN"
      ]
     },
     "execution_count": 71,
     "metadata": {},
     "output_type": "execute_result"
    }
   ],
   "source": [
    "D1"
   ]
  },
  {
   "cell_type": "code",
   "execution_count": 72,
   "metadata": {},
   "outputs": [],
   "source": [
    "D1.to_excel('D1.xlsx',float_format='%.6f')"
   ]
  },
  {
   "cell_type": "markdown",
   "metadata": {},
   "source": [
    "## P value"
   ]
  },
  {
   "cell_type": "code",
   "execution_count": 73,
   "metadata": {},
   "outputs": [],
   "source": [
    "import scipy.stats as stats\n"
   ]
  },
  {
   "cell_type": "markdown",
   "metadata": {},
   "source": [
    "### ZiPS"
   ]
  },
  {
   "cell_type": "code",
   "execution_count": 74,
   "metadata": {},
   "outputs": [
    {
     "data": {
      "text/plain": [
       "3.778195701631404e-06"
      ]
     },
     "execution_count": 74,
     "metadata": {},
     "output_type": "execute_result"
    }
   ],
   "source": [
    "p_zips_2008= 1 - stats.chi2.cdf(D1_ZiPs_2008, 29)\n",
    "p_zips_2008"
   ]
  },
  {
   "cell_type": "code",
   "execution_count": 75,
   "metadata": {},
   "outputs": [
    {
     "data": {
      "text/plain": [
       "1.591162241632027e-06"
      ]
     },
     "execution_count": 75,
     "metadata": {},
     "output_type": "execute_result"
    }
   ],
   "source": [
    "p_zips_2009= 1 - stats.chi2.cdf(D1_ZiPs_2009, 29)\n",
    "p_zips_2009"
   ]
  },
  {
   "cell_type": "code",
   "execution_count": 76,
   "metadata": {},
   "outputs": [
    {
     "data": {
      "text/plain": [
       "0.00026414235256300156"
      ]
     },
     "execution_count": 76,
     "metadata": {},
     "output_type": "execute_result"
    }
   ],
   "source": [
    "p_zips_2010= 1 - stats.chi2.cdf(D1_ZiPs_2010, 29)\n",
    "p_zips_2010"
   ]
  },
  {
   "cell_type": "code",
   "execution_count": 77,
   "metadata": {},
   "outputs": [
    {
     "data": {
      "text/plain": [
       "0.00047219198732761924"
      ]
     },
     "execution_count": 77,
     "metadata": {},
     "output_type": "execute_result"
    }
   ],
   "source": [
    "p_zips_2011= 1 - stats.chi2.cdf(D1_ZiPs_2011, 29)\n",
    "p_zips_2011"
   ]
  },
  {
   "cell_type": "code",
   "execution_count": 78,
   "metadata": {},
   "outputs": [
    {
     "data": {
      "text/plain": [
       "6.375320049656352e-09"
      ]
     },
     "execution_count": 78,
     "metadata": {},
     "output_type": "execute_result"
    }
   ],
   "source": [
    "p_zips_2012= 1 - stats.chi2.cdf(D1_ZiPs_2012, 29)\n",
    "p_zips_2012"
   ]
  },
  {
   "cell_type": "code",
   "execution_count": 79,
   "metadata": {},
   "outputs": [
    {
     "data": {
      "text/plain": [
       "0.00012652210579155998"
      ]
     },
     "execution_count": 79,
     "metadata": {},
     "output_type": "execute_result"
    }
   ],
   "source": [
    "p_zips_2013= 1 - stats.chi2.cdf(D1_ZiPs_2013, 29)\n",
    "p_zips_2013"
   ]
  },
  {
   "cell_type": "code",
   "execution_count": 80,
   "metadata": {},
   "outputs": [
    {
     "data": {
      "text/plain": [
       "0.002366986459556464"
      ]
     },
     "execution_count": 80,
     "metadata": {},
     "output_type": "execute_result"
    }
   ],
   "source": [
    "p_zips_2014= 1 - stats.chi2.cdf(D1_ZiPs_2014, 29)\n",
    "p_zips_2014"
   ]
  },
  {
   "cell_type": "code",
   "execution_count": 81,
   "metadata": {},
   "outputs": [
    {
     "data": {
      "text/plain": [
       "0.00020696651562424062"
      ]
     },
     "execution_count": 81,
     "metadata": {},
     "output_type": "execute_result"
    }
   ],
   "source": [
    "p_zips_2015= 1 - stats.chi2.cdf(D1_ZiPs_2015, 29)\n",
    "p_zips_2015"
   ]
  },
  {
   "cell_type": "code",
   "execution_count": 82,
   "metadata": {},
   "outputs": [
    {
     "data": {
      "text/plain": [
       "0.18200342251109514"
      ]
     },
     "execution_count": 82,
     "metadata": {},
     "output_type": "execute_result"
    }
   ],
   "source": [
    "p_zips_2016= 1 - stats.chi2.cdf(D1_ZiPs_2016, 29)\n",
    "p_zips_2016"
   ]
  },
  {
   "cell_type": "code",
   "execution_count": 83,
   "metadata": {},
   "outputs": [
    {
     "data": {
      "text/plain": [
       "9.08048005193729e-05"
      ]
     },
     "execution_count": 83,
     "metadata": {},
     "output_type": "execute_result"
    }
   ],
   "source": [
    "p_zips_2017= 1 - stats.chi2.cdf(D1_ZiPs_2017, 29)\n",
    "p_zips_2017"
   ]
  },
  {
   "cell_type": "code",
   "execution_count": 84,
   "metadata": {},
   "outputs": [
    {
     "data": {
      "text/plain": [
       "2.587930257647031e-06"
      ]
     },
     "execution_count": 84,
     "metadata": {},
     "output_type": "execute_result"
    }
   ],
   "source": [
    "p_zips_2018= 1 - stats.chi2.cdf(D1_ZiPs_2018, 29)\n",
    "p_zips_2018"
   ]
  },
  {
   "cell_type": "code",
   "execution_count": 85,
   "metadata": {},
   "outputs": [
    {
     "data": {
      "text/plain": [
       "9.08048005193729e-05"
      ]
     },
     "execution_count": 85,
     "metadata": {},
     "output_type": "execute_result"
    }
   ],
   "source": [
    "p_zips_2017= 1 - stats.chi2.cdf(D1_ZiPs_2017, 29)\n",
    "p_zips_2017"
   ]
  },
  {
   "cell_type": "code",
   "execution_count": 86,
   "metadata": {},
   "outputs": [
    {
     "data": {
      "text/plain": [
       "0.0004266192008800518"
      ]
     },
     "execution_count": 86,
     "metadata": {},
     "output_type": "execute_result"
    }
   ],
   "source": [
    "p_zips_2019= 1 - stats.chi2.cdf(D1_ZiPs_2019, 29)\n",
    "p_zips_2019"
   ]
  },
  {
   "cell_type": "code",
   "execution_count": 87,
   "metadata": {},
   "outputs": [
    {
     "data": {
      "text/plain": [
       "0.15265550775586578"
      ]
     },
     "execution_count": 87,
     "metadata": {},
     "output_type": "execute_result"
    }
   ],
   "source": [
    "p_zips_2020= 1 - stats.chi2.cdf(D1_ZiPs_2020, 29)\n",
    "p_zips_2020"
   ]
  },
  {
   "cell_type": "code",
   "execution_count": 88,
   "metadata": {},
   "outputs": [
    {
     "data": {
      "text/plain": [
       "6.819759201803777e-10"
      ]
     },
     "execution_count": 88,
     "metadata": {},
     "output_type": "execute_result"
    }
   ],
   "source": [
    "p_zips_2021= 1 - stats.chi2.cdf(D1_ZiPs_2021, 29)\n",
    "p_zips_2021"
   ]
  },
  {
   "cell_type": "code",
   "execution_count": 89,
   "metadata": {},
   "outputs": [
    {
     "data": {
      "text/plain": [
       "8.320799527949951e-06"
      ]
     },
     "execution_count": 89,
     "metadata": {},
     "output_type": "execute_result"
    }
   ],
   "source": [
    "p_zips_2022= 1 - stats.chi2.cdf(D1_ZiPs_2022, 29)\n",
    "p_zips_2022"
   ]
  },
  {
   "cell_type": "code",
   "execution_count": 90,
   "metadata": {},
   "outputs": [
    {
     "data": {
      "text/plain": [
       "5.120074964004573e-08"
      ]
     },
     "execution_count": 90,
     "metadata": {},
     "output_type": "execute_result"
    }
   ],
   "source": [
    "p_zips_2023= 1 - stats.chi2.cdf(D1_ZiPs_2023, 29)\n",
    "p_zips_2023"
   ]
  },
  {
   "cell_type": "markdown",
   "metadata": {},
   "source": [
    "### FanGraphs"
   ]
  },
  {
   "cell_type": "code",
   "execution_count": 91,
   "metadata": {},
   "outputs": [
    {
     "data": {
      "text/plain": [
       "2.2772023877681846e-07"
      ]
     },
     "execution_count": 91,
     "metadata": {},
     "output_type": "execute_result"
    }
   ],
   "source": [
    "p_fangraphs_2023= 1 - stats.chi2.cdf(D1_FanGraphs_2023, 29)\n",
    "p_fangraphs_2023"
   ]
  },
  {
   "cell_type": "code",
   "execution_count": 92,
   "metadata": {},
   "outputs": [
    {
     "data": {
      "text/plain": [
       "1.9511046573050805e-05"
      ]
     },
     "execution_count": 92,
     "metadata": {},
     "output_type": "execute_result"
    }
   ],
   "source": [
    "p_fangraphs_2022= 1 - stats.chi2.cdf(D1_FanGraphs_2022, 29)\n",
    "p_fangraphs_2022"
   ]
  },
  {
   "cell_type": "code",
   "execution_count": 93,
   "metadata": {},
   "outputs": [
    {
     "data": {
      "text/plain": [
       "3.2495062196602476e-10"
      ]
     },
     "execution_count": 93,
     "metadata": {},
     "output_type": "execute_result"
    }
   ],
   "source": [
    "p_fangraphs_2021= 1 - stats.chi2.cdf(D1_FanGraphs_2021, 29)\n",
    "p_fangraphs_2021"
   ]
  },
  {
   "cell_type": "code",
   "execution_count": 94,
   "metadata": {},
   "outputs": [
    {
     "data": {
      "text/plain": [
       "0.05520988523563586"
      ]
     },
     "execution_count": 94,
     "metadata": {},
     "output_type": "execute_result"
    }
   ],
   "source": [
    "p_fangraphs_2020= 1 - stats.chi2.cdf(D1_FanGraphs_2020, 29)\n",
    "p_fangraphs_2020"
   ]
  },
  {
   "cell_type": "code",
   "execution_count": 95,
   "metadata": {},
   "outputs": [
    {
     "data": {
      "text/plain": [
       "5.513350520680582e-06"
      ]
     },
     "execution_count": 95,
     "metadata": {},
     "output_type": "execute_result"
    }
   ],
   "source": [
    "p_fangraphs_2019= 1 - stats.chi2.cdf(D1_FanGraphs_2019, 29)\n",
    "p_fangraphs_2019"
   ]
  },
  {
   "cell_type": "code",
   "execution_count": 96,
   "metadata": {},
   "outputs": [
    {
     "data": {
      "text/plain": [
       "8.411512627537476e-07"
      ]
     },
     "execution_count": 96,
     "metadata": {},
     "output_type": "execute_result"
    }
   ],
   "source": [
    "p_fangraphs_2018= 1 - stats.chi2.cdf(D1_FanGraphs_2018, 29)\n",
    "p_fangraphs_2018"
   ]
  },
  {
   "cell_type": "code",
   "execution_count": 97,
   "metadata": {},
   "outputs": [
    {
     "data": {
      "text/plain": [
       "0.000157732372533137"
      ]
     },
     "execution_count": 97,
     "metadata": {},
     "output_type": "execute_result"
    }
   ],
   "source": [
    "p_fangraphs_2017= 1 - stats.chi2.cdf(D1_FanGraphs_2017, 29)\n",
    "p_fangraphs_2017"
   ]
  },
  {
   "cell_type": "code",
   "execution_count": 98,
   "metadata": {},
   "outputs": [
    {
     "data": {
      "text/plain": [
       "0.0736569162706936"
      ]
     },
     "execution_count": 98,
     "metadata": {},
     "output_type": "execute_result"
    }
   ],
   "source": [
    "p_fangraphs_2016= 1 - stats.chi2.cdf(D1_FanGraphs_2016, 29)\n",
    "p_fangraphs_2016"
   ]
  },
  {
   "cell_type": "code",
   "execution_count": 99,
   "metadata": {},
   "outputs": [
    {
     "data": {
      "text/plain": [
       "0.00020970655327523513"
      ]
     },
     "execution_count": 99,
     "metadata": {},
     "output_type": "execute_result"
    }
   ],
   "source": [
    "p_fangraphs_2015= 1 - stats.chi2.cdf(D1_FanGraphs_2015, 29)\n",
    "p_fangraphs_2015"
   ]
  },
  {
   "cell_type": "code",
   "execution_count": 100,
   "metadata": {},
   "outputs": [
    {
     "data": {
      "text/plain": [
       "0.01014920571448541"
      ]
     },
     "execution_count": 100,
     "metadata": {},
     "output_type": "execute_result"
    }
   ],
   "source": [
    "p_fangraphs_2014= 1 - stats.chi2.cdf(D1_FanGraphs_2014, 29)\n",
    "p_fangraphs_2014"
   ]
  },
  {
   "cell_type": "code",
   "execution_count": 101,
   "metadata": {},
   "outputs": [
    {
     "data": {
      "text/plain": [
       "0.11930219138688947"
      ]
     },
     "execution_count": 101,
     "metadata": {},
     "output_type": "execute_result"
    }
   ],
   "source": [
    "p_fangraphs_2013= 1 - stats.chi2.cdf(D1_FanGraphs_2013, 29)\n",
    "p_fangraphs_2013"
   ]
  },
  {
   "cell_type": "markdown",
   "metadata": {},
   "source": [
    "### PECOTA"
   ]
  },
  {
   "cell_type": "code",
   "execution_count": 102,
   "metadata": {},
   "outputs": [
    {
     "data": {
      "text/plain": [
       "1.1408589961625637e-08"
      ]
     },
     "execution_count": 102,
     "metadata": {},
     "output_type": "execute_result"
    }
   ],
   "source": [
    "p_pecota_2023= 1 - stats.chi2.cdf(D1_PECOTA_2023, 29)\n",
    "p_pecota_2023"
   ]
  },
  {
   "cell_type": "code",
   "execution_count": 103,
   "metadata": {},
   "outputs": [
    {
     "data": {
      "text/plain": [
       "5.502557186376489e-05"
      ]
     },
     "execution_count": 103,
     "metadata": {},
     "output_type": "execute_result"
    }
   ],
   "source": [
    "p_pecota_2019= 1 - stats.chi2.cdf(D1_PECOTA_2019, 29)\n",
    "p_pecota_2019"
   ]
  },
  {
   "cell_type": "code",
   "execution_count": 104,
   "metadata": {},
   "outputs": [
    {
     "data": {
      "text/plain": [
       "0.0006197702476949951"
      ]
     },
     "execution_count": 104,
     "metadata": {},
     "output_type": "execute_result"
    }
   ],
   "source": [
    "p_pecota_2017= 1 - stats.chi2.cdf(D1_PECOTA_2017, 29)\n",
    "p_pecota_2017"
   ]
  },
  {
   "cell_type": "code",
   "execution_count": 105,
   "metadata": {},
   "outputs": [
    {
     "data": {
      "text/plain": [
       "7.740385329313426e-05"
      ]
     },
     "execution_count": 105,
     "metadata": {},
     "output_type": "execute_result"
    }
   ],
   "source": [
    "p_pecota_2018= 1 - stats.chi2.cdf(D1_PECOTA_2018, 29)\n",
    "p_pecota_2018"
   ]
  },
  {
   "cell_type": "code",
   "execution_count": 106,
   "metadata": {},
   "outputs": [
    {
     "data": {
      "text/plain": [
       "0.08967903259355314"
      ]
     },
     "execution_count": 106,
     "metadata": {},
     "output_type": "execute_result"
    }
   ],
   "source": [
    "p_pecota_2020= 1 - stats.chi2.cdf(D1_PECOTA_2020, 29)\n",
    "p_pecota_2020"
   ]
  },
  {
   "cell_type": "code",
   "execution_count": 107,
   "metadata": {},
   "outputs": [
    {
     "data": {
      "text/plain": [
       "1.0813572259849025e-13"
      ]
     },
     "execution_count": 107,
     "metadata": {},
     "output_type": "execute_result"
    }
   ],
   "source": [
    "p_pecota_2021= 1 - stats.chi2.cdf(D1_PECOTA_2021, 29)\n",
    "p_pecota_2021"
   ]
  },
  {
   "cell_type": "code",
   "execution_count": 108,
   "metadata": {},
   "outputs": [
    {
     "data": {
      "text/plain": [
       "4.608859110999397e-05"
      ]
     },
     "execution_count": 108,
     "metadata": {},
     "output_type": "execute_result"
    }
   ],
   "source": [
    "p_pecota_2022= 1 - stats.chi2.cdf(D1_PECOTA_2022, 29)\n",
    "p_pecota_2022"
   ]
  },
  {
   "cell_type": "code",
   "execution_count": 109,
   "metadata": {},
   "outputs": [
    {
     "data": {
      "text/plain": [
       "0.0034995274865585735"
      ]
     },
     "execution_count": 109,
     "metadata": {},
     "output_type": "execute_result"
    }
   ],
   "source": [
    "p_pecota_2016= 1 - stats.chi2.cdf(D1_PECOTA_2016, 29)\n",
    "p_pecota_2016"
   ]
  },
  {
   "cell_type": "code",
   "execution_count": 110,
   "metadata": {},
   "outputs": [
    {
     "data": {
      "text/plain": [
       "7.979142212732881e-06"
      ]
     },
     "execution_count": 110,
     "metadata": {},
     "output_type": "execute_result"
    }
   ],
   "source": [
    "p_pecota_2015= 1 - stats.chi2.cdf(D1_PECOTA_2015, 29)\n",
    "p_pecota_2015"
   ]
  },
  {
   "cell_type": "code",
   "execution_count": 111,
   "metadata": {},
   "outputs": [
    {
     "data": {
      "text/plain": [
       "0.0012677284190695248"
      ]
     },
     "execution_count": 111,
     "metadata": {},
     "output_type": "execute_result"
    }
   ],
   "source": [
    "p_pecota_2014= 1 - stats.chi2.cdf(D1_PECOTA_2014, 29)\n",
    "p_pecota_2014"
   ]
  },
  {
   "cell_type": "code",
   "execution_count": 112,
   "metadata": {},
   "outputs": [
    {
     "data": {
      "text/plain": [
       "0.00026614746921949095"
      ]
     },
     "execution_count": 112,
     "metadata": {},
     "output_type": "execute_result"
    }
   ],
   "source": [
    "p_pecota_2013= 1 - stats.chi2.cdf(D1_PECOTA_2013, 29)\n",
    "p_pecota_2013"
   ]
  },
  {
   "cell_type": "code",
   "execution_count": 113,
   "metadata": {},
   "outputs": [
    {
     "data": {
      "text/plain": [
       "7.116642695148556e-07"
      ]
     },
     "execution_count": 113,
     "metadata": {},
     "output_type": "execute_result"
    }
   ],
   "source": [
    "p_pecota_2012= 1 - stats.chi2.cdf(D1_PECOTA_2012, 29)\n",
    "p_pecota_2012"
   ]
  },
  {
   "cell_type": "code",
   "execution_count": 114,
   "metadata": {},
   "outputs": [
    {
     "data": {
      "text/plain": [
       "0.0004708751761220986"
      ]
     },
     "execution_count": 114,
     "metadata": {},
     "output_type": "execute_result"
    }
   ],
   "source": [
    "p_pecota_2011= 1 - stats.chi2.cdf(D1_PECOTA_2011, 29)\n",
    "p_pecota_2011"
   ]
  },
  {
   "cell_type": "code",
   "execution_count": 115,
   "metadata": {},
   "outputs": [
    {
     "data": {
      "text/plain": [
       "4.640838269387437e-05"
      ]
     },
     "execution_count": 115,
     "metadata": {},
     "output_type": "execute_result"
    }
   ],
   "source": [
    "p_pecota_2010= 1 - stats.chi2.cdf(D1_PECOTA_2010, 29)\n",
    "p_pecota_2010"
   ]
  },
  {
   "cell_type": "code",
   "execution_count": 116,
   "metadata": {},
   "outputs": [
    {
     "data": {
      "text/plain": [
       "6.025828613864803e-09"
      ]
     },
     "execution_count": 116,
     "metadata": {},
     "output_type": "execute_result"
    }
   ],
   "source": [
    "p_pecota_2009= 1 - stats.chi2.cdf(D1_PECOTA_2009, 29)\n",
    "p_pecota_2009"
   ]
  },
  {
   "cell_type": "code",
   "execution_count": 117,
   "metadata": {},
   "outputs": [
    {
     "data": {
      "text/plain": [
       "4.4604082360066855e-05"
      ]
     },
     "execution_count": 117,
     "metadata": {},
     "output_type": "execute_result"
    }
   ],
   "source": [
    "p_pecota_2008= 1 - stats.chi2.cdf(D1_PECOTA_2008, 29)\n",
    "p_pecota_2008"
   ]
  },
  {
   "cell_type": "markdown",
   "metadata": {},
   "source": [
    "### Steamer"
   ]
  },
  {
   "cell_type": "code",
   "execution_count": 118,
   "metadata": {},
   "outputs": [
    {
     "data": {
      "text/plain": [
       "7.208430685690104e-07"
      ]
     },
     "execution_count": 118,
     "metadata": {},
     "output_type": "execute_result"
    }
   ],
   "source": [
    "p_steamer_2018= 1 - stats.chi2.cdf(D1_Steamer_2018, 29)\n",
    "p_steamer_2018"
   ]
  },
  {
   "cell_type": "code",
   "execution_count": 119,
   "metadata": {},
   "outputs": [
    {
     "data": {
      "text/plain": [
       "0.00026892096945274613"
      ]
     },
     "execution_count": 119,
     "metadata": {},
     "output_type": "execute_result"
    }
   ],
   "source": [
    "p_steamer_2017= 1 - stats.chi2.cdf(D1_Steamer_2017, 29)\n",
    "p_steamer_2017"
   ]
  },
  {
   "cell_type": "code",
   "execution_count": 120,
   "metadata": {},
   "outputs": [
    {
     "data": {
      "text/plain": [
       "0.1321204098507507"
      ]
     },
     "execution_count": 120,
     "metadata": {},
     "output_type": "execute_result"
    }
   ],
   "source": [
    "p_steamer_2016= 1 - stats.chi2.cdf(D1_Steamer_2016, 29)\n",
    "p_steamer_2016"
   ]
  },
  {
   "cell_type": "code",
   "execution_count": 121,
   "metadata": {},
   "outputs": [
    {
     "data": {
      "text/plain": [
       "0.00019955687128603294"
      ]
     },
     "execution_count": 121,
     "metadata": {},
     "output_type": "execute_result"
    }
   ],
   "source": [
    "p_steamer_2015= 1 - stats.chi2.cdf(D1_Steamer_2015, 29)\n",
    "p_steamer_2015"
   ]
  },
  {
   "cell_type": "code",
   "execution_count": 122,
   "metadata": {},
   "outputs": [
    {
     "data": {
      "text/plain": [
       "0.016610954588078153"
      ]
     },
     "execution_count": 122,
     "metadata": {},
     "output_type": "execute_result"
    }
   ],
   "source": [
    "p_steamer_2014= 1 - stats.chi2.cdf(D1_Steamer_2014, 29)\n",
    "p_steamer_2014"
   ]
  },
  {
   "cell_type": "code",
   "execution_count": 123,
   "metadata": {},
   "outputs": [
    {
     "data": {
      "text/plain": [
       "0.002953851829591292"
      ]
     },
     "execution_count": 123,
     "metadata": {},
     "output_type": "execute_result"
    }
   ],
   "source": [
    "p_steamer_2013= 1 - stats.chi2.cdf(D1_Steamer_2013, 29)\n",
    "p_steamer_2013"
   ]
  },
  {
   "cell_type": "markdown",
   "metadata": {},
   "source": [
    "## P value table"
   ]
  },
  {
   "cell_type": "code",
   "execution_count": 124,
   "metadata": {},
   "outputs": [],
   "source": [
    "p_value_data = {\n",
    "        'PECOTA':[p_pecota_2023,p_pecota_2022,p_pecota_2021,p_pecota_2020,p_pecota_2019,p_pecota_2018,p_pecota_2017,p_fangraphs_2016,p_pecota_2015,p_pecota_2014,p_pecota_2013,p_pecota_2012,p_pecota_2011,p_pecota_2010,p_pecota_2009,p_pecota_2008],\n",
    "        'FanGraphs':[p_fangraphs_2023,p_fangraphs_2022,p_fangraphs_2021,p_fangraphs_2020,p_fangraphs_2019,p_fangraphs_2018,p_fangraphs_2017,p_fangraphs_2016,p_fangraphs_2015,p_fangraphs_2014,p_fangraphs_2013],\n",
    "        'ZiPs':[p_zips_2023,p_zips_2022,p_zips_2021,p_zips_2020,p_zips_2019,p_zips_2018,p_zips_2017,p_zips_2016,p_zips_2015,p_zips_2014,p_zips_2013,p_zips_2012,p_zips_2011,p_zips_2010,p_zips_2009,p_zips_2008]\n",
    "}\n",
    "p_value_data['FanGraphs'].extend([None] * 5)\n",
    "p_value_data['Steamer'] = [None] * 5 + [p_steamer_2018,p_steamer_2017,p_steamer_2016,p_steamer_2015,p_steamer_2014,p_steamer_2013] + [None] * 5"
   ]
  },
  {
   "cell_type": "code",
   "execution_count": 125,
   "metadata": {},
   "outputs": [],
   "source": [
    "P_value=pd.DataFrame(\n",
    "    p_value_data,index=['2023','2022','2021','2020','2019','2018','2017','2016','2015','2014','2013','2012','2011','2010','2009','2008']\n",
    "                )\n",
    "P_value = P_value.round(15)"
   ]
  },
  {
   "cell_type": "code",
   "execution_count": 126,
   "metadata": {},
   "outputs": [
    {
     "data": {
      "text/html": [
       "<div>\n",
       "<style scoped>\n",
       "    .dataframe tbody tr th:only-of-type {\n",
       "        vertical-align: middle;\n",
       "    }\n",
       "\n",
       "    .dataframe tbody tr th {\n",
       "        vertical-align: top;\n",
       "    }\n",
       "\n",
       "    .dataframe thead th {\n",
       "        text-align: right;\n",
       "    }\n",
       "</style>\n",
       "<table border=\"1\" class=\"dataframe\">\n",
       "  <thead>\n",
       "    <tr style=\"text-align: right;\">\n",
       "      <th></th>\n",
       "      <th>PECOTA</th>\n",
       "      <th>FanGraphs</th>\n",
       "      <th>ZiPs</th>\n",
       "      <th>Steamer</th>\n",
       "    </tr>\n",
       "  </thead>\n",
       "  <tbody>\n",
       "    <tr>\n",
       "      <th>2023</th>\n",
       "      <td>1.140859e-08</td>\n",
       "      <td>2.277202e-07</td>\n",
       "      <td>5.120075e-08</td>\n",
       "      <td>NaN</td>\n",
       "    </tr>\n",
       "    <tr>\n",
       "      <th>2022</th>\n",
       "      <td>4.608859e-05</td>\n",
       "      <td>1.951105e-05</td>\n",
       "      <td>8.320800e-06</td>\n",
       "      <td>NaN</td>\n",
       "    </tr>\n",
       "    <tr>\n",
       "      <th>2021</th>\n",
       "      <td>1.080000e-13</td>\n",
       "      <td>3.249510e-10</td>\n",
       "      <td>6.819760e-10</td>\n",
       "      <td>NaN</td>\n",
       "    </tr>\n",
       "    <tr>\n",
       "      <th>2020</th>\n",
       "      <td>8.967903e-02</td>\n",
       "      <td>5.520989e-02</td>\n",
       "      <td>1.526555e-01</td>\n",
       "      <td>NaN</td>\n",
       "    </tr>\n",
       "    <tr>\n",
       "      <th>2019</th>\n",
       "      <td>5.502557e-05</td>\n",
       "      <td>5.513351e-06</td>\n",
       "      <td>4.266192e-04</td>\n",
       "      <td>NaN</td>\n",
       "    </tr>\n",
       "    <tr>\n",
       "      <th>2018</th>\n",
       "      <td>7.740385e-05</td>\n",
       "      <td>8.411513e-07</td>\n",
       "      <td>2.587930e-06</td>\n",
       "      <td>7.208431e-07</td>\n",
       "    </tr>\n",
       "    <tr>\n",
       "      <th>2017</th>\n",
       "      <td>6.197702e-04</td>\n",
       "      <td>1.577324e-04</td>\n",
       "      <td>9.080480e-05</td>\n",
       "      <td>2.689210e-04</td>\n",
       "    </tr>\n",
       "    <tr>\n",
       "      <th>2016</th>\n",
       "      <td>7.365692e-02</td>\n",
       "      <td>7.365692e-02</td>\n",
       "      <td>1.820034e-01</td>\n",
       "      <td>1.321204e-01</td>\n",
       "    </tr>\n",
       "    <tr>\n",
       "      <th>2015</th>\n",
       "      <td>7.979142e-06</td>\n",
       "      <td>2.097066e-04</td>\n",
       "      <td>2.069665e-04</td>\n",
       "      <td>1.995569e-04</td>\n",
       "    </tr>\n",
       "    <tr>\n",
       "      <th>2014</th>\n",
       "      <td>1.267728e-03</td>\n",
       "      <td>1.014921e-02</td>\n",
       "      <td>2.366986e-03</td>\n",
       "      <td>1.661095e-02</td>\n",
       "    </tr>\n",
       "    <tr>\n",
       "      <th>2013</th>\n",
       "      <td>2.661475e-04</td>\n",
       "      <td>1.193022e-01</td>\n",
       "      <td>1.265221e-04</td>\n",
       "      <td>2.953852e-03</td>\n",
       "    </tr>\n",
       "    <tr>\n",
       "      <th>2012</th>\n",
       "      <td>7.116643e-07</td>\n",
       "      <td>NaN</td>\n",
       "      <td>6.375320e-09</td>\n",
       "      <td>NaN</td>\n",
       "    </tr>\n",
       "    <tr>\n",
       "      <th>2011</th>\n",
       "      <td>4.708752e-04</td>\n",
       "      <td>NaN</td>\n",
       "      <td>4.721920e-04</td>\n",
       "      <td>NaN</td>\n",
       "    </tr>\n",
       "    <tr>\n",
       "      <th>2010</th>\n",
       "      <td>4.640838e-05</td>\n",
       "      <td>NaN</td>\n",
       "      <td>2.641424e-04</td>\n",
       "      <td>NaN</td>\n",
       "    </tr>\n",
       "    <tr>\n",
       "      <th>2009</th>\n",
       "      <td>6.025829e-09</td>\n",
       "      <td>NaN</td>\n",
       "      <td>1.591162e-06</td>\n",
       "      <td>NaN</td>\n",
       "    </tr>\n",
       "    <tr>\n",
       "      <th>2008</th>\n",
       "      <td>4.460408e-05</td>\n",
       "      <td>NaN</td>\n",
       "      <td>3.778196e-06</td>\n",
       "      <td>NaN</td>\n",
       "    </tr>\n",
       "  </tbody>\n",
       "</table>\n",
       "</div>"
      ],
      "text/plain": [
       "            PECOTA     FanGraphs          ZiPs       Steamer\n",
       "2023  1.140859e-08  2.277202e-07  5.120075e-08           NaN\n",
       "2022  4.608859e-05  1.951105e-05  8.320800e-06           NaN\n",
       "2021  1.080000e-13  3.249510e-10  6.819760e-10           NaN\n",
       "2020  8.967903e-02  5.520989e-02  1.526555e-01           NaN\n",
       "2019  5.502557e-05  5.513351e-06  4.266192e-04           NaN\n",
       "2018  7.740385e-05  8.411513e-07  2.587930e-06  7.208431e-07\n",
       "2017  6.197702e-04  1.577324e-04  9.080480e-05  2.689210e-04\n",
       "2016  7.365692e-02  7.365692e-02  1.820034e-01  1.321204e-01\n",
       "2015  7.979142e-06  2.097066e-04  2.069665e-04  1.995569e-04\n",
       "2014  1.267728e-03  1.014921e-02  2.366986e-03  1.661095e-02\n",
       "2013  2.661475e-04  1.193022e-01  1.265221e-04  2.953852e-03\n",
       "2012  7.116643e-07           NaN  6.375320e-09           NaN\n",
       "2011  4.708752e-04           NaN  4.721920e-04           NaN\n",
       "2010  4.640838e-05           NaN  2.641424e-04           NaN\n",
       "2009  6.025829e-09           NaN  1.591162e-06           NaN\n",
       "2008  4.460408e-05           NaN  3.778196e-06           NaN"
      ]
     },
     "execution_count": 126,
     "metadata": {},
     "output_type": "execute_result"
    }
   ],
   "source": [
    "P_value"
   ]
  },
  {
   "cell_type": "code",
   "execution_count": 127,
   "metadata": {},
   "outputs": [],
   "source": [
    "P_value.to_excel('P_value.xlsx')"
   ]
  },
  {
   "cell_type": "markdown",
   "metadata": {},
   "source": [
    "# Merge D1 and P-value"
   ]
  },
  {
   "cell_type": "code",
   "execution_count": 128,
   "metadata": {},
   "outputs": [],
   "source": [
    "# Assert that shapes are the same\n",
    "assert D1.shape == P_value.shape, \"DataFrames have different dimensions!\"\n",
    "\n",
    "# Define a function to combine cell values\n",
    "def combine_cells(cell1, cell2):\n",
    "    cell2_sci = \"{:.2e}\".format(float(cell2))  # Convert p-values to scientific notation\n",
    "    return f\"{cell1} ({cell2_sci})\"\n",
    "\n",
    "# Convert D3 cells to string type\n",
    "D1 = D1.astype(str)\n",
    "\n",
    "# Use the `combine_cells` function in an element-wise manner using applymap\n",
    "Model1 = pd.DataFrame(index=D1.index, columns=D1.columns)\n",
    "for col in D1.columns:\n",
    "    Model1[col] = D1[col].combine(P_value[col].astype(str), func=combine_cells)\n"
   ]
  },
  {
   "cell_type": "code",
   "execution_count": 129,
   "metadata": {},
   "outputs": [],
   "source": [
    "Model1.to_excel('Model1.xlsx')"
   ]
  },
  {
   "cell_type": "markdown",
   "metadata": {},
   "source": [
    "# D2"
   ]
  },
  {
   "cell_type": "code",
   "execution_count": 130,
   "metadata": {},
   "outputs": [],
   "source": [
    "import numpy as np"
   ]
  },
  {
   "cell_type": "markdown",
   "metadata": {},
   "source": [
    "## Model 2b"
   ]
  },
  {
   "cell_type": "code",
   "execution_count": 131,
   "metadata": {},
   "outputs": [],
   "source": [
    "def model_2b(x):\n",
    "    if isinstance(x,(int,float)):\n",
    "        if (x==-162):\n",
    "            return 1\n",
    "        return -(x/162)**2\n",
    "    return x\n",
    "\n",
    "def model_2b_2020(x):\n",
    "    if isinstance(x,(int,float)):\n",
    "        if (x==-60):\n",
    "            return 1\n",
    "        return -(x/60)**2\n",
    "    return x"
   ]
  },
  {
   "cell_type": "markdown",
   "metadata": {},
   "source": [
    "### PECOTA"
   ]
  },
  {
   "cell_type": "code",
   "execution_count": 132,
   "metadata": {},
   "outputs": [
    {
     "data": {
      "text/plain": [
       "67.98332563319539"
      ]
     },
     "execution_count": 132,
     "metadata": {},
     "output_type": "execute_result"
    }
   ],
   "source": [
    "df_2022=pd.read_excel(\"Matchups.xlsx\", sheet_name='2022')\n",
    "df_2022=df_2022.drop(30)\n",
    "p2b_df_2022= df_2022.map(model_2b)\n",
    "matrix_p2b_df_2022 = p2b_df_2022.iloc[:,1:].to_numpy()\n",
    "diag_values = np.array((data_2022['variance_PECOTA'])**(1/2))\n",
    "A_PECOTA_2022=np.diag(diag_values)\n",
    "VarCovar_2b_PECOTA_2022=A_PECOTA_2022@matrix_p2b_df_2022@A_PECOTA_2022\n",
    "inv_VarCovar_2b_PECOTA_2022=np.linalg.inv(VarCovar_2b_PECOTA_2022)\n",
    "Xi_u_PECOTA2022=(data_2022['Xi']-data_2022['mean_PECOTA']).to_numpy()\n",
    "D2b_PECOTA_2022=Xi_u_PECOTA2022.T@inv_VarCovar_2b_PECOTA_2022@Xi_u_PECOTA2022\n",
    "D2b_PECOTA_2022"
   ]
  },
  {
   "cell_type": "code",
   "execution_count": 133,
   "metadata": {},
   "outputs": [
    {
     "data": {
      "text/plain": [
       "array([[2.48100921e-02, 3.95744418e-05, 2.82343505e-07, 2.59918090e-07,\n",
       "        5.24954617e-05, 9.84403884e-06, 5.15919673e-05, 9.77319485e-06,\n",
       "        3.61373830e-04, 9.88525398e-06, 1.54122278e-05, 1.63681226e-05,\n",
       "        6.26090401e-07, 3.65758324e-04, 3.92406195e-05, 5.27168411e-05,\n",
       "        9.76829211e-06, 3.95785722e-05, 2.72976296e-07, 6.38210865e-07,\n",
       "        3.92092884e-05, 5.20642583e-05, 3.56798517e-04, 3.56188808e-04,\n",
       "        6.31489739e-07, 5.15898157e-05, 2.56102217e-07, 6.32347880e-07,\n",
       "        2.66723319e-07, 5.14099252e-05],\n",
       "       [3.95744418e-05, 2.51760412e-02, 6.63937616e-07, 1.54349844e-05,\n",
       "        3.98386781e-05, 2.59173343e-07, 5.19689425e-05, 2.72042543e-07,\n",
       "        5.27289398e-05, 2.67911959e-07, 9.88732413e-06, 2.54775935e-07,\n",
       "        9.87584636e-06, 4.08760388e-05, 3.59011670e-04, 4.00066875e-05,\n",
       "        2.49261923e-07, 3.62067819e-04, 6.62925193e-07, 1.65668325e-05,\n",
       "        3.58733157e-04, 5.27563842e-05, 5.20613485e-05, 5.18263025e-05,\n",
       "        9.84546160e-06, 5.19648510e-05, 6.51267043e-07, 9.90807895e-06,\n",
       "        6.46354890e-07, 3.60664234e-04],\n",
       "       [2.82343505e-07, 6.63937616e-07, 2.61828611e-02, 3.65932763e-04,\n",
       "        1.67656332e-05, 5.31059670e-05, 1.00269675e-05, 4.04631016e-05,\n",
       "        2.64521512e-07, 4.09213067e-05, 5.30244639e-05, 5.37453120e-05,\n",
       "        5.32341577e-05, 2.72608476e-07, 6.58373640e-07, 1.01548854e-05,\n",
       "        5.30341533e-05, 6.67161188e-07, 3.74053723e-04, 5.37015447e-05,\n",
       "        6.54591347e-07, 1.01494162e-05, 2.57939037e-07, 2.62081172e-07,\n",
       "        4.06175829e-05, 1.00334450e-05, 3.66687070e-04, 4.08779683e-05,\n",
       "        3.69167492e-04, 1.58172372e-05],\n",
       "       [2.59918090e-07, 1.54349844e-05, 3.65932763e-04, 2.47283577e-02,\n",
       "        9.81994274e-06, 3.96010988e-05, 1.61629851e-05, 5.12340006e-05,\n",
       "        2.57844800e-07, 3.97683698e-05, 3.95478115e-05, 5.22251972e-05,\n",
       "        5.17344137e-05, 2.64805398e-07, 6.43091869e-07, 9.86880186e-06,\n",
       "        5.15516006e-05, 6.42153899e-07, 3.63503786e-04, 4.00918276e-05,\n",
       "        6.42549963e-07, 9.86347620e-06, 2.57726496e-07, 2.51437346e-07,\n",
       "        5.13892345e-05, 9.75077171e-06, 3.56362404e-04, 5.17102205e-05,\n",
       "        3.58778863e-04, 6.46004384e-07],\n",
       "       [5.24954617e-05, 3.98386781e-05, 1.67656332e-05, 9.81994274e-06,\n",
       "        2.51423096e-02, 1.55485696e-05, 3.58506896e-04, 6.49717266e-07,\n",
       "        5.27039700e-05, 6.57212133e-07, 2.55571655e-07, 6.74053508e-07,\n",
       "        2.60699323e-07, 5.34994996e-05, 3.95024883e-05, 3.63113559e-04,\n",
       "        6.62448176e-07, 5.19554979e-05, 1.00523151e-05, 2.59233680e-07,\n",
       "        3.94710832e-05, 3.62877683e-04, 5.20269133e-05, 5.20997616e-05,\n",
       "        2.44745563e-07, 3.58470968e-04, 9.83999261e-06, 2.53586274e-07,\n",
       "        9.90694761e-06, 3.96876348e-05],\n",
       "       [9.84403884e-06, 2.59173343e-07, 5.31059670e-05, 3.96010988e-05,\n",
       "        1.55485696e-05, 2.51020207e-02, 6.31696178e-07, 3.58409416e-04,\n",
       "        1.65242217e-05, 3.62522381e-04, 5.23886251e-05, 3.62175744e-04,\n",
       "        5.19677355e-05, 1.00906652e-05, 2.53702937e-07, 6.57137236e-07,\n",
       "        3.58495313e-04, 2.73794099e-07, 5.27495818e-05, 5.27458718e-05,\n",
       "        2.56871372e-07, 6.37869310e-07, 9.83615873e-06, 9.82675511e-06,\n",
       "        3.99165862e-05, 6.31670361e-07, 3.95327215e-05, 5.22602151e-05,\n",
       "        4.01022037e-05, 2.62247035e-07],\n",
       "       [5.15919673e-05, 5.19689425e-05, 1.00269675e-05, 1.61629851e-05,\n",
       "        3.58506896e-04, 6.31696178e-07, 2.47181034e-02, 1.52892913e-05,\n",
       "        3.97160940e-05, 6.34417283e-07, 2.60502301e-07, 6.54277129e-07,\n",
       "        2.75051196e-07, 5.25764277e-05, 5.15323139e-05, 3.60024741e-04,\n",
       "        6.42906826e-07, 3.99569036e-05, 9.95308912e-06, 2.63304160e-07,\n",
       "        5.14913822e-05, 3.59822085e-04, 3.92229479e-05, 3.92947804e-05,\n",
       "        2.62310110e-07, 3.55440409e-04, 9.76438261e-06, 2.56754879e-07,\n",
       "        9.83803239e-06, 5.17687297e-05],\n",
       "       [9.77319485e-06, 2.72042543e-07, 4.04631016e-05, 5.12340006e-05,\n",
       "        6.49717266e-07, 3.58409416e-04, 1.52892913e-05, 2.47434528e-02,\n",
       "        9.88334894e-06, 3.59929807e-04, 5.20013202e-05, 3.59579767e-04,\n",
       "        5.16010191e-05, 1.00180578e-05, 2.62462875e-07, 6.52421061e-07,\n",
       "        3.55925726e-04, 2.54471423e-07, 4.01886377e-05, 5.23558943e-05,\n",
       "        2.66494475e-07, 6.30138511e-07, 1.61906253e-05, 9.74887537e-06,\n",
       "        5.15635241e-05, 6.30279912e-07, 3.92493670e-05, 3.98882538e-05,\n",
       "        5.18388400e-05, 2.63791771e-07],\n",
       "       [3.61373830e-04, 5.27289398e-05, 2.64521512e-07, 2.57844800e-07,\n",
       "        5.27039700e-05, 1.65242217e-05, 3.97160940e-05, 9.88334894e-06,\n",
       "        2.54504635e-02, 1.00040241e-05, 6.65536728e-07, 9.98663140e-06,\n",
       "        6.51596078e-07, 3.70454899e-04, 4.02021286e-05, 5.29162985e-05,\n",
       "        9.90014838e-06, 5.27351246e-05, 2.66786286e-07, 6.67307191e-07,\n",
       "        5.22463159e-05, 4.00477779e-05, 3.61386392e-04, 3.60762501e-04,\n",
       "        6.53830274e-07, 3.97173634e-05, 2.49884017e-07, 1.56317168e-05,\n",
       "        2.57348194e-07, 5.25236461e-05],\n",
       "       [9.88525398e-06, 2.67911959e-07, 4.09213067e-05, 3.97683698e-05,\n",
       "        6.57212133e-07, 3.62522381e-04, 6.34417283e-07, 3.59929807e-04,\n",
       "        1.00040241e-05, 2.53146027e-02, 5.25981491e-05, 3.63706153e-04,\n",
       "        4.00928995e-05, 1.01180503e-05, 2.69600995e-07, 6.63155793e-07,\n",
       "        3.60010174e-04, 2.67961889e-07, 4.06597673e-05, 5.29667353e-05,\n",
       "        2.69600641e-07, 1.56453794e-05, 9.87737135e-06, 1.63485114e-05,\n",
       "        5.21514147e-05, 6.40719369e-07, 5.17741353e-05, 5.24771188e-05,\n",
       "        5.24277045e-05, 2.63686798e-07],\n",
       "       [1.54122278e-05, 9.88732413e-06, 5.30244639e-05, 3.95478115e-05,\n",
       "        2.55571655e-07, 5.23886251e-05, 2.60502301e-07, 5.20013202e-05,\n",
       "        6.65536728e-07, 5.25981491e-05, 2.50346957e-02, 5.20920724e-05,\n",
       "        3.59326088e-04, 6.65496852e-07, 9.80394191e-06, 2.42815939e-07,\n",
       "        3.97249927e-05, 1.64050032e-05, 5.26764780e-05, 3.63583875e-04,\n",
       "        9.79599856e-06, 2.74589200e-07, 6.53942296e-07, 6.51325131e-07,\n",
       "        3.57955307e-04, 2.63318361e-07, 3.97851028e-05, 3.60238006e-04,\n",
       "        3.97466502e-05, 9.86330493e-06],\n",
       "       [1.63681226e-05, 2.54775935e-07, 5.37453120e-05, 5.22251972e-05,\n",
       "        6.74053508e-07, 3.62175744e-04, 6.54277129e-07, 3.59579767e-04,\n",
       "        9.98663140e-06, 3.63706153e-04, 5.20920724e-05, 2.52662778e-02,\n",
       "        3.95961876e-05, 1.01078970e-05, 2.45255573e-07, 6.76851738e-07,\n",
       "        3.59672719e-04, 2.58023361e-07, 5.33886445e-05, 4.02165053e-05,\n",
       "        2.52517837e-07, 6.57514707e-07, 9.86018666e-06, 9.85076657e-06,\n",
       "        3.95959621e-05, 1.54655549e-05, 5.21762277e-05, 3.98477300e-05,\n",
       "        5.28484849e-05, 2.56974856e-07],\n",
       "       [6.26090401e-07, 9.87584636e-06, 5.32341577e-05, 5.17344137e-05,\n",
       "        2.60699323e-07, 5.19677355e-05, 2.75051196e-07, 5.16010191e-05,\n",
       "        6.51596078e-07, 4.00928995e-05, 3.59326088e-04, 3.95961876e-05,\n",
       "        2.49370862e-02, 1.57684522e-05, 1.62426328e-05, 2.57567226e-07,\n",
       "        3.93469012e-05, 9.87583265e-06, 4.06563955e-05, 3.62868522e-04,\n",
       "        9.79181649e-06, 2.65188121e-07, 6.46506678e-07, 6.37595201e-07,\n",
       "        3.57268574e-04, 2.57176684e-07, 5.19946979e-05, 3.59535121e-04,\n",
       "        5.20352311e-05, 9.83739055e-06],\n",
       "       [3.65758324e-04, 4.08760388e-05, 2.72608476e-07, 2.64805398e-07,\n",
       "        5.34994996e-05, 1.00906652e-05, 5.25764277e-05, 1.00180578e-05,\n",
       "        3.70454899e-04, 1.01180503e-05, 6.65496852e-07, 1.01078970e-05,\n",
       "        1.57684522e-05, 2.60717512e-02, 5.27756877e-05, 5.37291348e-05,\n",
       "        1.66011597e-05, 5.32149244e-05, 2.67346996e-07, 6.63947173e-07,\n",
       "        5.27236840e-05, 4.06879799e-05, 3.65764614e-04, 3.65139275e-04,\n",
       "        6.56921979e-07, 4.03457884e-05, 2.65040205e-07, 6.64333655e-07,\n",
       "        2.75923801e-07, 4.07168942e-05],\n",
       "       [3.92406195e-05, 3.59011670e-04, 6.58373640e-07, 6.43091869e-07,\n",
       "        3.95024883e-05, 2.53702937e-07, 5.15323139e-05, 2.62462875e-07,\n",
       "        4.02021286e-05, 2.69600995e-07, 9.80394191e-06, 2.45255573e-07,\n",
       "        1.62426328e-05, 5.27756877e-05, 2.47528212e-02, 5.17381136e-05,\n",
       "        2.50169126e-07, 3.59005495e-04, 6.54161470e-07, 9.91536818e-06,\n",
       "        3.55699043e-04, 5.23111437e-05, 5.16279538e-05, 5.13852146e-05,\n",
       "        9.76244552e-06, 3.96150086e-05, 1.53439702e-05, 9.81732277e-06,\n",
       "        6.40938444e-07, 3.57607932e-04],\n",
       "       [5.27168411e-05, 4.00066875e-05, 1.01548854e-05, 9.86880186e-06,\n",
       "        3.63113559e-04, 6.57137236e-07, 3.60024741e-04, 6.52421061e-07,\n",
       "        5.29162985e-05, 6.63155793e-07, 2.42815939e-07, 6.76851738e-07,\n",
       "        2.57567226e-07, 5.37291348e-05, 5.17381136e-05, 2.53548239e-02,\n",
       "        1.55121709e-05, 4.00067708e-05, 1.00874764e-05, 2.52808746e-07,\n",
       "        3.96375470e-05, 3.64408066e-04, 5.22522353e-05, 5.23194779e-05,\n",
       "        2.56073142e-07, 3.59976875e-04, 1.63957283e-05, 2.57698153e-07,\n",
       "        9.95623640e-06, 3.98510825e-05],\n",
       "       [9.76829211e-06, 2.49261923e-07, 5.30341533e-05, 5.15516006e-05,\n",
       "        6.62448176e-07, 3.58495313e-04, 6.42906826e-07, 3.55925726e-04,\n",
       "        9.90014838e-06, 3.60010174e-04, 3.97249927e-05, 3.59672719e-04,\n",
       "        3.93469012e-05, 1.66011597e-05, 2.50169126e-07, 1.55121709e-05,\n",
       "        2.47553534e-02, 2.52466289e-07, 5.26881542e-05, 3.99588662e-05,\n",
       "        2.53319799e-07, 6.42872923e-07, 9.77480370e-06, 9.75111734e-06,\n",
       "        5.12627882e-05, 6.39740770e-07, 3.95664702e-05, 5.15887628e-05,\n",
       "        5.21574544e-05, 2.51435810e-07],\n",
       "       [3.95785722e-05, 3.62067819e-04, 6.67161188e-07, 6.42153899e-07,\n",
       "        5.19554979e-05, 2.73794099e-07, 3.99569036e-05, 2.54471423e-07,\n",
       "        5.27351246e-05, 2.67961889e-07, 1.64050032e-05, 2.58023361e-07,\n",
       "        9.87583265e-06, 5.32149244e-05, 3.59005495e-04, 4.00067708e-05,\n",
       "        2.52466289e-07, 2.51760406e-02, 1.57802515e-05, 9.99968431e-06,\n",
       "        3.58726991e-04, 5.27603877e-05, 4.00310279e-05, 5.18285139e-05,\n",
       "        9.83098385e-06, 5.19649218e-05, 6.48054162e-07, 9.90807748e-06,\n",
       "        6.46299246e-07, 3.60652133e-04],\n",
       "       [2.72976296e-07, 6.62925193e-07, 3.74053723e-04, 3.63503786e-04,\n",
       "        1.00523151e-05, 5.27495818e-05, 9.95308912e-06, 4.01886377e-05,\n",
       "        2.66786286e-07, 4.06597673e-05, 5.26764780e-05, 5.33886445e-05,\n",
       "        4.06563955e-05, 2.67346996e-07, 6.54161470e-07, 1.00874764e-05,\n",
       "        5.26881542e-05, 1.57802515e-05, 2.58364342e-02, 5.33451061e-05,\n",
       "        6.56804392e-07, 1.67153690e-05, 2.45527865e-07, 2.64303319e-07,\n",
       "        4.03440392e-05, 9.96684849e-06, 3.64253091e-04, 5.28620847e-05,\n",
       "        3.66711052e-04, 6.57136304e-07],\n",
       "       [6.38210865e-07, 1.65668325e-05, 5.37015447e-05, 4.00918276e-05,\n",
       "        2.59233680e-07, 5.27458718e-05, 2.63304160e-07, 5.23558943e-05,\n",
       "        6.67307191e-07, 5.29667353e-05, 3.63583875e-04, 4.02165053e-05,\n",
       "        3.62868522e-04, 6.63947173e-07, 9.91536818e-06, 2.52808746e-07,\n",
       "        3.99588662e-05, 9.99968431e-06, 5.33451061e-05, 2.55298514e-02,\n",
       "        9.89277941e-06, 2.74322221e-07, 6.58851789e-07, 1.55452981e-05,\n",
       "        3.61484081e-04, 2.62963408e-07, 5.24535849e-05, 3.63789281e-04,\n",
       "        4.02899577e-05, 9.95343597e-06],\n",
       "       [3.92092884e-05, 3.58733157e-04, 6.54591347e-07, 6.42549963e-07,\n",
       "        3.94710832e-05, 2.56871372e-07, 5.14913822e-05, 2.66494475e-07,\n",
       "        5.22463159e-05, 2.69600641e-07, 9.79599856e-06, 2.52517837e-07,\n",
       "        9.79181649e-06, 5.27236840e-05, 3.55699043e-04, 3.96375470e-05,\n",
       "        2.53319799e-07, 3.58726991e-04, 6.56804392e-07, 9.89277941e-06,\n",
       "        2.47135826e-02, 5.22695999e-05, 5.15809767e-05, 3.94392834e-05,\n",
       "        9.75452893e-06, 5.14834045e-05, 6.45256213e-07, 1.62634508e-05,\n",
       "        1.54230793e-05, 3.57336357e-04],\n",
       "       [5.20642583e-05, 5.27563842e-05, 1.01494162e-05, 9.86347620e-06,\n",
       "        3.62877683e-04, 6.37869310e-07, 3.59822085e-04, 6.30138511e-07,\n",
       "        4.00477779e-05, 1.56453794e-05, 2.74589200e-07, 6.57514707e-07,\n",
       "        2.65188121e-07, 4.06879799e-05, 5.23111437e-05, 3.64408066e-04,\n",
       "        6.42872923e-07, 5.27603877e-05, 1.67153690e-05, 2.74322221e-07,\n",
       "        5.22695999e-05, 2.53245279e-02, 3.95407329e-05, 3.96273421e-05,\n",
       "        2.66833730e-07, 3.59780145e-04, 9.89088577e-06, 2.71719604e-07,\n",
       "        9.95815783e-06, 5.25570518e-05],\n",
       "       [3.56798517e-04, 5.20613485e-05, 2.57939037e-07, 2.57726496e-07,\n",
       "        5.20269133e-05, 9.83615873e-06, 3.92229479e-05, 1.61906253e-05,\n",
       "        3.61386392e-04, 9.87737135e-06, 6.53942296e-07, 9.86018666e-06,\n",
       "        6.46506678e-07, 3.65764614e-04, 5.16279538e-05, 5.22522353e-05,\n",
       "        9.77480370e-06, 4.00310279e-05, 2.45527865e-07, 6.58851789e-07,\n",
       "        5.15809767e-05, 3.95407329e-05, 2.48100922e-02, 3.56194922e-04,\n",
       "        1.53362648e-05, 3.92086821e-05, 2.53912114e-07, 6.49661137e-07,\n",
       "        2.64496434e-07, 5.18625335e-05],\n",
       "       [3.56188808e-04, 5.18263025e-05, 2.62081172e-07, 2.51437346e-07,\n",
       "        5.20997616e-05, 9.82675511e-06, 3.92947804e-05, 9.74887537e-06,\n",
       "        3.60762501e-04, 1.63485114e-05, 6.51325131e-07, 9.85076657e-06,\n",
       "        6.37595201e-07, 3.65139275e-04, 5.13852146e-05, 5.23194779e-05,\n",
       "        9.75111734e-06, 5.18285139e-05, 2.64303319e-07, 1.55452981e-05,\n",
       "        3.94392834e-05, 3.96273421e-05, 3.56194922e-04, 2.47253408e-02,\n",
       "        6.39808904e-07, 5.11948628e-05, 2.61072723e-07, 6.43883746e-07,\n",
       "        2.57243491e-07, 3.96515996e-05],\n",
       "       [6.31489739e-07, 9.84546160e-06, 4.06175829e-05, 5.13892345e-05,\n",
       "        2.44745563e-07, 3.99165862e-05, 2.62310110e-07, 5.15635241e-05,\n",
       "        6.53830274e-07, 5.21514147e-05, 3.57955307e-04, 3.95959621e-05,\n",
       "        3.57268574e-04, 6.56921979e-07, 9.76244552e-06, 2.56073142e-07,\n",
       "        5.12627882e-05, 9.83098385e-06, 4.03440392e-05, 3.61484081e-04,\n",
       "        9.75452893e-06, 2.66833730e-07, 1.53362648e-05, 6.39808904e-07,\n",
       "        2.47479849e-02, 2.54793249e-07, 5.16442804e-05, 3.58175111e-04,\n",
       "        5.16935399e-05, 1.62477483e-05],\n",
       "       [5.15898157e-05, 5.19648510e-05, 1.00334450e-05, 9.75077171e-06,\n",
       "        3.58470968e-04, 6.31670361e-07, 3.55440409e-04, 6.30279912e-07,\n",
       "        3.97173634e-05, 6.40719369e-07, 2.63318361e-07, 1.54655549e-05,\n",
       "        2.57176684e-07, 4.03457884e-05, 3.96150086e-05, 3.59976875e-04,\n",
       "        6.39740770e-07, 5.19649218e-05, 9.96684849e-06, 2.62963408e-07,\n",
       "        5.14834045e-05, 3.59780145e-04, 3.92086821e-05, 5.11948628e-05,\n",
       "        2.54793249e-07, 2.47123391e-02, 9.76351080e-06, 2.53261573e-07,\n",
       "        1.63044166e-05, 5.17626861e-05],\n",
       "       [2.56102217e-07, 6.51267043e-07, 3.66687070e-04, 3.56362404e-04,\n",
       "        9.83999261e-06, 3.95327215e-05, 9.76438261e-06, 3.92493670e-05,\n",
       "        2.49884017e-07, 5.17741353e-05, 3.97851028e-05, 5.21762277e-05,\n",
       "        5.19946979e-05, 2.65040205e-07, 1.53439702e-05, 1.63957283e-05,\n",
       "        3.95664702e-05, 6.48054162e-07, 3.64253091e-04, 5.24535849e-05,\n",
       "        6.45256213e-07, 9.89088577e-06, 2.53912114e-07, 2.61072723e-07,\n",
       "        5.16442804e-05, 9.76351080e-06, 2.48304198e-02, 5.19727494e-05,\n",
       "        3.59512387e-04, 6.48725283e-07],\n",
       "       [6.32347880e-07, 9.90807895e-06, 4.08779683e-05, 5.17102205e-05,\n",
       "        2.53586274e-07, 5.22602151e-05, 2.56754879e-07, 3.98882538e-05,\n",
       "        1.56317168e-05, 5.24771188e-05, 3.60238006e-04, 3.98477300e-05,\n",
       "        3.59535121e-04, 6.64333655e-07, 9.81732277e-06, 2.57698153e-07,\n",
       "        5.15887628e-05, 9.90807748e-06, 5.28620847e-05, 3.63789281e-04,\n",
       "        1.62634508e-05, 2.71719604e-07, 6.49661137e-07, 6.43883746e-07,\n",
       "        3.58175111e-04, 2.53261573e-07, 5.19727494e-05, 2.50637984e-02,\n",
       "        3.99245842e-05, 9.86225399e-06],\n",
       "       [2.66723319e-07, 6.46354890e-07, 3.69167492e-04, 3.58778863e-04,\n",
       "        9.90694761e-06, 4.01022037e-05, 9.83803239e-06, 5.18388400e-05,\n",
       "        2.57348194e-07, 5.24277045e-05, 3.97466502e-05, 5.28484849e-05,\n",
       "        5.20352311e-05, 2.75923801e-07, 6.40938444e-07, 9.95623640e-06,\n",
       "        5.21574544e-05, 6.46299246e-07, 3.66711052e-04, 4.02899577e-05,\n",
       "        1.54230793e-05, 9.95815783e-06, 2.64496434e-07, 2.57243491e-07,\n",
       "        5.16935399e-05, 1.63044166e-05, 3.59512387e-04, 3.99245842e-05,\n",
       "        2.51674823e-02, 6.47014512e-07],\n",
       "       [5.14099252e-05, 3.60664234e-04, 1.58172372e-05, 6.46004384e-07,\n",
       "        3.96876348e-05, 2.62247035e-07, 5.17687297e-05, 2.63791771e-07,\n",
       "        5.25236461e-05, 2.63686798e-07, 9.86330493e-06, 2.56974856e-07,\n",
       "        9.83739055e-06, 4.07168942e-05, 3.57607932e-04, 3.98510825e-05,\n",
       "        2.51435810e-07, 3.60652133e-04, 6.57136304e-07, 9.95343597e-06,\n",
       "        3.57336357e-04, 5.25570518e-05, 5.18625335e-05, 3.96515996e-05,\n",
       "        1.62477483e-05, 5.17626861e-05, 6.48725283e-07, 9.86225399e-06,\n",
       "        6.47014512e-07, 2.49803871e-02]])"
      ]
     },
     "execution_count": 133,
     "metadata": {},
     "output_type": "execute_result"
    }
   ],
   "source": [
    "inv_VarCovar_2b_PECOTA_2022"
   ]
  },
  {
   "cell_type": "code",
   "execution_count": 134,
   "metadata": {},
   "outputs": [
    {
     "data": {
      "text/plain": [
       "122.65680173348132"
      ]
     },
     "execution_count": 134,
     "metadata": {},
     "output_type": "execute_result"
    }
   ],
   "source": [
    "df_2021=pd.read_excel(\"Matchups.xlsx\", sheet_name='2021')\n",
    "df_2021=df_2021.drop(30)\n",
    "p2b_df_2021= df_2021.map(model_2b)\n",
    "matrix_p2b_df_2021 = p2b_df_2021.iloc[:,1:].to_numpy()\n",
    "diag_values = np.array((data_2021['variance_PECOTA'])**(1/2))\n",
    "A_PECOTA_2021=np.diag(diag_values)\n",
    "VarCovar_2b_PECOTA_2021=A_PECOTA_2021@matrix_p2b_df_2021@A_PECOTA_2021\n",
    "inv_VarCovar_2b_PECOTA_2021=np.linalg.inv(VarCovar_2b_PECOTA_2021)\n",
    "Xi_u_PECOTA2021=(data_2021['Xi']-data_2021['mean_PECOTA']).to_numpy()\n",
    "D2b_PECOTA_2021=Xi_u_PECOTA2021.T@inv_VarCovar_2b_PECOTA_2021@Xi_u_PECOTA2021\n",
    "D2b_PECOTA_2021"
   ]
  },
  {
   "cell_type": "code",
   "execution_count": 135,
   "metadata": {},
   "outputs": [
    {
     "data": {
      "text/plain": [
       "39.24547664394456"
      ]
     },
     "execution_count": 135,
     "metadata": {},
     "output_type": "execute_result"
    }
   ],
   "source": [
    "df_2020=pd.read_excel(\"Matchups.xlsx\", sheet_name='2020')\n",
    "df_2020=df_2020.drop(30)\n",
    "p2b_df_2020= df_2020.map(model_2b_2020)\n",
    "matrix_p2b_df_2020 = p2b_df_2020.iloc[:,1:].to_numpy()\n",
    "diag_values = np.array((data_2020['variance_PECOTA'])**(1/2))\n",
    "A_PECOTA_2020=np.diag(diag_values)\n",
    "VarCovar_2b_PECOTA_2020=A_PECOTA_2020@matrix_p2b_df_2020@A_PECOTA_2020\n",
    "inv_VarCovar_2b_PECOTA_2020=np.linalg.inv(VarCovar_2b_PECOTA_2020)\n",
    "Xi_u_PECOTA2020=(data_2020['Xi']-data_2020['mean_PECOTA']).to_numpy()\n",
    "D2b_PECOTA_2020=Xi_u_PECOTA2020.T@inv_VarCovar_2b_PECOTA_2020@Xi_u_PECOTA2020\n",
    "D2b_PECOTA_2020"
   ]
  },
  {
   "cell_type": "code",
   "execution_count": 136,
   "metadata": {},
   "outputs": [
    {
     "data": {
      "text/plain": [
       "67.42835019528519"
      ]
     },
     "execution_count": 136,
     "metadata": {},
     "output_type": "execute_result"
    }
   ],
   "source": [
    "df_2019=pd.read_excel(\"Matchups.xlsx\", sheet_name='2019')\n",
    "df_2019=df_2019.drop(30)\n",
    "p2b_df_2019= df_2019.map(model_2b)\n",
    "matrix_p2b_df_2019 = p2b_df_2019.iloc[:,1:].to_numpy()\n",
    "diag_values = np.array((data_2019['variance_PECOTA'])**(1/2))\n",
    "A_PECOTA_2019=np.diag(diag_values)\n",
    "VarCovar_2b_PECOTA_2019=A_PECOTA_2019@matrix_p2b_df_2019@A_PECOTA_2019\n",
    "inv_VarCovar_2b_PECOTA_2019=np.linalg.inv(VarCovar_2b_PECOTA_2019)\n",
    "Xi_u_PECOTA2019=(data_2019['Xi']-data_2019['mean_PECOTA']).to_numpy()\n",
    "D2b_PECOTA_2019=Xi_u_PECOTA2019.T@inv_VarCovar_2b_PECOTA_2019@Xi_u_PECOTA2019\n",
    "D2b_PECOTA_2019"
   ]
  },
  {
   "cell_type": "code",
   "execution_count": 137,
   "metadata": {},
   "outputs": [
    {
     "data": {
      "text/plain": [
       "66.6847330247036"
      ]
     },
     "execution_count": 137,
     "metadata": {},
     "output_type": "execute_result"
    }
   ],
   "source": [
    "df_2018=pd.read_csv(\"MLBmatchup2018.csv\")\n",
    "p2b_df_2018= df_2018.map(model_2b)\n",
    "matrix_p2b_df_2018 = p2b_df_2018.iloc[:,1:].to_numpy()\n",
    "diag_values = np.array((data_2018['variance_PECOTA'])**(1/2))\n",
    "A_PECOTA_2018=np.diag(diag_values)\n",
    "VarCovar_2b_PECOTA_2018=A_PECOTA_2018@matrix_p2b_df_2018@A_PECOTA_2018\n",
    "inv_VarCovar_2b_PECOTA_2018=np.linalg.inv(VarCovar_2b_PECOTA_2018)\n",
    "Xi_u_PECOTA2018=(data_2018['Xi']-data_2018['mean_PECOTA']).to_numpy()\n",
    "D2b_PECOTA_2018=Xi_u_PECOTA2018.T@inv_VarCovar_2b_PECOTA_2018@Xi_u_PECOTA2018\n",
    "D2b_PECOTA_2018"
   ]
  },
  {
   "cell_type": "code",
   "execution_count": 138,
   "metadata": {},
   "outputs": [
    {
     "data": {
      "text/plain": [
       "59.35705469136046"
      ]
     },
     "execution_count": 138,
     "metadata": {},
     "output_type": "execute_result"
    }
   ],
   "source": [
    "df_2017=pd.read_csv(\"MLB2017matchup.csv\")\n",
    "p2b_df_2017= df_2017.map(model_2b)\n",
    "matrix_p2b_df_2017 = p2b_df_2017.iloc[:,1:].to_numpy()\n",
    "diag_values = np.array((data_2017['variance_PECOTA'])**(1/2))\n",
    "A_PECOTA_2017=np.diag(diag_values)\n",
    "VarCovar_2b_PECOTA_2017=A_PECOTA_2017@matrix_p2b_df_2017@A_PECOTA_2017\n",
    "inv_VarCovar_2b_PECOTA_2017=np.linalg.inv(VarCovar_2b_PECOTA_2017)\n",
    "Xi_u_PECOTA2017=(data_2017['Xi']-data_2017['mean_PECOTA']).to_numpy()\n",
    "D2b_PECOTA_2017=Xi_u_PECOTA2017.T@inv_VarCovar_2b_PECOTA_2017@Xi_u_PECOTA2017\n",
    "D2b_PECOTA_2017"
   ]
  },
  {
   "cell_type": "code",
   "execution_count": 139,
   "metadata": {},
   "outputs": [
    {
     "data": {
      "text/plain": [
       "53.213429995494025"
      ]
     },
     "execution_count": 139,
     "metadata": {},
     "output_type": "execute_result"
    }
   ],
   "source": [
    "df_2016=pd.read_csv(\"MLB2016matchup.csv\")\n",
    "p2b_df_2016= df_2016.map(model_2b)\n",
    "matrix_p2b_df_2016 = p2b_df_2016.iloc[:,1:].to_numpy()\n",
    "diag_values = np.array((data_2016['variance_PECOTA'])**(1/2))\n",
    "A_PECOTA_2016=np.diag(diag_values)\n",
    "VarCovar_2b_PECOTA_2016=A_PECOTA_2016@matrix_p2b_df_2016@A_PECOTA_2016\n",
    "inv_VarCovar_2b_PECOTA_2016=np.linalg.inv(VarCovar_2b_PECOTA_2016)\n",
    "Xi_u_PECOTA2016=(data_2016['Xi']-data_2016['mean_PECOTA']).to_numpy()\n",
    "D2b_PECOTA_2016=Xi_u_PECOTA2016.T@inv_VarCovar_2b_PECOTA_2016@Xi_u_PECOTA2016\n",
    "D2b_PECOTA_2016"
   ]
  },
  {
   "cell_type": "code",
   "execution_count": 140,
   "metadata": {},
   "outputs": [
    {
     "data": {
      "text/plain": [
       "73.86329865089743"
      ]
     },
     "execution_count": 140,
     "metadata": {},
     "output_type": "execute_result"
    }
   ],
   "source": [
    "df_2015=pd.read_csv(\"MLB2015matchup.csv\")\n",
    "p2b_df_2015= df_2015.map(model_2b)\n",
    "matrix_p2b_df_2015 = p2b_df_2015.iloc[:,1:].to_numpy()\n",
    "diag_values = np.array((data_2015['variance_PECOTA'])**(1/2))\n",
    "A_PECOTA_2015=np.diag(diag_values)\n",
    "VarCovar_2b_PECOTA_2015=A_PECOTA_2015@matrix_p2b_df_2015@A_PECOTA_2015\n",
    "inv_VarCovar_2b_PECOTA_2015=np.linalg.inv(VarCovar_2b_PECOTA_2015)\n",
    "Xi_u_PECOTA2015=(data_2015['Xi']-data_2015['mean_PECOTA']).to_numpy()\n",
    "D2b_PECOTA_2015=Xi_u_PECOTA2015.T@inv_VarCovar_2b_PECOTA_2015@Xi_u_PECOTA2015\n",
    "D2b_PECOTA_2015"
   ]
  },
  {
   "cell_type": "code",
   "execution_count": 141,
   "metadata": {},
   "outputs": [
    {
     "data": {
      "text/plain": [
       "57.183999635845964"
      ]
     },
     "execution_count": 141,
     "metadata": {},
     "output_type": "execute_result"
    }
   ],
   "source": [
    "df_2014=pd.read_csv(\"MLB2014matchup.csv\")\n",
    "p2b_df_2014= df_2014.map(model_2b)\n",
    "matrix_p2b_df_2014 = p2b_df_2014.iloc[:,1:].to_numpy()\n",
    "diag_values = np.array((data_2014['variance_PECOTA'])**(1/2))\n",
    "A_PECOTA_2014=np.diag(diag_values)\n",
    "VarCovar_2b_PECOTA_2014=A_PECOTA_2014@matrix_p2b_df_2014@A_PECOTA_2014\n",
    "inv_VarCovar_2b_PECOTA_2014=np.linalg.inv(VarCovar_2b_PECOTA_2014)\n",
    "Xi_u_PECOTA2014=(data_2014['Xi']-data_2014['mean_PECOTA']).to_numpy()\n",
    "D2b_PECOTA_2014=Xi_u_PECOTA2014.T@inv_VarCovar_2b_PECOTA_2014@Xi_u_PECOTA2014\n",
    "D2b_PECOTA_2014"
   ]
  },
  {
   "cell_type": "code",
   "execution_count": 142,
   "metadata": {},
   "outputs": [
    {
     "data": {
      "text/plain": [
       "62.20232135551018"
      ]
     },
     "execution_count": 142,
     "metadata": {},
     "output_type": "execute_result"
    }
   ],
   "source": [
    "df_2013=pd.read_csv(\"MLB2013matchup.csv\")\n",
    "p2b_df_2013= df_2013.map(model_2b)\n",
    "matrix_p2b_df_2013 = p2b_df_2013.iloc[:,1:].to_numpy()\n",
    "diag_values = np.array((data_2013['variance_PECOTA'])**(1/2))\n",
    "A_PECOTA_2013=np.diag(diag_values)\n",
    "VarCovar_2b_PECOTA_2013=A_PECOTA_2013@matrix_p2b_df_2013@A_PECOTA_2013\n",
    "inv_VarCovar_2b_PECOTA_2013=np.linalg.inv(VarCovar_2b_PECOTA_2013)\n",
    "Xi_u_PECOTA2013=(data_2013['Xi']-data_2013['mean_PECOTA']).to_numpy()\n",
    "D2b_PECOTA_2013=Xi_u_PECOTA2013.T@inv_VarCovar_2b_PECOTA_2013@Xi_u_PECOTA2013\n",
    "D2b_PECOTA_2013"
   ]
  },
  {
   "cell_type": "code",
   "execution_count": 143,
   "metadata": {},
   "outputs": [
    {
     "data": {
      "text/plain": [
       "80.7804818094273"
      ]
     },
     "execution_count": 143,
     "metadata": {},
     "output_type": "execute_result"
    }
   ],
   "source": [
    "df_2012=pd.read_csv(\"MLB2012matchup.csv\")\n",
    "p2b_df_2012= df_2012.map(model_2b)\n",
    "matrix_p2b_df_2012 = p2b_df_2012.iloc[:,1:].to_numpy()\n",
    "diag_values = np.array((data_2012['variance_PECOTA'])**(1/2))\n",
    "A_PECOTA_2012=np.diag(diag_values)\n",
    "VarCovar_2b_PECOTA_2012=A_PECOTA_2012@matrix_p2b_df_2012@A_PECOTA_2012\n",
    "inv_VarCovar_2b_PECOTA_2012=np.linalg.inv(VarCovar_2b_PECOTA_2012)\n",
    "Xi_u_PECOTA2012=(data_2012['Xi']-data_2012['mean_PECOTA']).to_numpy()\n",
    "D2b_PECOTA_2012=Xi_u_PECOTA2012.T@inv_VarCovar_2b_PECOTA_2012@Xi_u_PECOTA2012\n",
    "D2b_PECOTA_2012"
   ]
  },
  {
   "cell_type": "code",
   "execution_count": 144,
   "metadata": {},
   "outputs": [
    {
     "data": {
      "text/plain": [
       "60.258074811335185"
      ]
     },
     "execution_count": 144,
     "metadata": {},
     "output_type": "execute_result"
    }
   ],
   "source": [
    "df_2011=pd.read_csv(\"MLB2011matchup.csv\")\n",
    "p2b_df_2011= df_2011.map(model_2b)\n",
    "matrix_p2b_df_2011 = p2b_df_2011.iloc[:,1:].to_numpy()\n",
    "diag_values = np.array((data_2011['variance_PECOTA'])**(1/2))\n",
    "A_PECOTA_2011=np.diag(diag_values)\n",
    "VarCovar_2b_PECOTA_2011=A_PECOTA_2011@matrix_p2b_df_2011@A_PECOTA_2011\n",
    "inv_VarCovar_2b_PECOTA_2011=np.linalg.inv(VarCovar_2b_PECOTA_2011)\n",
    "Xi_u_PECOTA2011=(data_2011['Xi']-data_2011['mean_PECOTA']).to_numpy()\n",
    "D2b_PECOTA_2011=Xi_u_PECOTA2011.T@inv_VarCovar_2b_PECOTA_2011@Xi_u_PECOTA2011\n",
    "D2b_PECOTA_2011"
   ]
  },
  {
   "cell_type": "code",
   "execution_count": 145,
   "metadata": {},
   "outputs": [
    {
     "data": {
      "text/plain": [
       "67.87357051636377"
      ]
     },
     "execution_count": 145,
     "metadata": {},
     "output_type": "execute_result"
    }
   ],
   "source": [
    "df_2010=pd.read_csv(\"MLB2010matchup.csv\")\n",
    "p2b_df_2010= df_2010.map(model_2b)\n",
    "matrix_p2b_df_2010 = p2b_df_2010.iloc[:,1:].to_numpy()\n",
    "diag_values = np.array((data_2010['variance_PECOTA'])**(1/2))\n",
    "A_PECOTA_2010=np.diag(diag_values)\n",
    "VarCovar_2b_PECOTA_2010=A_PECOTA_2010@matrix_p2b_df_2010@A_PECOTA_2010\n",
    "inv_VarCovar_2b_PECOTA_2010=np.linalg.inv(VarCovar_2b_PECOTA_2010)\n",
    "Xi_u_PECOTA2010=(data_2010['Xi']-data_2010['mean_PECOTA']).to_numpy()\n",
    "D2b_PECOTA_2010=Xi_u_PECOTA2010.T@inv_VarCovar_2b_PECOTA_2010@Xi_u_PECOTA2010\n",
    "D2b_PECOTA_2010"
   ]
  },
  {
   "cell_type": "code",
   "execution_count": 146,
   "metadata": {},
   "outputs": [
    {
     "data": {
      "text/plain": [
       "94.54752096005595"
      ]
     },
     "execution_count": 146,
     "metadata": {},
     "output_type": "execute_result"
    }
   ],
   "source": [
    "df_2009=pd.read_csv(\"MLB2009matchup.csv\")\n",
    "p2b_df_2009= df_2009.map(model_2b)\n",
    "matrix_p2b_df_2009 = p2b_df_2009.iloc[:,1:].to_numpy()\n",
    "diag_values = np.array((data_2009['variance_PECOTA'])**(1/2))\n",
    "A_PECOTA_2009=np.diag(diag_values)\n",
    "VarCovar_2b_PECOTA_2009=A_PECOTA_2009@matrix_p2b_df_2009@A_PECOTA_2009\n",
    "inv_VarCovar_2b_PECOTA_2009=np.linalg.inv(VarCovar_2b_PECOTA_2009)\n",
    "Xi_u_PECOTA2009=(data_2009['Xi']-data_2009['mean_PECOTA']).to_numpy()\n",
    "D2b_PECOTA_2009=Xi_u_PECOTA2009.T@inv_VarCovar_2b_PECOTA_2009@Xi_u_PECOTA2009\n",
    "D2b_PECOTA_2009"
   ]
  },
  {
   "cell_type": "code",
   "execution_count": 147,
   "metadata": {},
   "outputs": [
    {
     "data": {
      "text/plain": [
       "68.38923291271125"
      ]
     },
     "execution_count": 147,
     "metadata": {},
     "output_type": "execute_result"
    }
   ],
   "source": [
    "df_2008=pd.read_csv(\"MLB2008matchup.csv\")\n",
    "p2b_df_2008= df_2008.map(model_2b)\n",
    "matrix_p2b_df_2008 = p2b_df_2008.iloc[:,1:].to_numpy()\n",
    "diag_values = np.array((data_2008['variance_PECOTA'])**(1/2))\n",
    "A_PECOTA_2008=np.diag(diag_values)\n",
    "VarCovar_2b_PECOTA_2008=A_PECOTA_2008@matrix_p2b_df_2008@A_PECOTA_2008\n",
    "inv_VarCovar_2b_PECOTA_2008=np.linalg.inv(VarCovar_2b_PECOTA_2008)\n",
    "Xi_u_PECOTA2008=(data_2008['Xi']-data_2008['mean_PECOTA']).to_numpy()\n",
    "D2b_PECOTA_2008=Xi_u_PECOTA2008.T@inv_VarCovar_2b_PECOTA_2008@Xi_u_PECOTA2008\n",
    "D2b_PECOTA_2008"
   ]
  },
  {
   "cell_type": "code",
   "execution_count": 148,
   "metadata": {},
   "outputs": [
    {
     "data": {
      "text/plain": [
       "92.89688294031662"
      ]
     },
     "execution_count": 148,
     "metadata": {},
     "output_type": "execute_result"
    }
   ],
   "source": [
    "df_2023=pd.read_excel(\"Matchups.xlsx\", sheet_name='2023')\n",
    "df_2023=df_2023.drop(30)\n",
    "p2b_df_2023= df_2023.map(model_2b)\n",
    "matrix_p2b_df_2023 = p2b_df_2023.iloc[:,1:].to_numpy()\n",
    "diag_values = np.array((data_2023['variance_PECOTA'])**(1/2))\n",
    "A_PECOTA_2023=np.diag(diag_values)\n",
    "VarCovar_2b_PECOTA_2023=A_PECOTA_2023@matrix_p2b_df_2023@A_PECOTA_2023\n",
    "inv_VarCovar_2b_PECOTA_2023=np.linalg.inv(VarCovar_2b_PECOTA_2023)\n",
    "Xi_u_PECOTA2023=(data_2023['Xi']-data_2023['mean_PECOTA']).to_numpy()\n",
    "D2b_PECOTA_2023=Xi_u_PECOTA2023.T@inv_VarCovar_2b_PECOTA_2023@Xi_u_PECOTA2023\n",
    "D2b_PECOTA_2023"
   ]
  },
  {
   "cell_type": "markdown",
   "metadata": {},
   "source": [
    "### FanGraphs"
   ]
  },
  {
   "cell_type": "code",
   "execution_count": 149,
   "metadata": {},
   "outputs": [
    {
     "data": {
      "text/plain": [
       "37.732698423537116"
      ]
     },
     "execution_count": 149,
     "metadata": {},
     "output_type": "execute_result"
    }
   ],
   "source": [
    "diag_values = np.array((data_2013['variance_FanGraphs'])**(1/2))\n",
    "A_FanGraphs_2013=np.diag(diag_values)\n",
    "VarCovar_2b_FanGraphs_2013=A_FanGraphs_2013@matrix_p2b_df_2013@A_FanGraphs_2013\n",
    "inv_VarCovar_2b_FanGraphs_2013=np.linalg.inv(VarCovar_2b_FanGraphs_2013)\n",
    "Xi_u_FanGraphs2013=(data_2013['Xi']-data_2013['mean_FanGraphs']).to_numpy()\n",
    "D2b_FanGraphs_2013=Xi_u_FanGraphs2013.T@inv_VarCovar_2b_FanGraphs_2013@Xi_u_FanGraphs2013\n",
    "D2b_FanGraphs_2013"
   ]
  },
  {
   "cell_type": "code",
   "execution_count": 150,
   "metadata": {},
   "outputs": [
    {
     "data": {
      "text/plain": [
       "49.29467713610621"
      ]
     },
     "execution_count": 150,
     "metadata": {},
     "output_type": "execute_result"
    }
   ],
   "source": [
    "diag_values = np.array((data_2014['variance_FanGraphs'])**(1/2))\n",
    "A_FanGraphs_2014=np.diag(diag_values)\n",
    "VarCovar_2b_FanGraphs_2014=A_FanGraphs_2014@matrix_p2b_df_2014@A_FanGraphs_2014\n",
    "inv_VarCovar_2b_FanGraphs_2014=np.linalg.inv(VarCovar_2b_FanGraphs_2014)\n",
    "Xi_u_FanGraphs2014=(data_2014['Xi']-data_2014['mean_FanGraphs']).to_numpy()\n",
    "D2b_FanGraphs_2014=Xi_u_FanGraphs2014.T@inv_VarCovar_2b_FanGraphs_2014@Xi_u_FanGraphs2014\n",
    "D2b_FanGraphs_2014"
   ]
  },
  {
   "cell_type": "code",
   "execution_count": 151,
   "metadata": {},
   "outputs": [
    {
     "data": {
      "text/plain": [
       "63.16040582127761"
      ]
     },
     "execution_count": 151,
     "metadata": {},
     "output_type": "execute_result"
    }
   ],
   "source": [
    "diag_values = np.array((data_2015['variance_FanGraphs'])**(1/2))\n",
    "A_FanGraphs_2015=np.diag(diag_values)\n",
    "VarCovar_2b_FanGraphs_2015=A_FanGraphs_2015@matrix_p2b_df_2015@A_FanGraphs_2015\n",
    "inv_VarCovar_2b_FanGraphs_2015=np.linalg.inv(VarCovar_2b_FanGraphs_2015)\n",
    "Xi_u_FanGraphs2015=(data_2015['Xi']-data_2015['mean_FanGraphs']).to_numpy()\n",
    "D2b_FanGraphs_2015=Xi_u_FanGraphs2015.T@inv_VarCovar_2b_FanGraphs_2015@Xi_u_FanGraphs2015\n",
    "D2b_FanGraphs_2015"
   ]
  },
  {
   "cell_type": "code",
   "execution_count": 152,
   "metadata": {},
   "outputs": [
    {
     "data": {
      "text/plain": [
       "40.28362354952437"
      ]
     },
     "execution_count": 152,
     "metadata": {},
     "output_type": "execute_result"
    }
   ],
   "source": [
    "diag_values = np.array((data_2016['variance_FanGraphs'])**(1/2))\n",
    "A_FanGraphs_2016=np.diag(diag_values)\n",
    "VarCovar_2b_FanGraphs_2016=A_FanGraphs_2016@matrix_p2b_df_2016@A_FanGraphs_2016\n",
    "inv_VarCovar_2b_FanGraphs_2016=np.linalg.inv(VarCovar_2b_FanGraphs_2016)\n",
    "Xi_u_FanGraphs2016=(data_2016['Xi']-data_2016['mean_FanGraphs']).to_numpy()\n",
    "D2b_FanGraphs_2016=Xi_u_FanGraphs2016.T@inv_VarCovar_2b_FanGraphs_2016@Xi_u_FanGraphs2016\n",
    "D2b_FanGraphs_2016"
   ]
  },
  {
   "cell_type": "code",
   "execution_count": 153,
   "metadata": {},
   "outputs": [
    {
     "data": {
      "text/plain": [
       "64.05922195286773"
      ]
     },
     "execution_count": 153,
     "metadata": {},
     "output_type": "execute_result"
    }
   ],
   "source": [
    "diag_values = np.array((data_2017['variance_FanGraphs'])**(1/2))\n",
    "A_FanGraphs_2017=np.diag(diag_values)\n",
    "VarCovar_2b_FanGraphs_2017=A_FanGraphs_2017@matrix_p2b_df_2017@A_FanGraphs_2017\n",
    "inv_VarCovar_2b_FanGraphs_2017=np.linalg.inv(VarCovar_2b_FanGraphs_2017)\n",
    "Xi_u_FanGraphs2017=(data_2017['Xi']-data_2017['mean_FanGraphs']).to_numpy()\n",
    "D2b_FanGraphs_2017=Xi_u_FanGraphs2017.T@inv_VarCovar_2b_FanGraphs_2017@Xi_u_FanGraphs2017\n",
    "D2b_FanGraphs_2017"
   ]
  },
  {
   "cell_type": "code",
   "execution_count": 154,
   "metadata": {},
   "outputs": [
    {
     "data": {
      "text/plain": [
       "80.45158926385925"
      ]
     },
     "execution_count": 154,
     "metadata": {},
     "output_type": "execute_result"
    }
   ],
   "source": [
    "diag_values = np.array((data_2018['variance_FanGraphs'])**(1/2))\n",
    "A_FanGraphs_2018=np.diag(diag_values)\n",
    "VarCovar_2b_FanGraphs_2018=A_FanGraphs_2018@matrix_p2b_df_2018@A_FanGraphs_2018\n",
    "inv_VarCovar_2b_FanGraphs_2018=np.linalg.inv(VarCovar_2b_FanGraphs_2018)\n",
    "Xi_u_FanGraphs2018=(data_2018['Xi']-data_2018['mean_FanGraphs']).to_numpy()\n",
    "D2b_FanGraphs_2018=Xi_u_FanGraphs2018.T@inv_VarCovar_2b_FanGraphs_2018@Xi_u_FanGraphs2018\n",
    "D2b_FanGraphs_2018"
   ]
  },
  {
   "cell_type": "code",
   "execution_count": 155,
   "metadata": {},
   "outputs": [
    {
     "data": {
      "text/plain": [
       "74.50917400538412"
      ]
     },
     "execution_count": 155,
     "metadata": {},
     "output_type": "execute_result"
    }
   ],
   "source": [
    "diag_values = np.array((data_2019['variance_FanGraphs'])**(1/2))\n",
    "A_FanGraphs_2019=np.diag(diag_values)\n",
    "VarCovar_2b_FanGraphs_2019=A_FanGraphs_2019@matrix_p2b_df_2019@A_FanGraphs_2019\n",
    "inv_VarCovar_2b_FanGraphs_2019=np.linalg.inv(VarCovar_2b_FanGraphs_2019)\n",
    "Xi_u_FanGraphs2019=(data_2019['Xi']-data_2019['mean_FanGraphs']).to_numpy()\n",
    "D2b_FanGraphs_2019=Xi_u_FanGraphs2019.T@inv_VarCovar_2b_FanGraphs_2019@Xi_u_FanGraphs2019\n",
    "D2b_FanGraphs_2019"
   ]
  },
  {
   "cell_type": "code",
   "execution_count": 156,
   "metadata": {},
   "outputs": [
    {
     "data": {
      "text/plain": [
       "41.82248772969584"
      ]
     },
     "execution_count": 156,
     "metadata": {},
     "output_type": "execute_result"
    }
   ],
   "source": [
    "diag_values = np.array((data_2020['variance_FanGraphs'])**(1/2))\n",
    "A_FanGraphs_2020=np.diag(diag_values)\n",
    "VarCovar_2b_FanGraphs_2020=A_FanGraphs_2020@matrix_p2b_df_2020@A_FanGraphs_2020\n",
    "inv_VarCovar_2b_FanGraphs_2020=np.linalg.inv(VarCovar_2b_FanGraphs_2020)\n",
    "Xi_u_FanGraphs2020=(data_2020['Xi']-data_2020['mean_FanGraphs']).to_numpy()\n",
    "D2b_FanGraphs_2020=Xi_u_FanGraphs2020.T@inv_VarCovar_2b_FanGraphs_2020@Xi_u_FanGraphs2020\n",
    "D2b_FanGraphs_2020"
   ]
  },
  {
   "cell_type": "code",
   "execution_count": 157,
   "metadata": {},
   "outputs": [
    {
     "data": {
      "text/plain": [
       "102.25486989478458"
      ]
     },
     "execution_count": 157,
     "metadata": {},
     "output_type": "execute_result"
    }
   ],
   "source": [
    "diag_values = np.array((data_2021['variance_FanGraphs'])**(1/2))\n",
    "A_FanGraphs_2021=np.diag(diag_values)\n",
    "VarCovar_2b_FanGraphs_2021=A_FanGraphs_2021@matrix_p2b_df_2021@A_FanGraphs_2021\n",
    "inv_VarCovar_2b_FanGraphs_2021=np.linalg.inv(VarCovar_2b_FanGraphs_2021)\n",
    "Xi_u_FanGraphs2021=(data_2021['Xi']-data_2021['mean_FanGraphs']).to_numpy()\n",
    "D2b_FanGraphs_2021=Xi_u_FanGraphs2021.T@inv_VarCovar_2b_FanGraphs_2021@Xi_u_FanGraphs2021\n",
    "D2b_FanGraphs_2021"
   ]
  },
  {
   "cell_type": "code",
   "execution_count": 158,
   "metadata": {},
   "outputs": [
    {
     "data": {
      "text/plain": [
       "70.72117540161852"
      ]
     },
     "execution_count": 158,
     "metadata": {},
     "output_type": "execute_result"
    }
   ],
   "source": [
    "diag_values = np.array((data_2022['variance_FanGraphs'])**(1/2))\n",
    "A_FanGraphs_2022=np.diag(diag_values)\n",
    "VarCovar_2b_FanGraphs_2022=A_FanGraphs_2022@matrix_p2b_df_2022@A_FanGraphs_2022\n",
    "inv_VarCovar_2b_FanGraphs_2022=np.linalg.inv(VarCovar_2b_FanGraphs_2022)\n",
    "Xi_u_FanGraphs2022=(data_2022['Xi']-data_2022['mean_FanGraphs']).to_numpy()\n",
    "D2b_FanGraphs_2022=Xi_u_FanGraphs2022.T@inv_VarCovar_2b_FanGraphs_2022@Xi_u_FanGraphs2022\n",
    "D2b_FanGraphs_2022"
   ]
  },
  {
   "cell_type": "code",
   "execution_count": 159,
   "metadata": {},
   "outputs": [
    {
     "data": {
      "text/plain": [
       "84.54415281692201"
      ]
     },
     "execution_count": 159,
     "metadata": {},
     "output_type": "execute_result"
    }
   ],
   "source": [
    "diag_values = np.array((data_2023['variance_FanGraphs'])**(1/2))\n",
    "A_FanGraphs_2023=np.diag(diag_values)\n",
    "VarCovar_2b_FanGraphs_2023=A_FanGraphs_2023@matrix_p2b_df_2023@A_FanGraphs_2023\n",
    "inv_VarCovar_2b_FanGraphs_2023=np.linalg.inv(VarCovar_2b_FanGraphs_2023)\n",
    "Xi_u_FanGraphs2023=(data_2023['Xi']-data_2023['mean_FanGraphs']).to_numpy()\n",
    "D2b_FanGraphs_2023=Xi_u_FanGraphs2023.T@inv_VarCovar_2b_FanGraphs_2023@Xi_u_FanGraphs2023\n",
    "D2b_FanGraphs_2023"
   ]
  },
  {
   "cell_type": "markdown",
   "metadata": {},
   "source": [
    "### ZiPs"
   ]
  },
  {
   "cell_type": "code",
   "execution_count": 160,
   "metadata": {},
   "outputs": [
    {
     "data": {
      "text/plain": [
       "88.72634945037923"
      ]
     },
     "execution_count": 160,
     "metadata": {},
     "output_type": "execute_result"
    }
   ],
   "source": [
    "diag_values = np.array((data_2023['variance_ZiPs'])**(1/2))\n",
    "A_ZiPs_2023=np.diag(diag_values)\n",
    "VarCovar_2b_ZiPs_2023=A_ZiPs_2023@matrix_p2b_df_2023@A_ZiPs_2023\n",
    "inv_VarCovar_2b_ZiPs_2023=np.linalg.inv(VarCovar_2b_ZiPs_2023)\n",
    "Xi_u_ZiPs2023=(data_2023['Xi']-data_2023['mean_ZiPs']).to_numpy()\n",
    "D2b_ZiPs_2023=Xi_u_ZiPs2023.T@inv_VarCovar_2b_ZiPs_2023@Xi_u_ZiPs2023\n",
    "D2b_ZiPs_2023"
   ]
  },
  {
   "cell_type": "code",
   "execution_count": 161,
   "metadata": {},
   "outputs": [
    {
     "data": {
      "text/plain": [
       "73.3976259808281"
      ]
     },
     "execution_count": 161,
     "metadata": {},
     "output_type": "execute_result"
    }
   ],
   "source": [
    "diag_values = np.array((data_2022['variance_ZiPs'])**(1/2))\n",
    "A_ZiPs_2022=np.diag(diag_values)\n",
    "VarCovar_2b_ZiPs_2022=A_ZiPs_2022@matrix_p2b_df_2022@A_ZiPs_2022\n",
    "inv_VarCovar_2b_ZiPs_2022=np.linalg.inv(VarCovar_2b_ZiPs_2022)\n",
    "Xi_u_ZiPs2022=(data_2022['Xi']-data_2022['mean_ZiPs']).to_numpy()\n",
    "D2b_ZiPs_2022=Xi_u_ZiPs2022.T@inv_VarCovar_2b_ZiPs_2022@Xi_u_ZiPs2022\n",
    "D2b_ZiPs_2022"
   ]
  },
  {
   "cell_type": "code",
   "execution_count": 162,
   "metadata": {},
   "outputs": [
    {
     "data": {
      "text/plain": [
       "100.13517073172405"
      ]
     },
     "execution_count": 162,
     "metadata": {},
     "output_type": "execute_result"
    }
   ],
   "source": [
    "diag_values = np.array((data_2021['variance_ZiPs'])**(1/2))\n",
    "A_ZiPs_2021=np.diag(diag_values)\n",
    "VarCovar_2b_ZiPs_2021=A_ZiPs_2021@matrix_p2b_df_2021@A_ZiPs_2021\n",
    "inv_VarCovar_2b_ZiPs_2021=np.linalg.inv(VarCovar_2b_ZiPs_2021)\n",
    "Xi_u_ZiPs2021=(data_2021['Xi']-data_2021['mean_ZiPs']).to_numpy()\n",
    "D2b_ZiPs_2021=Xi_u_ZiPs2021.T@inv_VarCovar_2b_ZiPs_2021@Xi_u_ZiPs2021\n",
    "D2b_ZiPs_2021"
   ]
  },
  {
   "cell_type": "code",
   "execution_count": 163,
   "metadata": {},
   "outputs": [
    {
     "data": {
      "text/plain": [
       "36.26210426296825"
      ]
     },
     "execution_count": 163,
     "metadata": {},
     "output_type": "execute_result"
    }
   ],
   "source": [
    "diag_values = np.array((data_2020['variance_ZiPs'])**(1/2))\n",
    "A_ZiPs_2020=np.diag(diag_values)\n",
    "VarCovar_2b_ZiPs_2020=A_ZiPs_2020@matrix_p2b_df_2020@A_ZiPs_2020\n",
    "inv_VarCovar_2b_ZiPs_2020=np.linalg.inv(VarCovar_2b_ZiPs_2020)\n",
    "Xi_u_ZiPs2020=(data_2020['Xi']-data_2020['mean_ZiPs']).to_numpy()\n",
    "D2b_ZiPs_2020=Xi_u_ZiPs2020.T@inv_VarCovar_2b_ZiPs_2020@Xi_u_ZiPs2020\n",
    "D2b_ZiPs_2020"
   ]
  },
  {
   "cell_type": "code",
   "execution_count": 164,
   "metadata": {},
   "outputs": [
    {
     "data": {
      "text/plain": [
       "60.6430417656621"
      ]
     },
     "execution_count": 164,
     "metadata": {},
     "output_type": "execute_result"
    }
   ],
   "source": [
    "diag_values = np.array((data_2019['variance_ZiPs'])**(1/2))\n",
    "A_ZiPs_2019=np.diag(diag_values)\n",
    "VarCovar_2b_ZiPs_2019=A_ZiPs_2019@matrix_p2b_df_2019@A_ZiPs_2019\n",
    "inv_VarCovar_2b_ZiPs_2019=np.linalg.inv(VarCovar_2b_ZiPs_2019)\n",
    "Xi_u_ZiPs2019=(data_2019['Xi']-data_2019['mean_ZiPs']).to_numpy()\n",
    "D2b_ZiPs_2019=Xi_u_ZiPs2019.T@inv_VarCovar_2b_ZiPs_2019@Xi_u_ZiPs2019\n",
    "D2b_ZiPs_2019"
   ]
  },
  {
   "cell_type": "code",
   "execution_count": 165,
   "metadata": {},
   "outputs": [
    {
     "data": {
      "text/plain": [
       "77.19452293687644"
      ]
     },
     "execution_count": 165,
     "metadata": {},
     "output_type": "execute_result"
    }
   ],
   "source": [
    "diag_values = np.array((data_2018['variance_ZiPs'])**(1/2))\n",
    "A_ZiPs_2018=np.diag(diag_values)\n",
    "VarCovar_2b_ZiPs_2018=A_ZiPs_2018@matrix_p2b_df_2018@A_ZiPs_2018\n",
    "inv_VarCovar_2b_ZiPs_2018=np.linalg.inv(VarCovar_2b_ZiPs_2018)\n",
    "Xi_u_ZiPs2018=(data_2018['Xi']-data_2018['mean_ZiPs']).to_numpy()\n",
    "D2b_ZiPs_2018=Xi_u_ZiPs2018.T@inv_VarCovar_2b_ZiPs_2018@Xi_u_ZiPs2018\n",
    "D2b_ZiPs_2018"
   ]
  },
  {
   "cell_type": "code",
   "execution_count": 166,
   "metadata": {},
   "outputs": [
    {
     "data": {
      "text/plain": [
       "65.66395824631577"
      ]
     },
     "execution_count": 166,
     "metadata": {},
     "output_type": "execute_result"
    }
   ],
   "source": [
    "diag_values = np.array((data_2017['variance_ZiPs'])**(1/2))\n",
    "A_ZiPs_2017=np.diag(diag_values)\n",
    "VarCovar_2b_ZiPs_2017=A_ZiPs_2017@matrix_p2b_df_2017@A_ZiPs_2017\n",
    "inv_VarCovar_2b_ZiPs_2017=np.linalg.inv(VarCovar_2b_ZiPs_2017)\n",
    "Xi_u_ZiPs2017=(data_2017['Xi']-data_2017['mean_ZiPs']).to_numpy()\n",
    "D2b_ZiPs_2017=Xi_u_ZiPs2017.T@inv_VarCovar_2b_ZiPs_2017@Xi_u_ZiPs2017\n",
    "D2b_ZiPs_2017"
   ]
  },
  {
   "cell_type": "code",
   "execution_count": 167,
   "metadata": {},
   "outputs": [
    {
     "data": {
      "text/plain": [
       "35.3847667485579"
      ]
     },
     "execution_count": 167,
     "metadata": {},
     "output_type": "execute_result"
    }
   ],
   "source": [
    "diag_values = np.array((data_2016['variance_ZiPs'])**(1/2))\n",
    "A_ZiPs_2016=np.diag(diag_values)\n",
    "VarCovar_2b_ZiPs_2016=A_ZiPs_2016@matrix_p2b_df_2016@A_ZiPs_2016\n",
    "inv_VarCovar_2b_ZiPs_2016=np.linalg.inv(VarCovar_2b_ZiPs_2016)\n",
    "Xi_u_ZiPs2016=(data_2016['Xi']-data_2016['mean_ZiPs']).to_numpy()\n",
    "D2b_ZiPs_2016=Xi_u_ZiPs2016.T@inv_VarCovar_2b_ZiPs_2016@Xi_u_ZiPs2016\n",
    "D2b_ZiPs_2016"
   ]
  },
  {
   "cell_type": "code",
   "execution_count": 168,
   "metadata": {},
   "outputs": [
    {
     "data": {
      "text/plain": [
       "63.157525153904935"
      ]
     },
     "execution_count": 168,
     "metadata": {},
     "output_type": "execute_result"
    }
   ],
   "source": [
    "diag_values = np.array((data_2015['variance_ZiPs'])**(1/2))\n",
    "A_ZiPs_2015=np.diag(diag_values)\n",
    "VarCovar_2b_ZiPs_2015=A_ZiPs_2015@matrix_p2b_df_2015@A_ZiPs_2015\n",
    "inv_VarCovar_2b_ZiPs_2015=np.linalg.inv(VarCovar_2b_ZiPs_2015)\n",
    "Xi_u_ZiPs2015=(data_2015['Xi']-data_2015['mean_ZiPs']).to_numpy()\n",
    "D2b_ZiPs_2015=Xi_u_ZiPs2015.T@inv_VarCovar_2b_ZiPs_2015@Xi_u_ZiPs2015\n",
    "D2b_ZiPs_2015"
   ]
  },
  {
   "cell_type": "code",
   "execution_count": 169,
   "metadata": {},
   "outputs": [
    {
     "data": {
      "text/plain": [
       "54.77331388730114"
      ]
     },
     "execution_count": 169,
     "metadata": {},
     "output_type": "execute_result"
    }
   ],
   "source": [
    "diag_values = np.array((data_2014['variance_ZiPs'])**(1/2))\n",
    "A_ZiPs_2014=np.diag(diag_values)\n",
    "VarCovar_2b_ZiPs_2014=A_ZiPs_2014@matrix_p2b_df_2014@A_ZiPs_2014\n",
    "inv_VarCovar_2b_ZiPs_2014=np.linalg.inv(VarCovar_2b_ZiPs_2014)\n",
    "Xi_u_ZiPs2014=(data_2014['Xi']-data_2014['mean_ZiPs']).to_numpy()\n",
    "D2b_ZiPs_2014=Xi_u_ZiPs2014.T@inv_VarCovar_2b_ZiPs_2014@Xi_u_ZiPs2014\n",
    "D2b_ZiPs_2014"
   ]
  },
  {
   "cell_type": "code",
   "execution_count": 170,
   "metadata": {},
   "outputs": [
    {
     "data": {
      "text/plain": [
       "64.6044598493428"
      ]
     },
     "execution_count": 170,
     "metadata": {},
     "output_type": "execute_result"
    }
   ],
   "source": [
    "diag_values = np.array((data_2013['variance_ZiPs'])**(1/2))\n",
    "A_ZiPs_2013=np.diag(diag_values)\n",
    "VarCovar_2b_ZiPs_2013=A_ZiPs_2013@matrix_p2b_df_2013@A_ZiPs_2013\n",
    "inv_VarCovar_2b_ZiPs_2013=np.linalg.inv(VarCovar_2b_ZiPs_2013)\n",
    "Xi_u_ZiPs2013=(data_2013['Xi']-data_2013['mean_ZiPs']).to_numpy()\n",
    "D2b_ZiPs_2013=Xi_u_ZiPs2013.T@inv_VarCovar_2b_ZiPs_2013@Xi_u_ZiPs2013\n",
    "D2b_ZiPs_2013"
   ]
  },
  {
   "cell_type": "code",
   "execution_count": 171,
   "metadata": {},
   "outputs": [
    {
     "data": {
      "text/plain": [
       "94.04392296384889"
      ]
     },
     "execution_count": 171,
     "metadata": {},
     "output_type": "execute_result"
    }
   ],
   "source": [
    "diag_values = np.array((data_2012['variance_ZiPs'])**(1/2))\n",
    "A_ZiPs_2012=np.diag(diag_values)\n",
    "VarCovar_2b_ZiPs_2012=A_ZiPs_2012@matrix_p2b_df_2012@A_ZiPs_2012\n",
    "inv_VarCovar_2b_ZiPs_2012=np.linalg.inv(VarCovar_2b_ZiPs_2012)\n",
    "Xi_u_ZiPs2012=(data_2012['Xi']-data_2012['mean_ZiPs']).to_numpy()\n",
    "D2b_ZiPs_2012=Xi_u_ZiPs2012.T@inv_VarCovar_2b_ZiPs_2012@Xi_u_ZiPs2012\n",
    "D2b_ZiPs_2012"
   ]
  },
  {
   "cell_type": "code",
   "execution_count": 172,
   "metadata": {},
   "outputs": [
    {
     "data": {
      "text/plain": [
       "60.25651526807591"
      ]
     },
     "execution_count": 172,
     "metadata": {},
     "output_type": "execute_result"
    }
   ],
   "source": [
    "diag_values = np.array((data_2011['variance_ZiPs'])**(1/2))\n",
    "A_ZiPs_2011=np.diag(diag_values)\n",
    "VarCovar_2b_ZiPs_2011=A_ZiPs_2011@matrix_p2b_df_2011@A_ZiPs_2011\n",
    "inv_VarCovar_2b_ZiPs_2011=np.linalg.inv(VarCovar_2b_ZiPs_2011)\n",
    "Xi_u_ZiPs2011=(data_2011['Xi']-data_2011['mean_ZiPs']).to_numpy()\n",
    "D2b_ZiPs_2011=Xi_u_ZiPs2011.T@inv_VarCovar_2b_ZiPs_2011@Xi_u_ZiPs2011\n",
    "D2b_ZiPs_2011"
   ]
  },
  {
   "cell_type": "code",
   "execution_count": 173,
   "metadata": {},
   "outputs": [
    {
     "data": {
      "text/plain": [
       "62.288138527133285"
      ]
     },
     "execution_count": 173,
     "metadata": {},
     "output_type": "execute_result"
    }
   ],
   "source": [
    "diag_values = np.array((data_2010['variance_ZiPs'])**(1/2))\n",
    "A_ZiPs_2010=np.diag(diag_values)\n",
    "VarCovar_2b_ZiPs_2010=A_ZiPs_2010@matrix_p2b_df_2010@A_ZiPs_2010\n",
    "inv_VarCovar_2b_ZiPs_2010=np.linalg.inv(VarCovar_2b_ZiPs_2010)\n",
    "Xi_u_ZiPs2010=(data_2010['Xi']-data_2010['mean_ZiPs']).to_numpy()\n",
    "D2b_ZiPs_2010=Xi_u_ZiPs2010.T@inv_VarCovar_2b_ZiPs_2010@Xi_u_ZiPs2010\n",
    "D2b_ZiPs_2010"
   ]
  },
  {
   "cell_type": "code",
   "execution_count": 174,
   "metadata": {},
   "outputs": [
    {
     "data": {
      "text/plain": [
       "78.52303565364888"
      ]
     },
     "execution_count": 174,
     "metadata": {},
     "output_type": "execute_result"
    }
   ],
   "source": [
    "diag_values = np.array((data_2009['variance_ZiPs'])**(1/2))\n",
    "A_ZiPs_2009=np.diag(diag_values)\n",
    "VarCovar_2b_ZiPs_2009=A_ZiPs_2009@matrix_p2b_df_2009@A_ZiPs_2009\n",
    "inv_VarCovar_2b_ZiPs_2009=np.linalg.inv(VarCovar_2b_ZiPs_2009)\n",
    "Xi_u_ZiPs2009=(data_2009['Xi']-data_2009['mean_ZiPs']).to_numpy()\n",
    "D2b_ZiPs_2009=Xi_u_ZiPs2009.T@inv_VarCovar_2b_ZiPs_2009@Xi_u_ZiPs2009\n",
    "D2b_ZiPs_2009"
   ]
  },
  {
   "cell_type": "code",
   "execution_count": 175,
   "metadata": {},
   "outputs": [
    {
     "data": {
      "text/plain": [
       "76.18480257155443"
      ]
     },
     "execution_count": 175,
     "metadata": {},
     "output_type": "execute_result"
    }
   ],
   "source": [
    "diag_values = np.array((data_2008['variance_ZiPs'])**(1/2))\n",
    "A_ZiPs_2008=np.diag(diag_values)\n",
    "VarCovar_2b_ZiPs_2008=A_ZiPs_2008@matrix_p2b_df_2008@A_ZiPs_2008\n",
    "inv_VarCovar_2b_ZiPs_2008=np.linalg.inv(VarCovar_2b_ZiPs_2008)\n",
    "Xi_u_ZiPs2008=(data_2008['Xi']-data_2008['mean_ZiPs']).to_numpy()\n",
    "D2b_ZiPs_2008=Xi_u_ZiPs2008.T@inv_VarCovar_2b_ZiPs_2008@Xi_u_ZiPs2008\n",
    "D2b_ZiPs_2008"
   ]
  },
  {
   "cell_type": "markdown",
   "metadata": {},
   "source": [
    "### Steamer"
   ]
  },
  {
   "cell_type": "code",
   "execution_count": 176,
   "metadata": {},
   "outputs": [
    {
     "data": {
      "text/plain": [
       "53.898505951132364"
      ]
     },
     "execution_count": 176,
     "metadata": {},
     "output_type": "execute_result"
    }
   ],
   "source": [
    "diag_values = np.array((data_2013['variance_Steamer'])**(1/2))\n",
    "A_Steamer_2013=np.diag(diag_values)\n",
    "VarCovar_2b_Steamer_2013=A_Steamer_2013@matrix_p2b_df_2013@A_Steamer_2013\n",
    "inv_VarCovar_2b_Steamer_2013=np.linalg.inv(VarCovar_2b_Steamer_2013)\n",
    "Xi_u_Steamer2013=(data_2013['Xi']-data_2013['mean_Steamer']).to_numpy()\n",
    "D2b_Steamer_2013=Xi_u_Steamer2013.T@inv_VarCovar_2b_Steamer_2013@Xi_u_Steamer2013\n",
    "D2b_Steamer_2013"
   ]
  },
  {
   "cell_type": "code",
   "execution_count": 177,
   "metadata": {},
   "outputs": [
    {
     "data": {
      "text/plain": [
       "47.152776750387744"
      ]
     },
     "execution_count": 177,
     "metadata": {},
     "output_type": "execute_result"
    }
   ],
   "source": [
    "diag_values = np.array((data_2014['variance_Steamer'])**(1/2))\n",
    "A_Steamer_2014=np.diag(diag_values)\n",
    "VarCovar_2b_Steamer_2014=A_Steamer_2014@matrix_p2b_df_2014@A_Steamer_2014\n",
    "inv_VarCovar_2b_Steamer_2014=np.linalg.inv(VarCovar_2b_Steamer_2014)\n",
    "Xi_u_Steamer2014=(data_2014['Xi']-data_2014['mean_Steamer']).to_numpy()\n",
    "D2b_Steamer_2014=Xi_u_Steamer2014.T@inv_VarCovar_2b_Steamer_2014@Xi_u_Steamer2014\n",
    "D2b_Steamer_2014"
   ]
  },
  {
   "cell_type": "code",
   "execution_count": 178,
   "metadata": {},
   "outputs": [
    {
     "data": {
      "text/plain": [
       "63.32484130697309"
      ]
     },
     "execution_count": 178,
     "metadata": {},
     "output_type": "execute_result"
    }
   ],
   "source": [
    "diag_values = np.array((data_2015['variance_Steamer'])**(1/2))\n",
    "A_Steamer_2015=np.diag(diag_values)\n",
    "VarCovar_2b_Steamer_2015=A_Steamer_2015@matrix_p2b_df_2015@A_Steamer_2015\n",
    "inv_VarCovar_2b_Steamer_2015=np.linalg.inv(VarCovar_2b_Steamer_2015)\n",
    "Xi_u_Steamer2015=(data_2015['Xi']-data_2015['mean_Steamer']).to_numpy()\n",
    "D2b_Steamer_2015=Xi_u_Steamer2015.T@inv_VarCovar_2b_Steamer_2015@Xi_u_Steamer2015\n",
    "D2b_Steamer_2015"
   ]
  },
  {
   "cell_type": "code",
   "execution_count": 179,
   "metadata": {},
   "outputs": [
    {
     "data": {
      "text/plain": [
       "37.186902979522145"
      ]
     },
     "execution_count": 179,
     "metadata": {},
     "output_type": "execute_result"
    }
   ],
   "source": [
    "diag_values = np.array((data_2016['variance_Steamer'])**(1/2))\n",
    "A_Steamer_2016=np.diag(diag_values)\n",
    "VarCovar_2b_Steamer_2016=A_Steamer_2016@matrix_p2b_df_2016@A_Steamer_2016\n",
    "inv_VarCovar_2b_Steamer_2016=np.linalg.inv(VarCovar_2b_Steamer_2016)\n",
    "Xi_u_Steamer2016=(data_2016['Xi']-data_2016['mean_Steamer']).to_numpy()\n",
    "D2b_Steamer_2016=Xi_u_Steamer2016.T@inv_VarCovar_2b_Steamer_2016@Xi_u_Steamer2016\n",
    "D2b_Steamer_2016"
   ]
  },
  {
   "cell_type": "code",
   "execution_count": 180,
   "metadata": {},
   "outputs": [
    {
     "data": {
      "text/plain": [
       "62.18205129418305"
      ]
     },
     "execution_count": 180,
     "metadata": {},
     "output_type": "execute_result"
    }
   ],
   "source": [
    "diag_values = np.array((data_2017['variance_Steamer'])**(1/2))\n",
    "A_Steamer_2017=np.diag(diag_values)\n",
    "VarCovar_2b_Steamer_2017=A_Steamer_2017@matrix_p2b_df_2017@A_Steamer_2017\n",
    "inv_VarCovar_2b_Steamer_2017=np.linalg.inv(VarCovar_2b_Steamer_2017)\n",
    "Xi_u_Steamer2017=(data_2017['Xi']-data_2017['mean_Steamer']).to_numpy()\n",
    "D2b_Steamer_2017=Xi_u_Steamer2017.T@inv_VarCovar_2b_Steamer_2017@Xi_u_Steamer2017\n",
    "D2b_Steamer_2017"
   ]
  },
  {
   "cell_type": "code",
   "execution_count": 181,
   "metadata": {},
   "outputs": [
    {
     "data": {
      "text/plain": [
       "80.8765711245337"
      ]
     },
     "execution_count": 181,
     "metadata": {},
     "output_type": "execute_result"
    }
   ],
   "source": [
    "diag_values = np.array((data_2018['variance_Steamer'])**(1/2))\n",
    "A_Steamer_2018=np.diag(diag_values)\n",
    "VarCovar_2b_Steamer_2018=A_Steamer_2018@matrix_p2b_df_2018@A_Steamer_2018\n",
    "inv_VarCovar_2b_Steamer_2018=np.linalg.inv(VarCovar_2b_Steamer_2018)\n",
    "Xi_u_Steamer2018=(data_2018['Xi']-data_2018['mean_Steamer']).to_numpy()\n",
    "D2b_Steamer_2018=Xi_u_Steamer2018.T@inv_VarCovar_2b_Steamer_2018@Xi_u_Steamer2018\n",
    "D2b_Steamer_2018"
   ]
  },
  {
   "cell_type": "markdown",
   "metadata": {},
   "source": [
    "### P Value"
   ]
  },
  {
   "cell_type": "markdown",
   "metadata": {},
   "source": [
    "#### PECOTA"
   ]
  },
  {
   "cell_type": "code",
   "execution_count": 182,
   "metadata": {},
   "outputs": [],
   "source": [
    "# Initialize an empty dictionary to store the p-value for each year\n",
    "p_D2b_PECOTA_values = {}\n",
    "\n",
    "for year in range(2023, 2007, -1):  # This will loop from 2023 to 2008\n",
    "    # Create the variable names dynamically for the current year\n",
    "    D2b_PECOTA_var_name = f'D2b_PECOTA_{year}'\n",
    "    p_D2b_pecota_var_name = f'p_D2b_pecota_{year}'\n",
    "    \n",
    "    # Assume globals() contains your D2b_PECOTA_year variables\n",
    "    D2b_PECOTA_var = globals()[D2b_PECOTA_var_name]\n",
    "    p_D2b_value = 1 - stats.chi2.cdf(D2b_PECOTA_var, 29)\n",
    "    \n",
    "    # Store the computed p-value in the dictionary\n",
    "    p_D2b_PECOTA_values[year] = p_D2b_value\n",
    "\n",
    "    # Optionally, if you want to create a new variable for each p-value\n",
    "    globals()[p_D2b_pecota_var_name] = p_D2b_value"
   ]
  },
  {
   "cell_type": "code",
   "execution_count": 183,
   "metadata": {},
   "outputs": [
    {
     "name": "stdout",
     "output_type": "stream",
     "text": [
      "{2023: 1.2957130923751947e-08, 2022: 5.694263330480176e-05, 2021: 1.7419399256368706e-13, 2020: 0.0970505968312233, 2019: 6.760061756361235e-05, 2018: 8.496349356756916e-05, 2017: 0.0007420560135685816, 2016: 0.003979885982332343, 2015: 8.818416824096786e-06, 2014: 0.0013654109984745366, 2013: 0.00032612229258999204, 2012: 8.900230623609673e-07, 2011: 0.0005735788814292819, 2010: 5.8911717225273996e-05, 2009: 7.152725189918385e-09, 2008: 5.020147367573724e-05}\n"
     ]
    }
   ],
   "source": [
    "print(p_D2b_PECOTA_values)"
   ]
  },
  {
   "cell_type": "markdown",
   "metadata": {},
   "source": [
    "#### FanGraphs"
   ]
  },
  {
   "cell_type": "code",
   "execution_count": 184,
   "metadata": {},
   "outputs": [],
   "source": [
    "# Initialize an empty dictionary to store the p-value for each year\n",
    "p_D2b_FanGraphs_values = {}\n",
    "\n",
    "for year in range(2023, 2012, -1):  # This will loop from 2023 to 2008\n",
    "    # Create the variable names dynamically for the current year\n",
    "    D2b_FanGraphs_var_name = f'D2b_FanGraphs_{year}'\n",
    "    p_D2b_fangraphs_var_name = f'p_D2b_fangraphs_{year}'\n",
    "    \n",
    "    # Assume globals() contains your D2b_FanGraphs_year variables\n",
    "    D2b_FanGraphs_var = globals()[D2b_FanGraphs_var_name]\n",
    "    p_D2b_value = 1 - stats.chi2.cdf(D2b_FanGraphs_var, 29)\n",
    "    \n",
    "    # Store the computed p-value in the dictionary\n",
    "    p_D2b_FanGraphs_values[year] = p_D2b_value\n",
    "\n",
    "    # Optionally, if you want to create a new variable for each p-value\n",
    "    globals()[p_D2b_fangraphs_var_name] = p_D2b_value"
   ]
  },
  {
   "cell_type": "code",
   "execution_count": 185,
   "metadata": {},
   "outputs": [
    {
     "name": "stdout",
     "output_type": "stream",
     "text": [
      "{2023: 2.4569145440356266e-07, 2022: 2.414385136140229e-05, 2021: 4.249040008730276e-10, 2020: 0.05825519881395225, 2019: 7.149174278575643e-06, 2018: 9.947367940466023e-07, 2017: 0.00018813094799996488, 2016: 0.07940539776636779, 2015: 0.0002458487154978206, 2014: 0.010746478505379575, 2013: 0.1283961013256305}\n"
     ]
    }
   ],
   "source": [
    "print(p_D2b_FanGraphs_values)"
   ]
  },
  {
   "cell_type": "markdown",
   "metadata": {},
   "source": [
    "#### ZiPs"
   ]
  },
  {
   "cell_type": "code",
   "execution_count": 186,
   "metadata": {},
   "outputs": [],
   "source": [
    "# Initialize an empty dictionary to store the p-value for each year\n",
    "p_D2b_ZiPs_values = {}\n",
    "\n",
    "for year in range(2023, 2007, -1):  # This will loop from 2023 to 2008\n",
    "    # Create the variable names dynamically for the current year\n",
    "    D2b_ZiPs_var_name = f'D2b_ZiPs_{year}'\n",
    "    p_D2b_zips_var_name = f'p_D2b_zips_{year}'\n",
    "    \n",
    "    # Assume globals() contains your D2b_ZiPs_year variables\n",
    "    D2b_ZiPs_var = globals()[D2b_ZiPs_var_name]\n",
    "    p_D2b_value = 1 - stats.chi2.cdf(D2b_ZiPs_var, 29)\n",
    "    \n",
    "    # Store the computed p-value in the dictionary\n",
    "    p_D2b_ZiPs_values[year] = p_D2b_value\n",
    "\n",
    "    # Optionally, if you want to create a new variable for each p-value\n",
    "    globals()[p_D2b_zips_var_name] = p_D2b_value"
   ]
  },
  {
   "cell_type": "code",
   "execution_count": 187,
   "metadata": {},
   "outputs": [
    {
     "name": "stdout",
     "output_type": "stream",
     "text": [
      "{2023: 5.7097125694127726e-08, 2022: 1.0252871302518507e-05, 2021: 9.30802768195349e-10, 2020: 0.1660530987287996, 2019: 0.0005133993688969385, 2018: 2.9587742307324305e-06, 2017: 0.0001159986261004553, 2016: 0.19218231091852622, 2015: 0.00024605869077809484, 2014: 0.0026330435478877368, 2013: 0.00015975909107945885, 2012: 8.577823229494186e-09, 2011: 0.0005738359326282749, 2010: 0.000318008310851714, 2009: 1.9016486579870318e-06, 2008: 4.130131067148213e-06}\n"
     ]
    }
   ],
   "source": [
    "print(p_D2b_ZiPs_values)"
   ]
  },
  {
   "cell_type": "markdown",
   "metadata": {},
   "source": [
    "#### Steamer"
   ]
  },
  {
   "cell_type": "code",
   "execution_count": 188,
   "metadata": {},
   "outputs": [],
   "source": [
    "# Initialize an empty dictionary to store the p-value for each year\n",
    "p_D2b_Steamer_values = {}\n",
    "\n",
    "for year in range(2018, 2012, -1):  # This will loop from 2023 to 2008\n",
    "    # Create the variable names dynamically for the current year\n",
    "    D2b_Steamer_var_name = f'D2b_Steamer_{year}'\n",
    "    p_D2b_steamer_var_name = f'p_D2b_steamer_{year}'\n",
    "    \n",
    "    # Assume globals() contains your D2b_Steamer_year variables\n",
    "    D2b_Steamer_var = globals()[D2b_Steamer_var_name]\n",
    "    p_D2b_value = 1 - stats.chi2.cdf(D2b_Steamer_var, 29)\n",
    "    \n",
    "    # Store the computed p-value in the dictionary\n",
    "    p_D2b_Steamer_values[year] = p_D2b_value\n",
    "\n",
    "    # Optionally, if you want to create a new variable for each p-value\n",
    "    globals()[p_D2b_steamer_var_name] = p_D2b_value"
   ]
  },
  {
   "cell_type": "code",
   "execution_count": 189,
   "metadata": {},
   "outputs": [
    {
     "name": "stdout",
     "output_type": "stream",
     "text": [
      "{2018: 8.615311085646837e-07, 2017: 0.0003280677652284236, 2016: 0.14150366596298536, 2015: 0.00023414553953648998, 2014: 0.01796244112955092, 2013: 0.003323447918767153}\n"
     ]
    }
   ],
   "source": [
    "print(p_D2b_Steamer_values)"
   ]
  },
  {
   "cell_type": "markdown",
   "metadata": {},
   "source": [
    "### Table"
   ]
  },
  {
   "cell_type": "code",
   "execution_count": 190,
   "metadata": {},
   "outputs": [],
   "source": [
    "D2b_data = {\n",
    "        'PECOTA':[D2b_PECOTA_2023,D2b_PECOTA_2022,D2b_PECOTA_2021,D2b_PECOTA_2020,D2b_PECOTA_2019,D2b_PECOTA_2018,D2b_PECOTA_2017,D2b_PECOTA_2016,D2b_PECOTA_2015,D2b_PECOTA_2014,D2b_PECOTA_2013,D2b_PECOTA_2012,D2b_PECOTA_2011,D2b_PECOTA_2010,D2b_PECOTA_2009,D2b_PECOTA_2008],\n",
    "        'FanGraphs':[D2b_FanGraphs_2023,D2b_FanGraphs_2022,D2b_FanGraphs_2021,D2b_FanGraphs_2020,D2b_FanGraphs_2019,D2b_FanGraphs_2018,D2b_FanGraphs_2017,D2b_FanGraphs_2016,D2b_FanGraphs_2015,D2b_FanGraphs_2014,D2b_FanGraphs_2013],\n",
    "        'ZiPs':[D2b_ZiPs_2023,D2b_ZiPs_2022,D2b_ZiPs_2021,D2b_ZiPs_2020,D2b_ZiPs_2019,D2b_ZiPs_2018,D2b_ZiPs_2017,D2b_ZiPs_2016,D2b_ZiPs_2015,D2b_ZiPs_2014,D2b_ZiPs_2013,D2b_ZiPs_2012,D2b_ZiPs_2011,D2b_ZiPs_2010,D2b_ZiPs_2009,D2b_ZiPs_2008],\n",
    "}\n",
    "D2b_data['FanGraphs'].extend([None] * 5)\n",
    "\n",
    "D2b_data['Steamer'] = [None] * 5 + [D2b_Steamer_2018, D2b_Steamer_2017, D2b_Steamer_2016, D2b_Steamer_2015, D2b_Steamer_2014, D2b_Steamer_2013] + [None] * 5"
   ]
  },
  {
   "cell_type": "code",
   "execution_count": 191,
   "metadata": {},
   "outputs": [],
   "source": [
    "D2b=pd.DataFrame(\n",
    "    D2b_data,index=['2023','2022','2021','2020','2019','2018','2017','2016','2015','2014','2013','2012','2011','2010','2009','2008']\n",
    "                )\n",
    "D2b = D2b.round(3)"
   ]
  },
  {
   "cell_type": "code",
   "execution_count": 192,
   "metadata": {},
   "outputs": [
    {
     "data": {
      "text/html": [
       "<div>\n",
       "<style scoped>\n",
       "    .dataframe tbody tr th:only-of-type {\n",
       "        vertical-align: middle;\n",
       "    }\n",
       "\n",
       "    .dataframe tbody tr th {\n",
       "        vertical-align: top;\n",
       "    }\n",
       "\n",
       "    .dataframe thead th {\n",
       "        text-align: right;\n",
       "    }\n",
       "</style>\n",
       "<table border=\"1\" class=\"dataframe\">\n",
       "  <thead>\n",
       "    <tr style=\"text-align: right;\">\n",
       "      <th></th>\n",
       "      <th>PECOTA</th>\n",
       "      <th>FanGraphs</th>\n",
       "      <th>ZiPs</th>\n",
       "      <th>Steamer</th>\n",
       "    </tr>\n",
       "  </thead>\n",
       "  <tbody>\n",
       "    <tr>\n",
       "      <th>2023</th>\n",
       "      <td>92.897</td>\n",
       "      <td>84.544</td>\n",
       "      <td>88.726</td>\n",
       "      <td>NaN</td>\n",
       "    </tr>\n",
       "    <tr>\n",
       "      <th>2022</th>\n",
       "      <td>67.983</td>\n",
       "      <td>70.721</td>\n",
       "      <td>73.398</td>\n",
       "      <td>NaN</td>\n",
       "    </tr>\n",
       "    <tr>\n",
       "      <th>2021</th>\n",
       "      <td>122.657</td>\n",
       "      <td>102.255</td>\n",
       "      <td>100.135</td>\n",
       "      <td>NaN</td>\n",
       "    </tr>\n",
       "    <tr>\n",
       "      <th>2020</th>\n",
       "      <td>39.245</td>\n",
       "      <td>41.822</td>\n",
       "      <td>36.262</td>\n",
       "      <td>NaN</td>\n",
       "    </tr>\n",
       "    <tr>\n",
       "      <th>2019</th>\n",
       "      <td>67.428</td>\n",
       "      <td>74.509</td>\n",
       "      <td>60.643</td>\n",
       "      <td>NaN</td>\n",
       "    </tr>\n",
       "    <tr>\n",
       "      <th>2018</th>\n",
       "      <td>66.685</td>\n",
       "      <td>80.452</td>\n",
       "      <td>77.195</td>\n",
       "      <td>80.877</td>\n",
       "    </tr>\n",
       "    <tr>\n",
       "      <th>2017</th>\n",
       "      <td>59.357</td>\n",
       "      <td>64.059</td>\n",
       "      <td>65.664</td>\n",
       "      <td>62.182</td>\n",
       "    </tr>\n",
       "    <tr>\n",
       "      <th>2016</th>\n",
       "      <td>53.213</td>\n",
       "      <td>40.284</td>\n",
       "      <td>35.385</td>\n",
       "      <td>37.187</td>\n",
       "    </tr>\n",
       "    <tr>\n",
       "      <th>2015</th>\n",
       "      <td>73.863</td>\n",
       "      <td>63.160</td>\n",
       "      <td>63.158</td>\n",
       "      <td>63.325</td>\n",
       "    </tr>\n",
       "    <tr>\n",
       "      <th>2014</th>\n",
       "      <td>57.184</td>\n",
       "      <td>49.295</td>\n",
       "      <td>54.773</td>\n",
       "      <td>47.153</td>\n",
       "    </tr>\n",
       "    <tr>\n",
       "      <th>2013</th>\n",
       "      <td>62.202</td>\n",
       "      <td>37.733</td>\n",
       "      <td>64.604</td>\n",
       "      <td>53.899</td>\n",
       "    </tr>\n",
       "    <tr>\n",
       "      <th>2012</th>\n",
       "      <td>80.780</td>\n",
       "      <td>NaN</td>\n",
       "      <td>94.044</td>\n",
       "      <td>NaN</td>\n",
       "    </tr>\n",
       "    <tr>\n",
       "      <th>2011</th>\n",
       "      <td>60.258</td>\n",
       "      <td>NaN</td>\n",
       "      <td>60.257</td>\n",
       "      <td>NaN</td>\n",
       "    </tr>\n",
       "    <tr>\n",
       "      <th>2010</th>\n",
       "      <td>67.874</td>\n",
       "      <td>NaN</td>\n",
       "      <td>62.288</td>\n",
       "      <td>NaN</td>\n",
       "    </tr>\n",
       "    <tr>\n",
       "      <th>2009</th>\n",
       "      <td>94.548</td>\n",
       "      <td>NaN</td>\n",
       "      <td>78.523</td>\n",
       "      <td>NaN</td>\n",
       "    </tr>\n",
       "    <tr>\n",
       "      <th>2008</th>\n",
       "      <td>68.389</td>\n",
       "      <td>NaN</td>\n",
       "      <td>76.185</td>\n",
       "      <td>NaN</td>\n",
       "    </tr>\n",
       "  </tbody>\n",
       "</table>\n",
       "</div>"
      ],
      "text/plain": [
       "       PECOTA  FanGraphs     ZiPs  Steamer\n",
       "2023   92.897     84.544   88.726      NaN\n",
       "2022   67.983     70.721   73.398      NaN\n",
       "2021  122.657    102.255  100.135      NaN\n",
       "2020   39.245     41.822   36.262      NaN\n",
       "2019   67.428     74.509   60.643      NaN\n",
       "2018   66.685     80.452   77.195   80.877\n",
       "2017   59.357     64.059   65.664   62.182\n",
       "2016   53.213     40.284   35.385   37.187\n",
       "2015   73.863     63.160   63.158   63.325\n",
       "2014   57.184     49.295   54.773   47.153\n",
       "2013   62.202     37.733   64.604   53.899\n",
       "2012   80.780        NaN   94.044      NaN\n",
       "2011   60.258        NaN   60.257      NaN\n",
       "2010   67.874        NaN   62.288      NaN\n",
       "2009   94.548        NaN   78.523      NaN\n",
       "2008   68.389        NaN   76.185      NaN"
      ]
     },
     "execution_count": 192,
     "metadata": {},
     "output_type": "execute_result"
    }
   ],
   "source": [
    "D2b"
   ]
  },
  {
   "cell_type": "markdown",
   "metadata": {},
   "source": [
    "### P-value table"
   ]
  },
  {
   "cell_type": "code",
   "execution_count": 193,
   "metadata": {},
   "outputs": [],
   "source": [
    "p_value_D2b_data = {\n",
    "        'PECOTA': [p_D2b_pecota_2023, p_D2b_pecota_2022, p_D2b_pecota_2021, p_D2b_pecota_2020, p_D2b_pecota_2019, p_D2b_pecota_2018, p_D2b_pecota_2017, p_D2b_fangraphs_2016, p_D2b_pecota_2015, p_D2b_pecota_2014, p_D2b_pecota_2013, p_D2b_pecota_2012, p_D2b_pecota_2011, p_D2b_pecota_2010, p_D2b_pecota_2009, p_D2b_pecota_2008],\n",
    "        'FanGraphs': [p_D2b_fangraphs_2023, p_D2b_fangraphs_2022, p_D2b_fangraphs_2021, p_D2b_fangraphs_2020, p_D2b_fangraphs_2019, p_D2b_fangraphs_2018, p_D2b_fangraphs_2017, p_D2b_fangraphs_2016, p_D2b_fangraphs_2015, p_D2b_fangraphs_2014, p_D2b_fangraphs_2013],\n",
    "        'ZiPs': [p_D2b_zips_2023, p_D2b_zips_2022, p_D2b_zips_2021, p_D2b_zips_2020, p_D2b_zips_2019, p_D2b_zips_2018, p_D2b_zips_2017, p_D2b_zips_2016, p_D2b_zips_2015, p_D2b_zips_2014, p_D2b_zips_2013, p_D2b_zips_2012, p_D2b_zips_2011, p_D2b_zips_2010, p_D2b_zips_2009, p_D2b_zips_2008]\n",
    "}\n",
    "p_value_D2b_data['FanGraphs'].extend([None] * 5)\n",
    "p_value_D2b_data['Steamer'] = [None] * 5 + [p_D2b_steamer_2018, p_D2b_steamer_2017, p_D2b_steamer_2016, p_D2b_steamer_2015, p_D2b_steamer_2014, p_D2b_steamer_2013] + [None] * 5\n"
   ]
  },
  {
   "cell_type": "code",
   "execution_count": 194,
   "metadata": {},
   "outputs": [],
   "source": [
    "P_value_D2b=pd.DataFrame(\n",
    "    p_value_D2b_data,index=['2023','2022','2021','2020','2019','2018','2017','2016','2015','2014','2013','2012','2011','2010','2009','2008']\n",
    "                )\n",
    "P_value_D2b = P_value_D2b.round(15)"
   ]
  },
  {
   "cell_type": "code",
   "execution_count": 195,
   "metadata": {},
   "outputs": [
    {
     "data": {
      "text/html": [
       "<div>\n",
       "<style scoped>\n",
       "    .dataframe tbody tr th:only-of-type {\n",
       "        vertical-align: middle;\n",
       "    }\n",
       "\n",
       "    .dataframe tbody tr th {\n",
       "        vertical-align: top;\n",
       "    }\n",
       "\n",
       "    .dataframe thead th {\n",
       "        text-align: right;\n",
       "    }\n",
       "</style>\n",
       "<table border=\"1\" class=\"dataframe\">\n",
       "  <thead>\n",
       "    <tr style=\"text-align: right;\">\n",
       "      <th></th>\n",
       "      <th>PECOTA</th>\n",
       "      <th>FanGraphs</th>\n",
       "      <th>ZiPs</th>\n",
       "      <th>Steamer</th>\n",
       "    </tr>\n",
       "  </thead>\n",
       "  <tbody>\n",
       "    <tr>\n",
       "      <th>2023</th>\n",
       "      <td>1.295713e-08</td>\n",
       "      <td>2.456915e-07</td>\n",
       "      <td>5.709713e-08</td>\n",
       "      <td>NaN</td>\n",
       "    </tr>\n",
       "    <tr>\n",
       "      <th>2022</th>\n",
       "      <td>5.694263e-05</td>\n",
       "      <td>2.414385e-05</td>\n",
       "      <td>1.025287e-05</td>\n",
       "      <td>NaN</td>\n",
       "    </tr>\n",
       "    <tr>\n",
       "      <th>2021</th>\n",
       "      <td>1.740000e-13</td>\n",
       "      <td>4.249040e-10</td>\n",
       "      <td>9.308030e-10</td>\n",
       "      <td>NaN</td>\n",
       "    </tr>\n",
       "    <tr>\n",
       "      <th>2020</th>\n",
       "      <td>9.705060e-02</td>\n",
       "      <td>5.825520e-02</td>\n",
       "      <td>1.660531e-01</td>\n",
       "      <td>NaN</td>\n",
       "    </tr>\n",
       "    <tr>\n",
       "      <th>2019</th>\n",
       "      <td>6.760062e-05</td>\n",
       "      <td>7.149174e-06</td>\n",
       "      <td>5.133994e-04</td>\n",
       "      <td>NaN</td>\n",
       "    </tr>\n",
       "    <tr>\n",
       "      <th>2018</th>\n",
       "      <td>8.496349e-05</td>\n",
       "      <td>9.947368e-07</td>\n",
       "      <td>2.958774e-06</td>\n",
       "      <td>8.615311e-07</td>\n",
       "    </tr>\n",
       "    <tr>\n",
       "      <th>2017</th>\n",
       "      <td>7.420560e-04</td>\n",
       "      <td>1.881309e-04</td>\n",
       "      <td>1.159986e-04</td>\n",
       "      <td>3.280678e-04</td>\n",
       "    </tr>\n",
       "    <tr>\n",
       "      <th>2016</th>\n",
       "      <td>7.940540e-02</td>\n",
       "      <td>7.940540e-02</td>\n",
       "      <td>1.921823e-01</td>\n",
       "      <td>1.415037e-01</td>\n",
       "    </tr>\n",
       "    <tr>\n",
       "      <th>2015</th>\n",
       "      <td>8.818417e-06</td>\n",
       "      <td>2.458487e-04</td>\n",
       "      <td>2.460587e-04</td>\n",
       "      <td>2.341455e-04</td>\n",
       "    </tr>\n",
       "    <tr>\n",
       "      <th>2014</th>\n",
       "      <td>1.365411e-03</td>\n",
       "      <td>1.074648e-02</td>\n",
       "      <td>2.633044e-03</td>\n",
       "      <td>1.796244e-02</td>\n",
       "    </tr>\n",
       "    <tr>\n",
       "      <th>2013</th>\n",
       "      <td>3.261223e-04</td>\n",
       "      <td>1.283961e-01</td>\n",
       "      <td>1.597591e-04</td>\n",
       "      <td>3.323448e-03</td>\n",
       "    </tr>\n",
       "    <tr>\n",
       "      <th>2012</th>\n",
       "      <td>8.900231e-07</td>\n",
       "      <td>NaN</td>\n",
       "      <td>8.577823e-09</td>\n",
       "      <td>NaN</td>\n",
       "    </tr>\n",
       "    <tr>\n",
       "      <th>2011</th>\n",
       "      <td>5.735789e-04</td>\n",
       "      <td>NaN</td>\n",
       "      <td>5.738359e-04</td>\n",
       "      <td>NaN</td>\n",
       "    </tr>\n",
       "    <tr>\n",
       "      <th>2010</th>\n",
       "      <td>5.891172e-05</td>\n",
       "      <td>NaN</td>\n",
       "      <td>3.180083e-04</td>\n",
       "      <td>NaN</td>\n",
       "    </tr>\n",
       "    <tr>\n",
       "      <th>2009</th>\n",
       "      <td>7.152725e-09</td>\n",
       "      <td>NaN</td>\n",
       "      <td>1.901649e-06</td>\n",
       "      <td>NaN</td>\n",
       "    </tr>\n",
       "    <tr>\n",
       "      <th>2008</th>\n",
       "      <td>5.020147e-05</td>\n",
       "      <td>NaN</td>\n",
       "      <td>4.130131e-06</td>\n",
       "      <td>NaN</td>\n",
       "    </tr>\n",
       "  </tbody>\n",
       "</table>\n",
       "</div>"
      ],
      "text/plain": [
       "            PECOTA     FanGraphs          ZiPs       Steamer\n",
       "2023  1.295713e-08  2.456915e-07  5.709713e-08           NaN\n",
       "2022  5.694263e-05  2.414385e-05  1.025287e-05           NaN\n",
       "2021  1.740000e-13  4.249040e-10  9.308030e-10           NaN\n",
       "2020  9.705060e-02  5.825520e-02  1.660531e-01           NaN\n",
       "2019  6.760062e-05  7.149174e-06  5.133994e-04           NaN\n",
       "2018  8.496349e-05  9.947368e-07  2.958774e-06  8.615311e-07\n",
       "2017  7.420560e-04  1.881309e-04  1.159986e-04  3.280678e-04\n",
       "2016  7.940540e-02  7.940540e-02  1.921823e-01  1.415037e-01\n",
       "2015  8.818417e-06  2.458487e-04  2.460587e-04  2.341455e-04\n",
       "2014  1.365411e-03  1.074648e-02  2.633044e-03  1.796244e-02\n",
       "2013  3.261223e-04  1.283961e-01  1.597591e-04  3.323448e-03\n",
       "2012  8.900231e-07           NaN  8.577823e-09           NaN\n",
       "2011  5.735789e-04           NaN  5.738359e-04           NaN\n",
       "2010  5.891172e-05           NaN  3.180083e-04           NaN\n",
       "2009  7.152725e-09           NaN  1.901649e-06           NaN\n",
       "2008  5.020147e-05           NaN  4.130131e-06           NaN"
      ]
     },
     "execution_count": 195,
     "metadata": {},
     "output_type": "execute_result"
    }
   ],
   "source": [
    "P_value_D2b"
   ]
  },
  {
   "cell_type": "markdown",
   "metadata": {},
   "source": [
    "### Merge Model2b"
   ]
  },
  {
   "cell_type": "code",
   "execution_count": 196,
   "metadata": {},
   "outputs": [],
   "source": [
    "# Assert that shapes are the same\n",
    "assert D2b.shape == P_value_D2b.shape, \"DataFrames have different dimensions!\"\n",
    "\n",
    "# Define a function to combine cell values\n",
    "def combine_cells(cell1, cell2):\n",
    "    cell2_sci = \"{:.2e}\".format(float(cell2))  # Convert p-values to scientific notation\n",
    "    return f\"{cell1} ({cell2_sci})\"\n",
    "\n",
    "# Convert D2b cells to string type\n",
    "D2b = D2b.astype(str)\n",
    "\n",
    "# Use the `combine_cells` function in an element-wise manner using applymap\n",
    "Model2b = pd.DataFrame(index=D2b.index, columns=D2b.columns)\n",
    "for col in D2b.columns:\n",
    "    Model2b[col] = D2b[col].combine(P_value_D2b[col].astype(str), func=combine_cells)\n"
   ]
  },
  {
   "cell_type": "code",
   "execution_count": 197,
   "metadata": {},
   "outputs": [],
   "source": [
    "Model2b.to_excel('Model2.xlsx', sheet_name= '2b')"
   ]
  },
  {
   "cell_type": "markdown",
   "metadata": {},
   "source": [
    "## Model 2c"
   ]
  },
  {
   "cell_type": "code",
   "execution_count": 198,
   "metadata": {},
   "outputs": [],
   "source": [
    "def model_2c(x):\n",
    "    if isinstance(x,(int,float)):\n",
    "        if (x==-162):\n",
    "            return 1\n",
    "        return -np.log2((x/162)+1)\n",
    "    return x\n",
    "\n",
    "def model_2c_2020(x):\n",
    "    if isinstance(x,(int,float)):\n",
    "        if (x==-60):\n",
    "            return 1\n",
    "        return -np.log2((x/60)+1)\n",
    "    return x"
   ]
  },
  {
   "cell_type": "markdown",
   "metadata": {},
   "source": [
    "### PECOTA"
   ]
  },
  {
   "cell_type": "code",
   "execution_count": 199,
   "metadata": {},
   "outputs": [
    {
     "data": {
      "text/plain": [
       "88.3855129975394"
      ]
     },
     "execution_count": 199,
     "metadata": {},
     "output_type": "execute_result"
    }
   ],
   "source": [
    "p2c_df_2023= df_2023.map(model_2c)\n",
    "matrix_p2c_df_2023 = p2c_df_2023.iloc[:,1:].to_numpy()\n",
    "VarCovar_2c_PECOTA_2023=A_PECOTA_2023@matrix_p2c_df_2023@A_PECOTA_2023\n",
    "inv_VarCovar_2c_PECOTA_2023=np.linalg.inv(VarCovar_2c_PECOTA_2023)\n",
    "D2c_PECOTA_2023=Xi_u_PECOTA2023.T@inv_VarCovar_2c_PECOTA_2023@Xi_u_PECOTA2023\n",
    "D2c_PECOTA_2023"
   ]
  },
  {
   "cell_type": "code",
   "execution_count": 200,
   "metadata": {},
   "outputs": [
    {
     "data": {
      "text/plain": [
       "58.83991981362077"
      ]
     },
     "execution_count": 200,
     "metadata": {},
     "output_type": "execute_result"
    }
   ],
   "source": [
    "p2c_df_2022= df_2022.map(model_2c)\n",
    "matrix_p2c_df_2022 = p2c_df_2022.iloc[:,1:].to_numpy()\n",
    "VarCovar_2c_PECOTA_2022=A_PECOTA_2022@matrix_p2c_df_2022@A_PECOTA_2022\n",
    "inv_VarCovar_2c_PECOTA_2022=np.linalg.inv(VarCovar_2c_PECOTA_2022)\n",
    "D2c_PECOTA_2022=Xi_u_PECOTA2022.T@inv_VarCovar_2c_PECOTA_2022@Xi_u_PECOTA2022\n",
    "D2c_PECOTA_2022"
   ]
  },
  {
   "cell_type": "code",
   "execution_count": 201,
   "metadata": {},
   "outputs": [
    {
     "data": {
      "text/plain": [
       "51.56029104344469"
      ]
     },
     "execution_count": 201,
     "metadata": {},
     "output_type": "execute_result"
    }
   ],
   "source": [
    "p2c_df_2021= df_2021.map(model_2c)\n",
    "matrix_p2c_df_2021 = p2c_df_2021.iloc[:,1:].to_numpy()\n",
    "VarCovar_2c_PECOTA_2021=A_PECOTA_2021@matrix_p2c_df_2021@A_PECOTA_2021\n",
    "inv_VarCovar_2c_PECOTA_2021=np.linalg.inv(VarCovar_2c_PECOTA_2021)\n",
    "D2c_PECOTA_2021=Xi_u_PECOTA2021.T@inv_VarCovar_2c_PECOTA_2021@Xi_u_PECOTA2021\n",
    "D2c_PECOTA_2021"
   ]
  },
  {
   "cell_type": "code",
   "execution_count": 202,
   "metadata": {},
   "outputs": [
    {
     "data": {
      "text/plain": [
       "37.220352109317545"
      ]
     },
     "execution_count": 202,
     "metadata": {},
     "output_type": "execute_result"
    }
   ],
   "source": [
    "p2c_df_2020= df_2020.map(model_2c_2020)\n",
    "matrix_p2c_df_2020 = p2c_df_2020.iloc[:,1:].to_numpy()\n",
    "VarCovar_2c_PECOTA_2020=A_PECOTA_2020@matrix_p2c_df_2020@A_PECOTA_2020\n",
    "inv_VarCovar_2c_PECOTA_2020=np.linalg.inv(VarCovar_2c_PECOTA_2020)\n",
    "D2c_PECOTA_2020=Xi_u_PECOTA2020.T@inv_VarCovar_2c_PECOTA_2020@Xi_u_PECOTA2020\n",
    "D2c_PECOTA_2020"
   ]
  },
  {
   "cell_type": "code",
   "execution_count": 203,
   "metadata": {},
   "outputs": [
    {
     "data": {
      "text/plain": [
       "56.62289143704964"
      ]
     },
     "execution_count": 203,
     "metadata": {},
     "output_type": "execute_result"
    }
   ],
   "source": [
    "p2c_df_2019= df_2019.map(model_2c)\n",
    "matrix_p2c_df_2019 = p2c_df_2019.iloc[:,1:].to_numpy()\n",
    "VarCovar_2c_PECOTA_2019=A_PECOTA_2019@matrix_p2c_df_2019@A_PECOTA_2019\n",
    "inv_VarCovar_2c_PECOTA_2019=np.linalg.inv(VarCovar_2c_PECOTA_2019)\n",
    "D2c_PECOTA_2019=Xi_u_PECOTA2019.T@inv_VarCovar_2c_PECOTA_2019@Xi_u_PECOTA2019\n",
    "D2c_PECOTA_2019"
   ]
  },
  {
   "cell_type": "code",
   "execution_count": 204,
   "metadata": {},
   "outputs": [
    {
     "data": {
      "text/plain": [
       "60.8776181606596"
      ]
     },
     "execution_count": 204,
     "metadata": {},
     "output_type": "execute_result"
    }
   ],
   "source": [
    "p2c_df_2018= df_2018.map(model_2c)\n",
    "matrix_p2c_df_2018 = p2c_df_2018.iloc[:,1:].to_numpy()\n",
    "VarCovar_2c_PECOTA_2018=A_PECOTA_2018@matrix_p2c_df_2018@A_PECOTA_2018\n",
    "inv_VarCovar_2c_PECOTA_2018=np.linalg.inv(VarCovar_2c_PECOTA_2018)\n",
    "D2c_PECOTA_2018=Xi_u_PECOTA2018.T@inv_VarCovar_2c_PECOTA_2018@Xi_u_PECOTA2018\n",
    "D2c_PECOTA_2018"
   ]
  },
  {
   "cell_type": "code",
   "execution_count": 205,
   "metadata": {},
   "outputs": [
    {
     "data": {
      "text/plain": [
       "53.6440664612813"
      ]
     },
     "execution_count": 205,
     "metadata": {},
     "output_type": "execute_result"
    }
   ],
   "source": [
    "p2c_df_2017= df_2017.map(model_2c)\n",
    "matrix_p2c_df_2017 = p2c_df_2017.iloc[:,1:].to_numpy()\n",
    "VarCovar_2c_PECOTA_2017=A_PECOTA_2017@matrix_p2c_df_2017@A_PECOTA_2017\n",
    "inv_VarCovar_2c_PECOTA_2017=np.linalg.inv(VarCovar_2c_PECOTA_2017)\n",
    "D2c_PECOTA_2017=Xi_u_PECOTA2017.T@inv_VarCovar_2c_PECOTA_2017@Xi_u_PECOTA2017\n",
    "D2c_PECOTA_2017"
   ]
  },
  {
   "cell_type": "code",
   "execution_count": 206,
   "metadata": {},
   "outputs": [
    {
     "data": {
      "text/plain": [
       "48.52331330738008"
      ]
     },
     "execution_count": 206,
     "metadata": {},
     "output_type": "execute_result"
    }
   ],
   "source": [
    "p2c_df_2016= df_2016.map(model_2c)\n",
    "matrix_p2c_df_2016 = p2c_df_2016.iloc[:,1:].to_numpy()\n",
    "VarCovar_2c_PECOTA_2016=A_PECOTA_2016@matrix_p2c_df_2016@A_PECOTA_2016\n",
    "inv_VarCovar_2c_PECOTA_2016=np.linalg.inv(VarCovar_2c_PECOTA_2016)\n",
    "D2c_PECOTA_2016=Xi_u_PECOTA2016.T@inv_VarCovar_2c_PECOTA_2016@Xi_u_PECOTA2016\n",
    "D2c_PECOTA_2016"
   ]
  },
  {
   "cell_type": "code",
   "execution_count": 207,
   "metadata": {},
   "outputs": [
    {
     "data": {
      "text/plain": [
       "47.57994840605506"
      ]
     },
     "execution_count": 207,
     "metadata": {},
     "output_type": "execute_result"
    }
   ],
   "source": [
    "p2c_df_2015= df_2015.map(model_2c)\n",
    "matrix_p2c_df_2015 = p2c_df_2015.iloc[:,1:].to_numpy()\n",
    "VarCovar_2c_PECOTA_2015=A_PECOTA_2015@matrix_p2c_df_2015@A_PECOTA_2015\n",
    "inv_VarCovar_2c_PECOTA_2015=np.linalg.inv(VarCovar_2c_PECOTA_2015)\n",
    "D2c_PECOTA_2015=Xi_u_PECOTA2015.T@inv_VarCovar_2c_PECOTA_2015@Xi_u_PECOTA2015\n",
    "D2c_PECOTA_2015"
   ]
  },
  {
   "cell_type": "code",
   "execution_count": 208,
   "metadata": {},
   "outputs": [
    {
     "data": {
      "text/plain": [
       "39.515006164430446"
      ]
     },
     "execution_count": 208,
     "metadata": {},
     "output_type": "execute_result"
    }
   ],
   "source": [
    "p2c_df_2014= df_2014.map(model_2c)\n",
    "matrix_p2c_df_2014 = p2c_df_2014.iloc[:,1:].to_numpy()\n",
    "VarCovar_2c_PECOTA_2014=A_PECOTA_2014@matrix_p2c_df_2014@A_PECOTA_2014\n",
    "inv_VarCovar_2c_PECOTA_2014=np.linalg.inv(VarCovar_2c_PECOTA_2014)\n",
    "D2c_PECOTA_2014=Xi_u_PECOTA2014.T@inv_VarCovar_2c_PECOTA_2014@Xi_u_PECOTA2014\n",
    "D2c_PECOTA_2014"
   ]
  },
  {
   "cell_type": "code",
   "execution_count": 209,
   "metadata": {},
   "outputs": [
    {
     "data": {
      "text/plain": [
       "49.91078592652988"
      ]
     },
     "execution_count": 209,
     "metadata": {},
     "output_type": "execute_result"
    }
   ],
   "source": [
    "p2c_df_2013= df_2013.map(model_2c)\n",
    "matrix_p2c_df_2013 = p2c_df_2013.iloc[:,1:].to_numpy()\n",
    "VarCovar_2c_PECOTA_2013=A_PECOTA_2013@matrix_p2c_df_2013@A_PECOTA_2013\n",
    "inv_VarCovar_2c_PECOTA_2013=np.linalg.inv(VarCovar_2c_PECOTA_2013)\n",
    "D2c_PECOTA_2013=Xi_u_PECOTA2013.T@inv_VarCovar_2c_PECOTA_2013@Xi_u_PECOTA2013\n",
    "D2c_PECOTA_2013"
   ]
  },
  {
   "cell_type": "code",
   "execution_count": 210,
   "metadata": {},
   "outputs": [
    {
     "data": {
      "text/plain": [
       "65.36652018411158"
      ]
     },
     "execution_count": 210,
     "metadata": {},
     "output_type": "execute_result"
    }
   ],
   "source": [
    "p2c_df_2012= df_2012.map(model_2c)\n",
    "matrix_p2c_df_2012 = p2c_df_2012.iloc[:,1:].to_numpy()\n",
    "VarCovar_2c_PECOTA_2012=A_PECOTA_2012@matrix_p2c_df_2012@A_PECOTA_2012\n",
    "inv_VarCovar_2c_PECOTA_2012=np.linalg.inv(VarCovar_2c_PECOTA_2012)\n",
    "D2c_PECOTA_2012=Xi_u_PECOTA2012.T@inv_VarCovar_2c_PECOTA_2012@Xi_u_PECOTA2012\n",
    "D2c_PECOTA_2012"
   ]
  },
  {
   "cell_type": "code",
   "execution_count": 211,
   "metadata": {},
   "outputs": [
    {
     "data": {
      "text/plain": [
       "49.366120142779"
      ]
     },
     "execution_count": 211,
     "metadata": {},
     "output_type": "execute_result"
    }
   ],
   "source": [
    "p2c_df_2011= df_2011.map(model_2c)\n",
    "matrix_p2c_df_2011 = p2c_df_2011.iloc[:,1:].to_numpy()\n",
    "VarCovar_2c_PECOTA_2011=A_PECOTA_2011@matrix_p2c_df_2011@A_PECOTA_2011\n",
    "inv_VarCovar_2c_PECOTA_2011=np.linalg.inv(VarCovar_2c_PECOTA_2011)\n",
    "D2c_PECOTA_2011=Xi_u_PECOTA2011.T@inv_VarCovar_2c_PECOTA_2011@Xi_u_PECOTA2011\n",
    "D2c_PECOTA_2011"
   ]
  },
  {
   "cell_type": "code",
   "execution_count": 212,
   "metadata": {},
   "outputs": [
    {
     "data": {
      "text/plain": [
       "59.52698049467953"
      ]
     },
     "execution_count": 212,
     "metadata": {},
     "output_type": "execute_result"
    }
   ],
   "source": [
    "p2c_df_2010= df_2010.map(model_2c)\n",
    "matrix_p2c_df_2010 = p2c_df_2010.iloc[:,1:].to_numpy()\n",
    "VarCovar_2c_PECOTA_2010=A_PECOTA_2010@matrix_p2c_df_2010@A_PECOTA_2010\n",
    "inv_VarCovar_2c_PECOTA_2010=np.linalg.inv(VarCovar_2c_PECOTA_2010)\n",
    "D2c_PECOTA_2010=Xi_u_PECOTA2010.T@inv_VarCovar_2c_PECOTA_2010@Xi_u_PECOTA2010\n",
    "D2c_PECOTA_2010"
   ]
  },
  {
   "cell_type": "code",
   "execution_count": 213,
   "metadata": {},
   "outputs": [
    {
     "data": {
      "text/plain": [
       "87.52394057529051"
      ]
     },
     "execution_count": 213,
     "metadata": {},
     "output_type": "execute_result"
    }
   ],
   "source": [
    "p2c_df_2009= df_2009.map(model_2c)\n",
    "matrix_p2c_df_2009 = p2c_df_2009.iloc[:,1:].to_numpy()\n",
    "VarCovar_2c_PECOTA_2009=A_PECOTA_2009@matrix_p2c_df_2009@A_PECOTA_2009\n",
    "inv_VarCovar_2c_PECOTA_2009=np.linalg.inv(VarCovar_2c_PECOTA_2009)\n",
    "D2c_PECOTA_2009=Xi_u_PECOTA2009.T@inv_VarCovar_2c_PECOTA_2009@Xi_u_PECOTA2009\n",
    "D2c_PECOTA_2009"
   ]
  },
  {
   "cell_type": "code",
   "execution_count": 214,
   "metadata": {},
   "outputs": [
    {
     "data": {
      "text/plain": [
       "60.58269340710503"
      ]
     },
     "execution_count": 214,
     "metadata": {},
     "output_type": "execute_result"
    }
   ],
   "source": [
    "p2c_df_2008= df_2008.map(model_2c)\n",
    "matrix_p2c_df_2008 = p2c_df_2008.iloc[:,1:].to_numpy()\n",
    "VarCovar_2c_PECOTA_2008=A_PECOTA_2008@matrix_p2c_df_2008@A_PECOTA_2008\n",
    "inv_VarCovar_2c_PECOTA_2008=np.linalg.inv(VarCovar_2c_PECOTA_2008)\n",
    "D2c_PECOTA_2008=Xi_u_PECOTA2008.T@inv_VarCovar_2c_PECOTA_2008@Xi_u_PECOTA2008\n",
    "D2c_PECOTA_2008"
   ]
  },
  {
   "cell_type": "markdown",
   "metadata": {},
   "source": [
    "### FanGraphs"
   ]
  },
  {
   "cell_type": "code",
   "execution_count": 215,
   "metadata": {},
   "outputs": [
    {
     "data": {
      "text/plain": [
       "83.3825611887517"
      ]
     },
     "execution_count": 215,
     "metadata": {},
     "output_type": "execute_result"
    }
   ],
   "source": [
    "VarCovar_2c_FanGraphs_2023=A_FanGraphs_2023@matrix_p2c_df_2023@A_FanGraphs_2023\n",
    "inv_VarCovar_2c_FanGraphs_2023=np.linalg.inv(VarCovar_2c_FanGraphs_2023)\n",
    "D2c_FanGraphs_2023=Xi_u_FanGraphs2023.T@inv_VarCovar_2c_FanGraphs_2023@Xi_u_FanGraphs2023\n",
    "D2c_FanGraphs_2023"
   ]
  },
  {
   "cell_type": "code",
   "execution_count": 216,
   "metadata": {},
   "outputs": [
    {
     "data": {
      "text/plain": [
       "62.63353840565303"
      ]
     },
     "execution_count": 216,
     "metadata": {},
     "output_type": "execute_result"
    }
   ],
   "source": [
    "VarCovar_2c_FanGraphs_2022=A_FanGraphs_2022@matrix_p2c_df_2022@A_FanGraphs_2022\n",
    "inv_VarCovar_2c_FanGraphs_2022=np.linalg.inv(VarCovar_2c_FanGraphs_2022)\n",
    "D2c_FanGraphs_2022=Xi_u_FanGraphs2022.T@inv_VarCovar_2c_FanGraphs_2022@Xi_u_FanGraphs2022\n",
    "D2c_FanGraphs_2022"
   ]
  },
  {
   "cell_type": "code",
   "execution_count": 217,
   "metadata": {},
   "outputs": [
    {
     "data": {
      "text/plain": [
       "84.0030889163086"
      ]
     },
     "execution_count": 217,
     "metadata": {},
     "output_type": "execute_result"
    }
   ],
   "source": [
    "VarCovar_2c_FanGraphs_2021=A_FanGraphs_2021@matrix_p2c_df_2021@A_FanGraphs_2021\n",
    "inv_VarCovar_2c_FanGraphs_2021=np.linalg.inv(VarCovar_2c_FanGraphs_2021)\n",
    "D2c_FanGraphs_2021=Xi_u_FanGraphs2021.T@inv_VarCovar_2c_FanGraphs_2021@Xi_u_FanGraphs2021\n",
    "D2c_FanGraphs_2021"
   ]
  },
  {
   "cell_type": "code",
   "execution_count": 218,
   "metadata": {},
   "outputs": [
    {
     "data": {
      "text/plain": [
       "39.51541506904171"
      ]
     },
     "execution_count": 218,
     "metadata": {},
     "output_type": "execute_result"
    }
   ],
   "source": [
    "VarCovar_2c_FanGraphs_2020=A_FanGraphs_2020@matrix_p2c_df_2020@A_FanGraphs_2020\n",
    "inv_VarCovar_2c_FanGraphs_2020=np.linalg.inv(VarCovar_2c_FanGraphs_2020)\n",
    "D2c_FanGraphs_2020=Xi_u_FanGraphs2020.T@inv_VarCovar_2c_FanGraphs_2020@Xi_u_FanGraphs2020\n",
    "D2c_FanGraphs_2020"
   ]
  },
  {
   "cell_type": "code",
   "execution_count": 219,
   "metadata": {},
   "outputs": [
    {
     "data": {
      "text/plain": [
       "64.30843053252622"
      ]
     },
     "execution_count": 219,
     "metadata": {},
     "output_type": "execute_result"
    }
   ],
   "source": [
    "VarCovar_2c_FanGraphs_2019=A_FanGraphs_2019@matrix_p2c_df_2019@A_FanGraphs_2019\n",
    "inv_VarCovar_2c_FanGraphs_2019=np.linalg.inv(VarCovar_2c_FanGraphs_2019)\n",
    "D2c_FanGraphs_2019=Xi_u_FanGraphs2019.T@inv_VarCovar_2c_FanGraphs_2019@Xi_u_FanGraphs2019\n",
    "D2c_FanGraphs_2019"
   ]
  },
  {
   "cell_type": "code",
   "execution_count": 220,
   "metadata": {},
   "outputs": [
    {
     "data": {
      "text/plain": [
       "11.165990913404165"
      ]
     },
     "execution_count": 220,
     "metadata": {},
     "output_type": "execute_result"
    }
   ],
   "source": [
    "VarCovar_2c_FanGraphs_2018=A_FanGraphs_2018@matrix_p2c_df_2018@A_FanGraphs_2018\n",
    "inv_VarCovar_2c_FanGraphs_2018=np.linalg.inv(VarCovar_2c_FanGraphs_2018)\n",
    "D2c_FanGraphs_2018=Xi_u_FanGraphs2018.T@inv_VarCovar_2c_FanGraphs_2018@Xi_u_FanGraphs2018\n",
    "D2c_FanGraphs_2018"
   ]
  },
  {
   "cell_type": "code",
   "execution_count": 221,
   "metadata": {},
   "outputs": [
    {
     "data": {
      "text/plain": [
       "54.353168897958376"
      ]
     },
     "execution_count": 221,
     "metadata": {},
     "output_type": "execute_result"
    }
   ],
   "source": [
    "VarCovar_2c_FanGraphs_2017=A_FanGraphs_2017@matrix_p2c_df_2017@A_FanGraphs_2017\n",
    "inv_VarCovar_2c_FanGraphs_2017=np.linalg.inv(VarCovar_2c_FanGraphs_2017)\n",
    "D2c_FanGraphs_2017=Xi_u_FanGraphs2017.T@inv_VarCovar_2c_FanGraphs_2017@Xi_u_FanGraphs2017\n",
    "D2c_FanGraphs_2017"
   ]
  },
  {
   "cell_type": "code",
   "execution_count": 222,
   "metadata": {},
   "outputs": [
    {
     "data": {
      "text/plain": [
       "34.741022048138625"
      ]
     },
     "execution_count": 222,
     "metadata": {},
     "output_type": "execute_result"
    }
   ],
   "source": [
    "VarCovar_2c_FanGraphs_2016=A_FanGraphs_2016@matrix_p2c_df_2016@A_FanGraphs_2016\n",
    "inv_VarCovar_2c_FanGraphs_2016=np.linalg.inv(VarCovar_2c_FanGraphs_2016)\n",
    "D2c_FanGraphs_2016=Xi_u_FanGraphs2016.T@inv_VarCovar_2c_FanGraphs_2016@Xi_u_FanGraphs2016\n",
    "D2c_FanGraphs_2016"
   ]
  },
  {
   "cell_type": "code",
   "execution_count": 223,
   "metadata": {},
   "outputs": [
    {
     "data": {
      "text/plain": [
       "45.423820043981294"
      ]
     },
     "execution_count": 223,
     "metadata": {},
     "output_type": "execute_result"
    }
   ],
   "source": [
    "VarCovar_2c_FanGraphs_2015=A_FanGraphs_2015@matrix_p2c_df_2015@A_FanGraphs_2015\n",
    "inv_VarCovar_2c_FanGraphs_2015=np.linalg.inv(VarCovar_2c_FanGraphs_2015)\n",
    "D2c_FanGraphs_2015=Xi_u_FanGraphs2015.T@inv_VarCovar_2c_FanGraphs_2015@Xi_u_FanGraphs2015\n",
    "D2c_FanGraphs_2015"
   ]
  },
  {
   "cell_type": "code",
   "execution_count": 224,
   "metadata": {},
   "outputs": [
    {
     "data": {
      "text/plain": [
       "13.563275904455601"
      ]
     },
     "execution_count": 224,
     "metadata": {},
     "output_type": "execute_result"
    }
   ],
   "source": [
    "VarCovar_2c_FanGraphs_2014=A_FanGraphs_2014@matrix_p2c_df_2014@A_FanGraphs_2014\n",
    "inv_VarCovar_2c_FanGraphs_2014=np.linalg.inv(VarCovar_2c_FanGraphs_2014)\n",
    "D2c_FanGraphs_2014=Xi_u_FanGraphs2014.T@inv_VarCovar_2c_FanGraphs_2014@Xi_u_FanGraphs2014\n",
    "D2c_FanGraphs_2014"
   ]
  },
  {
   "cell_type": "code",
   "execution_count": 225,
   "metadata": {},
   "outputs": [
    {
     "data": {
      "text/plain": [
       "33.67805393637226"
      ]
     },
     "execution_count": 225,
     "metadata": {},
     "output_type": "execute_result"
    }
   ],
   "source": [
    "VarCovar_2c_FanGraphs_2013=A_FanGraphs_2013@matrix_p2c_df_2013@A_FanGraphs_2013\n",
    "inv_VarCovar_2c_FanGraphs_2013=np.linalg.inv(VarCovar_2c_FanGraphs_2013)\n",
    "D2c_FanGraphs_2013=Xi_u_FanGraphs2013.T@inv_VarCovar_2c_FanGraphs_2013@Xi_u_FanGraphs2013\n",
    "D2c_FanGraphs_2013"
   ]
  },
  {
   "cell_type": "markdown",
   "metadata": {},
   "source": [
    "### ZiPs"
   ]
  },
  {
   "cell_type": "code",
   "execution_count": 226,
   "metadata": {},
   "outputs": [
    {
     "data": {
      "text/plain": [
       "84.03884922711845"
      ]
     },
     "execution_count": 226,
     "metadata": {},
     "output_type": "execute_result"
    }
   ],
   "source": [
    "VarCovar_2c_ZiPs_2023=A_ZiPs_2023@matrix_p2c_df_2023@A_ZiPs_2023\n",
    "inv_VarCovar_2c_ZiPs_2023=np.linalg.inv(VarCovar_2c_ZiPs_2023)\n",
    "D2c_ZiPs_2023=Xi_u_ZiPs2023.T@inv_VarCovar_2c_ZiPs_2023@Xi_u_ZiPs2023\n",
    "D2c_ZiPs_2023"
   ]
  },
  {
   "cell_type": "code",
   "execution_count": 227,
   "metadata": {},
   "outputs": [
    {
     "data": {
      "text/plain": [
       "62.082788585989775"
      ]
     },
     "execution_count": 227,
     "metadata": {},
     "output_type": "execute_result"
    }
   ],
   "source": [
    "VarCovar_2c_ZiPs_2022=A_ZiPs_2022@matrix_p2c_df_2022@A_ZiPs_2022\n",
    "inv_VarCovar_2c_ZiPs_2022=np.linalg.inv(VarCovar_2c_ZiPs_2022)\n",
    "D2c_ZiPs_2022=Xi_u_ZiPs2022.T@inv_VarCovar_2c_ZiPs_2022@Xi_u_ZiPs2022\n",
    "D2c_ZiPs_2022"
   ]
  },
  {
   "cell_type": "code",
   "execution_count": 228,
   "metadata": {},
   "outputs": [
    {
     "data": {
      "text/plain": [
       "70.90583927507902"
      ]
     },
     "execution_count": 228,
     "metadata": {},
     "output_type": "execute_result"
    }
   ],
   "source": [
    "VarCovar_2c_ZiPs_2021=A_ZiPs_2021@matrix_p2c_df_2021@A_ZiPs_2021\n",
    "inv_VarCovar_2c_ZiPs_2021=np.linalg.inv(VarCovar_2c_ZiPs_2021)\n",
    "D2c_ZiPs_2021=Xi_u_ZiPs2021.T@inv_VarCovar_2c_ZiPs_2021@Xi_u_ZiPs2021\n",
    "D2c_ZiPs_2021"
   ]
  },
  {
   "cell_type": "code",
   "execution_count": 229,
   "metadata": {},
   "outputs": [
    {
     "data": {
      "text/plain": [
       "33.794138280433394"
      ]
     },
     "execution_count": 229,
     "metadata": {},
     "output_type": "execute_result"
    }
   ],
   "source": [
    "VarCovar_2c_ZiPs_2020=A_ZiPs_2020@matrix_p2c_df_2020@A_ZiPs_2020\n",
    "inv_VarCovar_2c_ZiPs_2020=np.linalg.inv(VarCovar_2c_ZiPs_2020)\n",
    "D2c_ZiPs_2020=Xi_u_ZiPs2020.T@inv_VarCovar_2c_ZiPs_2020@Xi_u_ZiPs2020\n",
    "D2c_ZiPs_2020"
   ]
  },
  {
   "cell_type": "code",
   "execution_count": 230,
   "metadata": {},
   "outputs": [
    {
     "data": {
      "text/plain": [
       "53.530829384858784"
      ]
     },
     "execution_count": 230,
     "metadata": {},
     "output_type": "execute_result"
    }
   ],
   "source": [
    "VarCovar_2c_ZiPs_2019=A_ZiPs_2019@matrix_p2c_df_2019@A_ZiPs_2019\n",
    "inv_VarCovar_2c_ZiPs_2019=np.linalg.inv(VarCovar_2c_ZiPs_2019)\n",
    "D2c_ZiPs_2019=Xi_u_ZiPs2019.T@inv_VarCovar_2c_ZiPs_2019@Xi_u_ZiPs2019\n",
    "D2c_ZiPs_2019"
   ]
  },
  {
   "cell_type": "code",
   "execution_count": 231,
   "metadata": {},
   "outputs": [
    {
     "data": {
      "text/plain": [
       "71.65860961656905"
      ]
     },
     "execution_count": 231,
     "metadata": {},
     "output_type": "execute_result"
    }
   ],
   "source": [
    "VarCovar_2c_ZiPs_2018=A_ZiPs_2018@matrix_p2c_df_2018@A_ZiPs_2018\n",
    "inv_VarCovar_2c_ZiPs_2018=np.linalg.inv(VarCovar_2c_ZiPs_2018)\n",
    "D2c_ZiPs_2018=Xi_u_ZiPs2018.T@inv_VarCovar_2c_ZiPs_2018@Xi_u_ZiPs2018\n",
    "D2c_ZiPs_2018"
   ]
  },
  {
   "cell_type": "code",
   "execution_count": 232,
   "metadata": {},
   "outputs": [
    {
     "data": {
      "text/plain": [
       "57.99167263391128"
      ]
     },
     "execution_count": 232,
     "metadata": {},
     "output_type": "execute_result"
    }
   ],
   "source": [
    "VarCovar_2c_ZiPs_2017=A_ZiPs_2017@matrix_p2c_df_2017@A_ZiPs_2017\n",
    "inv_VarCovar_2c_ZiPs_2017=np.linalg.inv(VarCovar_2c_ZiPs_2017)\n",
    "D2c_ZiPs_2017=Xi_u_ZiPs2017.T@inv_VarCovar_2c_ZiPs_2017@Xi_u_ZiPs2017\n",
    "D2c_ZiPs_2017"
   ]
  },
  {
   "cell_type": "code",
   "execution_count": 233,
   "metadata": {},
   "outputs": [
    {
     "data": {
      "text/plain": [
       "31.49455197920279"
      ]
     },
     "execution_count": 233,
     "metadata": {},
     "output_type": "execute_result"
    }
   ],
   "source": [
    "VarCovar_2c_ZiPs_2016=A_ZiPs_2016@matrix_p2c_df_2016@A_ZiPs_2016\n",
    "inv_VarCovar_2c_ZiPs_2016=np.linalg.inv(VarCovar_2c_ZiPs_2016)\n",
    "D2c_ZiPs_2016=Xi_u_ZiPs2016.T@inv_VarCovar_2c_ZiPs_2016@Xi_u_ZiPs2016\n",
    "D2c_ZiPs_2016"
   ]
  },
  {
   "cell_type": "code",
   "execution_count": 234,
   "metadata": {},
   "outputs": [
    {
     "data": {
      "text/plain": [
       "55.797404892505746"
      ]
     },
     "execution_count": 234,
     "metadata": {},
     "output_type": "execute_result"
    }
   ],
   "source": [
    "VarCovar_2c_ZiPs_2015=A_ZiPs_2015@matrix_p2c_df_2015@A_ZiPs_2015\n",
    "inv_VarCovar_2c_ZiPs_2015=np.linalg.inv(VarCovar_2c_ZiPs_2015)\n",
    "D2c_ZiPs_2015=Xi_u_ZiPs2015.T@inv_VarCovar_2c_ZiPs_2015@Xi_u_ZiPs2015\n",
    "D2c_ZiPs_2015"
   ]
  },
  {
   "cell_type": "code",
   "execution_count": 235,
   "metadata": {},
   "outputs": [
    {
     "data": {
      "text/plain": [
       "38.470351810861956"
      ]
     },
     "execution_count": 235,
     "metadata": {},
     "output_type": "execute_result"
    }
   ],
   "source": [
    "VarCovar_2c_ZiPs_2014=A_ZiPs_2014@matrix_p2c_df_2014@A_ZiPs_2014\n",
    "inv_VarCovar_2c_ZiPs_2014=np.linalg.inv(VarCovar_2c_ZiPs_2014)\n",
    "D2c_ZiPs_2014=Xi_u_ZiPs2014.T@inv_VarCovar_2c_ZiPs_2014@Xi_u_ZiPs2014\n",
    "D2c_ZiPs_2014"
   ]
  },
  {
   "cell_type": "code",
   "execution_count": 236,
   "metadata": {},
   "outputs": [
    {
     "data": {
      "text/plain": [
       "57.14537904023519"
      ]
     },
     "execution_count": 236,
     "metadata": {},
     "output_type": "execute_result"
    }
   ],
   "source": [
    "VarCovar_2c_ZiPs_2013=A_ZiPs_2013@matrix_p2c_df_2013@A_ZiPs_2013\n",
    "inv_VarCovar_2c_ZiPs_2013=np.linalg.inv(VarCovar_2c_ZiPs_2013)\n",
    "D2c_ZiPs_2013=Xi_u_ZiPs2013.T@inv_VarCovar_2c_ZiPs_2013@Xi_u_ZiPs2013\n",
    "D2c_ZiPs_2013"
   ]
  },
  {
   "cell_type": "code",
   "execution_count": 237,
   "metadata": {},
   "outputs": [
    {
     "data": {
      "text/plain": [
       "79.76188249706048"
      ]
     },
     "execution_count": 237,
     "metadata": {},
     "output_type": "execute_result"
    }
   ],
   "source": [
    "VarCovar_2c_ZiPs_2012=A_ZiPs_2012@matrix_p2c_df_2012@A_ZiPs_2012\n",
    "inv_VarCovar_2c_ZiPs_2012=np.linalg.inv(VarCovar_2c_ZiPs_2012)\n",
    "D2c_ZiPs_2012=Xi_u_ZiPs2012.T@inv_VarCovar_2c_ZiPs_2012@Xi_u_ZiPs2012\n",
    "D2c_ZiPs_2012"
   ]
  },
  {
   "cell_type": "code",
   "execution_count": 238,
   "metadata": {},
   "outputs": [
    {
     "data": {
      "text/plain": [
       "52.11864222805824"
      ]
     },
     "execution_count": 238,
     "metadata": {},
     "output_type": "execute_result"
    }
   ],
   "source": [
    "VarCovar_2c_ZiPs_2011=A_ZiPs_2011@matrix_p2c_df_2011@A_ZiPs_2011\n",
    "inv_VarCovar_2c_ZiPs_2011=np.linalg.inv(VarCovar_2c_ZiPs_2011)\n",
    "D2c_ZiPs_2011=Xi_u_ZiPs2011.T@inv_VarCovar_2c_ZiPs_2011@Xi_u_ZiPs2011\n",
    "D2c_ZiPs_2011"
   ]
  },
  {
   "cell_type": "code",
   "execution_count": 239,
   "metadata": {},
   "outputs": [
    {
     "data": {
      "text/plain": [
       "53.14528617288123"
      ]
     },
     "execution_count": 239,
     "metadata": {},
     "output_type": "execute_result"
    }
   ],
   "source": [
    "VarCovar_2c_ZiPs_2010=A_ZiPs_2010@matrix_p2c_df_2010@A_ZiPs_2010\n",
    "inv_VarCovar_2c_ZiPs_2010=np.linalg.inv(VarCovar_2c_ZiPs_2010)\n",
    "D2c_ZiPs_2010=Xi_u_ZiPs2010.T@inv_VarCovar_2c_ZiPs_2010@Xi_u_ZiPs2010\n",
    "D2c_ZiPs_2010"
   ]
  },
  {
   "cell_type": "code",
   "execution_count": 240,
   "metadata": {},
   "outputs": [
    {
     "data": {
      "text/plain": [
       "74.05347937347969"
      ]
     },
     "execution_count": 240,
     "metadata": {},
     "output_type": "execute_result"
    }
   ],
   "source": [
    "VarCovar_2c_ZiPs_2009=A_ZiPs_2009@matrix_p2c_df_2009@A_ZiPs_2009\n",
    "inv_VarCovar_2c_ZiPs_2009=np.linalg.inv(VarCovar_2c_ZiPs_2009)\n",
    "D2c_ZiPs_2009=Xi_u_ZiPs2009.T@inv_VarCovar_2c_ZiPs_2009@Xi_u_ZiPs2009\n",
    "D2c_ZiPs_2009"
   ]
  },
  {
   "cell_type": "code",
   "execution_count": 241,
   "metadata": {},
   "outputs": [
    {
     "data": {
      "text/plain": [
       "72.14194030538883"
      ]
     },
     "execution_count": 241,
     "metadata": {},
     "output_type": "execute_result"
    }
   ],
   "source": [
    "VarCovar_2c_ZiPs_2008=A_ZiPs_2008@matrix_p2c_df_2008@A_ZiPs_2008\n",
    "inv_VarCovar_2c_ZiPs_2008=np.linalg.inv(VarCovar_2c_ZiPs_2008)\n",
    "D2c_ZiPs_2008=Xi_u_ZiPs2008.T@inv_VarCovar_2c_ZiPs_2008@Xi_u_ZiPs2008\n",
    "D2c_ZiPs_2008"
   ]
  },
  {
   "cell_type": "markdown",
   "metadata": {},
   "source": [
    "### Steamer"
   ]
  },
  {
   "cell_type": "code",
   "execution_count": 242,
   "metadata": {},
   "outputs": [
    {
     "data": {
      "text/plain": [
       "40.386940416172216"
      ]
     },
     "execution_count": 242,
     "metadata": {},
     "output_type": "execute_result"
    }
   ],
   "source": [
    "VarCovar_2c_Steamer_2013=A_Steamer_2013@matrix_p2c_df_2013@A_Steamer_2013\n",
    "inv_VarCovar_2c_Steamer_2013=np.linalg.inv(VarCovar_2c_Steamer_2013)\n",
    "D2c_Steamer_2013=Xi_u_Steamer2013.T@inv_VarCovar_2c_Steamer_2013@Xi_u_Steamer2013\n",
    "D2c_Steamer_2013"
   ]
  },
  {
   "cell_type": "code",
   "execution_count": 243,
   "metadata": {},
   "outputs": [
    {
     "data": {
      "text/plain": [
       "38.516975962881276"
      ]
     },
     "execution_count": 243,
     "metadata": {},
     "output_type": "execute_result"
    }
   ],
   "source": [
    "VarCovar_2c_Steamer_2014=A_Steamer_2014@matrix_p2c_df_2014@A_Steamer_2014\n",
    "inv_VarCovar_2c_Steamer_2014=np.linalg.inv(VarCovar_2c_Steamer_2014)\n",
    "D2c_Steamer_2014=Xi_u_Steamer2014.T@inv_VarCovar_2c_Steamer_2014@Xi_u_Steamer2014\n",
    "D2c_Steamer_2014"
   ]
  },
  {
   "cell_type": "code",
   "execution_count": 244,
   "metadata": {},
   "outputs": [
    {
     "data": {
      "text/plain": [
       "53.56899660990449"
      ]
     },
     "execution_count": 244,
     "metadata": {},
     "output_type": "execute_result"
    }
   ],
   "source": [
    "VarCovar_2c_Steamer_2015=A_Steamer_2015@matrix_p2c_df_2015@A_Steamer_2015\n",
    "inv_VarCovar_2c_Steamer_2015=np.linalg.inv(VarCovar_2c_Steamer_2015)\n",
    "D2c_Steamer_2015=Xi_u_Steamer2015.T@inv_VarCovar_2c_Steamer_2015@Xi_u_Steamer2015\n",
    "D2c_Steamer_2015"
   ]
  },
  {
   "cell_type": "code",
   "execution_count": 245,
   "metadata": {},
   "outputs": [
    {
     "data": {
      "text/plain": [
       "32.70125411738313"
      ]
     },
     "execution_count": 245,
     "metadata": {},
     "output_type": "execute_result"
    }
   ],
   "source": [
    "VarCovar_2c_Steamer_2016=A_Steamer_2016@matrix_p2c_df_2016@A_Steamer_2016\n",
    "inv_VarCovar_2c_Steamer_2016=np.linalg.inv(VarCovar_2c_Steamer_2016)\n",
    "D2c_Steamer_2016=Xi_u_Steamer2016.T@inv_VarCovar_2c_Steamer_2016@Xi_u_Steamer2016\n",
    "D2c_Steamer_2016"
   ]
  },
  {
   "cell_type": "code",
   "execution_count": 246,
   "metadata": {},
   "outputs": [
    {
     "data": {
      "text/plain": [
       "54.65815181715451"
      ]
     },
     "execution_count": 246,
     "metadata": {},
     "output_type": "execute_result"
    }
   ],
   "source": [
    "VarCovar_2c_Steamer_2017=A_Steamer_2017@matrix_p2c_df_2017@A_Steamer_2017\n",
    "inv_VarCovar_2c_Steamer_2017=np.linalg.inv(VarCovar_2c_Steamer_2017)\n",
    "D2c_Steamer_2017=Xi_u_Steamer2017.T@inv_VarCovar_2c_Steamer_2017@Xi_u_Steamer2017\n",
    "D2c_Steamer_2017"
   ]
  },
  {
   "cell_type": "code",
   "execution_count": 247,
   "metadata": {},
   "outputs": [
    {
     "data": {
      "text/plain": [
       "53.32649211131799"
      ]
     },
     "execution_count": 247,
     "metadata": {},
     "output_type": "execute_result"
    }
   ],
   "source": [
    "VarCovar_2c_Steamer_2018=A_Steamer_2018@matrix_p2c_df_2018@A_Steamer_2018\n",
    "inv_VarCovar_2c_Steamer_2018=np.linalg.inv(VarCovar_2c_Steamer_2018)\n",
    "D2c_Steamer_2018=Xi_u_Steamer2018.T@inv_VarCovar_2c_Steamer_2018@Xi_u_Steamer2018\n",
    "D2c_Steamer_2018"
   ]
  },
  {
   "cell_type": "markdown",
   "metadata": {},
   "source": [
    "### P Value"
   ]
  },
  {
   "cell_type": "code",
   "execution_count": 248,
   "metadata": {},
   "outputs": [],
   "source": [
    "# Initialize an empty dictionary to store the p-value for each year\n",
    "p_D2c_PECOTA_values = {}\n",
    "\n",
    "for year in range(2023, 2007, -1):  # This will loop from 2023 to 2008\n",
    "    # Create the variable names dynamically for the current year\n",
    "    D2c_PECOTA_var_name = f'D2c_PECOTA_{year}'\n",
    "    p_D2c_pecota_var_name = f'p_D2c_pecota_{year}'\n",
    "    \n",
    "    # Assume globals() contains your D2c_PECOTA_year variables\n",
    "    D2c_PECOTA_var = globals()[D2c_PECOTA_var_name]\n",
    "    p_D2c_value = 1 - stats.chi2.cdf(D2c_PECOTA_var, 29)\n",
    "    \n",
    "    # Store the computed p-value in the dictionary\n",
    "    p_D2c_PECOTA_values[year] = p_D2c_value\n",
    "\n",
    "    # Optionally, if you want to create a new variable for each p-value\n",
    "    globals()[p_D2c_pecota_var_name] = p_D2c_value"
   ]
  },
  {
   "cell_type": "code",
   "execution_count": 249,
   "metadata": {},
   "outputs": [],
   "source": [
    "# Initialize an empty dictionary to store the p-value for each year\n",
    "p_D2c_FanGraphs_values = {}\n",
    "\n",
    "for year in range(2023, 2012, -1):  # This will loop from 2023 to 2008\n",
    "    # Create the variable names dynamically for the current year\n",
    "    D2c_FanGraphs_var_name = f'D2c_FanGraphs_{year}'\n",
    "    p_D2c_FanGraphs_var_name = f'p_D2c_fangraphs_{year}'\n",
    "    \n",
    "    # Assume globals() contains your D2c_FanGraphs_year variables\n",
    "    D2c_FanGraphs_var = globals()[D2c_FanGraphs_var_name]\n",
    "    p_D2c_value = 1 - stats.chi2.cdf(D2c_FanGraphs_var, 29)\n",
    "    \n",
    "    # Store the computed p-value in the dictionary\n",
    "    p_D2c_FanGraphs_values[year] = p_D2c_value\n",
    "\n",
    "    # Optionally, if you want to create a new variable for each p-value\n",
    "    globals()[p_D2c_FanGraphs_var_name] = p_D2c_value"
   ]
  },
  {
   "cell_type": "code",
   "execution_count": 250,
   "metadata": {},
   "outputs": [],
   "source": [
    "# Initialize an empty dictionary to store the p-value for each year\n",
    "p_D2c_ZiPs_values = {}\n",
    "\n",
    "for year in range(2023, 2007, -1):  # This will loop from 2023 to 2008\n",
    "    # Create the variable names dynamically for the current year\n",
    "    D2c_ZiPs_var_name = f'D2c_ZiPs_{year}'\n",
    "    p_D2c_ZiPs_var_name = f'p_D2c_zips_{year}'\n",
    "    \n",
    "    # Assume globals() contains your D2c_ZiPs_year variables\n",
    "    D2c_ZiPs_var = globals()[D2c_ZiPs_var_name]\n",
    "    p_D2c_value = 1 - stats.chi2.cdf(D2c_ZiPs_var, 29)\n",
    "    \n",
    "    # Store the computed p-value in the dictionary\n",
    "    p_D2c_ZiPs_values[year] = p_D2c_value\n",
    "\n",
    "    # Optionally, if you want to create a new variable for each p-value\n",
    "    globals()[p_D2c_ZiPs_var_name] = p_D2c_value"
   ]
  },
  {
   "cell_type": "code",
   "execution_count": 251,
   "metadata": {},
   "outputs": [],
   "source": [
    "# Initialize an empty dictionary to store the p-value for each year\n",
    "p_D2c_Steamer_values = {}\n",
    "\n",
    "for year in range(2018, 2012, -1):  # This will loop from 2023 to 2008\n",
    "    # Create the variable names dynamically for the current year\n",
    "    D2c_Steamer_var_name = f'D2c_Steamer_{year}'\n",
    "    p_D2c_Steamer_var_name = f'p_D2c_steamer_{year}'\n",
    "    \n",
    "    # Assume globals() contains your D2c_Steamer_year variables\n",
    "    D2c_Steamer_var = globals()[D2c_Steamer_var_name]\n",
    "    p_D2c_value = 1 - stats.chi2.cdf(D2c_Steamer_var, 29)\n",
    "    \n",
    "    # Store the computed p-value in the dictionary\n",
    "    p_D2c_Steamer_values[year] = p_D2c_value\n",
    "\n",
    "    # Optionally, if you want to create a new variable for each p-value\n",
    "    globals()[p_D2c_Steamer_var_name] = p_D2c_value"
   ]
  },
  {
   "cell_type": "markdown",
   "metadata": {},
   "source": [
    "### Table"
   ]
  },
  {
   "cell_type": "code",
   "execution_count": 252,
   "metadata": {},
   "outputs": [],
   "source": [
    "D2c_data = {\n",
    "        'PECOTA':[D2c_PECOTA_2023,D2c_PECOTA_2022,D2c_PECOTA_2021,D2c_PECOTA_2020,D2c_PECOTA_2019,D2c_PECOTA_2018,D2c_PECOTA_2017,D2c_PECOTA_2016,D2c_PECOTA_2015,D2c_PECOTA_2014,D2c_PECOTA_2013,D2c_PECOTA_2012,D2c_PECOTA_2011,D2c_PECOTA_2010,D2c_PECOTA_2009,D2c_PECOTA_2008],\n",
    "        'FanGraphs':[D2c_FanGraphs_2023,D2c_FanGraphs_2022,D2c_FanGraphs_2021,D2c_FanGraphs_2020,D2c_FanGraphs_2019,D2c_FanGraphs_2018,D2c_FanGraphs_2017,D2c_FanGraphs_2016,D2c_FanGraphs_2015,D2c_FanGraphs_2014,D2c_FanGraphs_2013],\n",
    "        'ZiPs':[D2c_ZiPs_2023,D2c_ZiPs_2022,D2c_ZiPs_2021,D2c_ZiPs_2020,D2c_ZiPs_2019,D2c_ZiPs_2018,D2c_ZiPs_2017,D2c_ZiPs_2016,D2c_ZiPs_2015,D2c_ZiPs_2014,D2c_ZiPs_2013,D2c_ZiPs_2012,D2c_ZiPs_2011,D2c_ZiPs_2010,D2c_ZiPs_2009,D2c_ZiPs_2008]\n",
    "}\n",
    "D2c_data['FanGraphs'].extend([None] * 5)\n",
    "D2c_data['Steamer'] = [None] * 5 + [D2c_Steamer_2018, D2c_Steamer_2017, D2c_Steamer_2016, D2c_Steamer_2015, D2c_Steamer_2014, D2c_Steamer_2013] + [None] * 5"
   ]
  },
  {
   "cell_type": "code",
   "execution_count": 253,
   "metadata": {},
   "outputs": [
    {
     "data": {
      "text/html": [
       "<div>\n",
       "<style scoped>\n",
       "    .dataframe tbody tr th:only-of-type {\n",
       "        vertical-align: middle;\n",
       "    }\n",
       "\n",
       "    .dataframe tbody tr th {\n",
       "        vertical-align: top;\n",
       "    }\n",
       "\n",
       "    .dataframe thead th {\n",
       "        text-align: right;\n",
       "    }\n",
       "</style>\n",
       "<table border=\"1\" class=\"dataframe\">\n",
       "  <thead>\n",
       "    <tr style=\"text-align: right;\">\n",
       "      <th></th>\n",
       "      <th>PECOTA</th>\n",
       "      <th>FanGraphs</th>\n",
       "      <th>ZiPs</th>\n",
       "      <th>Steamer</th>\n",
       "    </tr>\n",
       "  </thead>\n",
       "  <tbody>\n",
       "    <tr>\n",
       "      <th>2023</th>\n",
       "      <td>88.386</td>\n",
       "      <td>83.383</td>\n",
       "      <td>84.039</td>\n",
       "      <td>NaN</td>\n",
       "    </tr>\n",
       "    <tr>\n",
       "      <th>2022</th>\n",
       "      <td>58.840</td>\n",
       "      <td>62.634</td>\n",
       "      <td>62.083</td>\n",
       "      <td>NaN</td>\n",
       "    </tr>\n",
       "    <tr>\n",
       "      <th>2021</th>\n",
       "      <td>51.560</td>\n",
       "      <td>84.003</td>\n",
       "      <td>70.906</td>\n",
       "      <td>NaN</td>\n",
       "    </tr>\n",
       "    <tr>\n",
       "      <th>2020</th>\n",
       "      <td>37.220</td>\n",
       "      <td>39.515</td>\n",
       "      <td>33.794</td>\n",
       "      <td>NaN</td>\n",
       "    </tr>\n",
       "    <tr>\n",
       "      <th>2019</th>\n",
       "      <td>56.623</td>\n",
       "      <td>64.308</td>\n",
       "      <td>53.531</td>\n",
       "      <td>NaN</td>\n",
       "    </tr>\n",
       "    <tr>\n",
       "      <th>2018</th>\n",
       "      <td>60.878</td>\n",
       "      <td>11.166</td>\n",
       "      <td>71.659</td>\n",
       "      <td>53.326</td>\n",
       "    </tr>\n",
       "    <tr>\n",
       "      <th>2017</th>\n",
       "      <td>53.644</td>\n",
       "      <td>54.353</td>\n",
       "      <td>57.992</td>\n",
       "      <td>54.658</td>\n",
       "    </tr>\n",
       "    <tr>\n",
       "      <th>2016</th>\n",
       "      <td>48.523</td>\n",
       "      <td>34.741</td>\n",
       "      <td>31.495</td>\n",
       "      <td>32.701</td>\n",
       "    </tr>\n",
       "    <tr>\n",
       "      <th>2015</th>\n",
       "      <td>47.580</td>\n",
       "      <td>45.424</td>\n",
       "      <td>55.797</td>\n",
       "      <td>53.569</td>\n",
       "    </tr>\n",
       "    <tr>\n",
       "      <th>2014</th>\n",
       "      <td>39.515</td>\n",
       "      <td>13.563</td>\n",
       "      <td>38.470</td>\n",
       "      <td>38.517</td>\n",
       "    </tr>\n",
       "    <tr>\n",
       "      <th>2013</th>\n",
       "      <td>49.911</td>\n",
       "      <td>33.678</td>\n",
       "      <td>57.145</td>\n",
       "      <td>40.387</td>\n",
       "    </tr>\n",
       "    <tr>\n",
       "      <th>2012</th>\n",
       "      <td>65.367</td>\n",
       "      <td>NaN</td>\n",
       "      <td>79.762</td>\n",
       "      <td>NaN</td>\n",
       "    </tr>\n",
       "    <tr>\n",
       "      <th>2011</th>\n",
       "      <td>49.366</td>\n",
       "      <td>NaN</td>\n",
       "      <td>52.119</td>\n",
       "      <td>NaN</td>\n",
       "    </tr>\n",
       "    <tr>\n",
       "      <th>2010</th>\n",
       "      <td>59.527</td>\n",
       "      <td>NaN</td>\n",
       "      <td>53.145</td>\n",
       "      <td>NaN</td>\n",
       "    </tr>\n",
       "    <tr>\n",
       "      <th>2009</th>\n",
       "      <td>87.524</td>\n",
       "      <td>NaN</td>\n",
       "      <td>74.053</td>\n",
       "      <td>NaN</td>\n",
       "    </tr>\n",
       "    <tr>\n",
       "      <th>2008</th>\n",
       "      <td>60.583</td>\n",
       "      <td>NaN</td>\n",
       "      <td>72.142</td>\n",
       "      <td>NaN</td>\n",
       "    </tr>\n",
       "  </tbody>\n",
       "</table>\n",
       "</div>"
      ],
      "text/plain": [
       "      PECOTA  FanGraphs    ZiPs  Steamer\n",
       "2023  88.386     83.383  84.039      NaN\n",
       "2022  58.840     62.634  62.083      NaN\n",
       "2021  51.560     84.003  70.906      NaN\n",
       "2020  37.220     39.515  33.794      NaN\n",
       "2019  56.623     64.308  53.531      NaN\n",
       "2018  60.878     11.166  71.659   53.326\n",
       "2017  53.644     54.353  57.992   54.658\n",
       "2016  48.523     34.741  31.495   32.701\n",
       "2015  47.580     45.424  55.797   53.569\n",
       "2014  39.515     13.563  38.470   38.517\n",
       "2013  49.911     33.678  57.145   40.387\n",
       "2012  65.367        NaN  79.762      NaN\n",
       "2011  49.366        NaN  52.119      NaN\n",
       "2010  59.527        NaN  53.145      NaN\n",
       "2009  87.524        NaN  74.053      NaN\n",
       "2008  60.583        NaN  72.142      NaN"
      ]
     },
     "execution_count": 253,
     "metadata": {},
     "output_type": "execute_result"
    }
   ],
   "source": [
    "D2c=pd.DataFrame(\n",
    "    D2c_data,index=['2023','2022','2021','2020','2019','2018','2017','2016','2015','2014','2013','2012','2011','2010','2009','2008']\n",
    "                )\n",
    "D2c = D2c.round(3)\n",
    "D2c"
   ]
  },
  {
   "cell_type": "markdown",
   "metadata": {},
   "source": [
    "### P-value table"
   ]
  },
  {
   "cell_type": "code",
   "execution_count": 254,
   "metadata": {},
   "outputs": [],
   "source": [
    "p_value_D2c_data = {\n",
    "        'PECOTA': [p_D2c_pecota_2023, p_D2c_pecota_2022, p_D2c_pecota_2021, p_D2c_pecota_2020, p_D2c_pecota_2019, p_D2c_pecota_2018, p_D2c_pecota_2017, p_D2c_fangraphs_2016, p_D2c_pecota_2015, p_D2c_pecota_2014, p_D2c_pecota_2013, p_D2c_pecota_2012, p_D2c_pecota_2011, p_D2c_pecota_2010, p_D2c_pecota_2009, p_D2c_pecota_2008],\n",
    "        'FanGraphs': [p_D2c_fangraphs_2023, p_D2c_fangraphs_2022, p_D2c_fangraphs_2021, p_D2c_fangraphs_2020, p_D2c_fangraphs_2019, p_D2c_fangraphs_2018, p_D2c_fangraphs_2017, p_D2c_fangraphs_2016, p_D2c_fangraphs_2015, p_D2c_fangraphs_2014, p_D2c_fangraphs_2013],\n",
    "        'ZiPs': [p_D2c_zips_2023, p_D2c_zips_2022, p_D2c_zips_2021, p_D2c_zips_2020, p_D2c_zips_2019, p_D2c_zips_2018, p_D2c_zips_2017, p_D2c_zips_2016, p_D2c_zips_2015, p_D2c_zips_2014, p_D2c_zips_2013, p_D2c_zips_2012, p_D2c_zips_2011, p_D2c_zips_2010, p_D2c_zips_2009, p_D2c_zips_2008]\n",
    "}\n",
    "p_value_D2c_data['FanGraphs'].extend([None] * 5)\n",
    "p_value_D2c_data['Steamer'] = [None] * 5 + [p_D2c_steamer_2018, p_D2c_steamer_2017, p_D2c_steamer_2016, p_D2c_steamer_2015, p_D2c_steamer_2014, p_D2c_steamer_2013] + [None] * 5\n"
   ]
  },
  {
   "cell_type": "code",
   "execution_count": 255,
   "metadata": {},
   "outputs": [],
   "source": [
    "P_value_D2c=pd.DataFrame(\n",
    "    p_value_D2c_data,index=['2023','2022','2021','2020','2019','2018','2017','2016','2015','2014','2013','2012','2011','2010','2009','2008']\n",
    "                )\n",
    "P_value_D2c = P_value_D2c.round(15)"
   ]
  },
  {
   "cell_type": "code",
   "execution_count": 256,
   "metadata": {},
   "outputs": [
    {
     "data": {
      "text/html": [
       "<div>\n",
       "<style scoped>\n",
       "    .dataframe tbody tr th:only-of-type {\n",
       "        vertical-align: middle;\n",
       "    }\n",
       "\n",
       "    .dataframe tbody tr th {\n",
       "        vertical-align: top;\n",
       "    }\n",
       "\n",
       "    .dataframe thead th {\n",
       "        text-align: right;\n",
       "    }\n",
       "</style>\n",
       "<table border=\"1\" class=\"dataframe\">\n",
       "  <thead>\n",
       "    <tr style=\"text-align: right;\">\n",
       "      <th></th>\n",
       "      <th>PECOTA</th>\n",
       "      <th>FanGraphs</th>\n",
       "      <th>ZiPs</th>\n",
       "      <th>Steamer</th>\n",
       "    </tr>\n",
       "  </thead>\n",
       "  <tbody>\n",
       "    <tr>\n",
       "      <th>2023</th>\n",
       "      <td>6.437754e-08</td>\n",
       "      <td>3.665315e-07</td>\n",
       "      <td>2.924745e-07</td>\n",
       "      <td>NaN</td>\n",
       "    </tr>\n",
       "    <tr>\n",
       "      <th>2022</th>\n",
       "      <td>8.592073e-04</td>\n",
       "      <td>2.872762e-04</td>\n",
       "      <td>3.377575e-04</td>\n",
       "      <td>NaN</td>\n",
       "    </tr>\n",
       "    <tr>\n",
       "      <th>2021</th>\n",
       "      <td>6.100206e-03</td>\n",
       "      <td>2.960996e-07</td>\n",
       "      <td>2.277093e-05</td>\n",
       "      <td>NaN</td>\n",
       "    </tr>\n",
       "    <tr>\n",
       "      <th>2020</th>\n",
       "      <td>1.406715e-01</td>\n",
       "      <td>9.217737e-02</td>\n",
       "      <td>2.468758e-01</td>\n",
       "      <td>NaN</td>\n",
       "    </tr>\n",
       "    <tr>\n",
       "      <th>2019</th>\n",
       "      <td>1.593949e-03</td>\n",
       "      <td>1.746054e-04</td>\n",
       "      <td>3.661875e-03</td>\n",
       "      <td>NaN</td>\n",
       "    </tr>\n",
       "    <tr>\n",
       "      <th>2018</th>\n",
       "      <td>4.797568e-04</td>\n",
       "      <td>9.988337e-01</td>\n",
       "      <td>1.792106e-05</td>\n",
       "      <td>0.003864</td>\n",
       "    </tr>\n",
       "    <tr>\n",
       "      <th>2017</th>\n",
       "      <td>3.554332e-03</td>\n",
       "      <td>2.945710e-03</td>\n",
       "      <td>1.090595e-03</td>\n",
       "      <td>0.002715</td>\n",
       "    </tr>\n",
       "    <tr>\n",
       "      <th>2016</th>\n",
       "      <td>2.131699e-01</td>\n",
       "      <td>2.131699e-01</td>\n",
       "      <td>3.424907e-01</td>\n",
       "      <td>0.289952</td>\n",
       "    </tr>\n",
       "    <tr>\n",
       "      <th>2015</th>\n",
       "      <td>1.624175e-02</td>\n",
       "      <td>2.675003e-02</td>\n",
       "      <td>1.997322e-03</td>\n",
       "      <td>0.003625</td>\n",
       "    </tr>\n",
       "    <tr>\n",
       "      <th>2014</th>\n",
       "      <td>9.218460e-02</td>\n",
       "      <td>9.933739e-01</td>\n",
       "      <td>1.122284e-01</td>\n",
       "      <td>0.111264</td>\n",
       "    </tr>\n",
       "    <tr>\n",
       "      <th>2013</th>\n",
       "      <td>9.233604e-03</td>\n",
       "      <td>2.512404e-01</td>\n",
       "      <td>1.380083e-03</td>\n",
       "      <td>0.077806</td>\n",
       "    </tr>\n",
       "    <tr>\n",
       "      <th>2012</th>\n",
       "      <td>1.269456e-04</td>\n",
       "      <td>NaN</td>\n",
       "      <td>1.255211e-06</td>\n",
       "      <td>NaN</td>\n",
       "    </tr>\n",
       "    <tr>\n",
       "      <th>2011</th>\n",
       "      <td>1.055999e-02</td>\n",
       "      <td>NaN</td>\n",
       "      <td>5.287524e-03</td>\n",
       "      <td>NaN</td>\n",
       "    </tr>\n",
       "    <tr>\n",
       "      <th>2010</th>\n",
       "      <td>7.070223e-04</td>\n",
       "      <td>NaN</td>\n",
       "      <td>4.051469e-03</td>\n",
       "      <td>NaN</td>\n",
       "    </tr>\n",
       "    <tr>\n",
       "      <th>2009</th>\n",
       "      <td>8.712067e-08</td>\n",
       "      <td>NaN</td>\n",
       "      <td>8.290824e-06</td>\n",
       "      <td>NaN</td>\n",
       "    </tr>\n",
       "    <tr>\n",
       "      <th>2008</th>\n",
       "      <td>5.224146e-04</td>\n",
       "      <td>NaN</td>\n",
       "      <td>1.535563e-05</td>\n",
       "      <td>NaN</td>\n",
       "    </tr>\n",
       "  </tbody>\n",
       "</table>\n",
       "</div>"
      ],
      "text/plain": [
       "            PECOTA     FanGraphs          ZiPs   Steamer\n",
       "2023  6.437754e-08  3.665315e-07  2.924745e-07       NaN\n",
       "2022  8.592073e-04  2.872762e-04  3.377575e-04       NaN\n",
       "2021  6.100206e-03  2.960996e-07  2.277093e-05       NaN\n",
       "2020  1.406715e-01  9.217737e-02  2.468758e-01       NaN\n",
       "2019  1.593949e-03  1.746054e-04  3.661875e-03       NaN\n",
       "2018  4.797568e-04  9.988337e-01  1.792106e-05  0.003864\n",
       "2017  3.554332e-03  2.945710e-03  1.090595e-03  0.002715\n",
       "2016  2.131699e-01  2.131699e-01  3.424907e-01  0.289952\n",
       "2015  1.624175e-02  2.675003e-02  1.997322e-03  0.003625\n",
       "2014  9.218460e-02  9.933739e-01  1.122284e-01  0.111264\n",
       "2013  9.233604e-03  2.512404e-01  1.380083e-03  0.077806\n",
       "2012  1.269456e-04           NaN  1.255211e-06       NaN\n",
       "2011  1.055999e-02           NaN  5.287524e-03       NaN\n",
       "2010  7.070223e-04           NaN  4.051469e-03       NaN\n",
       "2009  8.712067e-08           NaN  8.290824e-06       NaN\n",
       "2008  5.224146e-04           NaN  1.535563e-05       NaN"
      ]
     },
     "execution_count": 256,
     "metadata": {},
     "output_type": "execute_result"
    }
   ],
   "source": [
    "P_value_D2c"
   ]
  },
  {
   "cell_type": "markdown",
   "metadata": {},
   "source": [
    "### Merge Model2c"
   ]
  },
  {
   "cell_type": "code",
   "execution_count": 257,
   "metadata": {},
   "outputs": [],
   "source": [
    "# Assert that shapes are the same\n",
    "assert D2c.shape == P_value_D2c.shape, \"DataFrames have different dimensions!\"\n",
    "\n",
    "# Define a function to combine cell values\n",
    "def combine_cells(cell1, cell2):\n",
    "    cell2_sci = \"{:.2e}\".format(float(cell2))  # Convert p-values to scientific notation\n",
    "    return f\"{cell1} ({cell2_sci})\"\n",
    "\n",
    "# Convert D2b cells to string type\n",
    "D2c = D2c.astype(str)\n",
    "\n",
    "# Use the `combine_cells` function in an element-wise manner using applymap\n",
    "Model2c = pd.DataFrame(index=D2c.index, columns=D2c.columns)\n",
    "for col in D2b.columns:\n",
    "    Model2c[col] = D2c[col].combine(P_value_D2c[col].astype(str), func=combine_cells)\n"
   ]
  },
  {
   "cell_type": "code",
   "execution_count": 258,
   "metadata": {},
   "outputs": [],
   "source": [
    "with pd.ExcelWriter('Model2.xlsx', engine='openpyxl', mode='a') as writer:\n",
    "    Model2c.to_excel(writer, sheet_name='2c')"
   ]
  },
  {
   "cell_type": "markdown",
   "metadata": {},
   "source": [
    "## Model 2a"
   ]
  },
  {
   "cell_type": "code",
   "execution_count": 259,
   "metadata": {},
   "outputs": [],
   "source": [
    "def model_2a(x):\n",
    "    if isinstance(x,(int,float)):\n",
    "        if (x==-162):\n",
    "            return 1\n",
    "        return -(x/162)\n",
    "    return x\n",
    "\n",
    "def model_2a_2020(x):\n",
    "    if isinstance(x,(int,float)):\n",
    "        if (x==-60):\n",
    "            return 1\n",
    "        return -(x/60)\n",
    "    return x"
   ]
  },
  {
   "cell_type": "markdown",
   "metadata": {},
   "source": [
    "### PECOTA"
   ]
  },
  {
   "cell_type": "code",
   "execution_count": 260,
   "metadata": {},
   "outputs": [
    {
     "data": {
      "text/plain": [
       "89.50767225640101"
      ]
     },
     "execution_count": 260,
     "metadata": {},
     "output_type": "execute_result"
    }
   ],
   "source": [
    "model2a_df_2023 = df_2023.iloc[:29, :30]\n",
    "p2a_df_2023= model2a_df_2023.map(model_2a)\n",
    "matrix_p2a_df_2023 = p2a_df_2023.iloc[:,1:].to_numpy()\n",
    "model2a_A_PECOTA_2023 = A_PECOTA_2023[:29, :29]\n",
    "VarCovar_2a_PECOTA_2023=model2a_A_PECOTA_2023@matrix_p2a_df_2023@model2a_A_PECOTA_2023\n",
    "inv_VarCovar_2a_PECOTA_2023=np.linalg.inv(VarCovar_2a_PECOTA_2023)\n",
    "model2a_Xi_u_PECOTA2023=(data_2023['Xi']-data_2023['mean_PECOTA'])[:29].to_numpy()\n",
    "D2a_PECOTA_2023=model2a_Xi_u_PECOTA2023.T@inv_VarCovar_2a_PECOTA_2023@model2a_Xi_u_PECOTA2023\n",
    "D2a_PECOTA_2023"
   ]
  },
  {
   "cell_type": "code",
   "execution_count": 261,
   "metadata": {},
   "outputs": [
    {
     "data": {
      "text/plain": [
       "62.70261259399601"
      ]
     },
     "execution_count": 261,
     "metadata": {},
     "output_type": "execute_result"
    }
   ],
   "source": [
    "model2a_df_2022 = df_2022.iloc[:29, :30]\n",
    "p2a_df_2022= model2a_df_2022.map(model_2a)\n",
    "matrix_p2a_df_2022 = p2a_df_2022.iloc[:,1:].to_numpy()\n",
    "model2a_A_PECOTA_2022 = A_PECOTA_2022[:29, :29]\n",
    "VarCovar_2a_PECOTA_2022=model2a_A_PECOTA_2022@matrix_p2a_df_2022@model2a_A_PECOTA_2022\n",
    "inv_VarCovar_2a_PECOTA_2022=np.linalg.inv(VarCovar_2a_PECOTA_2022)\n",
    "model2a_Xi_u_PECOTA2022=(data_2022['Xi']-data_2022['mean_PECOTA'])[:29].to_numpy()\n",
    "D2a_PECOTA_2022=model2a_Xi_u_PECOTA2022.T@inv_VarCovar_2a_PECOTA_2022@model2a_Xi_u_PECOTA2022\n",
    "D2a_PECOTA_2022"
   ]
  },
  {
   "cell_type": "code",
   "execution_count": 262,
   "metadata": {},
   "outputs": [
    {
     "data": {
      "text/plain": [
       "116.31868594751681"
      ]
     },
     "execution_count": 262,
     "metadata": {},
     "output_type": "execute_result"
    }
   ],
   "source": [
    "model2a_df_2021 = df_2021.iloc[:29, :30]\n",
    "p2a_df_2021= model2a_df_2021.map(model_2a)\n",
    "matrix_p2a_df_2021 = p2a_df_2021.iloc[:,1:].to_numpy()\n",
    "model2a_A_PECOTA_2021 = A_PECOTA_2021[:29, :29]\n",
    "VarCovar_2a_PECOTA_2021=model2a_A_PECOTA_2021@matrix_p2a_df_2021@model2a_A_PECOTA_2021\n",
    "inv_VarCovar_2a_PECOTA_2021=np.linalg.inv(VarCovar_2a_PECOTA_2021)\n",
    "model2a_Xi_u_PECOTA2021=(data_2021['Xi']-data_2021['mean_PECOTA'])[:29].to_numpy()\n",
    "D2a_PECOTA_2021=model2a_Xi_u_PECOTA2021.T@inv_VarCovar_2a_PECOTA_2021@model2a_Xi_u_PECOTA2021\n",
    "D2a_PECOTA_2021"
   ]
  },
  {
   "cell_type": "code",
   "execution_count": 263,
   "metadata": {},
   "outputs": [
    {
     "data": {
      "text/plain": [
       "99.78309511740763"
      ]
     },
     "execution_count": 263,
     "metadata": {},
     "output_type": "execute_result"
    }
   ],
   "source": [
    "model2a_df_2020 = df_2020.iloc[:29, :30]\n",
    "p2a_df_2020= model2a_df_2020.map(model_2a)\n",
    "matrix_p2a_df_2020 = p2a_df_2020.iloc[:,1:].to_numpy()\n",
    "model2a_A_PECOTA_2020 = A_PECOTA_2020[:29, :29]\n",
    "VarCovar_2a_PECOTA_2020=model2a_A_PECOTA_2020@matrix_p2a_df_2020@model2a_A_PECOTA_2020\n",
    "inv_VarCovar_2a_PECOTA_2020=np.linalg.inv(VarCovar_2a_PECOTA_2020)\n",
    "model2a_Xi_u_PECOTA2020=(data_2020['Xi']-data_2020['mean_PECOTA'])[:29].to_numpy()\n",
    "D2a_PECOTA_2020=model2a_Xi_u_PECOTA2020.T@inv_VarCovar_2a_PECOTA_2020@model2a_Xi_u_PECOTA2020\n",
    "D2a_PECOTA_2020"
   ]
  },
  {
   "cell_type": "code",
   "execution_count": 264,
   "metadata": {},
   "outputs": [
    {
     "data": {
      "text/plain": [
       "63.19006041128399"
      ]
     },
     "execution_count": 264,
     "metadata": {},
     "output_type": "execute_result"
    }
   ],
   "source": [
    "model2a_df_2019 = df_2019.iloc[:29, :30]\n",
    "p2a_df_2019= model2a_df_2019.map(model_2a)\n",
    "matrix_p2a_df_2019 = p2a_df_2019.iloc[:,1:].to_numpy()\n",
    "model2a_A_PECOTA_2019 = A_PECOTA_2019[:29, :29]\n",
    "VarCovar_2a_PECOTA_2019=model2a_A_PECOTA_2019@matrix_p2a_df_2019@model2a_A_PECOTA_2019\n",
    "inv_VarCovar_2a_PECOTA_2019=np.linalg.inv(VarCovar_2a_PECOTA_2019)\n",
    "model2a_Xi_u_PECOTA2019=(data_2019['Xi']-data_2019['mean_PECOTA'])[:29].to_numpy()\n",
    "D2a_PECOTA_2019=model2a_Xi_u_PECOTA2019.T@inv_VarCovar_2a_PECOTA_2019@model2a_Xi_u_PECOTA2019\n",
    "D2a_PECOTA_2019"
   ]
  },
  {
   "cell_type": "code",
   "execution_count": 265,
   "metadata": {},
   "outputs": [
    {
     "data": {
      "text/plain": [
       "62.75921630946827"
      ]
     },
     "execution_count": 265,
     "metadata": {},
     "output_type": "execute_result"
    }
   ],
   "source": [
    "model2a_df_2018 = df_2018.iloc[:29, :30]\n",
    "p2a_df_2018= model2a_df_2018.map(model_2a)\n",
    "matrix_p2a_df_2018 = p2a_df_2018.iloc[:,1:].to_numpy()\n",
    "model2a_A_PECOTA_2018 = A_PECOTA_2018[:29, :29]\n",
    "VarCovar_2a_PECOTA_2018=model2a_A_PECOTA_2018@matrix_p2a_df_2018@model2a_A_PECOTA_2018\n",
    "inv_VarCovar_2a_PECOTA_2018=np.linalg.inv(VarCovar_2a_PECOTA_2018)\n",
    "model2a_Xi_u_PECOTA2018=(data_2018['Xi']-data_2018['mean_PECOTA'])[:29].to_numpy()\n",
    "D2a_PECOTA_2018=model2a_Xi_u_PECOTA2018.T@inv_VarCovar_2a_PECOTA_2018@model2a_Xi_u_PECOTA2018\n",
    "D2a_PECOTA_2018"
   ]
  },
  {
   "cell_type": "code",
   "execution_count": 266,
   "metadata": {},
   "outputs": [
    {
     "data": {
      "text/plain": [
       "55.55766562583802"
      ]
     },
     "execution_count": 266,
     "metadata": {},
     "output_type": "execute_result"
    }
   ],
   "source": [
    "model2a_df_2017 = df_2017.iloc[:29, :30]\n",
    "p2a_df_2017= model2a_df_2017.map(model_2a)\n",
    "matrix_p2a_df_2017 = p2a_df_2017.iloc[:,1:].to_numpy()\n",
    "model2a_A_PECOTA_2017 = A_PECOTA_2017[:29, :29]\n",
    "VarCovar_2a_PECOTA_2017=model2a_A_PECOTA_2017@matrix_p2a_df_2017@model2a_A_PECOTA_2017\n",
    "inv_VarCovar_2a_PECOTA_2017=np.linalg.inv(VarCovar_2a_PECOTA_2017)\n",
    "model2a_Xi_u_PECOTA2017=(data_2017['Xi']-data_2017['mean_PECOTA'])[:29].to_numpy()\n",
    "D2a_PECOTA_2017=model2a_Xi_u_PECOTA2017.T@inv_VarCovar_2a_PECOTA_2017@model2a_Xi_u_PECOTA2017\n",
    "D2a_PECOTA_2017"
   ]
  },
  {
   "cell_type": "code",
   "execution_count": 267,
   "metadata": {},
   "outputs": [
    {
     "data": {
      "text/plain": [
       "52.96734903046554"
      ]
     },
     "execution_count": 267,
     "metadata": {},
     "output_type": "execute_result"
    }
   ],
   "source": [
    "model2a_df_2016 = df_2016.iloc[:29, :30]\n",
    "p2a_df_2016= model2a_df_2016.map(model_2a)\n",
    "matrix_p2a_df_2016 = p2a_df_2016.iloc[:,1:].to_numpy()\n",
    "model2a_A_PECOTA_2016 = A_PECOTA_2016[:29, :29]\n",
    "VarCovar_2a_PECOTA_2016=model2a_A_PECOTA_2016@matrix_p2a_df_2016@model2a_A_PECOTA_2016\n",
    "inv_VarCovar_2a_PECOTA_2016=np.linalg.inv(VarCovar_2a_PECOTA_2016)\n",
    "model2a_Xi_u_PECOTA2016=(data_2016['Xi']-data_2016['mean_PECOTA'])[:29].to_numpy()\n",
    "D2a_PECOTA_2016=model2a_Xi_u_PECOTA2016.T@inv_VarCovar_2a_PECOTA_2016@model2a_Xi_u_PECOTA2016\n",
    "D2a_PECOTA_2016"
   ]
  },
  {
   "cell_type": "code",
   "execution_count": 268,
   "metadata": {},
   "outputs": [
    {
     "data": {
      "text/plain": [
       "74.17868853913737"
      ]
     },
     "execution_count": 268,
     "metadata": {},
     "output_type": "execute_result"
    }
   ],
   "source": [
    "model2a_df_2015 = df_2015.iloc[:29, :30]\n",
    "p2a_df_2015= model2a_df_2015.map(model_2a)\n",
    "matrix_p2a_df_2015 = p2a_df_2015.iloc[:,1:].to_numpy()\n",
    "model2a_A_PECOTA_2015 = A_PECOTA_2015[:29, :29]\n",
    "VarCovar_2a_PECOTA_2015=model2a_A_PECOTA_2015@matrix_p2a_df_2015@model2a_A_PECOTA_2015\n",
    "inv_VarCovar_2a_PECOTA_2015=np.linalg.inv(VarCovar_2a_PECOTA_2015)\n",
    "model2a_Xi_u_PECOTA2015=(data_2015['Xi']-data_2015['mean_PECOTA'])[:29].to_numpy()\n",
    "D2a_PECOTA_2015=model2a_Xi_u_PECOTA2015.T@inv_VarCovar_2a_PECOTA_2015@model2a_Xi_u_PECOTA2015\n",
    "D2a_PECOTA_2015"
   ]
  },
  {
   "cell_type": "code",
   "execution_count": 269,
   "metadata": {},
   "outputs": [
    {
     "data": {
      "text/plain": [
       "56.236741476534775"
      ]
     },
     "execution_count": 269,
     "metadata": {},
     "output_type": "execute_result"
    }
   ],
   "source": [
    "model2a_df_2014 = df_2014.iloc[:29, :30]\n",
    "p2a_df_2014= model2a_df_2014.map(model_2a)\n",
    "matrix_p2a_df_2014 = p2a_df_2014.iloc[:,1:].to_numpy()\n",
    "model2a_A_PECOTA_2014 = A_PECOTA_2014[:29, :29]\n",
    "VarCovar_2a_PECOTA_2014=model2a_A_PECOTA_2014@matrix_p2a_df_2014@model2a_A_PECOTA_2014\n",
    "inv_VarCovar_2a_PECOTA_2014=np.linalg.inv(VarCovar_2a_PECOTA_2014)\n",
    "model2a_Xi_u_PECOTA2014=(data_2014['Xi']-data_2014['mean_PECOTA'])[:29].to_numpy()\n",
    "D2a_PECOTA_2014=model2a_Xi_u_PECOTA2014.T@inv_VarCovar_2a_PECOTA_2014@model2a_Xi_u_PECOTA2014\n",
    "D2a_PECOTA_2014"
   ]
  },
  {
   "cell_type": "code",
   "execution_count": 270,
   "metadata": {},
   "outputs": [
    {
     "data": {
      "text/plain": [
       "58.27308993512519"
      ]
     },
     "execution_count": 270,
     "metadata": {},
     "output_type": "execute_result"
    }
   ],
   "source": [
    "model2a_df_2013 = df_2013.iloc[:29, :30]\n",
    "p2a_df_2013= model2a_df_2013.map(model_2a)\n",
    "matrix_p2a_df_2013 = p2a_df_2013.iloc[:,1:].to_numpy()\n",
    "model2a_A_PECOTA_2013 = A_PECOTA_2013[:29, :29]\n",
    "VarCovar_2a_PECOTA_2013=model2a_A_PECOTA_2013@matrix_p2a_df_2013@model2a_A_PECOTA_2013\n",
    "inv_VarCovar_2a_PECOTA_2013=np.linalg.inv(VarCovar_2a_PECOTA_2013)\n",
    "model2a_Xi_u_PECOTA2013=(data_2013['Xi']-data_2013['mean_PECOTA'])[:29].to_numpy()\n",
    "D2a_PECOTA_2013=model2a_Xi_u_PECOTA2013.T@inv_VarCovar_2a_PECOTA_2013@model2a_Xi_u_PECOTA2013\n",
    "D2a_PECOTA_2013"
   ]
  },
  {
   "cell_type": "code",
   "execution_count": 271,
   "metadata": {},
   "outputs": [
    {
     "data": {
      "text/plain": [
       "80.55694619658433"
      ]
     },
     "execution_count": 271,
     "metadata": {},
     "output_type": "execute_result"
    }
   ],
   "source": [
    "model2a_df_2012 = df_2012.iloc[:29, :30]\n",
    "p2a_df_2012= model2a_df_2012.map(model_2a)\n",
    "matrix_p2a_df_2012 = p2a_df_2012.iloc[:,1:].to_numpy()\n",
    "model2a_A_PECOTA_2012 = A_PECOTA_2012[:29, :29]\n",
    "VarCovar_2a_PECOTA_2012=model2a_A_PECOTA_2012@matrix_p2a_df_2012@model2a_A_PECOTA_2012\n",
    "inv_VarCovar_2a_PECOTA_2012=np.linalg.inv(VarCovar_2a_PECOTA_2012)\n",
    "model2a_Xi_u_PECOTA2012=(data_2012['Xi']-data_2012['mean_PECOTA'])[:29].to_numpy()\n",
    "D2a_PECOTA_2012=model2a_Xi_u_PECOTA2012.T@inv_VarCovar_2a_PECOTA_2012@model2a_Xi_u_PECOTA2012\n",
    "D2a_PECOTA_2012"
   ]
  },
  {
   "cell_type": "code",
   "execution_count": 272,
   "metadata": {},
   "outputs": [
    {
     "data": {
      "text/plain": [
       "55.77262123754695"
      ]
     },
     "execution_count": 272,
     "metadata": {},
     "output_type": "execute_result"
    }
   ],
   "source": [
    "model2a_df_2011 = df_2011.iloc[:29, :30]\n",
    "p2a_df_2011= model2a_df_2011.map(model_2a)\n",
    "matrix_p2a_df_2011 = p2a_df_2011.iloc[:,1:].to_numpy()\n",
    "model2a_A_PECOTA_2011 = A_PECOTA_2011[:29, :29]\n",
    "VarCovar_2a_PECOTA_2011=model2a_A_PECOTA_2011@matrix_p2a_df_2011@model2a_A_PECOTA_2011\n",
    "inv_VarCovar_2a_PECOTA_2011=np.linalg.inv(VarCovar_2a_PECOTA_2011)\n",
    "model2a_Xi_u_PECOTA2011=(data_2011['Xi']-data_2011['mean_PECOTA'])[:29].to_numpy()\n",
    "D2a_PECOTA_2011=model2a_Xi_u_PECOTA2011.T@inv_VarCovar_2a_PECOTA_2011@model2a_Xi_u_PECOTA2011\n",
    "D2a_PECOTA_2011"
   ]
  },
  {
   "cell_type": "code",
   "execution_count": 273,
   "metadata": {},
   "outputs": [
    {
     "data": {
      "text/plain": [
       "61.01399169836342"
      ]
     },
     "execution_count": 273,
     "metadata": {},
     "output_type": "execute_result"
    }
   ],
   "source": [
    "model2a_df_2010 = df_2010.iloc[:29, :30]\n",
    "p2a_df_2010= model2a_df_2010.map(model_2a)\n",
    "matrix_p2a_df_2010 = p2a_df_2010.iloc[:,1:].to_numpy()\n",
    "model2a_A_PECOTA_2010 = A_PECOTA_2010[:29, :29]\n",
    "VarCovar_2a_PECOTA_2010=model2a_A_PECOTA_2010@matrix_p2a_df_2010@model2a_A_PECOTA_2010\n",
    "inv_VarCovar_2a_PECOTA_2010=np.linalg.inv(VarCovar_2a_PECOTA_2010)\n",
    "model2a_Xi_u_PECOTA2010=(data_2010['Xi']-data_2010['mean_PECOTA'])[:29].to_numpy()\n",
    "D2a_PECOTA_2010=model2a_Xi_u_PECOTA2010.T@inv_VarCovar_2a_PECOTA_2010@model2a_Xi_u_PECOTA2010\n",
    "D2a_PECOTA_2010"
   ]
  },
  {
   "cell_type": "code",
   "execution_count": 274,
   "metadata": {},
   "outputs": [
    {
     "data": {
      "text/plain": [
       "91.79185137569459"
      ]
     },
     "execution_count": 274,
     "metadata": {},
     "output_type": "execute_result"
    }
   ],
   "source": [
    "model2a_df_2009 = df_2009.iloc[:29, :30]\n",
    "p2a_df_2009= model2a_df_2009.map(model_2a)\n",
    "matrix_p2a_df_2009 = p2a_df_2009.iloc[:,1:].to_numpy()\n",
    "model2a_A_PECOTA_2009 = A_PECOTA_2009[:29, :29]\n",
    "VarCovar_2a_PECOTA_2009=model2a_A_PECOTA_2009@matrix_p2a_df_2009@model2a_A_PECOTA_2009\n",
    "inv_VarCovar_2a_PECOTA_2009=np.linalg.inv(VarCovar_2a_PECOTA_2009)\n",
    "model2a_Xi_u_PECOTA2009=(data_2009['Xi']-data_2009['mean_PECOTA'])[:29].to_numpy()\n",
    "D2a_PECOTA_2009=model2a_Xi_u_PECOTA2009.T@inv_VarCovar_2a_PECOTA_2009@model2a_Xi_u_PECOTA2009\n",
    "D2a_PECOTA_2009"
   ]
  },
  {
   "cell_type": "code",
   "execution_count": 275,
   "metadata": {},
   "outputs": [
    {
     "data": {
      "text/plain": [
       "62.975674298411064"
      ]
     },
     "execution_count": 275,
     "metadata": {},
     "output_type": "execute_result"
    }
   ],
   "source": [
    "model2a_df_2008 = df_2008.iloc[:29, :30]\n",
    "p2a_df_2008= model2a_df_2008.map(model_2a)\n",
    "matrix_p2a_df_2008 = p2a_df_2008.iloc[:,1:].to_numpy()\n",
    "model2a_A_PECOTA_2008 = A_PECOTA_2008[:29, :29]\n",
    "VarCovar_2a_PECOTA_2008=model2a_A_PECOTA_2008@matrix_p2a_df_2008@model2a_A_PECOTA_2008\n",
    "inv_VarCovar_2a_PECOTA_2008=np.linalg.inv(VarCovar_2a_PECOTA_2008)\n",
    "model2a_Xi_u_PECOTA2008=(data_2008['Xi']-data_2008['mean_PECOTA'])[:29].to_numpy()\n",
    "D2a_PECOTA_2008=model2a_Xi_u_PECOTA2008.T@inv_VarCovar_2a_PECOTA_2008@model2a_Xi_u_PECOTA2008\n",
    "D2a_PECOTA_2008"
   ]
  },
  {
   "cell_type": "markdown",
   "metadata": {},
   "source": [
    "### FanGraphs"
   ]
  },
  {
   "cell_type": "code",
   "execution_count": 276,
   "metadata": {},
   "outputs": [
    {
     "data": {
      "text/plain": [
       "82.66663615077938"
      ]
     },
     "execution_count": 276,
     "metadata": {},
     "output_type": "execute_result"
    }
   ],
   "source": [
    "model2a_A_FanGraphs_2023 = A_FanGraphs_2023[:29, :29]\n",
    "VarCovar_2a_FanGraphs_2023=model2a_A_FanGraphs_2023@matrix_p2a_df_2023@model2a_A_FanGraphs_2023\n",
    "inv_VarCovar_2a_FanGraphs_2023=np.linalg.inv(VarCovar_2a_FanGraphs_2023)\n",
    "model2a_Xi_u_FanGraphs2023=(data_2023['Xi']-data_2023['mean_FanGraphs'])[:29].to_numpy()\n",
    "D2a_FanGraphs_2023=model2a_Xi_u_FanGraphs2023.T@inv_VarCovar_2a_FanGraphs_2023@model2a_Xi_u_FanGraphs2023\n",
    "D2a_FanGraphs_2023"
   ]
  },
  {
   "cell_type": "code",
   "execution_count": 277,
   "metadata": {},
   "outputs": [
    {
     "data": {
      "text/plain": [
       "63.09176502638064"
      ]
     },
     "execution_count": 277,
     "metadata": {},
     "output_type": "execute_result"
    }
   ],
   "source": [
    "model2a_A_FanGraphs_2022 = A_FanGraphs_2022[:29, :29]\n",
    "VarCovar_2a_FanGraphs_2022=model2a_A_FanGraphs_2022@matrix_p2a_df_2022@model2a_A_FanGraphs_2022\n",
    "inv_VarCovar_2a_FanGraphs_2022=np.linalg.inv(VarCovar_2a_FanGraphs_2022)\n",
    "model2a_Xi_u_FanGraphs2022=(data_2022['Xi']-data_2022['mean_FanGraphs'])[:29].to_numpy()\n",
    "D2a_FanGraphs_2022=model2a_Xi_u_FanGraphs2022.T@inv_VarCovar_2a_FanGraphs_2022@model2a_Xi_u_FanGraphs2022\n",
    "D2a_FanGraphs_2022"
   ]
  },
  {
   "cell_type": "code",
   "execution_count": 278,
   "metadata": {},
   "outputs": [
    {
     "data": {
      "text/plain": [
       "97.0855515337722"
      ]
     },
     "execution_count": 278,
     "metadata": {},
     "output_type": "execute_result"
    }
   ],
   "source": [
    "model2a_A_FanGraphs_2021 = A_FanGraphs_2021[:29, :29]\n",
    "VarCovar_2a_FanGraphs_2021=model2a_A_FanGraphs_2021@matrix_p2a_df_2021@model2a_A_FanGraphs_2021\n",
    "inv_VarCovar_2a_FanGraphs_2021=np.linalg.inv(VarCovar_2a_FanGraphs_2021)\n",
    "model2a_Xi_u_FanGraphs2021=(data_2021['Xi']-data_2021['mean_FanGraphs'])[:29].to_numpy()\n",
    "D2a_FanGraphs_2021=model2a_Xi_u_FanGraphs2021.T@inv_VarCovar_2a_FanGraphs_2021@model2a_Xi_u_FanGraphs2021\n",
    "D2a_FanGraphs_2021"
   ]
  },
  {
   "cell_type": "code",
   "execution_count": 279,
   "metadata": {},
   "outputs": [
    {
     "data": {
      "text/plain": [
       "170.68229431275518"
      ]
     },
     "execution_count": 279,
     "metadata": {},
     "output_type": "execute_result"
    }
   ],
   "source": [
    "model2a_A_FanGraphs_2020 = A_FanGraphs_2020[:29, :29]\n",
    "VarCovar_2a_FanGraphs_2020=model2a_A_FanGraphs_2020@matrix_p2a_df_2020@model2a_A_FanGraphs_2020\n",
    "inv_VarCovar_2a_FanGraphs_2020=np.linalg.inv(VarCovar_2a_FanGraphs_2020)\n",
    "model2a_Xi_u_FanGraphs2020=(data_2020['Xi']-data_2020['mean_FanGraphs'])[:29].to_numpy()\n",
    "D2a_FanGraphs_2020=model2a_Xi_u_FanGraphs2020.T@inv_VarCovar_2a_FanGraphs_2020@model2a_Xi_u_FanGraphs2020\n",
    "D2a_FanGraphs_2020"
   ]
  },
  {
   "cell_type": "code",
   "execution_count": 280,
   "metadata": {},
   "outputs": [
    {
     "data": {
      "text/plain": [
       "69.69078315411551"
      ]
     },
     "execution_count": 280,
     "metadata": {},
     "output_type": "execute_result"
    }
   ],
   "source": [
    "model2a_A_FanGraphs_2019 = A_FanGraphs_2019[:29, :29]\n",
    "VarCovar_2a_FanGraphs_2019=model2a_A_FanGraphs_2019@matrix_p2a_df_2019@model2a_A_FanGraphs_2019\n",
    "inv_VarCovar_2a_FanGraphs_2019=np.linalg.inv(VarCovar_2a_FanGraphs_2019)\n",
    "model2a_Xi_u_FanGraphs2019=(data_2019['Xi']-data_2019['mean_FanGraphs'])[:29].to_numpy()\n",
    "D2a_FanGraphs_2019=model2a_Xi_u_FanGraphs2019.T@inv_VarCovar_2a_FanGraphs_2019@model2a_Xi_u_FanGraphs2019\n",
    "D2a_FanGraphs_2019"
   ]
  },
  {
   "cell_type": "code",
   "execution_count": 281,
   "metadata": {},
   "outputs": [
    {
     "data": {
      "text/plain": [
       "81.97697597718235"
      ]
     },
     "execution_count": 281,
     "metadata": {},
     "output_type": "execute_result"
    }
   ],
   "source": [
    "model2a_A_FanGraphs_2018 = A_FanGraphs_2018[:29, :29]\n",
    "VarCovar_2a_FanGraphs_2018=model2a_A_FanGraphs_2018@matrix_p2a_df_2018@model2a_A_FanGraphs_2018\n",
    "inv_VarCovar_2a_FanGraphs_2018=np.linalg.inv(VarCovar_2a_FanGraphs_2018)\n",
    "model2a_Xi_u_FanGraphs2018=(data_2018['Xi']-data_2018['mean_FanGraphs'])[:29].to_numpy()\n",
    "D2a_FanGraphs_2018=model2a_Xi_u_FanGraphs2018.T@inv_VarCovar_2a_FanGraphs_2018@model2a_Xi_u_FanGraphs2018\n",
    "D2a_FanGraphs_2018"
   ]
  },
  {
   "cell_type": "code",
   "execution_count": 282,
   "metadata": {},
   "outputs": [
    {
     "data": {
      "text/plain": [
       "61.57157475536801"
      ]
     },
     "execution_count": 282,
     "metadata": {},
     "output_type": "execute_result"
    }
   ],
   "source": [
    "model2a_A_FanGraphs_2017 = A_FanGraphs_2017[:29, :29]\n",
    "VarCovar_2a_FanGraphs_2017=model2a_A_FanGraphs_2017@matrix_p2a_df_2017@model2a_A_FanGraphs_2017\n",
    "inv_VarCovar_2a_FanGraphs_2017=np.linalg.inv(VarCovar_2a_FanGraphs_2017)\n",
    "model2a_Xi_u_FanGraphs2017=(data_2017['Xi']-data_2017['mean_FanGraphs'])[:29].to_numpy()\n",
    "D2a_FanGraphs_2017=model2a_Xi_u_FanGraphs2017.T@inv_VarCovar_2a_FanGraphs_2017@model2a_Xi_u_FanGraphs2017\n",
    "D2a_FanGraphs_2017"
   ]
  },
  {
   "cell_type": "code",
   "execution_count": 283,
   "metadata": {},
   "outputs": [
    {
     "data": {
      "text/plain": [
       "37.76263651282794"
      ]
     },
     "execution_count": 283,
     "metadata": {},
     "output_type": "execute_result"
    }
   ],
   "source": [
    "model2a_A_FanGraphs_2016 = A_FanGraphs_2016[:29, :29]\n",
    "VarCovar_2a_FanGraphs_2016=model2a_A_FanGraphs_2016@matrix_p2a_df_2016@model2a_A_FanGraphs_2016\n",
    "inv_VarCovar_2a_FanGraphs_2016=np.linalg.inv(VarCovar_2a_FanGraphs_2016)\n",
    "model2a_Xi_u_FanGraphs2016=(data_2016['Xi']-data_2016['mean_FanGraphs'])[:29].to_numpy()\n",
    "D2a_FanGraphs_2016=model2a_Xi_u_FanGraphs2016.T@inv_VarCovar_2a_FanGraphs_2016@model2a_Xi_u_FanGraphs2016\n",
    "D2a_FanGraphs_2016"
   ]
  },
  {
   "cell_type": "code",
   "execution_count": 284,
   "metadata": {},
   "outputs": [
    {
     "data": {
      "text/plain": [
       "58.53706462743516"
      ]
     },
     "execution_count": 284,
     "metadata": {},
     "output_type": "execute_result"
    }
   ],
   "source": [
    "model2a_A_FanGraphs_2015 = A_FanGraphs_2015[:29, :29]\n",
    "VarCovar_2a_FanGraphs_2015=model2a_A_FanGraphs_2015@matrix_p2a_df_2015@model2a_A_FanGraphs_2015\n",
    "inv_VarCovar_2a_FanGraphs_2015=np.linalg.inv(VarCovar_2a_FanGraphs_2015)\n",
    "model2a_Xi_u_FanGraphs2015=(data_2015['Xi']-data_2015['mean_FanGraphs'])[:29].to_numpy()\n",
    "D2a_FanGraphs_2015=model2a_Xi_u_FanGraphs2015.T@inv_VarCovar_2a_FanGraphs_2015@model2a_Xi_u_FanGraphs2015\n",
    "D2a_FanGraphs_2015"
   ]
  },
  {
   "cell_type": "code",
   "execution_count": 285,
   "metadata": {},
   "outputs": [
    {
     "data": {
      "text/plain": [
       "51.40005455629376"
      ]
     },
     "execution_count": 285,
     "metadata": {},
     "output_type": "execute_result"
    }
   ],
   "source": [
    "model2a_A_FanGraphs_2014 = A_FanGraphs_2014[:29, :29]\n",
    "VarCovar_2a_FanGraphs_2014=model2a_A_FanGraphs_2014@matrix_p2a_df_2014@model2a_A_FanGraphs_2014\n",
    "inv_VarCovar_2a_FanGraphs_2014=np.linalg.inv(VarCovar_2a_FanGraphs_2014)\n",
    "model2a_Xi_u_FanGraphs2014=(data_2014['Xi']-data_2014['mean_FanGraphs'])[:29].to_numpy()\n",
    "D2a_FanGraphs_2014=model2a_Xi_u_FanGraphs2014.T@inv_VarCovar_2a_FanGraphs_2014@model2a_Xi_u_FanGraphs2014\n",
    "D2a_FanGraphs_2014"
   ]
  },
  {
   "cell_type": "code",
   "execution_count": 286,
   "metadata": {},
   "outputs": [
    {
     "data": {
      "text/plain": [
       "34.792346646798066"
      ]
     },
     "execution_count": 286,
     "metadata": {},
     "output_type": "execute_result"
    }
   ],
   "source": [
    "model2a_A_FanGraphs_2013 = A_FanGraphs_2013[:29, :29]\n",
    "VarCovar_2a_FanGraphs_2013=model2a_A_FanGraphs_2013@matrix_p2a_df_2013@model2a_A_FanGraphs_2013\n",
    "inv_VarCovar_2a_FanGraphs_2013=np.linalg.inv(VarCovar_2a_FanGraphs_2013)\n",
    "model2a_Xi_u_FanGraphs2013=(data_2013['Xi']-data_2013['mean_FanGraphs'])[:29].to_numpy()\n",
    "D2a_FanGraphs_2013=model2a_Xi_u_FanGraphs2013.T@inv_VarCovar_2a_FanGraphs_2013@model2a_Xi_u_FanGraphs2013\n",
    "D2a_FanGraphs_2013"
   ]
  },
  {
   "cell_type": "markdown",
   "metadata": {},
   "source": [
    "### ZiPs"
   ]
  },
  {
   "cell_type": "code",
   "execution_count": 287,
   "metadata": {},
   "outputs": [
    {
     "data": {
      "text/plain": [
       "85.17903300473442"
      ]
     },
     "execution_count": 287,
     "metadata": {},
     "output_type": "execute_result"
    }
   ],
   "source": [
    "model2a_A_ZiPs_2023 = A_ZiPs_2023[:29, :29]\n",
    "VarCovar_2a_ZiPs_2023=model2a_A_ZiPs_2023@matrix_p2a_df_2023@model2a_A_ZiPs_2023\n",
    "inv_VarCovar_2a_ZiPs_2023=np.linalg.inv(VarCovar_2a_ZiPs_2023)\n",
    "model2a_Xi_u_ZiPs2023=(data_2023['Xi']-data_2023['mean_ZiPs'])[:29].to_numpy()\n",
    "D2a_ZiPs_2023=model2a_Xi_u_ZiPs2023.T@inv_VarCovar_2a_ZiPs_2023@model2a_Xi_u_ZiPs2023\n",
    "D2a_ZiPs_2023"
   ]
  },
  {
   "cell_type": "code",
   "execution_count": 288,
   "metadata": {},
   "outputs": [
    {
     "data": {
      "text/plain": [
       "65.81287214352133"
      ]
     },
     "execution_count": 288,
     "metadata": {},
     "output_type": "execute_result"
    }
   ],
   "source": [
    "model2a_A_ZiPs_2022 = A_ZiPs_2022[:29, :29]\n",
    "VarCovar_2a_ZiPs_2022=model2a_A_ZiPs_2022@matrix_p2a_df_2022@model2a_A_ZiPs_2022\n",
    "inv_VarCovar_2a_ZiPs_2022=np.linalg.inv(VarCovar_2a_ZiPs_2022)\n",
    "model2a_Xi_u_ZiPs2022=(data_2022['Xi']-data_2022['mean_ZiPs'])[:29].to_numpy()\n",
    "D2a_ZiPs_2022=model2a_Xi_u_ZiPs2022.T@inv_VarCovar_2a_ZiPs_2022@model2a_Xi_u_ZiPs2022\n",
    "D2a_ZiPs_2022"
   ]
  },
  {
   "cell_type": "code",
   "execution_count": 289,
   "metadata": {},
   "outputs": [
    {
     "data": {
      "text/plain": [
       "93.34575691456226"
      ]
     },
     "execution_count": 289,
     "metadata": {},
     "output_type": "execute_result"
    }
   ],
   "source": [
    "model2a_A_ZiPs_2021 = A_ZiPs_2021[:29, :29]\n",
    "VarCovar_2a_ZiPs_2021=model2a_A_ZiPs_2021@matrix_p2a_df_2021@model2a_A_ZiPs_2021\n",
    "inv_VarCovar_2a_ZiPs_2021=np.linalg.inv(VarCovar_2a_ZiPs_2021)\n",
    "model2a_Xi_u_ZiPs2021=(data_2021['Xi']-data_2021['mean_ZiPs'])[:29].to_numpy()\n",
    "D2a_ZiPs_2021=model2a_Xi_u_ZiPs2021.T@inv_VarCovar_2a_ZiPs_2021@model2a_Xi_u_ZiPs2021\n",
    "D2a_ZiPs_2021"
   ]
  },
  {
   "cell_type": "code",
   "execution_count": 290,
   "metadata": {},
   "outputs": [
    {
     "data": {
      "text/plain": [
       "90.81026613369494"
      ]
     },
     "execution_count": 290,
     "metadata": {},
     "output_type": "execute_result"
    }
   ],
   "source": [
    "model2a_A_ZiPs_2020 = A_ZiPs_2020[:29, :29]\n",
    "VarCovar_2a_ZiPs_2020=model2a_A_ZiPs_2020@matrix_p2a_df_2020@model2a_A_ZiPs_2020\n",
    "inv_VarCovar_2a_ZiPs_2020=np.linalg.inv(VarCovar_2a_ZiPs_2020)\n",
    "model2a_Xi_u_ZiPs2020=(data_2020['Xi']-data_2020['mean_ZiPs'])[:29].to_numpy()\n",
    "D2a_ZiPs_2020=model2a_Xi_u_ZiPs2020.T@inv_VarCovar_2a_ZiPs_2020@model2a_Xi_u_ZiPs2020\n",
    "D2a_ZiPs_2020"
   ]
  },
  {
   "cell_type": "code",
   "execution_count": 291,
   "metadata": {},
   "outputs": [
    {
     "data": {
      "text/plain": [
       "56.58081307488397"
      ]
     },
     "execution_count": 291,
     "metadata": {},
     "output_type": "execute_result"
    }
   ],
   "source": [
    "model2a_A_ZiPs_2019 = A_ZiPs_2019[:29, :29]\n",
    "VarCovar_2a_ZiPs_2019=model2a_A_ZiPs_2019@matrix_p2a_df_2019@model2a_A_ZiPs_2019\n",
    "inv_VarCovar_2a_ZiPs_2019=np.linalg.inv(VarCovar_2a_ZiPs_2019)\n",
    "model2a_Xi_u_ZiPs2019=(data_2019['Xi']-data_2019['mean_ZiPs'])[:29].to_numpy()\n",
    "D2a_ZiPs_2019=model2a_Xi_u_ZiPs2019.T@inv_VarCovar_2a_ZiPs_2019@model2a_Xi_u_ZiPs2019\n",
    "D2a_ZiPs_2019"
   ]
  },
  {
   "cell_type": "code",
   "execution_count": 292,
   "metadata": {},
   "outputs": [
    {
     "data": {
      "text/plain": [
       "72.1137530437701"
      ]
     },
     "execution_count": 292,
     "metadata": {},
     "output_type": "execute_result"
    }
   ],
   "source": [
    "model2a_A_ZiPs_2018 = A_ZiPs_2018[:29, :29]\n",
    "VarCovar_2a_ZiPs_2018=model2a_A_ZiPs_2018@matrix_p2a_df_2018@model2a_A_ZiPs_2018\n",
    "inv_VarCovar_2a_ZiPs_2018=np.linalg.inv(VarCovar_2a_ZiPs_2018)\n",
    "model2a_Xi_u_ZiPs2018=(data_2018['Xi']-data_2018['mean_ZiPs'])[:29].to_numpy()\n",
    "D2a_ZiPs_2018=model2a_Xi_u_ZiPs2018.T@inv_VarCovar_2a_ZiPs_2018@model2a_Xi_u_ZiPs2018\n",
    "D2a_ZiPs_2018"
   ]
  },
  {
   "cell_type": "code",
   "execution_count": 293,
   "metadata": {},
   "outputs": [
    {
     "data": {
      "text/plain": [
       "60.40720534101153"
      ]
     },
     "execution_count": 293,
     "metadata": {},
     "output_type": "execute_result"
    }
   ],
   "source": [
    "model2a_A_ZiPs_2017 = A_ZiPs_2017[:29, :29]\n",
    "VarCovar_2a_ZiPs_2017=model2a_A_ZiPs_2017@matrix_p2a_df_2017@model2a_A_ZiPs_2017\n",
    "inv_VarCovar_2a_ZiPs_2017=np.linalg.inv(VarCovar_2a_ZiPs_2017)\n",
    "model2a_Xi_u_ZiPs2017=(data_2017['Xi']-data_2017['mean_ZiPs'])[:29].to_numpy()\n",
    "D2a_ZiPs_2017=model2a_Xi_u_ZiPs2017.T@inv_VarCovar_2a_ZiPs_2017@model2a_Xi_u_ZiPs2017\n",
    "D2a_ZiPs_2017"
   ]
  },
  {
   "cell_type": "code",
   "execution_count": 294,
   "metadata": {},
   "outputs": [
    {
     "data": {
      "text/plain": [
       "32.63239256527614"
      ]
     },
     "execution_count": 294,
     "metadata": {},
     "output_type": "execute_result"
    }
   ],
   "source": [
    "model2a_A_ZiPs_2016 = A_ZiPs_2016[:29, :29]\n",
    "VarCovar_2a_ZiPs_2016=model2a_A_ZiPs_2016@matrix_p2a_df_2016@model2a_A_ZiPs_2016\n",
    "inv_VarCovar_2a_ZiPs_2016=np.linalg.inv(VarCovar_2a_ZiPs_2016)\n",
    "model2a_Xi_u_ZiPs2016=(data_2016['Xi']-data_2016['mean_ZiPs'])[:29].to_numpy()\n",
    "D2a_ZiPs_2016=model2a_Xi_u_ZiPs2016.T@inv_VarCovar_2a_ZiPs_2016@model2a_Xi_u_ZiPs2016\n",
    "D2a_ZiPs_2016"
   ]
  },
  {
   "cell_type": "code",
   "execution_count": 295,
   "metadata": {},
   "outputs": [
    {
     "data": {
      "text/plain": [
       "59.79785690205104"
      ]
     },
     "execution_count": 295,
     "metadata": {},
     "output_type": "execute_result"
    }
   ],
   "source": [
    "model2a_A_ZiPs_2015 = A_ZiPs_2015[:29, :29]\n",
    "VarCovar_2a_ZiPs_2015=model2a_A_ZiPs_2015@matrix_p2a_df_2015@model2a_A_ZiPs_2015\n",
    "inv_VarCovar_2a_ZiPs_2015=np.linalg.inv(VarCovar_2a_ZiPs_2015)\n",
    "model2a_Xi_u_ZiPs2015=(data_2015['Xi']-data_2015['mean_ZiPs'])[:29].to_numpy()\n",
    "D2a_ZiPs_2015=model2a_Xi_u_ZiPs2015.T@inv_VarCovar_2a_ZiPs_2015@model2a_Xi_u_ZiPs2015\n",
    "D2a_ZiPs_2015"
   ]
  },
  {
   "cell_type": "code",
   "execution_count": 296,
   "metadata": {},
   "outputs": [
    {
     "data": {
      "text/plain": [
       "52.97102264041344"
      ]
     },
     "execution_count": 296,
     "metadata": {},
     "output_type": "execute_result"
    }
   ],
   "source": [
    "model2a_A_ZiPs_2014 = A_ZiPs_2014[:29, :29]\n",
    "VarCovar_2a_ZiPs_2014=model2a_A_ZiPs_2014@matrix_p2a_df_2014@model2a_A_ZiPs_2014\n",
    "inv_VarCovar_2a_ZiPs_2014=np.linalg.inv(VarCovar_2a_ZiPs_2014)\n",
    "model2a_Xi_u_ZiPs2014=(data_2014['Xi']-data_2014['mean_ZiPs'])[:29].to_numpy()\n",
    "D2a_ZiPs_2014=model2a_Xi_u_ZiPs2014.T@inv_VarCovar_2a_ZiPs_2014@model2a_Xi_u_ZiPs2014\n",
    "D2a_ZiPs_2014"
   ]
  },
  {
   "cell_type": "code",
   "execution_count": 297,
   "metadata": {},
   "outputs": [
    {
     "data": {
      "text/plain": [
       "58.86716914301049"
      ]
     },
     "execution_count": 297,
     "metadata": {},
     "output_type": "execute_result"
    }
   ],
   "source": [
    "model2a_A_ZiPs_2013 = A_ZiPs_2013[:29, :29]\n",
    "VarCovar_2a_ZiPs_2013=model2a_A_ZiPs_2013@matrix_p2a_df_2013@model2a_A_ZiPs_2013\n",
    "inv_VarCovar_2a_ZiPs_2013=np.linalg.inv(VarCovar_2a_ZiPs_2013)\n",
    "model2a_Xi_u_ZiPs2013=(data_2013['Xi']-data_2013['mean_ZiPs'])[:29].to_numpy()\n",
    "D2a_ZiPs_2013=model2a_Xi_u_ZiPs2013.T@inv_VarCovar_2a_ZiPs_2013@model2a_Xi_u_ZiPs2013\n",
    "D2a_ZiPs_2013"
   ]
  },
  {
   "cell_type": "code",
   "execution_count": 298,
   "metadata": {},
   "outputs": [
    {
     "data": {
      "text/plain": [
       "90.53760476443446"
      ]
     },
     "execution_count": 298,
     "metadata": {},
     "output_type": "execute_result"
    }
   ],
   "source": [
    "model2a_A_ZiPs_2012 = A_ZiPs_2012[:29, :29]\n",
    "VarCovar_2a_ZiPs_2012=model2a_A_ZiPs_2012@matrix_p2a_df_2012@model2a_A_ZiPs_2012\n",
    "inv_VarCovar_2a_ZiPs_2012=np.linalg.inv(VarCovar_2a_ZiPs_2012)\n",
    "model2a_Xi_u_ZiPs2012=(data_2012['Xi']-data_2012['mean_ZiPs'])[:29].to_numpy()\n",
    "D2a_ZiPs_2012=model2a_Xi_u_ZiPs2012.T@inv_VarCovar_2a_ZiPs_2012@model2a_Xi_u_ZiPs2012\n",
    "D2a_ZiPs_2012"
   ]
  },
  {
   "cell_type": "code",
   "execution_count": 299,
   "metadata": {},
   "outputs": [
    {
     "data": {
      "text/plain": [
       "54.7028509495555"
      ]
     },
     "execution_count": 299,
     "metadata": {},
     "output_type": "execute_result"
    }
   ],
   "source": [
    "model2a_A_ZiPs_2011 = A_ZiPs_2011[:29, :29]\n",
    "VarCovar_2a_ZiPs_2011=model2a_A_ZiPs_2011@matrix_p2a_df_2011@model2a_A_ZiPs_2011\n",
    "inv_VarCovar_2a_ZiPs_2011=np.linalg.inv(VarCovar_2a_ZiPs_2011)\n",
    "model2a_Xi_u_ZiPs2011=(data_2011['Xi']-data_2011['mean_ZiPs'])[:29].to_numpy()\n",
    "D2a_ZiPs_2011=model2a_Xi_u_ZiPs2011.T@inv_VarCovar_2a_ZiPs_2011@model2a_Xi_u_ZiPs2011\n",
    "D2a_ZiPs_2011"
   ]
  },
  {
   "cell_type": "code",
   "execution_count": 300,
   "metadata": {},
   "outputs": [
    {
     "data": {
      "text/plain": [
       "58.22713582156863"
      ]
     },
     "execution_count": 300,
     "metadata": {},
     "output_type": "execute_result"
    }
   ],
   "source": [
    "model2a_A_ZiPs_2010 = A_ZiPs_2010[:29, :29]\n",
    "VarCovar_2a_ZiPs_2010=model2a_A_ZiPs_2010@matrix_p2a_df_2010@model2a_A_ZiPs_2010\n",
    "inv_VarCovar_2a_ZiPs_2010=np.linalg.inv(VarCovar_2a_ZiPs_2010)\n",
    "model2a_Xi_u_ZiPs2010=(data_2010['Xi']-data_2010['mean_ZiPs'])[:29].to_numpy()\n",
    "D2a_ZiPs_2010=model2a_Xi_u_ZiPs2010.T@inv_VarCovar_2a_ZiPs_2010@model2a_Xi_u_ZiPs2010\n",
    "D2a_ZiPs_2010"
   ]
  },
  {
   "cell_type": "code",
   "execution_count": 301,
   "metadata": {},
   "outputs": [
    {
     "data": {
      "text/plain": [
       "75.41065557275586"
      ]
     },
     "execution_count": 301,
     "metadata": {},
     "output_type": "execute_result"
    }
   ],
   "source": [
    "model2a_A_ZiPs_2009 = A_ZiPs_2009[:29, :29]\n",
    "VarCovar_2a_ZiPs_2009=model2a_A_ZiPs_2009@matrix_p2a_df_2009@model2a_A_ZiPs_2009\n",
    "inv_VarCovar_2a_ZiPs_2009=np.linalg.inv(VarCovar_2a_ZiPs_2009)\n",
    "model2a_Xi_u_ZiPs2009=(data_2009['Xi']-data_2009['mean_ZiPs'])[:29].to_numpy()\n",
    "D2a_ZiPs_2009=model2a_Xi_u_ZiPs2009.T@inv_VarCovar_2a_ZiPs_2009@model2a_Xi_u_ZiPs2009\n",
    "D2a_ZiPs_2009"
   ]
  },
  {
   "cell_type": "code",
   "execution_count": 302,
   "metadata": {},
   "outputs": [
    {
     "data": {
      "text/plain": [
       "72.80232119735491"
      ]
     },
     "execution_count": 302,
     "metadata": {},
     "output_type": "execute_result"
    }
   ],
   "source": [
    "model2a_A_ZiPs_2008 = A_ZiPs_2008[:29, :29]\n",
    "VarCovar_2a_ZiPs_2008=model2a_A_ZiPs_2008@matrix_p2a_df_2008@model2a_A_ZiPs_2008\n",
    "inv_VarCovar_2a_ZiPs_2008=np.linalg.inv(VarCovar_2a_ZiPs_2008)\n",
    "model2a_Xi_u_ZiPs2008=(data_2008['Xi']-data_2008['mean_ZiPs'])[:29].to_numpy()\n",
    "D2a_ZiPs_2008=model2a_Xi_u_ZiPs2008.T@inv_VarCovar_2a_ZiPs_2008@model2a_Xi_u_ZiPs2008\n",
    "D2a_ZiPs_2008"
   ]
  },
  {
   "cell_type": "markdown",
   "metadata": {},
   "source": [
    "### Steamer"
   ]
  },
  {
   "cell_type": "code",
   "execution_count": 303,
   "metadata": {},
   "outputs": [
    {
     "data": {
      "text/plain": [
       "50.345276380943204"
      ]
     },
     "execution_count": 303,
     "metadata": {},
     "output_type": "execute_result"
    }
   ],
   "source": [
    "model2a_A_Steamer_2013 = A_Steamer_2013[:29, :29]\n",
    "VarCovar_2a_Steamer_2013=model2a_A_Steamer_2013@matrix_p2a_df_2013@model2a_A_Steamer_2013\n",
    "inv_VarCovar_2a_Steamer_2013=np.linalg.inv(VarCovar_2a_Steamer_2013)\n",
    "model2a_Xi_u_Steamer2013=(data_2013['Xi']-data_2013['mean_Steamer'])[:29].to_numpy()\n",
    "D2a_Steamer_2013=model2a_Xi_u_Steamer2013.T@inv_VarCovar_2a_Steamer_2013@model2a_Xi_u_Steamer2013\n",
    "D2a_Steamer_2013"
   ]
  },
  {
   "cell_type": "code",
   "execution_count": 304,
   "metadata": {},
   "outputs": [
    {
     "data": {
      "text/plain": [
       "46.91222150269154"
      ]
     },
     "execution_count": 304,
     "metadata": {},
     "output_type": "execute_result"
    }
   ],
   "source": [
    "model2a_A_Steamer_2014 = A_Steamer_2014[:29, :29]\n",
    "VarCovar_2a_Steamer_2014=model2a_A_Steamer_2014@matrix_p2a_df_2014@model2a_A_Steamer_2014\n",
    "inv_VarCovar_2a_Steamer_2014=np.linalg.inv(VarCovar_2a_Steamer_2014)\n",
    "model2a_Xi_u_Steamer2014=(data_2014['Xi']-data_2014['mean_Steamer'])[:29].to_numpy()\n",
    "D2a_Steamer_2014=model2a_Xi_u_Steamer2014.T@inv_VarCovar_2a_Steamer_2014@model2a_Xi_u_Steamer2014\n",
    "D2a_Steamer_2014"
   ]
  },
  {
   "cell_type": "code",
   "execution_count": 305,
   "metadata": {},
   "outputs": [
    {
     "data": {
      "text/plain": [
       "58.97063894833164"
      ]
     },
     "execution_count": 305,
     "metadata": {},
     "output_type": "execute_result"
    }
   ],
   "source": [
    "model2a_A_Steamer_2015 = A_Steamer_2015[:29, :29]\n",
    "VarCovar_2a_Steamer_2015=model2a_A_Steamer_2015@matrix_p2a_df_2015@model2a_A_Steamer_2015\n",
    "inv_VarCovar_2a_Steamer_2015=np.linalg.inv(VarCovar_2a_Steamer_2015)\n",
    "model2a_Xi_u_Steamer2015=(data_2015['Xi']-data_2015['mean_Steamer'])[:29].to_numpy()\n",
    "D2a_Steamer_2015=model2a_Xi_u_Steamer2015.T@inv_VarCovar_2a_Steamer_2015@model2a_Xi_u_Steamer2015\n",
    "D2a_Steamer_2015"
   ]
  },
  {
   "cell_type": "code",
   "execution_count": 306,
   "metadata": {},
   "outputs": [
    {
     "data": {
      "text/plain": [
       "35.917792031017854"
      ]
     },
     "execution_count": 306,
     "metadata": {},
     "output_type": "execute_result"
    }
   ],
   "source": [
    "model2a_A_Steamer_2016 = A_Steamer_2016[:29, :29]\n",
    "VarCovar_2a_Steamer_2016=model2a_A_Steamer_2016@matrix_p2a_df_2016@model2a_A_Steamer_2016\n",
    "inv_VarCovar_2a_Steamer_2016=np.linalg.inv(VarCovar_2a_Steamer_2016)\n",
    "model2a_Xi_u_Steamer2016=(data_2016['Xi']-data_2016['mean_Steamer'])[:29].to_numpy()\n",
    "D2a_Steamer_2016=model2a_Xi_u_Steamer2016.T@inv_VarCovar_2a_Steamer_2016@model2a_Xi_u_Steamer2016\n",
    "D2a_Steamer_2016"
   ]
  },
  {
   "cell_type": "code",
   "execution_count": 307,
   "metadata": {},
   "outputs": [
    {
     "data": {
      "text/plain": [
       "58.10610148201175"
      ]
     },
     "execution_count": 307,
     "metadata": {},
     "output_type": "execute_result"
    }
   ],
   "source": [
    "model2a_A_Steamer_2017 = A_Steamer_2017[:29, :29]\n",
    "VarCovar_2a_Steamer_2017=model2a_A_Steamer_2017@matrix_p2a_df_2017@model2a_A_Steamer_2017\n",
    "inv_VarCovar_2a_Steamer_2017=np.linalg.inv(VarCovar_2a_Steamer_2017)\n",
    "model2a_Xi_u_Steamer2017=(data_2017['Xi']-data_2017['mean_Steamer'])[:29].to_numpy()\n",
    "D2a_Steamer_2017=model2a_Xi_u_Steamer2017.T@inv_VarCovar_2a_Steamer_2017@model2a_Xi_u_Steamer2017\n",
    "D2a_Steamer_2017"
   ]
  },
  {
   "cell_type": "code",
   "execution_count": 308,
   "metadata": {},
   "outputs": [
    {
     "data": {
      "text/plain": [
       "77.86789719733224"
      ]
     },
     "execution_count": 308,
     "metadata": {},
     "output_type": "execute_result"
    }
   ],
   "source": [
    "model2a_A_Steamer_2018 = A_Steamer_2018[:29, :29]\n",
    "VarCovar_2a_Steamer_2018=model2a_A_Steamer_2018@matrix_p2a_df_2018@model2a_A_Steamer_2018\n",
    "inv_VarCovar_2a_Steamer_2018=np.linalg.inv(VarCovar_2a_Steamer_2018)\n",
    "model2a_Xi_u_Steamer2018=(data_2018['Xi']-data_2018['mean_Steamer'])[:29].to_numpy()\n",
    "D2a_Steamer_2018=model2a_Xi_u_Steamer2018.T@inv_VarCovar_2a_Steamer_2018@model2a_Xi_u_Steamer2018\n",
    "D2a_Steamer_2018"
   ]
  },
  {
   "cell_type": "markdown",
   "metadata": {},
   "source": [
    "### Table"
   ]
  },
  {
   "cell_type": "code",
   "execution_count": 309,
   "metadata": {},
   "outputs": [],
   "source": [
    "D2a_data = {\n",
    "        'PECOTA':[D2a_PECOTA_2023,D2a_PECOTA_2022,D2a_PECOTA_2021,D2a_PECOTA_2020,D2a_PECOTA_2019,D2a_PECOTA_2018,D2a_PECOTA_2017,D2a_PECOTA_2016,D2a_PECOTA_2015,D2a_PECOTA_2014,D2a_PECOTA_2013,D2a_PECOTA_2012,D2a_PECOTA_2011,D2a_PECOTA_2010,D2a_PECOTA_2009,D2a_PECOTA_2008],\n",
    "        'FanGraphs':[D2a_FanGraphs_2023,D2a_FanGraphs_2022,D2a_FanGraphs_2021,D2a_FanGraphs_2020,D2a_FanGraphs_2019,D2a_FanGraphs_2018,D2a_FanGraphs_2017,D2a_FanGraphs_2016,D2a_FanGraphs_2015,D2a_FanGraphs_2014,D2a_FanGraphs_2013],\n",
    "        'ZiPs':[D2a_ZiPs_2023,D2a_ZiPs_2022,D2a_ZiPs_2021,D2a_ZiPs_2020,D2a_ZiPs_2019,D2a_ZiPs_2018,D2a_ZiPs_2017,D2a_ZiPs_2016,D2a_ZiPs_2015,D2a_ZiPs_2014,D2a_ZiPs_2013,D2a_ZiPs_2012,D2a_ZiPs_2011,D2a_ZiPs_2010,D2a_ZiPs_2009,D2a_ZiPs_2008]\n",
    "}\n",
    "D2a_data['FanGraphs'].extend([None] * 5)\n",
    "D2a_data['Steamer'] = [None] * 5 + [D2a_Steamer_2018, D2a_Steamer_2017, D2a_Steamer_2016, D2a_Steamer_2015, D2a_Steamer_2014, D2a_Steamer_2013] + [None] * 5"
   ]
  },
  {
   "cell_type": "code",
   "execution_count": 310,
   "metadata": {},
   "outputs": [],
   "source": [
    "D2a=pd.DataFrame(\n",
    "    D2a_data,index=['2023','2022','2021','2020','2019','2018','2017','2016','2015','2014','2013','2012','2011','2010','2009','2008']\n",
    "                )\n",
    "D2a = D2a.round(3)"
   ]
  },
  {
   "cell_type": "code",
   "execution_count": 311,
   "metadata": {},
   "outputs": [
    {
     "data": {
      "text/html": [
       "<div>\n",
       "<style scoped>\n",
       "    .dataframe tbody tr th:only-of-type {\n",
       "        vertical-align: middle;\n",
       "    }\n",
       "\n",
       "    .dataframe tbody tr th {\n",
       "        vertical-align: top;\n",
       "    }\n",
       "\n",
       "    .dataframe thead th {\n",
       "        text-align: right;\n",
       "    }\n",
       "</style>\n",
       "<table border=\"1\" class=\"dataframe\">\n",
       "  <thead>\n",
       "    <tr style=\"text-align: right;\">\n",
       "      <th></th>\n",
       "      <th>PECOTA</th>\n",
       "      <th>FanGraphs</th>\n",
       "      <th>ZiPs</th>\n",
       "      <th>Steamer</th>\n",
       "    </tr>\n",
       "  </thead>\n",
       "  <tbody>\n",
       "    <tr>\n",
       "      <th>2023</th>\n",
       "      <td>89.508</td>\n",
       "      <td>82.667</td>\n",
       "      <td>85.179</td>\n",
       "      <td>NaN</td>\n",
       "    </tr>\n",
       "    <tr>\n",
       "      <th>2022</th>\n",
       "      <td>62.703</td>\n",
       "      <td>63.092</td>\n",
       "      <td>65.813</td>\n",
       "      <td>NaN</td>\n",
       "    </tr>\n",
       "    <tr>\n",
       "      <th>2021</th>\n",
       "      <td>116.319</td>\n",
       "      <td>97.086</td>\n",
       "      <td>93.346</td>\n",
       "      <td>NaN</td>\n",
       "    </tr>\n",
       "    <tr>\n",
       "      <th>2020</th>\n",
       "      <td>99.783</td>\n",
       "      <td>170.682</td>\n",
       "      <td>90.810</td>\n",
       "      <td>NaN</td>\n",
       "    </tr>\n",
       "    <tr>\n",
       "      <th>2019</th>\n",
       "      <td>63.190</td>\n",
       "      <td>69.691</td>\n",
       "      <td>56.581</td>\n",
       "      <td>NaN</td>\n",
       "    </tr>\n",
       "    <tr>\n",
       "      <th>2018</th>\n",
       "      <td>62.759</td>\n",
       "      <td>81.977</td>\n",
       "      <td>72.114</td>\n",
       "      <td>77.868</td>\n",
       "    </tr>\n",
       "    <tr>\n",
       "      <th>2017</th>\n",
       "      <td>55.558</td>\n",
       "      <td>61.572</td>\n",
       "      <td>60.407</td>\n",
       "      <td>58.106</td>\n",
       "    </tr>\n",
       "    <tr>\n",
       "      <th>2016</th>\n",
       "      <td>52.967</td>\n",
       "      <td>37.763</td>\n",
       "      <td>32.632</td>\n",
       "      <td>35.918</td>\n",
       "    </tr>\n",
       "    <tr>\n",
       "      <th>2015</th>\n",
       "      <td>74.179</td>\n",
       "      <td>58.537</td>\n",
       "      <td>59.798</td>\n",
       "      <td>58.971</td>\n",
       "    </tr>\n",
       "    <tr>\n",
       "      <th>2014</th>\n",
       "      <td>56.237</td>\n",
       "      <td>51.400</td>\n",
       "      <td>52.971</td>\n",
       "      <td>46.912</td>\n",
       "    </tr>\n",
       "    <tr>\n",
       "      <th>2013</th>\n",
       "      <td>58.273</td>\n",
       "      <td>34.792</td>\n",
       "      <td>58.867</td>\n",
       "      <td>50.345</td>\n",
       "    </tr>\n",
       "    <tr>\n",
       "      <th>2012</th>\n",
       "      <td>80.557</td>\n",
       "      <td>NaN</td>\n",
       "      <td>90.538</td>\n",
       "      <td>NaN</td>\n",
       "    </tr>\n",
       "    <tr>\n",
       "      <th>2011</th>\n",
       "      <td>55.773</td>\n",
       "      <td>NaN</td>\n",
       "      <td>54.703</td>\n",
       "      <td>NaN</td>\n",
       "    </tr>\n",
       "    <tr>\n",
       "      <th>2010</th>\n",
       "      <td>61.014</td>\n",
       "      <td>NaN</td>\n",
       "      <td>58.227</td>\n",
       "      <td>NaN</td>\n",
       "    </tr>\n",
       "    <tr>\n",
       "      <th>2009</th>\n",
       "      <td>91.792</td>\n",
       "      <td>NaN</td>\n",
       "      <td>75.411</td>\n",
       "      <td>NaN</td>\n",
       "    </tr>\n",
       "    <tr>\n",
       "      <th>2008</th>\n",
       "      <td>62.976</td>\n",
       "      <td>NaN</td>\n",
       "      <td>72.802</td>\n",
       "      <td>NaN</td>\n",
       "    </tr>\n",
       "  </tbody>\n",
       "</table>\n",
       "</div>"
      ],
      "text/plain": [
       "       PECOTA  FanGraphs    ZiPs  Steamer\n",
       "2023   89.508     82.667  85.179      NaN\n",
       "2022   62.703     63.092  65.813      NaN\n",
       "2021  116.319     97.086  93.346      NaN\n",
       "2020   99.783    170.682  90.810      NaN\n",
       "2019   63.190     69.691  56.581      NaN\n",
       "2018   62.759     81.977  72.114   77.868\n",
       "2017   55.558     61.572  60.407   58.106\n",
       "2016   52.967     37.763  32.632   35.918\n",
       "2015   74.179     58.537  59.798   58.971\n",
       "2014   56.237     51.400  52.971   46.912\n",
       "2013   58.273     34.792  58.867   50.345\n",
       "2012   80.557        NaN  90.538      NaN\n",
       "2011   55.773        NaN  54.703      NaN\n",
       "2010   61.014        NaN  58.227      NaN\n",
       "2009   91.792        NaN  75.411      NaN\n",
       "2008   62.976        NaN  72.802      NaN"
      ]
     },
     "execution_count": 311,
     "metadata": {},
     "output_type": "execute_result"
    }
   ],
   "source": [
    "D2a"
   ]
  },
  {
   "cell_type": "code",
   "execution_count": 312,
   "metadata": {},
   "outputs": [],
   "source": [
    "with pd.ExcelWriter('Model2.xlsx', engine='openpyxl', mode='a') as writer:\n",
    "    D2a.to_excel(writer, sheet_name='2a')"
   ]
  },
  {
   "cell_type": "markdown",
   "metadata": {},
   "source": [
    "### P Value"
   ]
  },
  {
   "cell_type": "code",
   "execution_count": 313,
   "metadata": {},
   "outputs": [],
   "source": [
    "# Initialize an empty dictionary to store the p-value for each year\n",
    "p_D2a_PECOTA_values = {}\n",
    "\n",
    "for year in range(2023, 2007, -1):  # This will loop from 2023 to 2008\n",
    "    # Create the variable names dynamically for the current year\n",
    "    D2a_PECOTA_var_name = f'D2a_PECOTA_{year}'\n",
    "    p_D2a_pecota_var_name = f'p_D2a_pecota_{year}'\n",
    "    \n",
    "    # Assume globals() contains your D2a_PECOTA_year variables\n",
    "    D2a_PECOTA_var = globals()[D2a_PECOTA_var_name]\n",
    "    p_D2a_value = 1 - stats.chi2.cdf(D2a_PECOTA_var, 29)\n",
    "    \n",
    "    # Store the computed p-value in the dictionary\n",
    "    p_D2a_PECOTA_values[year] = p_D2a_value\n",
    "\n",
    "    # Optionally, if you want to create a new variable for each p-value\n",
    "    globals()[p_D2a_pecota_var_name] = p_D2a_value"
   ]
  },
  {
   "cell_type": "code",
   "execution_count": 314,
   "metadata": {},
   "outputs": [],
   "source": [
    "# Initialize an empty dictionary to store the p-value for each year\n",
    "p_D2a_FanGraphs_values = {}\n",
    "\n",
    "for year in range(2023, 2012, -1):  # This will loop from 2023 to 2008\n",
    "    # Create the variable names dynamically for the current year\n",
    "    D2a_FanGraphs_var_name = f'D2a_FanGraphs_{year}'\n",
    "    p_D2a_FanGraphs_var_name = f'p_D2a_fangraphs_{year}'\n",
    "    \n",
    "    # Assume globals() contains your D2a_FanGraphs_year variables\n",
    "    D2a_FanGraphs_var = globals()[D2a_FanGraphs_var_name]\n",
    "    p_D2a_value = 1 - stats.chi2.cdf(D2a_FanGraphs_var, 29)\n",
    "    \n",
    "    # Store the computed p-value in the dictionary\n",
    "    p_D2a_FanGraphs_values[year] = p_D2a_value\n",
    "\n",
    "    # Optionally, if you want to create a new variable for each p-value\n",
    "    globals()[p_D2a_FanGraphs_var_name] = p_D2a_value"
   ]
  },
  {
   "cell_type": "code",
   "execution_count": 315,
   "metadata": {},
   "outputs": [],
   "source": [
    "# Initialize an empty dictionary to store the p-value for each year\n",
    "p_D2a_ZiPs_values = {}\n",
    "\n",
    "for year in range(2023, 2007, -1):  # This will loop from 2023 to 2008\n",
    "    # Create the variable names dynamically for the current year\n",
    "    D2a_ZiPs_var_name = f'D2a_ZiPs_{year}'\n",
    "    p_D2a_ZiPs_var_name = f'p_D2a_zips_{year}'\n",
    "    \n",
    "    # Assume globals() contains your D2a_ZiPs_year variables\n",
    "    D2a_ZiPs_var = globals()[D2a_ZiPs_var_name]\n",
    "    p_D2a_value = 1 - stats.chi2.cdf(D2a_ZiPs_var, 29)\n",
    "    \n",
    "    # Store the computed p-value in the dictionary\n",
    "    p_D2a_ZiPs_values[year] = p_D2a_value\n",
    "\n",
    "    # Optionally, if you want to create a new variable for each p-value\n",
    "    globals()[p_D2a_ZiPs_var_name] = p_D2a_value"
   ]
  },
  {
   "cell_type": "code",
   "execution_count": 316,
   "metadata": {},
   "outputs": [],
   "source": [
    "# Initialize an empty dictionary to store the p-value for each year\n",
    "p_D2a_Steamer_values = {}\n",
    "\n",
    "for year in range(2018, 2012, -1):  # This will loop from 2023 to 2008\n",
    "    # Create the variable names dynamically for the current year\n",
    "    D2a_Steamer_var_name = f'D2a_Steamer_{year}'\n",
    "    p_D2a_Steamer_var_name = f'p_D2a_steamer_{year}'\n",
    "    \n",
    "    # Assume globals() contains your D2a_Steamer_year variables\n",
    "    D2a_Steamer_var = globals()[D2a_Steamer_var_name]\n",
    "    p_D2a_value = 1 - stats.chi2.cdf(D2a_Steamer_var, 29)\n",
    "    \n",
    "    # Store the computed p-value in the dictionary\n",
    "    p_D2a_Steamer_values[year] = p_D2a_value\n",
    "\n",
    "    # Optionally, if you want to create a new variable for each p-value\n",
    "    globals()[p_D2a_Steamer_var_name] = p_D2a_value"
   ]
  },
  {
   "cell_type": "markdown",
   "metadata": {},
   "source": [
    "### P-value table"
   ]
  },
  {
   "cell_type": "code",
   "execution_count": 317,
   "metadata": {},
   "outputs": [],
   "source": [
    "p_value_D2a_data = {\n",
    "        'PECOTA': [p_D2a_pecota_2023, p_D2a_pecota_2022, p_D2a_pecota_2021, p_D2a_pecota_2020, p_D2a_pecota_2019, p_D2a_pecota_2018, p_D2a_pecota_2017, p_D2a_fangraphs_2016, p_D2a_pecota_2015, p_D2a_pecota_2014, p_D2a_pecota_2013, p_D2a_pecota_2012, p_D2a_pecota_2011, p_D2a_pecota_2010, p_D2a_pecota_2009, p_D2a_pecota_2008],\n",
    "        'FanGraphs': [p_D2a_fangraphs_2023, p_D2a_fangraphs_2022, p_D2a_fangraphs_2021, p_D2a_fangraphs_2020, p_D2a_fangraphs_2019, p_D2a_fangraphs_2018, p_D2a_fangraphs_2017, p_D2a_fangraphs_2016, p_D2a_fangraphs_2015, p_D2a_fangraphs_2014, p_D2a_fangraphs_2013],\n",
    "        'ZiPs': [p_D2a_zips_2023, p_D2a_zips_2022, p_D2a_zips_2021, p_D2a_zips_2020, p_D2a_zips_2019, p_D2a_zips_2018, p_D2a_zips_2017, p_D2a_zips_2016, p_D2a_zips_2015, p_D2a_zips_2014, p_D2a_zips_2013, p_D2a_zips_2012, p_D2a_zips_2011, p_D2a_zips_2010, p_D2a_zips_2009, p_D2a_zips_2008]\n",
    "}\n",
    "p_value_D2a_data['FanGraphs'].extend([None] * 5)\n",
    "p_value_D2a_data['Steamer'] = [None] * 5 + [p_D2a_steamer_2018, p_D2a_steamer_2017, p_D2a_steamer_2016, p_D2a_steamer_2015, p_D2a_steamer_2014, p_D2a_steamer_2013] + [None] * 5\n"
   ]
  },
  {
   "cell_type": "code",
   "execution_count": 318,
   "metadata": {},
   "outputs": [],
   "source": [
    "P_value_D2a=pd.DataFrame(\n",
    "    p_value_D2a_data,index=['2023','2022','2021','2020','2019','2018','2017','2016','2015','2014','2013','2012','2011','2010','2009','2008']\n",
    "                )\n",
    "P_value_D2a = P_value_D2a.round(15)"
   ]
  },
  {
   "cell_type": "code",
   "execution_count": 319,
   "metadata": {},
   "outputs": [
    {
     "data": {
      "text/html": [
       "<div>\n",
       "<style scoped>\n",
       "    .dataframe tbody tr th:only-of-type {\n",
       "        vertical-align: middle;\n",
       "    }\n",
       "\n",
       "    .dataframe tbody tr th {\n",
       "        vertical-align: top;\n",
       "    }\n",
       "\n",
       "    .dataframe thead th {\n",
       "        text-align: right;\n",
       "    }\n",
       "</style>\n",
       "<table border=\"1\" class=\"dataframe\">\n",
       "  <thead>\n",
       "    <tr style=\"text-align: right;\">\n",
       "      <th></th>\n",
       "      <th>PECOTA</th>\n",
       "      <th>FanGraphs</th>\n",
       "      <th>ZiPs</th>\n",
       "      <th>Steamer</th>\n",
       "    </tr>\n",
       "  </thead>\n",
       "  <tbody>\n",
       "    <tr>\n",
       "      <th>2023</th>\n",
       "      <td>4.333437e-08</td>\n",
       "      <td>4.684449e-07</td>\n",
       "      <td>1.972449e-07</td>\n",
       "      <td>NaN</td>\n",
       "    </tr>\n",
       "    <tr>\n",
       "      <th>2022</th>\n",
       "      <td>2.814839e-04</td>\n",
       "      <td>2.508994e-04</td>\n",
       "      <td>1.108675e-04</td>\n",
       "      <td>NaN</td>\n",
       "    </tr>\n",
       "    <tr>\n",
       "      <th>2021</th>\n",
       "      <td>2.054000e-12</td>\n",
       "      <td>2.847490e-09</td>\n",
       "      <td>1.102827e-08</td>\n",
       "      <td>NaN</td>\n",
       "    </tr>\n",
       "    <tr>\n",
       "      <th>2020</th>\n",
       "      <td>1.059712e-09</td>\n",
       "      <td>0.000000e+00</td>\n",
       "      <td>2.730322e-08</td>\n",
       "      <td>NaN</td>\n",
       "    </tr>\n",
       "    <tr>\n",
       "      <th>2019</th>\n",
       "      <td>2.436972e-04</td>\n",
       "      <td>3.342027e-05</td>\n",
       "      <td>1.612481e-03</td>\n",
       "      <td>NaN</td>\n",
       "    </tr>\n",
       "    <tr>\n",
       "      <th>2018</th>\n",
       "      <td>2.768216e-04</td>\n",
       "      <td>5.928060e-07</td>\n",
       "      <td>1.549485e-05</td>\n",
       "      <td>0.000002</td>\n",
       "    </tr>\n",
       "    <tr>\n",
       "      <th>2017</th>\n",
       "      <td>2.131555e-03</td>\n",
       "      <td>3.921926e-04</td>\n",
       "      <td>5.495029e-04</td>\n",
       "      <td>0.001056</td>\n",
       "    </tr>\n",
       "    <tr>\n",
       "      <th>2016</th>\n",
       "      <td>1.277058e-01</td>\n",
       "      <td>1.277058e-01</td>\n",
       "      <td>2.928126e-01</td>\n",
       "      <td>0.175972</td>\n",
       "    </tr>\n",
       "    <tr>\n",
       "      <th>2015</th>\n",
       "      <td>7.960472e-06</td>\n",
       "      <td>9.358318e-04</td>\n",
       "      <td>6.544333e-04</td>\n",
       "      <td>0.000828</td>\n",
       "    </tr>\n",
       "    <tr>\n",
       "      <th>2014</th>\n",
       "      <td>1.771905e-03</td>\n",
       "      <td>6.354154e-03</td>\n",
       "      <td>4.240075e-03</td>\n",
       "      <td>0.019003</td>\n",
       "    </tr>\n",
       "    <tr>\n",
       "      <th>2013</th>\n",
       "      <td>1.007914e-03</td>\n",
       "      <td>2.114395e-01</td>\n",
       "      <td>8.526155e-04</td>\n",
       "      <td>0.008288</td>\n",
       "    </tr>\n",
       "    <tr>\n",
       "      <th>2012</th>\n",
       "      <td>9.599385e-07</td>\n",
       "      <td>NaN</td>\n",
       "      <td>3.008167e-08</td>\n",
       "      <td>NaN</td>\n",
       "    </tr>\n",
       "    <tr>\n",
       "      <th>2011</th>\n",
       "      <td>2.010818e-03</td>\n",
       "      <td>NaN</td>\n",
       "      <td>2.683191e-03</td>\n",
       "      <td>NaN</td>\n",
       "    </tr>\n",
       "    <tr>\n",
       "      <th>2010</th>\n",
       "      <td>4.611839e-04</td>\n",
       "      <td>NaN</td>\n",
       "      <td>1.020993e-03</td>\n",
       "      <td>NaN</td>\n",
       "    </tr>\n",
       "    <tr>\n",
       "      <th>2009</th>\n",
       "      <td>1.924373e-08</td>\n",
       "      <td>NaN</td>\n",
       "      <td>5.325796e-06</td>\n",
       "      <td>NaN</td>\n",
       "    </tr>\n",
       "    <tr>\n",
       "      <th>2008</th>\n",
       "      <td>2.596704e-04</td>\n",
       "      <td>NaN</td>\n",
       "      <td>1.242249e-05</td>\n",
       "      <td>NaN</td>\n",
       "    </tr>\n",
       "  </tbody>\n",
       "</table>\n",
       "</div>"
      ],
      "text/plain": [
       "            PECOTA     FanGraphs          ZiPs   Steamer\n",
       "2023  4.333437e-08  4.684449e-07  1.972449e-07       NaN\n",
       "2022  2.814839e-04  2.508994e-04  1.108675e-04       NaN\n",
       "2021  2.054000e-12  2.847490e-09  1.102827e-08       NaN\n",
       "2020  1.059712e-09  0.000000e+00  2.730322e-08       NaN\n",
       "2019  2.436972e-04  3.342027e-05  1.612481e-03       NaN\n",
       "2018  2.768216e-04  5.928060e-07  1.549485e-05  0.000002\n",
       "2017  2.131555e-03  3.921926e-04  5.495029e-04  0.001056\n",
       "2016  1.277058e-01  1.277058e-01  2.928126e-01  0.175972\n",
       "2015  7.960472e-06  9.358318e-04  6.544333e-04  0.000828\n",
       "2014  1.771905e-03  6.354154e-03  4.240075e-03  0.019003\n",
       "2013  1.007914e-03  2.114395e-01  8.526155e-04  0.008288\n",
       "2012  9.599385e-07           NaN  3.008167e-08       NaN\n",
       "2011  2.010818e-03           NaN  2.683191e-03       NaN\n",
       "2010  4.611839e-04           NaN  1.020993e-03       NaN\n",
       "2009  1.924373e-08           NaN  5.325796e-06       NaN\n",
       "2008  2.596704e-04           NaN  1.242249e-05       NaN"
      ]
     },
     "execution_count": 319,
     "metadata": {},
     "output_type": "execute_result"
    }
   ],
   "source": [
    "P_value_D2a"
   ]
  },
  {
   "cell_type": "markdown",
   "metadata": {},
   "source": [
    "# D3"
   ]
  },
  {
   "cell_type": "markdown",
   "metadata": {},
   "source": [
    "## PECOTA"
   ]
  },
  {
   "cell_type": "code",
   "execution_count": 320,
   "metadata": {},
   "outputs": [],
   "source": [
    "for year in range(2023, 2007, -1):  # Looping from 2023 to 2008\n",
    "    # Dynamically create variable names\n",
    "    var_covar_matrix_name = f\"VarCovar_D3_PECOTA_{year}\"\n",
    "    inv_var_covar_matrix_name = f\"inv_VarCovar_D3_PECOTA_{year}\"\n",
    "    D3_PECOTA_name = f\"D3_PECOTA_{year}\"\n",
    "\n",
    "    # Dynamically access data for the current year\n",
    "    data = globals()[f\"data_{year}\"]  # Replace with actual data fetching method\n",
    "    df = globals()[f\"df_{year}\"]  # Replace with actual df fetching method\n",
    "\n",
    "    # Create VarCovar matrix for the current year\n",
    "    var_covar_matrix = pd.DataFrame(np.zeros((30, 30)))\n",
    "    np.fill_diagonal(var_covar_matrix.values, data['variance_PECOTA'])\n",
    "    for i in range(30):\n",
    "        for j in range(30):\n",
    "            if i != j:\n",
    "                var_covar_matrix.iat[i, j] = -int(df.iat[i, j + 1]) * data.at[i, 'PECOTA'] / (data.at[i, 'PECOTA'] + data.at[j, 'PECOTA']) * (data.at[j, 'PECOTA'] / (data.at[i, 'PECOTA'] + data.at[j, 'PECOTA']))\n",
    "\n",
    "    # Inverting the VarCovar matrix\n",
    "    inv_var_covar_matrix = np.linalg.inv(var_covar_matrix)\n",
    "\n",
    "    # Calculating D3_PECOTA\n",
    "    Xi_u_PECOTA = globals()[f\"Xi_u_PECOTA{year}\"]  # Replace with actual Xi_u_PECOTA data\n",
    "    D3_PECOTA = Xi_u_PECOTA.T @ inv_var_covar_matrix @ Xi_u_PECOTA\n",
    "\n",
    "    # Storing the result in the globals dictionary for further use\n",
    "    globals()[var_covar_matrix_name] = var_covar_matrix\n",
    "    globals()[inv_var_covar_matrix_name] = inv_var_covar_matrix\n",
    "    globals()[D3_PECOTA_name] = D3_PECOTA\n"
   ]
  },
  {
   "cell_type": "markdown",
   "metadata": {},
   "source": [
    "## FanGraphs"
   ]
  },
  {
   "cell_type": "code",
   "execution_count": 321,
   "metadata": {},
   "outputs": [],
   "source": [
    "for year in range(2023, 2012, -1):  # Looping from 2023 to 2012\n",
    "    # Dynamically create variable names\n",
    "    var_covar_matrix_name = f\"VarCovar_D3_FanGraphs_{year}\"\n",
    "    inv_var_covar_matrix_name = f\"inv_VarCovar_D3_FanGraphs_{year}\"\n",
    "    D3_FanGraphs_name = f\"D3_FanGraphs_{year}\"\n",
    "\n",
    "    # Dynamically access data for the current year\n",
    "    data = globals()[f\"data_{year}\"]  # Replace with actual data fetching method\n",
    "    df = globals()[f\"df_{year}\"]  # Replace with actual df fetching method\n",
    "\n",
    "    # Create VarCovar matrix for the current year\n",
    "    var_covar_matrix = pd.DataFrame(np.zeros((30, 30)))\n",
    "    np.fill_diagonal(var_covar_matrix.values, data['variance_FanGraphs'])\n",
    "    for i in range(30):\n",
    "        for j in range(30):\n",
    "            if i != j:\n",
    "                var_covar_matrix.iat[i, j] = -int(df.iat[i, j + 1]) * data.at[i, 'FanGraphs'] / (data.at[i, 'FanGraphs'] + data.at[j, 'FanGraphs']) * (data.at[j, 'FanGraphs'] / (data.at[i, 'FanGraphs'] + data.at[j, 'FanGraphs']))\n",
    "\n",
    "    # Inverting the VarCovar matrix\n",
    "    inv_var_covar_matrix = np.linalg.inv(var_covar_matrix)\n",
    "\n",
    "    # Calculating D3_FanGraphs\n",
    "    Xi_u_FanGraphs = globals()[f\"Xi_u_FanGraphs{year}\"]  # Replace with actual Xi_u_FanGraphs data\n",
    "    D3_FanGraphs = Xi_u_FanGraphs.T @ inv_var_covar_matrix @ Xi_u_FanGraphs\n",
    "\n",
    "    # Storing the result in the globals dictionary for further use\n",
    "    globals()[var_covar_matrix_name] = var_covar_matrix\n",
    "    globals()[inv_var_covar_matrix_name] = inv_var_covar_matrix\n",
    "    globals()[D3_FanGraphs_name] = D3_FanGraphs"
   ]
  },
  {
   "cell_type": "markdown",
   "metadata": {},
   "source": [
    "## ZiPs"
   ]
  },
  {
   "cell_type": "code",
   "execution_count": 322,
   "metadata": {},
   "outputs": [],
   "source": [
    "for year in range(2023, 2007, -1):  # Looping from 2023 to 2008\n",
    "    # Dynamically create variable names\n",
    "    var_covar_matrix_name = f\"VarCovar_D3_ZiPs_{year}\"\n",
    "    inv_var_covar_matrix_name = f\"inv_VarCovar_D3_ZiPs_{year}\"\n",
    "    D3_ZiPs_name = f\"D3_ZiPs_{year}\"\n",
    "\n",
    "    # Dynamically access data for the current year\n",
    "    data = globals()[f\"data_{year}\"]  # Replace with actual data fetching method\n",
    "    df = globals()[f\"df_{year}\"]  # Replace with actual df fetching method\n",
    "\n",
    "    # Create VarCovar matrix for the current year\n",
    "    var_covar_matrix = pd.DataFrame(np.zeros((30, 30)))\n",
    "    np.fill_diagonal(var_covar_matrix.values, data['variance_ZiPs'])\n",
    "    for i in range(30):\n",
    "        for j in range(30):\n",
    "            if i != j:\n",
    "                var_covar_matrix.iat[i, j] = -int(df.iat[i, j + 1]) * data.at[i, 'ZiPs'] / (data.at[i, 'ZiPs'] + data.at[j, 'ZiPs']) * (data.at[j, 'ZiPs'] / (data.at[i, 'ZiPs'] + data.at[j, 'ZiPs']))\n",
    "\n",
    "    # Inverting the VarCovar matrix\n",
    "    inv_var_covar_matrix = np.linalg.inv(var_covar_matrix)\n",
    "\n",
    "    # Calculating D3_ZiPs\n",
    "    Xi_u_ZiPs = globals()[f\"Xi_u_ZiPs{year}\"]  # Replace with actual Xi_u_ZiPs data\n",
    "    D3_ZiPs = Xi_u_ZiPs.T @ inv_var_covar_matrix @ Xi_u_ZiPs\n",
    "\n",
    "    # Storing the result in the globals dictionary for further use\n",
    "    globals()[var_covar_matrix_name] = var_covar_matrix\n",
    "    globals()[inv_var_covar_matrix_name] = inv_var_covar_matrix\n",
    "    globals()[D3_ZiPs_name] = D3_ZiPs\n"
   ]
  },
  {
   "cell_type": "markdown",
   "metadata": {},
   "source": [
    "## Steamer"
   ]
  },
  {
   "cell_type": "code",
   "execution_count": 323,
   "metadata": {},
   "outputs": [],
   "source": [
    "for year in range(2018, 2012, -1):  # Looping from 2018 to 2013\n",
    "    # Dynamically create variable names\n",
    "    var_covar_matrix_name = f\"VarCovar_D3_Steamer_{year}\"\n",
    "    inv_var_covar_matrix_name = f\"inv_VarCovar_D3_Steamer_{year}\"\n",
    "    D3_Steamer_name = f\"D3_Steamer_{year}\"\n",
    "\n",
    "    # Dynamically access data for the current year\n",
    "    data = globals()[f\"data_{year}\"]  # Replace with actual data fetching method\n",
    "    df = globals()[f\"df_{year}\"]  # Replace with actual df fetching method\n",
    "\n",
    "    # Create VarCovar matrix for the current year\n",
    "    var_covar_matrix = pd.DataFrame(np.zeros((30, 30)))\n",
    "    np.fill_diagonal(var_covar_matrix.values, data['variance_Steamer'])\n",
    "    for i in range(30):\n",
    "        for j in range(30):\n",
    "            if i != j:\n",
    "                var_covar_matrix.iat[i, j] = -int(df.iat[i, j + 1]) * data.at[i, 'Steamer'] / (data.at[i, 'Steamer'] + data.at[j, 'Steamer']) * (data.at[j, 'Steamer'] / (data.at[i, 'Steamer'] + data.at[j, 'Steamer']))\n",
    "\n",
    "    # Inverting the VarCovar matrix\n",
    "    inv_var_covar_matrix = np.linalg.inv(var_covar_matrix)\n",
    "\n",
    "    # Calculating D3_Steamer\n",
    "    Xi_u_Steamer = globals()[f\"Xi_u_Steamer{year}\"]  # Replace with actual Xi_u_Steamer data\n",
    "    D3_Steamer = Xi_u_Steamer.T @ inv_var_covar_matrix @ Xi_u_Steamer\n",
    "\n",
    "    # Storing the result in the globals dictionary for further use\n",
    "    globals()[var_covar_matrix_name] = var_covar_matrix\n",
    "    globals()[inv_var_covar_matrix_name] = inv_var_covar_matrix\n",
    "    globals()[D3_Steamer_name] = D3_Steamer\n"
   ]
  },
  {
   "cell_type": "markdown",
   "metadata": {},
   "source": [
    "## Table"
   ]
  },
  {
   "cell_type": "code",
   "execution_count": 324,
   "metadata": {},
   "outputs": [],
   "source": [
    "D3_data = {\n",
    "        'PECOTA':[D3_PECOTA_2023,D3_PECOTA_2022,D3_PECOTA_2021,D3_PECOTA_2020,D3_PECOTA_2019,D3_PECOTA_2018,D3_PECOTA_2017,D3_PECOTA_2016,D3_PECOTA_2015,D3_PECOTA_2014,D3_PECOTA_2013,D3_PECOTA_2012,D3_PECOTA_2011,D3_PECOTA_2010,D3_PECOTA_2009,D3_PECOTA_2008],\n",
    "        'FanGraphs':[D3_FanGraphs_2023,D3_FanGraphs_2022,D3_FanGraphs_2021,D3_FanGraphs_2020,D3_FanGraphs_2019,D3_FanGraphs_2018,D3_FanGraphs_2017,D3_FanGraphs_2016,D3_FanGraphs_2015,D3_FanGraphs_2014,D3_FanGraphs_2013],\n",
    "        'ZiPs':[D3_ZiPs_2023,D3_ZiPs_2022,D3_ZiPs_2021,D3_ZiPs_2020,D3_ZiPs_2019,D3_ZiPs_2018,D3_ZiPs_2017,D3_ZiPs_2016,D3_ZiPs_2015,D3_ZiPs_2014,D3_ZiPs_2013,D3_ZiPs_2012,D3_ZiPs_2011,D3_ZiPs_2010,D3_ZiPs_2009,D3_ZiPs_2008]\n",
    "}\n",
    "D3_data['FanGraphs'].extend([None] * 5)\n",
    "D3_data['Steamer'] = [None] * 5 + [D3_Steamer_2018, D3_Steamer_2017, D3_Steamer_2016, D3_Steamer_2015, D3_Steamer_2014, D3_Steamer_2013] + [None] * 5"
   ]
  },
  {
   "cell_type": "code",
   "execution_count": 325,
   "metadata": {},
   "outputs": [],
   "source": [
    "D3=pd.DataFrame(\n",
    "    D3_data,index=['2023','2022','2021','2020','2019','2018','2017','2016','2015','2014','2013','2012','2011','2010','2009','2008']\n",
    "                )\n",
    "D3 = D3.round(3)"
   ]
  },
  {
   "cell_type": "code",
   "execution_count": 326,
   "metadata": {},
   "outputs": [
    {
     "data": {
      "text/html": [
       "<div>\n",
       "<style scoped>\n",
       "    .dataframe tbody tr th:only-of-type {\n",
       "        vertical-align: middle;\n",
       "    }\n",
       "\n",
       "    .dataframe tbody tr th {\n",
       "        vertical-align: top;\n",
       "    }\n",
       "\n",
       "    .dataframe thead th {\n",
       "        text-align: right;\n",
       "    }\n",
       "</style>\n",
       "<table border=\"1\" class=\"dataframe\">\n",
       "  <thead>\n",
       "    <tr style=\"text-align: right;\">\n",
       "      <th></th>\n",
       "      <th>PECOTA</th>\n",
       "      <th>FanGraphs</th>\n",
       "      <th>ZiPs</th>\n",
       "      <th>Steamer</th>\n",
       "    </tr>\n",
       "  </thead>\n",
       "  <tbody>\n",
       "    <tr>\n",
       "      <th>2023</th>\n",
       "      <td>89.012</td>\n",
       "      <td>82.635</td>\n",
       "      <td>85.027</td>\n",
       "      <td>NaN</td>\n",
       "    </tr>\n",
       "    <tr>\n",
       "      <th>2022</th>\n",
       "      <td>62.148</td>\n",
       "      <td>64.048</td>\n",
       "      <td>67.086</td>\n",
       "      <td>NaN</td>\n",
       "    </tr>\n",
       "    <tr>\n",
       "      <th>2021</th>\n",
       "      <td>118.260</td>\n",
       "      <td>97.603</td>\n",
       "      <td>94.983</td>\n",
       "      <td>NaN</td>\n",
       "    </tr>\n",
       "    <tr>\n",
       "      <th>2020</th>\n",
       "      <td>37.251</td>\n",
       "      <td>191.138</td>\n",
       "      <td>33.860</td>\n",
       "      <td>NaN</td>\n",
       "    </tr>\n",
       "    <tr>\n",
       "      <th>2019</th>\n",
       "      <td>63.163</td>\n",
       "      <td>67.606</td>\n",
       "      <td>55.563</td>\n",
       "      <td>NaN</td>\n",
       "    </tr>\n",
       "    <tr>\n",
       "      <th>2018</th>\n",
       "      <td>61.974</td>\n",
       "      <td>81.209</td>\n",
       "      <td>67.601</td>\n",
       "      <td>77.534</td>\n",
       "    </tr>\n",
       "    <tr>\n",
       "      <th>2017</th>\n",
       "      <td>55.226</td>\n",
       "      <td>60.802</td>\n",
       "      <td>60.453</td>\n",
       "      <td>58.098</td>\n",
       "    </tr>\n",
       "    <tr>\n",
       "      <th>2016</th>\n",
       "      <td>38.381</td>\n",
       "      <td>37.416</td>\n",
       "      <td>32.747</td>\n",
       "      <td>27.831</td>\n",
       "    </tr>\n",
       "    <tr>\n",
       "      <th>2015</th>\n",
       "      <td>72.433</td>\n",
       "      <td>47.585</td>\n",
       "      <td>59.875</td>\n",
       "      <td>58.305</td>\n",
       "    </tr>\n",
       "    <tr>\n",
       "      <th>2014</th>\n",
       "      <td>56.282</td>\n",
       "      <td>47.497</td>\n",
       "      <td>52.997</td>\n",
       "      <td>39.817</td>\n",
       "    </tr>\n",
       "    <tr>\n",
       "      <th>2013</th>\n",
       "      <td>56.602</td>\n",
       "      <td>34.789</td>\n",
       "      <td>58.943</td>\n",
       "      <td>50.359</td>\n",
       "    </tr>\n",
       "    <tr>\n",
       "      <th>2012</th>\n",
       "      <td>76.046</td>\n",
       "      <td>NaN</td>\n",
       "      <td>90.767</td>\n",
       "      <td>NaN</td>\n",
       "    </tr>\n",
       "    <tr>\n",
       "      <th>2011</th>\n",
       "      <td>55.274</td>\n",
       "      <td>NaN</td>\n",
       "      <td>54.732</td>\n",
       "      <td>NaN</td>\n",
       "    </tr>\n",
       "    <tr>\n",
       "      <th>2010</th>\n",
       "      <td>58.953</td>\n",
       "      <td>NaN</td>\n",
       "      <td>58.062</td>\n",
       "      <td>NaN</td>\n",
       "    </tr>\n",
       "    <tr>\n",
       "      <th>2009</th>\n",
       "      <td>92.935</td>\n",
       "      <td>NaN</td>\n",
       "      <td>75.041</td>\n",
       "      <td>NaN</td>\n",
       "    </tr>\n",
       "    <tr>\n",
       "      <th>2008</th>\n",
       "      <td>52.739</td>\n",
       "      <td>NaN</td>\n",
       "      <td>50.419</td>\n",
       "      <td>NaN</td>\n",
       "    </tr>\n",
       "  </tbody>\n",
       "</table>\n",
       "</div>"
      ],
      "text/plain": [
       "       PECOTA  FanGraphs    ZiPs  Steamer\n",
       "2023   89.012     82.635  85.027      NaN\n",
       "2022   62.148     64.048  67.086      NaN\n",
       "2021  118.260     97.603  94.983      NaN\n",
       "2020   37.251    191.138  33.860      NaN\n",
       "2019   63.163     67.606  55.563      NaN\n",
       "2018   61.974     81.209  67.601   77.534\n",
       "2017   55.226     60.802  60.453   58.098\n",
       "2016   38.381     37.416  32.747   27.831\n",
       "2015   72.433     47.585  59.875   58.305\n",
       "2014   56.282     47.497  52.997   39.817\n",
       "2013   56.602     34.789  58.943   50.359\n",
       "2012   76.046        NaN  90.767      NaN\n",
       "2011   55.274        NaN  54.732      NaN\n",
       "2010   58.953        NaN  58.062      NaN\n",
       "2009   92.935        NaN  75.041      NaN\n",
       "2008   52.739        NaN  50.419      NaN"
      ]
     },
     "execution_count": 326,
     "metadata": {},
     "output_type": "execute_result"
    }
   ],
   "source": [
    "D3"
   ]
  },
  {
   "cell_type": "markdown",
   "metadata": {},
   "source": [
    "## P Value"
   ]
  },
  {
   "cell_type": "code",
   "execution_count": 327,
   "metadata": {},
   "outputs": [],
   "source": [
    "# Initialize an empty dictionary to store the p-value for each year\n",
    "p_D3_PECOTA_values = {}\n",
    "\n",
    "for year in range(2023, 2007, -1):  # This will loop from 2023 to 2008\n",
    "    # Create the variable names dynamically for the current year\n",
    "    D3_PECOTA_var_name = f'D3_PECOTA_{year}'\n",
    "    p_D3_pecota_var_name = f'p_D3_pecota_{year}'\n",
    "    \n",
    "    # Assume globals() contains your D3_PECOTA_year variables\n",
    "    D3_PECOTA_var = globals()[D3_PECOTA_var_name]\n",
    "    p_D3_value = 1 - stats.chi2.cdf(D3_PECOTA_var, 29)\n",
    "    \n",
    "    # Store the computed p-value in the dictionary\n",
    "    p_D3_PECOTA_values[year] = p_D3_value\n",
    "\n",
    "    # Optionally, if you want to create a new variable for each p-value\n",
    "    globals()[p_D3_pecota_var_name] = p_D3_value"
   ]
  },
  {
   "cell_type": "code",
   "execution_count": 328,
   "metadata": {},
   "outputs": [],
   "source": [
    "# Initialize an empty dictionary to store the p-value for each year\n",
    "p_D3_FanGraphs_values = {}\n",
    "\n",
    "for year in range(2023, 2012, -1):  # This will loop from 2023 to 2008\n",
    "    # Create the variable names dynamically for the current year\n",
    "    D3_FanGraphs_var_name = f'D3_FanGraphs_{year}'\n",
    "    p_D3_FanGraphs_var_name = f'p_D3_fangraphs_{year}'\n",
    "    \n",
    "    # Assume globals() contains your D3_FanGraphs_year variables\n",
    "    D3_FanGraphs_var = globals()[D3_FanGraphs_var_name]\n",
    "    p_D3_value = 1 - stats.chi2.cdf(D3_FanGraphs_var, 29)\n",
    "    \n",
    "    # Store the computed p-value in the dictionary\n",
    "    p_D3_FanGraphs_values[year] = p_D3_value\n",
    "\n",
    "    # Optionally, if you want to create a new variable for each p-value\n",
    "    globals()[p_D3_FanGraphs_var_name] = p_D3_value"
   ]
  },
  {
   "cell_type": "code",
   "execution_count": 329,
   "metadata": {},
   "outputs": [],
   "source": [
    "# Initialize an empty dictionary to store the p-value for each year\n",
    "p_D3_ZiPs_values = {}\n",
    "\n",
    "for year in range(2023, 2007, -1):  # This will loop from 2023 to 2008\n",
    "    # Create the variable names dynamically for the current year\n",
    "    D3_ZiPs_var_name = f'D3_ZiPs_{year}'\n",
    "    p_D3_ZiPs_var_name = f'p_D3_zips_{year}'\n",
    "    \n",
    "    # Assume globals() contains your D3_ZiPs_year variables\n",
    "    D3_ZiPs_var = globals()[D3_ZiPs_var_name]\n",
    "    p_D3_value = 1 - stats.chi2.cdf(D3_ZiPs_var, 29)\n",
    "    \n",
    "    # Store the computed p-value in the dictionary\n",
    "    p_D3_ZiPs_values[year] = p_D3_value\n",
    "\n",
    "    # Optionally, if you want to create a new variable for each p-value\n",
    "    globals()[p_D3_ZiPs_var_name] = p_D3_value"
   ]
  },
  {
   "cell_type": "code",
   "execution_count": 330,
   "metadata": {},
   "outputs": [],
   "source": [
    "# Initialize an empty dictionary to store the p-value for each year\n",
    "p_D3_Steamer_values = {}\n",
    "\n",
    "for year in range(2018, 2012, -1):  # This will loop from 2023 to 2008\n",
    "    # Create the variable names dynamically for the current year\n",
    "    D3_Steamer_var_name = f'D3_Steamer_{year}'\n",
    "    p_D3_Steamer_var_name = f'p_D3_steamer_{year}'\n",
    "    \n",
    "    # Assume globals() contains your D3_Steamer_year variables\n",
    "    D3_Steamer_var = globals()[D3_Steamer_var_name]\n",
    "    p_D3_value = 1 - stats.chi2.cdf(D3_Steamer_var, 29)\n",
    "    \n",
    "    # Store the computed p-value in the dictionary\n",
    "    p_D3_Steamer_values[year] = p_D3_value\n",
    "\n",
    "    # Optionally, if you want to create a new variable for each p-value\n",
    "    globals()[p_D3_Steamer_var_name] = p_D3_value"
   ]
  },
  {
   "cell_type": "markdown",
   "metadata": {},
   "source": [
    "## P-Value Table"
   ]
  },
  {
   "cell_type": "code",
   "execution_count": 331,
   "metadata": {},
   "outputs": [],
   "source": [
    "p_value_D3_data = {\n",
    "        'PECOTA': [p_D3_pecota_2023, p_D3_pecota_2022, p_D3_pecota_2021, p_D3_pecota_2020, p_D3_pecota_2019, p_D3_pecota_2018, p_D3_pecota_2017, p_D3_fangraphs_2016, p_D3_pecota_2015, p_D3_pecota_2014, p_D3_pecota_2013, p_D3_pecota_2012, p_D3_pecota_2011, p_D3_pecota_2010, p_D3_pecota_2009, p_D3_pecota_2008],\n",
    "        'FanGraphs': [p_D3_fangraphs_2023, p_D3_fangraphs_2022, p_D3_fangraphs_2021, p_D3_fangraphs_2020, p_D3_fangraphs_2019, p_D3_fangraphs_2018, p_D3_fangraphs_2017, p_D3_fangraphs_2016, p_D3_fangraphs_2015, p_D3_fangraphs_2014, p_D3_fangraphs_2013],\n",
    "        'ZiPs': [p_D3_zips_2023, p_D3_zips_2022, p_D3_zips_2021, p_D3_zips_2020, p_D3_zips_2019, p_D3_zips_2018, p_D3_zips_2017, p_D3_zips_2016, p_D3_zips_2015, p_D3_zips_2014, p_D3_zips_2013, p_D3_zips_2012, p_D3_zips_2011, p_D3_zips_2010, p_D3_zips_2009, p_D3_zips_2008]\n",
    "}\n",
    "p_value_D3_data['FanGraphs'].extend([None] * 5)\n",
    "p_value_D3_data['Steamer'] = [None] * 5 + [p_D3_steamer_2018, p_D3_steamer_2017, p_D3_steamer_2016, p_D3_steamer_2015, p_D3_steamer_2014, p_D3_steamer_2013] + [None] * 5\n"
   ]
  },
  {
   "cell_type": "code",
   "execution_count": 332,
   "metadata": {},
   "outputs": [],
   "source": [
    "P_value_D3=pd.DataFrame(\n",
    "    p_value_D3_data,index=['2023','2022','2021','2020','2019','2018','2017','2016','2015','2014','2013','2012','2011','2010','2009','2008']\n",
    "                )\n",
    "P_value_D3 = P_value_D3.round(15)"
   ]
  },
  {
   "cell_type": "code",
   "execution_count": 333,
   "metadata": {},
   "outputs": [
    {
     "data": {
      "text/html": [
       "<div>\n",
       "<style scoped>\n",
       "    .dataframe tbody tr th:only-of-type {\n",
       "        vertical-align: middle;\n",
       "    }\n",
       "\n",
       "    .dataframe tbody tr th {\n",
       "        vertical-align: top;\n",
       "    }\n",
       "\n",
       "    .dataframe thead th {\n",
       "        text-align: right;\n",
       "    }\n",
       "</style>\n",
       "<table border=\"1\" class=\"dataframe\">\n",
       "  <thead>\n",
       "    <tr style=\"text-align: right;\">\n",
       "      <th></th>\n",
       "      <th>PECOTA</th>\n",
       "      <th>FanGraphs</th>\n",
       "      <th>ZiPs</th>\n",
       "      <th>Steamer</th>\n",
       "    </tr>\n",
       "  </thead>\n",
       "  <tbody>\n",
       "    <tr>\n",
       "      <th>2023</th>\n",
       "      <td>5.162811e-08</td>\n",
       "      <td>4.735744e-07</td>\n",
       "      <td>2.078831e-07</td>\n",
       "      <td>NaN</td>\n",
       "    </tr>\n",
       "    <tr>\n",
       "      <th>2022</th>\n",
       "      <td>3.313613e-04</td>\n",
       "      <td>1.887426e-04</td>\n",
       "      <td>7.511441e-05</td>\n",
       "      <td>NaN</td>\n",
       "    </tr>\n",
       "    <tr>\n",
       "      <th>2021</th>\n",
       "      <td>9.680000e-13</td>\n",
       "      <td>2.357270e-09</td>\n",
       "      <td>6.110076e-09</td>\n",
       "      <td>NaN</td>\n",
       "    </tr>\n",
       "    <tr>\n",
       "      <th>2020</th>\n",
       "      <td>1.399199e-01</td>\n",
       "      <td>0.000000e+00</td>\n",
       "      <td>2.444048e-01</td>\n",
       "      <td>NaN</td>\n",
       "    </tr>\n",
       "    <tr>\n",
       "      <th>2019</th>\n",
       "      <td>2.456350e-04</td>\n",
       "      <td>6.398409e-05</td>\n",
       "      <td>2.128746e-03</td>\n",
       "      <td>NaN</td>\n",
       "    </tr>\n",
       "    <tr>\n",
       "      <th>2018</th>\n",
       "      <td>3.487114e-04</td>\n",
       "      <td>7.696656e-07</td>\n",
       "      <td>6.408319e-05</td>\n",
       "      <td>0.000003</td>\n",
       "    </tr>\n",
       "    <tr>\n",
       "      <th>2017</th>\n",
       "      <td>2.331181e-03</td>\n",
       "      <td>4.903828e-04</td>\n",
       "      <td>5.422407e-04</td>\n",
       "      <td>0.001059</td>\n",
       "    </tr>\n",
       "    <tr>\n",
       "      <th>2016</th>\n",
       "      <td>1.358904e-01</td>\n",
       "      <td>1.358904e-01</td>\n",
       "      <td>2.880691e-01</td>\n",
       "      <td>0.526965</td>\n",
       "    </tr>\n",
       "    <tr>\n",
       "      <th>2015</th>\n",
       "      <td>1.398602e-05</td>\n",
       "      <td>1.622264e-02</td>\n",
       "      <td>6.402134e-04</td>\n",
       "      <td>0.000999</td>\n",
       "    </tr>\n",
       "    <tr>\n",
       "      <th>2014</th>\n",
       "      <td>1.749930e-03</td>\n",
       "      <td>1.656431e-02</td>\n",
       "      <td>4.211048e-03</td>\n",
       "      <td>0.086974</td>\n",
       "    </tr>\n",
       "    <tr>\n",
       "      <th>2013</th>\n",
       "      <td>1.603252e-03</td>\n",
       "      <td>2.115439e-01</td>\n",
       "      <td>8.344680e-04</td>\n",
       "      <td>0.008261</td>\n",
       "    </tr>\n",
       "    <tr>\n",
       "      <th>2012</th>\n",
       "      <td>4.323229e-06</td>\n",
       "      <td>NaN</td>\n",
       "      <td>2.772196e-08</td>\n",
       "      <td>NaN</td>\n",
       "    </tr>\n",
       "    <tr>\n",
       "      <th>2011</th>\n",
       "      <td>2.301428e-03</td>\n",
       "      <td>NaN</td>\n",
       "      <td>2.662119e-03</td>\n",
       "      <td>NaN</td>\n",
       "    </tr>\n",
       "    <tr>\n",
       "      <th>2010</th>\n",
       "      <td>8.321274e-04</td>\n",
       "      <td>NaN</td>\n",
       "      <td>1.069373e-03</td>\n",
       "      <td>NaN</td>\n",
       "    </tr>\n",
       "    <tr>\n",
       "      <th>2009</th>\n",
       "      <td>1.278294e-08</td>\n",
       "      <td>NaN</td>\n",
       "      <td>6.010219e-06</td>\n",
       "      <td>NaN</td>\n",
       "    </tr>\n",
       "    <tr>\n",
       "      <th>2008</th>\n",
       "      <td>4.503465e-03</td>\n",
       "      <td>NaN</td>\n",
       "      <td>8.137823e-03</td>\n",
       "      <td>NaN</td>\n",
       "    </tr>\n",
       "  </tbody>\n",
       "</table>\n",
       "</div>"
      ],
      "text/plain": [
       "            PECOTA     FanGraphs          ZiPs   Steamer\n",
       "2023  5.162811e-08  4.735744e-07  2.078831e-07       NaN\n",
       "2022  3.313613e-04  1.887426e-04  7.511441e-05       NaN\n",
       "2021  9.680000e-13  2.357270e-09  6.110076e-09       NaN\n",
       "2020  1.399199e-01  0.000000e+00  2.444048e-01       NaN\n",
       "2019  2.456350e-04  6.398409e-05  2.128746e-03       NaN\n",
       "2018  3.487114e-04  7.696656e-07  6.408319e-05  0.000003\n",
       "2017  2.331181e-03  4.903828e-04  5.422407e-04  0.001059\n",
       "2016  1.358904e-01  1.358904e-01  2.880691e-01  0.526965\n",
       "2015  1.398602e-05  1.622264e-02  6.402134e-04  0.000999\n",
       "2014  1.749930e-03  1.656431e-02  4.211048e-03  0.086974\n",
       "2013  1.603252e-03  2.115439e-01  8.344680e-04  0.008261\n",
       "2012  4.323229e-06           NaN  2.772196e-08       NaN\n",
       "2011  2.301428e-03           NaN  2.662119e-03       NaN\n",
       "2010  8.321274e-04           NaN  1.069373e-03       NaN\n",
       "2009  1.278294e-08           NaN  6.010219e-06       NaN\n",
       "2008  4.503465e-03           NaN  8.137823e-03       NaN"
      ]
     },
     "execution_count": 333,
     "metadata": {},
     "output_type": "execute_result"
    }
   ],
   "source": [
    "P_value_D3"
   ]
  },
  {
   "cell_type": "markdown",
   "metadata": {},
   "source": [
    "## Merge Model3"
   ]
  },
  {
   "cell_type": "code",
   "execution_count": 334,
   "metadata": {},
   "outputs": [],
   "source": [
    "# Assert that shapes are the same\n",
    "assert D3.shape == P_value_D3.shape, \"DataFrames have different dimensions!\"\n",
    "\n",
    "# Define a function to combine cell values\n",
    "def combine_cells(cell1, cell2):\n",
    "    cell2_sci = \"{:.2e}\".format(float(cell2))  # Convert p-values to scientific notation\n",
    "    return f\"{cell1} ({cell2_sci})\"\n",
    "\n",
    "# Convert D3 cells to string type\n",
    "D3 = D3.astype(str)\n",
    "\n",
    "# Use the `combine_cells` function in an element-wise manner using applymap\n",
    "Model3 = pd.DataFrame(index=D3.index, columns=D3.columns)\n",
    "for col in D3.columns:\n",
    "    Model3[col] = D3[col].combine(P_value_D3[col].astype(str), func=combine_cells)\n"
   ]
  },
  {
   "cell_type": "code",
   "execution_count": 335,
   "metadata": {},
   "outputs": [
    {
     "data": {
      "text/html": [
       "<div>\n",
       "<style scoped>\n",
       "    .dataframe tbody tr th:only-of-type {\n",
       "        vertical-align: middle;\n",
       "    }\n",
       "\n",
       "    .dataframe tbody tr th {\n",
       "        vertical-align: top;\n",
       "    }\n",
       "\n",
       "    .dataframe thead th {\n",
       "        text-align: right;\n",
       "    }\n",
       "</style>\n",
       "<table border=\"1\" class=\"dataframe\">\n",
       "  <thead>\n",
       "    <tr style=\"text-align: right;\">\n",
       "      <th></th>\n",
       "      <th>PECOTA</th>\n",
       "      <th>FanGraphs</th>\n",
       "      <th>ZiPs</th>\n",
       "      <th>Steamer</th>\n",
       "    </tr>\n",
       "  </thead>\n",
       "  <tbody>\n",
       "    <tr>\n",
       "      <th>2023</th>\n",
       "      <td>89.012 (5.16e-08)</td>\n",
       "      <td>82.635 (4.74e-07)</td>\n",
       "      <td>85.027 (2.08e-07)</td>\n",
       "      <td>nan (nan)</td>\n",
       "    </tr>\n",
       "    <tr>\n",
       "      <th>2022</th>\n",
       "      <td>62.148 (3.31e-04)</td>\n",
       "      <td>64.048 (1.89e-04)</td>\n",
       "      <td>67.086 (7.51e-05)</td>\n",
       "      <td>nan (nan)</td>\n",
       "    </tr>\n",
       "    <tr>\n",
       "      <th>2021</th>\n",
       "      <td>118.26 (9.68e-13)</td>\n",
       "      <td>97.603 (2.36e-09)</td>\n",
       "      <td>94.983 (6.11e-09)</td>\n",
       "      <td>nan (nan)</td>\n",
       "    </tr>\n",
       "    <tr>\n",
       "      <th>2020</th>\n",
       "      <td>37.251 (1.40e-01)</td>\n",
       "      <td>191.138 (0.00e+00)</td>\n",
       "      <td>33.86 (2.44e-01)</td>\n",
       "      <td>nan (nan)</td>\n",
       "    </tr>\n",
       "    <tr>\n",
       "      <th>2019</th>\n",
       "      <td>63.163 (2.46e-04)</td>\n",
       "      <td>67.606 (6.40e-05)</td>\n",
       "      <td>55.563 (2.13e-03)</td>\n",
       "      <td>nan (nan)</td>\n",
       "    </tr>\n",
       "    <tr>\n",
       "      <th>2018</th>\n",
       "      <td>61.974 (3.49e-04)</td>\n",
       "      <td>81.209 (7.70e-07)</td>\n",
       "      <td>67.601 (6.41e-05)</td>\n",
       "      <td>77.534 (2.64e-06)</td>\n",
       "    </tr>\n",
       "    <tr>\n",
       "      <th>2017</th>\n",
       "      <td>55.226 (2.33e-03)</td>\n",
       "      <td>60.802 (4.90e-04)</td>\n",
       "      <td>60.453 (5.42e-04)</td>\n",
       "      <td>58.098 (1.06e-03)</td>\n",
       "    </tr>\n",
       "    <tr>\n",
       "      <th>2016</th>\n",
       "      <td>38.381 (1.36e-01)</td>\n",
       "      <td>37.416 (1.36e-01)</td>\n",
       "      <td>32.747 (2.88e-01)</td>\n",
       "      <td>27.831 (5.27e-01)</td>\n",
       "    </tr>\n",
       "    <tr>\n",
       "      <th>2015</th>\n",
       "      <td>72.433 (1.40e-05)</td>\n",
       "      <td>47.585 (1.62e-02)</td>\n",
       "      <td>59.875 (6.40e-04)</td>\n",
       "      <td>58.305 (9.99e-04)</td>\n",
       "    </tr>\n",
       "    <tr>\n",
       "      <th>2014</th>\n",
       "      <td>56.282 (1.75e-03)</td>\n",
       "      <td>47.497 (1.66e-02)</td>\n",
       "      <td>52.997 (4.21e-03)</td>\n",
       "      <td>39.817 (8.70e-02)</td>\n",
       "    </tr>\n",
       "    <tr>\n",
       "      <th>2013</th>\n",
       "      <td>56.602 (1.60e-03)</td>\n",
       "      <td>34.789 (2.12e-01)</td>\n",
       "      <td>58.943 (8.34e-04)</td>\n",
       "      <td>50.359 (8.26e-03)</td>\n",
       "    </tr>\n",
       "    <tr>\n",
       "      <th>2012</th>\n",
       "      <td>76.046 (4.32e-06)</td>\n",
       "      <td>nan (nan)</td>\n",
       "      <td>90.767 (2.77e-08)</td>\n",
       "      <td>nan (nan)</td>\n",
       "    </tr>\n",
       "    <tr>\n",
       "      <th>2011</th>\n",
       "      <td>55.274 (2.30e-03)</td>\n",
       "      <td>nan (nan)</td>\n",
       "      <td>54.732 (2.66e-03)</td>\n",
       "      <td>nan (nan)</td>\n",
       "    </tr>\n",
       "    <tr>\n",
       "      <th>2010</th>\n",
       "      <td>58.953 (8.32e-04)</td>\n",
       "      <td>nan (nan)</td>\n",
       "      <td>58.062 (1.07e-03)</td>\n",
       "      <td>nan (nan)</td>\n",
       "    </tr>\n",
       "    <tr>\n",
       "      <th>2009</th>\n",
       "      <td>92.935 (1.28e-08)</td>\n",
       "      <td>nan (nan)</td>\n",
       "      <td>75.041 (6.01e-06)</td>\n",
       "      <td>nan (nan)</td>\n",
       "    </tr>\n",
       "    <tr>\n",
       "      <th>2008</th>\n",
       "      <td>52.739 (4.50e-03)</td>\n",
       "      <td>nan (nan)</td>\n",
       "      <td>50.419 (8.14e-03)</td>\n",
       "      <td>nan (nan)</td>\n",
       "    </tr>\n",
       "  </tbody>\n",
       "</table>\n",
       "</div>"
      ],
      "text/plain": [
       "                 PECOTA           FanGraphs               ZiPs  \\\n",
       "2023  89.012 (5.16e-08)   82.635 (4.74e-07)  85.027 (2.08e-07)   \n",
       "2022  62.148 (3.31e-04)   64.048 (1.89e-04)  67.086 (7.51e-05)   \n",
       "2021  118.26 (9.68e-13)   97.603 (2.36e-09)  94.983 (6.11e-09)   \n",
       "2020  37.251 (1.40e-01)  191.138 (0.00e+00)   33.86 (2.44e-01)   \n",
       "2019  63.163 (2.46e-04)   67.606 (6.40e-05)  55.563 (2.13e-03)   \n",
       "2018  61.974 (3.49e-04)   81.209 (7.70e-07)  67.601 (6.41e-05)   \n",
       "2017  55.226 (2.33e-03)   60.802 (4.90e-04)  60.453 (5.42e-04)   \n",
       "2016  38.381 (1.36e-01)   37.416 (1.36e-01)  32.747 (2.88e-01)   \n",
       "2015  72.433 (1.40e-05)   47.585 (1.62e-02)  59.875 (6.40e-04)   \n",
       "2014  56.282 (1.75e-03)   47.497 (1.66e-02)  52.997 (4.21e-03)   \n",
       "2013  56.602 (1.60e-03)   34.789 (2.12e-01)  58.943 (8.34e-04)   \n",
       "2012  76.046 (4.32e-06)           nan (nan)  90.767 (2.77e-08)   \n",
       "2011  55.274 (2.30e-03)           nan (nan)  54.732 (2.66e-03)   \n",
       "2010  58.953 (8.32e-04)           nan (nan)  58.062 (1.07e-03)   \n",
       "2009  92.935 (1.28e-08)           nan (nan)  75.041 (6.01e-06)   \n",
       "2008  52.739 (4.50e-03)           nan (nan)  50.419 (8.14e-03)   \n",
       "\n",
       "                Steamer  \n",
       "2023          nan (nan)  \n",
       "2022          nan (nan)  \n",
       "2021          nan (nan)  \n",
       "2020          nan (nan)  \n",
       "2019          nan (nan)  \n",
       "2018  77.534 (2.64e-06)  \n",
       "2017  58.098 (1.06e-03)  \n",
       "2016  27.831 (5.27e-01)  \n",
       "2015  58.305 (9.99e-04)  \n",
       "2014  39.817 (8.70e-02)  \n",
       "2013  50.359 (8.26e-03)  \n",
       "2012          nan (nan)  \n",
       "2011          nan (nan)  \n",
       "2010          nan (nan)  \n",
       "2009          nan (nan)  \n",
       "2008          nan (nan)  "
      ]
     },
     "execution_count": 335,
     "metadata": {},
     "output_type": "execute_result"
    }
   ],
   "source": [
    "Model3"
   ]
  },
  {
   "cell_type": "code",
   "execution_count": 336,
   "metadata": {},
   "outputs": [],
   "source": [
    "Model3.to_excel('Model3.xlsx')"
   ]
  },
  {
   "cell_type": "markdown",
   "metadata": {},
   "source": [
    "# Confidence Interval"
   ]
  },
  {
   "cell_type": "code",
   "execution_count": 337,
   "metadata": {},
   "outputs": [],
   "source": [
    "PECOTA_2023_counter = 0\n",
    "FanGraphs_2023_counter=0\n",
    "ZiPs_2023_counter=0\n",
    "for i in range(30):\n",
    "    ci_low=data_2023.loc[i,'pcg_Actual']-3.144*(data_2023.loc[i,'pcg_Actual']*(1-data_2023.loc[i,'pcg_Actual'])/data_2023.loc[i,'pred_Total'])**(1/2)\n",
    "    ci_high=data_2023.loc[i,'pcg_Actual']+3.144*(data_2023.loc[i,'pcg_Actual']*(1-data_2023.loc[i,'pcg_Actual'])/data_2023.loc[i,'pred_Total'])**(1/2)\n",
    "    if data_2023.loc[i,'pcg_PECOTA']>=ci_low and data_2023.loc[i,'pcg_PECOTA']<=ci_high:\n",
    "        PECOTA_2023_counter += 1\n",
    "    if data_2023.loc[i,'pcg_FanGraphs']>=ci_low and data_2023.loc[i,'pcg_FanGraphs']<=ci_high:\n",
    "        FanGraphs_2023_counter += 1\n",
    "    if data_2023.loc[i,'pcg_ZiPs']>=ci_low and data_2023.loc[i,'pcg_ZiPs']<=ci_high:\n",
    "        ZiPs_2023_counter += 1"
   ]
  },
  {
   "cell_type": "code",
   "execution_count": 338,
   "metadata": {},
   "outputs": [],
   "source": [
    "PECOTA_2022_counter = 0\n",
    "FanGraphs_2022_counter=0\n",
    "ZiPs_2022_counter=0\n",
    "for i in range(30):\n",
    "    ci_low=data_2022.loc[i,'pcg_Actual']-3.144*(data_2022.loc[i,'pcg_Actual']*(1-data_2022.loc[i,'pcg_Actual'])/data_2022.loc[i,'pred_Total'])**(1/2)\n",
    "    ci_high=data_2022.loc[i,'pcg_Actual']+3.144*(data_2022.loc[i,'pcg_Actual']*(1-data_2022.loc[i,'pcg_Actual'])/data_2022.loc[i,'pred_Total'])**(1/2)\n",
    "    if data_2022.loc[i,'pcg_PECOTA']>=ci_low and data_2022.loc[i,'pcg_PECOTA']<=ci_high:\n",
    "        PECOTA_2022_counter += 1\n",
    "    if data_2022.loc[i,'pcg_FanGraphs']>=ci_low and data_2022.loc[i,'pcg_FanGraphs']<=ci_high:\n",
    "        FanGraphs_2022_counter += 1\n",
    "    if data_2022.loc[i,'pcg_ZiPs']>=ci_low and data_2022.loc[i,'pcg_ZiPs']<=ci_high:\n",
    "        ZiPs_2022_counter += 1"
   ]
  },
  {
   "cell_type": "code",
   "execution_count": 339,
   "metadata": {},
   "outputs": [],
   "source": [
    "PECOTA_2021_counter = 0\n",
    "FanGraphs_2021_counter=0\n",
    "ZiPs_2021_counter=0\n",
    "for i in range(30):\n",
    "    ci_low=data_2021.loc[i,'pcg_Actual']-3.144*(data_2021.loc[i,'pcg_Actual']*(1-data_2021.loc[i,'pcg_Actual'])/data_2021.loc[i,'pred_Total'])**(1/2)\n",
    "    ci_high=data_2021.loc[i,'pcg_Actual']+3.144*(data_2021.loc[i,'pcg_Actual']*(1-data_2021.loc[i,'pcg_Actual'])/data_2021.loc[i,'pred_Total'])**(1/2)\n",
    "    if data_2021.loc[i,'pcg_PECOTA']>=ci_low and data_2021.loc[i,'pcg_PECOTA']<=ci_high:\n",
    "        PECOTA_2021_counter += 1\n",
    "    if data_2021.loc[i,'pcg_FanGraphs']>=ci_low and data_2021.loc[i,'pcg_FanGraphs']<=ci_high:\n",
    "        FanGraphs_2021_counter += 1\n",
    "    if data_2021.loc[i,'pcg_ZiPs']>=ci_low and data_2021.loc[i,'pcg_ZiPs']<=ci_high:\n",
    "        ZiPs_2021_counter += 1"
   ]
  },
  {
   "cell_type": "code",
   "execution_count": 340,
   "metadata": {},
   "outputs": [],
   "source": [
    "PECOTA_2020_counter = 0\n",
    "FanGraphs_2020_counter=0\n",
    "ZiPs_2020_counter=0\n",
    "for i in range(30):\n",
    "    ci_low=data_2020.loc[i,'pcg_Actual']-3.144*(data_2020.loc[i,'pcg_Actual']*(1-data_2020.loc[i,'pcg_Actual'])/data_2020.loc[i,'pred_Total'])**(1/2)\n",
    "    ci_high=data_2020.loc[i,'pcg_Actual']+3.144*(data_2020.loc[i,'pcg_Actual']*(1-data_2020.loc[i,'pcg_Actual'])/data_2020.loc[i,'pred_Total'])**(1/2)\n",
    "    if data_2020.loc[i,'pcg_PECOTA']>=ci_low and data_2020.loc[i,'pcg_PECOTA']<=ci_high:\n",
    "        PECOTA_2020_counter += 1\n",
    "    if data_2020.loc[i,'pcg_FanGraphs']>=ci_low and data_2020.loc[i,'pcg_FanGraphs']<=ci_high:\n",
    "        FanGraphs_2020_counter += 1\n",
    "    if data_2020.loc[i,'pcg_ZiPs']>=ci_low and data_2020.loc[i,'pcg_ZiPs']<=ci_high:\n",
    "        ZiPs_2020_counter += 1"
   ]
  },
  {
   "cell_type": "code",
   "execution_count": 341,
   "metadata": {},
   "outputs": [],
   "source": [
    "PECOTA_2019_counter = 0\n",
    "FanGraphs_2019_counter=0\n",
    "ZiPs_2019_counter=0\n",
    "for i in range(30):\n",
    "    ci_low=data_2019.loc[i,'pcg_Actual']-3.144*(data_2019.loc[i,'pcg_Actual']*(1-data_2019.loc[i,'pcg_Actual'])/data_2019.loc[i,'pred_Total'])**(1/2)\n",
    "    ci_high=data_2019.loc[i,'pcg_Actual']+3.144*(data_2019.loc[i,'pcg_Actual']*(1-data_2019.loc[i,'pcg_Actual'])/data_2019.loc[i,'pred_Total'])**(1/2)\n",
    "    if data_2019.loc[i,'pcg_PECOTA']>=ci_low and data_2019.loc[i,'pcg_PECOTA']<=ci_high:\n",
    "        PECOTA_2019_counter += 1\n",
    "    if data_2019.loc[i,'pcg_FanGraphs']>=ci_low and data_2019.loc[i,'pcg_FanGraphs']<=ci_high:\n",
    "        FanGraphs_2019_counter += 1\n",
    "    if data_2019.loc[i,'pcg_ZiPs']>=ci_low and data_2019.loc[i,'pcg_ZiPs']<=ci_high:\n",
    "        ZiPs_2019_counter += 1"
   ]
  },
  {
   "cell_type": "code",
   "execution_count": 342,
   "metadata": {},
   "outputs": [],
   "source": [
    "PECOTA_2018_counter = 0\n",
    "FanGraphs_2018_counter=0\n",
    "ZiPs_2018_counter=0\n",
    "Steamer_2018_counter=0\n",
    "for i in range(30):\n",
    "    ci_low=data_2018.loc[i,'pcg_Actual']-3.144*(data_2018.loc[i,'pcg_Actual']*(1-data_2018.loc[i,'pcg_Actual'])/data_2018.loc[i,'pred_Total'])**(1/2)\n",
    "    ci_high=data_2018.loc[i,'pcg_Actual']+3.144*(data_2018.loc[i,'pcg_Actual']*(1-data_2018.loc[i,'pcg_Actual'])/data_2018.loc[i,'pred_Total'])**(1/2)\n",
    "    if data_2018.loc[i,'pcg_PECOTA']>=ci_low and data_2018.loc[i,'pcg_PECOTA']<=ci_high:\n",
    "        PECOTA_2018_counter += 1\n",
    "    if data_2018.loc[i,'pcg_FanGraphs']>=ci_low and data_2018.loc[i,'pcg_FanGraphs']<=ci_high:\n",
    "        FanGraphs_2018_counter += 1\n",
    "    if data_2018.loc[i,'pcg_ZiPs']>=ci_low and data_2018.loc[i,'pcg_ZiPs']<=ci_high:\n",
    "        ZiPs_2018_counter += 1\n",
    "    if data_2018.loc[i,'pcg_Steamer']>=ci_low and data_2018.loc[i,'pcg_Steamer']<=ci_high:\n",
    "        Steamer_2018_counter += 1\n"
   ]
  },
  {
   "cell_type": "code",
   "execution_count": 343,
   "metadata": {},
   "outputs": [],
   "source": [
    "PECOTA_2017_counter = 0\n",
    "FanGraphs_2017_counter=0\n",
    "ZiPs_2017_counter=0\n",
    "Steamer_2017_counter=0\n",
    "for i in range(30):\n",
    "    ci_low=data_2017.loc[i,'pcg_Actual']-3.144*(data_2017.loc[i,'pcg_Actual']*(1-data_2017.loc[i,'pcg_Actual'])/data_2017.loc[i,'pred_Total'])**(1/2)\n",
    "    ci_high=data_2017.loc[i,'pcg_Actual']+3.144*(data_2017.loc[i,'pcg_Actual']*(1-data_2017.loc[i,'pcg_Actual'])/data_2017.loc[i,'pred_Total'])**(1/2)\n",
    "    if data_2017.loc[i,'pcg_PECOTA']>=ci_low and data_2017.loc[i,'pcg_PECOTA']<=ci_high:\n",
    "        PECOTA_2017_counter += 1\n",
    "    if data_2017.loc[i,'pcg_FanGraphs']>=ci_low and data_2017.loc[i,'pcg_FanGraphs']<=ci_high:\n",
    "        FanGraphs_2017_counter += 1\n",
    "    if data_2017.loc[i,'pcg_ZiPs']>=ci_low and data_2017.loc[i,'pcg_ZiPs']<=ci_high:\n",
    "        ZiPs_2017_counter += 1\n",
    "    if data_2017.loc[i,'pcg_Steamer']>=ci_low and data_2017.loc[i,'pcg_Steamer']<=ci_high:\n",
    "        Steamer_2017_counter += 1\n"
   ]
  },
  {
   "cell_type": "code",
   "execution_count": 344,
   "metadata": {},
   "outputs": [],
   "source": [
    "PECOTA_2016_counter = 0\n",
    "FanGraphs_2016_counter=0\n",
    "ZiPs_2016_counter=0\n",
    "Steamer_2016_counter=0\n",
    "for i in range(30):\n",
    "    ci_low=data_2016.loc[i,'pcg_Actual']-3.144*(data_2016.loc[i,'pcg_Actual']*(1-data_2016.loc[i,'pcg_Actual'])/data_2016.loc[i,'pred_Total'])**(1/2)\n",
    "    ci_high=data_2016.loc[i,'pcg_Actual']+3.144*(data_2016.loc[i,'pcg_Actual']*(1-data_2016.loc[i,'pcg_Actual'])/data_2016.loc[i,'pred_Total'])**(1/2)\n",
    "    if data_2016.loc[i,'pcg_PECOTA']>=ci_low and data_2016.loc[i,'pcg_PECOTA']<=ci_high:\n",
    "        PECOTA_2016_counter += 1\n",
    "    if data_2016.loc[i,'pcg_FanGraphs']>=ci_low and data_2016.loc[i,'pcg_FanGraphs']<=ci_high:\n",
    "        FanGraphs_2016_counter += 1\n",
    "    if data_2016.loc[i,'pcg_ZiPs']>=ci_low and data_2016.loc[i,'pcg_ZiPs']<=ci_high:\n",
    "        ZiPs_2016_counter += 1\n",
    "    if data_2016.loc[i,'pcg_Steamer']>=ci_low and data_2016.loc[i,'pcg_Steamer']<=ci_high:\n",
    "        Steamer_2016_counter += 1\n"
   ]
  },
  {
   "cell_type": "code",
   "execution_count": 345,
   "metadata": {},
   "outputs": [],
   "source": [
    "PECOTA_2015_counter = 0\n",
    "FanGraphs_2015_counter=0\n",
    "ZiPs_2015_counter=0\n",
    "Steamer_2015_counter=0\n",
    "for i in range(30):\n",
    "    ci_low=data_2015.loc[i,'pcg_Actual']-3.144*(data_2015.loc[i,'pcg_Actual']*(1-data_2015.loc[i,'pcg_Actual'])/data_2015.loc[i,'pred_Total'])**(1/2)\n",
    "    ci_high=data_2015.loc[i,'pcg_Actual']+3.144*(data_2015.loc[i,'pcg_Actual']*(1-data_2015.loc[i,'pcg_Actual'])/data_2015.loc[i,'pred_Total'])**(1/2)\n",
    "    if data_2015.loc[i,'pcg_PECOTA']>=ci_low and data_2015.loc[i,'pcg_PECOTA']<=ci_high:\n",
    "        PECOTA_2015_counter += 1\n",
    "    if data_2015.loc[i,'pcg_FanGraphs']>=ci_low and data_2015.loc[i,'pcg_FanGraphs']<=ci_high:\n",
    "        FanGraphs_2015_counter += 1\n",
    "    if data_2015.loc[i,'pcg_ZiPs']>=ci_low and data_2015.loc[i,'pcg_ZiPs']<=ci_high:\n",
    "        ZiPs_2015_counter += 1\n",
    "    if data_2015.loc[i,'pcg_Steamer']>=ci_low and data_2015.loc[i,'pcg_Steamer']<=ci_high:\n",
    "        Steamer_2015_counter += 1\n"
   ]
  },
  {
   "cell_type": "code",
   "execution_count": 346,
   "metadata": {},
   "outputs": [],
   "source": [
    "PECOTA_2014_counter = 0\n",
    "FanGraphs_2014_counter=0\n",
    "ZiPs_2014_counter=0\n",
    "Steamer_2014_counter=0\n",
    "for i in range(30):\n",
    "    ci_low=data_2014.loc[i,'pcg_Actual']-3.144*(data_2014.loc[i,'pcg_Actual']*(1-data_2014.loc[i,'pcg_Actual'])/data_2014.loc[i,'pred_Total'])**(1/2)\n",
    "    ci_high=data_2014.loc[i,'pcg_Actual']+3.144*(data_2014.loc[i,'pcg_Actual']*(1-data_2014.loc[i,'pcg_Actual'])/data_2014.loc[i,'pred_Total'])**(1/2)\n",
    "    if data_2014.loc[i,'pcg_PECOTA']>=ci_low and data_2014.loc[i,'pcg_PECOTA']<=ci_high:\n",
    "        PECOTA_2014_counter += 1\n",
    "    if data_2014.loc[i,'pcg_FanGraphs']>=ci_low and data_2014.loc[i,'pcg_FanGraphs']<=ci_high:\n",
    "        FanGraphs_2014_counter += 1\n",
    "    if data_2014.loc[i,'pcg_ZiPs']>=ci_low and data_2014.loc[i,'pcg_ZiPs']<=ci_high:\n",
    "        ZiPs_2014_counter += 1\n",
    "    if data_2014.loc[i,'pcg_Steamer']>=ci_low and data_2014.loc[i,'pcg_Steamer']<=ci_high:\n",
    "        Steamer_2014_counter += 1\n"
   ]
  },
  {
   "cell_type": "code",
   "execution_count": 347,
   "metadata": {},
   "outputs": [],
   "source": [
    "PECOTA_2013_counter = 0\n",
    "FanGraphs_2013_counter=0\n",
    "ZiPs_2013_counter=0\n",
    "Steamer_2013_counter=0\n",
    "for i in range(30):\n",
    "    ci_low=data_2013.loc[i,'pcg_Actual']-3.144*(data_2013.loc[i,'pcg_Actual']*(1-data_2013.loc[i,'pcg_Actual'])/data_2013.loc[i,'pred_Total'])**(1/2)\n",
    "    ci_high=data_2013.loc[i,'pcg_Actual']+3.144*(data_2013.loc[i,'pcg_Actual']*(1-data_2013.loc[i,'pcg_Actual'])/data_2013.loc[i,'pred_Total'])**(1/2)\n",
    "    if data_2013.loc[i,'pcg_PECOTA']>=ci_low and data_2013.loc[i,'pcg_PECOTA']<=ci_high:\n",
    "        PECOTA_2013_counter += 1\n",
    "    if data_2013.loc[i,'pcg_FanGraphs']>=ci_low and data_2013.loc[i,'pcg_FanGraphs']<=ci_high:\n",
    "        FanGraphs_2013_counter += 1\n",
    "    if data_2013.loc[i,'pcg_ZiPs']>=ci_low and data_2013.loc[i,'pcg_ZiPs']<=ci_high:\n",
    "        ZiPs_2013_counter += 1\n",
    "    if data_2013.loc[i,'pcg_Steamer']>=ci_low and data_2013.loc[i,'pcg_Steamer']<=ci_high:\n",
    "        Steamer_2013_counter += 1\n"
   ]
  },
  {
   "cell_type": "code",
   "execution_count": 348,
   "metadata": {},
   "outputs": [],
   "source": [
    "PECOTA_2012_counter = 0\n",
    "ZiPs_2012_counter=0\n",
    "for i in range(30):\n",
    "    ci_low=data_2012.loc[i,'pcg_Actual']-3.144*(data_2012.loc[i,'pcg_Actual']*(1-data_2012.loc[i,'pcg_Actual'])/data_2012.loc[i,'pred_Total'])**(1/2)\n",
    "    ci_high=data_2012.loc[i,'pcg_Actual']+3.144*(data_2012.loc[i,'pcg_Actual']*(1-data_2012.loc[i,'pcg_Actual'])/data_2012.loc[i,'pred_Total'])**(1/2)\n",
    "    if data_2012.loc[i,'pcg_PECOTA']>=ci_low and data_2012.loc[i,'pcg_PECOTA']<=ci_high:\n",
    "        PECOTA_2012_counter += 1\n",
    "    if data_2012.loc[i,'pcg_ZiPs']>=ci_low and data_2012.loc[i,'pcg_ZiPs']<=ci_high:\n",
    "        ZiPs_2012_counter += 1"
   ]
  },
  {
   "cell_type": "code",
   "execution_count": 349,
   "metadata": {},
   "outputs": [],
   "source": [
    "PECOTA_2011_counter = 0\n",
    "ZiPs_2011_counter=0\n",
    "for i in range(30):\n",
    "    ci_low=data_2011.loc[i,'pcg_Actual']-3.144*(data_2011.loc[i,'pcg_Actual']*(1-data_2011.loc[i,'pcg_Actual'])/data_2011.loc[i,'pred_Total'])**(1/2)\n",
    "    ci_high=data_2011.loc[i,'pcg_Actual']+3.144*(data_2011.loc[i,'pcg_Actual']*(1-data_2011.loc[i,'pcg_Actual'])/data_2011.loc[i,'pred_Total'])**(1/2)\n",
    "    if data_2011.loc[i,'pcg_PECOTA']>=ci_low and data_2011.loc[i,'pcg_PECOTA']<=ci_high:\n",
    "        PECOTA_2011_counter += 1\n",
    "    if data_2011.loc[i,'pcg_ZiPs']>=ci_low and data_2011.loc[i,'pcg_ZiPs']<=ci_high:\n",
    "        ZiPs_2011_counter += 1"
   ]
  },
  {
   "cell_type": "code",
   "execution_count": 350,
   "metadata": {},
   "outputs": [],
   "source": [
    "PECOTA_2010_counter = 0\n",
    "ZiPs_2010_counter=0\n",
    "for i in range(30):\n",
    "    ci_low=data_2010.loc[i,'pcg_Actual']-3.144*(data_2010.loc[i,'pcg_Actual']*(1-data_2010.loc[i,'pcg_Actual'])/data_2010.loc[i,'pred_Total'])**(1/2)\n",
    "    ci_high=data_2010.loc[i,'pcg_Actual']+3.144*(data_2010.loc[i,'pcg_Actual']*(1-data_2010.loc[i,'pcg_Actual'])/data_2010.loc[i,'pred_Total'])**(1/2)\n",
    "    if data_2010.loc[i,'pcg_PECOTA']>=ci_low and data_2010.loc[i,'pcg_PECOTA']<=ci_high:\n",
    "        PECOTA_2010_counter += 1\n",
    "    if data_2010.loc[i,'pcg_ZiPs']>=ci_low and data_2010.loc[i,'pcg_ZiPs']<=ci_high:\n",
    "        ZiPs_2010_counter += 1"
   ]
  },
  {
   "cell_type": "code",
   "execution_count": 351,
   "metadata": {},
   "outputs": [],
   "source": [
    "PECOTA_2009_counter = 0\n",
    "ZiPs_2009_counter=0\n",
    "for i in range(30):\n",
    "    ci_low=data_2009.loc[i,'pcg_Actual']-3.144*(data_2009.loc[i,'pcg_Actual']*(1-data_2009.loc[i,'pcg_Actual'])/data_2009.loc[i,'pred_Total'])**(1/2)\n",
    "    ci_high=data_2009.loc[i,'pcg_Actual']+3.144*(data_2009.loc[i,'pcg_Actual']*(1-data_2009.loc[i,'pcg_Actual'])/data_2009.loc[i,'pred_Total'])**(1/2)\n",
    "    if data_2009.loc[i,'pcg_PECOTA']>=ci_low and data_2009.loc[i,'pcg_PECOTA']<=ci_high:\n",
    "        PECOTA_2009_counter += 1\n",
    "    if data_2009.loc[i,'pcg_ZiPs']>=ci_low and data_2009.loc[i,'pcg_ZiPs']<=ci_high:\n",
    "        ZiPs_2009_counter += 1"
   ]
  },
  {
   "cell_type": "code",
   "execution_count": 352,
   "metadata": {},
   "outputs": [],
   "source": [
    "PECOTA_2008_counter = 0\n",
    "ZiPs_2008_counter=0\n",
    "for i in range(30):\n",
    "    ci_low=data_2008.loc[i,'pcg_Actual']-3.144*(data_2008.loc[i,'pcg_Actual']*(1-data_2008.loc[i,'pcg_Actual'])/data_2008.loc[i,'pred_Total'])**(1/2)\n",
    "    ci_high=data_2008.loc[i,'pcg_Actual']+3.144*(data_2008.loc[i,'pcg_Actual']*(1-data_2008.loc[i,'pcg_Actual'])/data_2008.loc[i,'pred_Total'])**(1/2)\n",
    "    if data_2008.loc[i,'pcg_PECOTA']>=ci_low and data_2008.loc[i,'pcg_PECOTA']<=ci_high:\n",
    "        PECOTA_2008_counter += 1\n",
    "    if data_2008.loc[i,'pcg_ZiPs']>=ci_low and data_2008.loc[i,'pcg_ZiPs']<=ci_high:\n",
    "        ZiPs_2008_counter += 1"
   ]
  },
  {
   "cell_type": "markdown",
   "metadata": {},
   "source": [
    "## Table"
   ]
  },
  {
   "cell_type": "code",
   "execution_count": 353,
   "metadata": {},
   "outputs": [],
   "source": [
    "CI_data = {\n",
    "    'PECOTA': [PECOTA_2023_counter, PECOTA_2022_counter, PECOTA_2021_counter, PECOTA_2020_counter, PECOTA_2019_counter, PECOTA_2018_counter, PECOTA_2017_counter, PECOTA_2016_counter, PECOTA_2015_counter, PECOTA_2014_counter, PECOTA_2013_counter, PECOTA_2012_counter, PECOTA_2011_counter, PECOTA_2010_counter, PECOTA_2009_counter, PECOTA_2008_counter],\n",
    "    'FanGraphs': [FanGraphs_2023_counter, FanGraphs_2022_counter, FanGraphs_2021_counter, FanGraphs_2020_counter, FanGraphs_2019_counter, FanGraphs_2018_counter, FanGraphs_2017_counter, FanGraphs_2016_counter, FanGraphs_2015_counter, FanGraphs_2014_counter, FanGraphs_2013_counter],\n",
    "    'ZiPs': [ZiPs_2023_counter, ZiPs_2022_counter, ZiPs_2021_counter, ZiPs_2020_counter, ZiPs_2019_counter, ZiPs_2018_counter, ZiPs_2017_counter, ZiPs_2016_counter, ZiPs_2015_counter, ZiPs_2014_counter, ZiPs_2013_counter, ZiPs_2012_counter, ZiPs_2011_counter, ZiPs_2010_counter, ZiPs_2009_counter, ZiPs_2008_counter]\n",
    "}\n",
    "\n",
    "# Extending the FanGraphs list to match the length of the longest list\n",
    "CI_data['FanGraphs'].extend([None] * 5)\n",
    "\n",
    "# Adding the Steamer list\n",
    "CI_data['Steamer'] = [None] * 5 + [Steamer_2018_counter, Steamer_2017_counter, Steamer_2016_counter, Steamer_2015_counter, Steamer_2014_counter, Steamer_2013_counter] + [None] * 5\n"
   ]
  },
  {
   "cell_type": "code",
   "execution_count": 354,
   "metadata": {},
   "outputs": [],
   "source": [
    "CI=pd.DataFrame(\n",
    "    CI_data,index=['2023','2022','2021','2020','2019','2018','2017','2016','2015','2014','2013','2012','2011','2010','2009','2008']\n",
    "                )"
   ]
  },
  {
   "cell_type": "code",
   "execution_count": 355,
   "metadata": {},
   "outputs": [
    {
     "data": {
      "text/html": [
       "<div>\n",
       "<style scoped>\n",
       "    .dataframe tbody tr th:only-of-type {\n",
       "        vertical-align: middle;\n",
       "    }\n",
       "\n",
       "    .dataframe tbody tr th {\n",
       "        vertical-align: top;\n",
       "    }\n",
       "\n",
       "    .dataframe thead th {\n",
       "        text-align: right;\n",
       "    }\n",
       "</style>\n",
       "<table border=\"1\" class=\"dataframe\">\n",
       "  <thead>\n",
       "    <tr style=\"text-align: right;\">\n",
       "      <th></th>\n",
       "      <th>PECOTA</th>\n",
       "      <th>FanGraphs</th>\n",
       "      <th>ZiPs</th>\n",
       "      <th>Steamer</th>\n",
       "    </tr>\n",
       "  </thead>\n",
       "  <tbody>\n",
       "    <tr>\n",
       "      <th>2023</th>\n",
       "      <td>29</td>\n",
       "      <td>28.0</td>\n",
       "      <td>27</td>\n",
       "      <td>NaN</td>\n",
       "    </tr>\n",
       "    <tr>\n",
       "      <th>2022</th>\n",
       "      <td>29</td>\n",
       "      <td>30.0</td>\n",
       "      <td>29</td>\n",
       "      <td>NaN</td>\n",
       "    </tr>\n",
       "    <tr>\n",
       "      <th>2021</th>\n",
       "      <td>28</td>\n",
       "      <td>28.0</td>\n",
       "      <td>29</td>\n",
       "      <td>NaN</td>\n",
       "    </tr>\n",
       "    <tr>\n",
       "      <th>2020</th>\n",
       "      <td>30</td>\n",
       "      <td>30.0</td>\n",
       "      <td>30</td>\n",
       "      <td>NaN</td>\n",
       "    </tr>\n",
       "    <tr>\n",
       "      <th>2019</th>\n",
       "      <td>29</td>\n",
       "      <td>29.0</td>\n",
       "      <td>29</td>\n",
       "      <td>NaN</td>\n",
       "    </tr>\n",
       "    <tr>\n",
       "      <th>2018</th>\n",
       "      <td>27</td>\n",
       "      <td>29.0</td>\n",
       "      <td>28</td>\n",
       "      <td>29.0</td>\n",
       "    </tr>\n",
       "    <tr>\n",
       "      <th>2017</th>\n",
       "      <td>29</td>\n",
       "      <td>29.0</td>\n",
       "      <td>29</td>\n",
       "      <td>29.0</td>\n",
       "    </tr>\n",
       "    <tr>\n",
       "      <th>2016</th>\n",
       "      <td>28</td>\n",
       "      <td>30.0</td>\n",
       "      <td>30</td>\n",
       "      <td>30.0</td>\n",
       "    </tr>\n",
       "    <tr>\n",
       "      <th>2015</th>\n",
       "      <td>29</td>\n",
       "      <td>30.0</td>\n",
       "      <td>30</td>\n",
       "      <td>30.0</td>\n",
       "    </tr>\n",
       "    <tr>\n",
       "      <th>2014</th>\n",
       "      <td>29</td>\n",
       "      <td>30.0</td>\n",
       "      <td>28</td>\n",
       "      <td>29.0</td>\n",
       "    </tr>\n",
       "    <tr>\n",
       "      <th>2013</th>\n",
       "      <td>30</td>\n",
       "      <td>30.0</td>\n",
       "      <td>29</td>\n",
       "      <td>30.0</td>\n",
       "    </tr>\n",
       "    <tr>\n",
       "      <th>2012</th>\n",
       "      <td>27</td>\n",
       "      <td>NaN</td>\n",
       "      <td>26</td>\n",
       "      <td>NaN</td>\n",
       "    </tr>\n",
       "    <tr>\n",
       "      <th>2011</th>\n",
       "      <td>29</td>\n",
       "      <td>NaN</td>\n",
       "      <td>28</td>\n",
       "      <td>NaN</td>\n",
       "    </tr>\n",
       "    <tr>\n",
       "      <th>2010</th>\n",
       "      <td>28</td>\n",
       "      <td>NaN</td>\n",
       "      <td>28</td>\n",
       "      <td>NaN</td>\n",
       "    </tr>\n",
       "    <tr>\n",
       "      <th>2009</th>\n",
       "      <td>27</td>\n",
       "      <td>NaN</td>\n",
       "      <td>27</td>\n",
       "      <td>NaN</td>\n",
       "    </tr>\n",
       "    <tr>\n",
       "      <th>2008</th>\n",
       "      <td>30</td>\n",
       "      <td>NaN</td>\n",
       "      <td>29</td>\n",
       "      <td>NaN</td>\n",
       "    </tr>\n",
       "  </tbody>\n",
       "</table>\n",
       "</div>"
      ],
      "text/plain": [
       "      PECOTA  FanGraphs  ZiPs  Steamer\n",
       "2023      29       28.0    27      NaN\n",
       "2022      29       30.0    29      NaN\n",
       "2021      28       28.0    29      NaN\n",
       "2020      30       30.0    30      NaN\n",
       "2019      29       29.0    29      NaN\n",
       "2018      27       29.0    28     29.0\n",
       "2017      29       29.0    29     29.0\n",
       "2016      28       30.0    30     30.0\n",
       "2015      29       30.0    30     30.0\n",
       "2014      29       30.0    28     29.0\n",
       "2013      30       30.0    29     30.0\n",
       "2012      27        NaN    26      NaN\n",
       "2011      29        NaN    28      NaN\n",
       "2010      28        NaN    28      NaN\n",
       "2009      27        NaN    27      NaN\n",
       "2008      30        NaN    29      NaN"
      ]
     },
     "execution_count": 355,
     "metadata": {},
     "output_type": "execute_result"
    }
   ],
   "source": [
    "CI"
   ]
  },
  {
   "cell_type": "code",
   "execution_count": 356,
   "metadata": {},
   "outputs": [],
   "source": [
    "CI.to_excel(\"Confidence Interval.xlsx\")"
   ]
  },
  {
   "cell_type": "markdown",
   "metadata": {},
   "source": [
    "# Multiple Hypothesis Testing"
   ]
  },
  {
   "cell_type": "code",
   "execution_count": 357,
   "metadata": {},
   "outputs": [],
   "source": [
    "from scipy.stats import norm"
   ]
  },
  {
   "cell_type": "markdown",
   "metadata": {},
   "source": [
    "### PECOTA"
   ]
  },
  {
   "cell_type": "code",
   "execution_count": 358,
   "metadata": {},
   "outputs": [
    {
     "data": {
      "text/plain": [
       "3"
      ]
     },
     "execution_count": 358,
     "metadata": {},
     "output_type": "execute_result"
    }
   ],
   "source": [
    "data_2023['Z_PECOTA']=(data_2023['pcg_Actual']-data_2023['pcg_PECOTA'])/(data_2023['pcg_PECOTA']*(1-data_2023['pcg_PECOTA'])/162)**(1/2)\n",
    "data_2023['P_Value_PECOTA'] =(1 - norm.cdf(abs(data_2023['Z_PECOTA']))) * 2\n",
    "first_column = data_2023.iloc[:, [0]].copy()\n",
    "last_column_by_name = data_2023.loc[:, ['P_Value_PECOTA']].copy()\n",
    "PV_PECOTA_2023 = pd.concat([first_column, last_column_by_name], axis=1)\n",
    "PV_PECOTA_2023=PV_PECOTA_2023.sort_values(by='P_Value_PECOTA', ascending = False)\n",
    "\n",
    "alpha = 0.05\n",
    "m = 30\n",
    "PV_PECOTA_2023.reset_index(drop=True, inplace=True)\n",
    "PV_PECOTA_2023['BH_Threshold'] = (m - PV_PECOTA_2023.index) / m * alpha\n",
    "K_PECOTA_2023 = 0\n",
    "\n",
    "for i, row in PV_PECOTA_2023.iterrows():\n",
    "    if row['P_Value_PECOTA'] > row['BH_Threshold']:\n",
    "        K_PECOTA_2023 = i+1\n",
    "    else:\n",
    "        break\n",
    "\n",
    "K_PECOTA_2023 = 30 - K_PECOTA_2023\n",
    "K_PECOTA_2023\n"
   ]
  },
  {
   "cell_type": "code",
   "execution_count": 359,
   "metadata": {},
   "outputs": [
    {
     "data": {
      "text/plain": [
       "1"
      ]
     },
     "execution_count": 359,
     "metadata": {},
     "output_type": "execute_result"
    }
   ],
   "source": [
    "data_2022['Z_PECOTA']=(data_2022['pcg_Actual']-data_2022['pcg_PECOTA'])/(data_2022['pcg_PECOTA']*(1-data_2022['pcg_PECOTA'])/162)**(1/2)\n",
    "data_2022['P_Value_PECOTA'] =(1 - norm.cdf(abs(data_2022['Z_PECOTA']))) * 2\n",
    "first_column = data_2022.iloc[:, [0]].copy()\n",
    "last_column_by_name = data_2022.loc[:, ['P_Value_PECOTA']].copy()\n",
    "PV_PECOTA_2022 = pd.concat([first_column, last_column_by_name], axis=1)\n",
    "PV_PECOTA_2022=PV_PECOTA_2022.sort_values(by='P_Value_PECOTA', ascending = False)\n",
    "\n",
    "alpha = 0.05\n",
    "m = 30\n",
    "PV_PECOTA_2022.reset_index(drop=True, inplace=True)\n",
    "PV_PECOTA_2022['BH_Threshold'] = (m - PV_PECOTA_2022.index) / m * alpha\n",
    "K_PECOTA_2022 = 0\n",
    "\n",
    "for i, row in PV_PECOTA_2022.iterrows():\n",
    "    if row['P_Value_PECOTA'] > row['BH_Threshold']:\n",
    "        K_PECOTA_2022 = i+1\n",
    "    else:\n",
    "        break\n",
    "\n",
    "K_PECOTA_2022 = 30 - K_PECOTA_2022\n",
    "K_PECOTA_2022"
   ]
  },
  {
   "cell_type": "code",
   "execution_count": 360,
   "metadata": {},
   "outputs": [
    {
     "data": {
      "text/plain": [
       "7"
      ]
     },
     "execution_count": 360,
     "metadata": {},
     "output_type": "execute_result"
    }
   ],
   "source": [
    "data_2021['Z_PECOTA']=(data_2021['pcg_Actual']-data_2021['pcg_PECOTA'])/(data_2021['pcg_PECOTA']*(1-data_2021['pcg_PECOTA'])/162)**(1/2)\n",
    "data_2021['P_Value_PECOTA'] =(1 - norm.cdf(abs(data_2021['Z_PECOTA']))) * 2\n",
    "first_column = data_2021.iloc[:, [0]].copy()\n",
    "last_column_by_name = data_2021.loc[:, ['P_Value_PECOTA']].copy()\n",
    "PV_PECOTA_2021 = pd.concat([first_column, last_column_by_name], axis=1)\n",
    "PV_PECOTA_2021=PV_PECOTA_2021.sort_values(by='P_Value_PECOTA', ascending = False)\n",
    "\n",
    "alpha = 0.05\n",
    "m = 30\n",
    "PV_PECOTA_2021.reset_index(drop=True, inplace=True)\n",
    "PV_PECOTA_2021['BH_Threshold'] = (m - PV_PECOTA_2021.index) / m * alpha\n",
    "K_PECOTA_2021 = 0\n",
    "\n",
    "for i, row in PV_PECOTA_2021.iterrows():\n",
    "    if row['P_Value_PECOTA'] > row['BH_Threshold']:\n",
    "        K_PECOTA_2021 = i+1\n",
    "    else:\n",
    "        break\n",
    "\n",
    "K_PECOTA_2021 = 30 - K_PECOTA_2021\n",
    "K_PECOTA_2021"
   ]
  },
  {
   "cell_type": "code",
   "execution_count": 361,
   "metadata": {},
   "outputs": [
    {
     "data": {
      "text/plain": [
       "0"
      ]
     },
     "execution_count": 361,
     "metadata": {},
     "output_type": "execute_result"
    }
   ],
   "source": [
    "data_2020['Z_PECOTA']=(data_2020['pcg_Actual']-data_2020['pcg_PECOTA'])/(data_2020['pcg_PECOTA']*(1-data_2020['pcg_PECOTA'])/60)**(1/2)\n",
    "data_2020['P_Value_PECOTA'] =(1 - norm.cdf(abs(data_2020['Z_PECOTA']))) * 2\n",
    "first_column = data_2020.iloc[:, [0]].copy()\n",
    "last_column_by_name = data_2020.loc[:, ['P_Value_PECOTA']].copy()\n",
    "PV_PECOTA_2020 = pd.concat([first_column, last_column_by_name], axis=1)\n",
    "PV_PECOTA_2020=PV_PECOTA_2020.sort_values(by='P_Value_PECOTA', ascending = False)\n",
    "\n",
    "alpha = 0.05\n",
    "m = 30\n",
    "PV_PECOTA_2020.reset_index(drop=True, inplace=True)\n",
    "PV_PECOTA_2020['BH_Threshold'] = (m - PV_PECOTA_2020.index) / m * alpha\n",
    "K_PECOTA_2020 = 0\n",
    "\n",
    "for i, row in PV_PECOTA_2020.iterrows():\n",
    "    if row['P_Value_PECOTA'] > row['BH_Threshold']:\n",
    "        K_PECOTA_2020 = i+1\n",
    "    else:\n",
    "        break\n",
    "\n",
    "K_PECOTA_2020 = 30 - K_PECOTA_2020\n",
    "K_PECOTA_2020"
   ]
  },
  {
   "cell_type": "code",
   "execution_count": 362,
   "metadata": {},
   "outputs": [
    {
     "data": {
      "text/plain": [
       "3"
      ]
     },
     "execution_count": 362,
     "metadata": {},
     "output_type": "execute_result"
    }
   ],
   "source": [
    "data_2019['Z_PECOTA']=(data_2019['pcg_Actual']-data_2019['pcg_PECOTA'])/(data_2019['pcg_PECOTA']*(1-data_2019['pcg_PECOTA'])/162)**(1/2)\n",
    "data_2019['P_Value_PECOTA'] =(1 - norm.cdf(abs(data_2019['Z_PECOTA']))) * 2\n",
    "first_column = data_2019.iloc[:, [0]].copy()\n",
    "last_column_by_name = data_2019.loc[:, ['P_Value_PECOTA']].copy()\n",
    "PV_PECOTA_2019 = pd.concat([first_column, last_column_by_name], axis=1)\n",
    "PV_PECOTA_2019=PV_PECOTA_2019.sort_values(by='P_Value_PECOTA', ascending = False)\n",
    "\n",
    "alpha = 0.05\n",
    "m = 30\n",
    "PV_PECOTA_2019.reset_index(drop=True, inplace=True)\n",
    "PV_PECOTA_2019['BH_Threshold'] = (m - PV_PECOTA_2019.index) / m * alpha\n",
    "K_PECOTA_2019 = 0\n",
    "\n",
    "for i, row in PV_PECOTA_2019.iterrows():\n",
    "    if row['P_Value_PECOTA'] > row['BH_Threshold']:\n",
    "        K_PECOTA_2019 = i+1\n",
    "    else:\n",
    "        break\n",
    "\n",
    "K_PECOTA_2019 = 30 - K_PECOTA_2019\n",
    "K_PECOTA_2019"
   ]
  },
  {
   "cell_type": "code",
   "execution_count": 363,
   "metadata": {},
   "outputs": [
    {
     "data": {
      "text/plain": [
       "3"
      ]
     },
     "execution_count": 363,
     "metadata": {},
     "output_type": "execute_result"
    }
   ],
   "source": [
    "data_2018['Z_PECOTA']=(data_2018['pcg_Actual']-data_2018['pcg_PECOTA'])/(data_2018['pcg_PECOTA']*(1-data_2018['pcg_PECOTA'])/162)**(1/2)\n",
    "data_2018['P_Value_PECOTA'] =(1 - norm.cdf(abs(data_2018['Z_PECOTA']))) * 2\n",
    "first_column = data_2018.iloc[:, [0]].copy()\n",
    "last_column_by_name = data_2018.loc[:, ['P_Value_PECOTA']].copy()\n",
    "PV_PECOTA_2018 = pd.concat([first_column, last_column_by_name], axis=1)\n",
    "PV_PECOTA_2018=PV_PECOTA_2018.sort_values(by='P_Value_PECOTA', ascending = False)\n",
    "\n",
    "alpha = 0.05\n",
    "m = 30\n",
    "PV_PECOTA_2018.reset_index(drop=True, inplace=True)\n",
    "PV_PECOTA_2018['BH_Threshold'] = (m - PV_PECOTA_2018.index) / m * alpha\n",
    "K_PECOTA_2018 = 0\n",
    "\n",
    "for i, row in PV_PECOTA_2018.iterrows():\n",
    "    if row['P_Value_PECOTA'] > row['BH_Threshold']:\n",
    "        K_PECOTA_2018 = i+1\n",
    "    else:\n",
    "        break\n",
    "\n",
    "K_PECOTA_2018 = 30 - K_PECOTA_2018\n",
    "K_PECOTA_2018"
   ]
  },
  {
   "cell_type": "code",
   "execution_count": 364,
   "metadata": {},
   "outputs": [
    {
     "data": {
      "text/plain": [
       "1"
      ]
     },
     "execution_count": 364,
     "metadata": {},
     "output_type": "execute_result"
    }
   ],
   "source": [
    "data_2017['Z_PECOTA']=(data_2017['pcg_Actual']-data_2017['pcg_PECOTA'])/(data_2017['pcg_PECOTA']*(1-data_2017['pcg_PECOTA'])/162)**(1/2)\n",
    "data_2017['P_Value_PECOTA'] =(1 - norm.cdf(abs(data_2017['Z_PECOTA']))) * 2\n",
    "first_column = data_2017.iloc[:, [0]].copy()\n",
    "last_column_by_name = data_2017.loc[:, ['P_Value_PECOTA']].copy()\n",
    "PV_PECOTA_2017 = pd.concat([first_column, last_column_by_name], axis=1)\n",
    "PV_PECOTA_2017=PV_PECOTA_2017.sort_values(by='P_Value_PECOTA', ascending = False)\n",
    "\n",
    "alpha = 0.05\n",
    "m = 30\n",
    "PV_PECOTA_2017.reset_index(drop=True, inplace=True)\n",
    "PV_PECOTA_2017['BH_Threshold'] = (m - PV_PECOTA_2017.index) / m * alpha\n",
    "K_PECOTA_2017 = 0\n",
    "\n",
    "for i, row in PV_PECOTA_2017.iterrows():\n",
    "    if row['P_Value_PECOTA'] > row['BH_Threshold']:\n",
    "        K_PECOTA_2017 = i+1\n",
    "    else:\n",
    "        break\n",
    "\n",
    "K_PECOTA_2017 = 30 - K_PECOTA_2017\n",
    "K_PECOTA_2017"
   ]
  },
  {
   "cell_type": "code",
   "execution_count": 365,
   "metadata": {},
   "outputs": [
    {
     "data": {
      "text/plain": [
       "2"
      ]
     },
     "execution_count": 365,
     "metadata": {},
     "output_type": "execute_result"
    }
   ],
   "source": [
    "data_2016['Z_PECOTA']=(data_2016['pcg_Actual']-data_2016['pcg_PECOTA'])/(data_2016['pcg_PECOTA']*(1-data_2016['pcg_PECOTA'])/162)**(1/2)\n",
    "data_2016['P_Value_PECOTA'] =(1 - norm.cdf(abs(data_2016['Z_PECOTA']))) * 2\n",
    "first_column = data_2016.iloc[:, [0]].copy()\n",
    "last_column_by_name = data_2016.loc[:, ['P_Value_PECOTA']].copy()\n",
    "PV_PECOTA_2016 = pd.concat([first_column, last_column_by_name], axis=1)\n",
    "PV_PECOTA_2016=PV_PECOTA_2016.sort_values(by='P_Value_PECOTA', ascending = False)\n",
    "\n",
    "alpha = 0.05\n",
    "m = 30\n",
    "PV_PECOTA_2016.reset_index(drop=True, inplace=True)\n",
    "PV_PECOTA_2016['BH_Threshold'] = (m - PV_PECOTA_2016.index) / m * alpha\n",
    "K_PECOTA_2016 = 0\n",
    "\n",
    "for i, row in PV_PECOTA_2016.iterrows():\n",
    "    if row['P_Value_PECOTA'] > row['BH_Threshold']:\n",
    "        K_PECOTA_2016 = i+1\n",
    "    else:\n",
    "        break\n",
    "\n",
    "K_PECOTA_2016 = 30 - K_PECOTA_2016\n",
    "K_PECOTA_2016"
   ]
  },
  {
   "cell_type": "code",
   "execution_count": 366,
   "metadata": {},
   "outputs": [
    {
     "data": {
      "text/plain": [
       "1"
      ]
     },
     "execution_count": 366,
     "metadata": {},
     "output_type": "execute_result"
    }
   ],
   "source": [
    "data_2015['Z_PECOTA']=(data_2015['pcg_Actual']-data_2015['pcg_PECOTA'])/(data_2015['pcg_PECOTA']*(1-data_2015['pcg_PECOTA'])/162)**(1/2)\n",
    "data_2015['P_Value_PECOTA'] =(1 - norm.cdf(abs(data_2015['Z_PECOTA']))) * 2\n",
    "first_column = data_2015.iloc[:, [0]].copy()\n",
    "last_column_by_name = data_2015.loc[:, ['P_Value_PECOTA']].copy()\n",
    "PV_PECOTA_2015 = pd.concat([first_column, last_column_by_name], axis=1)\n",
    "PV_PECOTA_2015=PV_PECOTA_2015.sort_values(by='P_Value_PECOTA', ascending = False)\n",
    "\n",
    "alpha = 0.05\n",
    "m = 30\n",
    "PV_PECOTA_2015.reset_index(drop=True, inplace=True)\n",
    "PV_PECOTA_2015['BH_Threshold'] = (m - PV_PECOTA_2015.index) / m * alpha\n",
    "K_PECOTA_2015 = 0\n",
    "\n",
    "for i, row in PV_PECOTA_2015.iterrows():\n",
    "    if row['P_Value_PECOTA'] > row['BH_Threshold']:\n",
    "        K_PECOTA_2015 = i+1\n",
    "    else:\n",
    "        break\n",
    "\n",
    "K_PECOTA_2015 = 30 - K_PECOTA_2015\n",
    "K_PECOTA_2015"
   ]
  },
  {
   "cell_type": "code",
   "execution_count": 367,
   "metadata": {},
   "outputs": [
    {
     "data": {
      "text/plain": [
       "3"
      ]
     },
     "execution_count": 367,
     "metadata": {},
     "output_type": "execute_result"
    }
   ],
   "source": [
    "data_2014['Z_PECOTA']=(data_2014['pcg_Actual']-data_2014['pcg_PECOTA'])/(data_2014['pcg_PECOTA']*(1-data_2014['pcg_PECOTA'])/162)**(1/2)\n",
    "data_2014['P_Value_PECOTA'] =(1 - norm.cdf(abs(data_2014['Z_PECOTA']))) * 2\n",
    "first_column = data_2014.iloc[:, [0]].copy()\n",
    "last_column_by_name = data_2014.loc[:, ['P_Value_PECOTA']].copy()\n",
    "PV_PECOTA_2014 = pd.concat([first_column, last_column_by_name], axis=1)\n",
    "PV_PECOTA_2014=PV_PECOTA_2014.sort_values(by='P_Value_PECOTA', ascending = False)\n",
    "\n",
    "alpha = 0.05\n",
    "m = 30\n",
    "PV_PECOTA_2014.reset_index(drop=True, inplace=True)\n",
    "PV_PECOTA_2014['BH_Threshold'] = (m - PV_PECOTA_2014.index) / m * alpha\n",
    "K_PECOTA_2014 = 0\n",
    "\n",
    "for i, row in PV_PECOTA_2014.iterrows():\n",
    "    if row['P_Value_PECOTA'] > row['BH_Threshold']:\n",
    "        K_PECOTA_2014 = i+1\n",
    "    else:\n",
    "        break\n",
    "\n",
    "K_PECOTA_2014 = 30 - K_PECOTA_2014\n",
    "K_PECOTA_2014"
   ]
  },
  {
   "cell_type": "code",
   "execution_count": 368,
   "metadata": {},
   "outputs": [
    {
     "data": {
      "text/plain": [
       "0"
      ]
     },
     "execution_count": 368,
     "metadata": {},
     "output_type": "execute_result"
    }
   ],
   "source": [
    "data_2013['Z_PECOTA']=(data_2013['pcg_Actual']-data_2013['pcg_PECOTA'])/(data_2013['pcg_PECOTA']*(1-data_2013['pcg_PECOTA'])/162)**(1/2)\n",
    "data_2013['P_Value_PECOTA'] =(1 - norm.cdf(abs(data_2013['Z_PECOTA']))) * 2\n",
    "first_column = data_2013.iloc[:, [0]].copy()\n",
    "last_column_by_name = data_2013.loc[:, ['P_Value_PECOTA']].copy()\n",
    "PV_PECOTA_2013 = pd.concat([first_column, last_column_by_name], axis=1)\n",
    "PV_PECOTA_2013=PV_PECOTA_2013.sort_values(by='P_Value_PECOTA', ascending = False)\n",
    "\n",
    "alpha = 0.05\n",
    "m = 30\n",
    "PV_PECOTA_2013.reset_index(drop=True, inplace=True)\n",
    "PV_PECOTA_2013['BH_Threshold'] = (m - PV_PECOTA_2013.index) / m * alpha\n",
    "K_PECOTA_2013 = 0\n",
    "\n",
    "for i, row in PV_PECOTA_2013.iterrows():\n",
    "    if row['P_Value_PECOTA'] > row['BH_Threshold']:\n",
    "        K_PECOTA_2013 = i+1\n",
    "    else:\n",
    "        break\n",
    "\n",
    "K_PECOTA_2013 = 30 - K_PECOTA_2013\n",
    "K_PECOTA_2013"
   ]
  },
  {
   "cell_type": "code",
   "execution_count": 369,
   "metadata": {},
   "outputs": [
    {
     "data": {
      "text/plain": [
       "4"
      ]
     },
     "execution_count": 369,
     "metadata": {},
     "output_type": "execute_result"
    }
   ],
   "source": [
    "data_2012['Z_PECOTA']=(data_2012['pcg_Actual']-data_2012['pcg_PECOTA'])/(data_2012['pcg_PECOTA']*(1-data_2012['pcg_PECOTA'])/162)**(1/2)\n",
    "data_2012['P_Value_PECOTA'] =(1 - norm.cdf(abs(data_2012['Z_PECOTA']))) * 2\n",
    "first_column = data_2012.iloc[:, [0]].copy()\n",
    "last_column_by_name = data_2012.loc[:, ['P_Value_PECOTA']].copy()\n",
    "PV_PECOTA_2012 = pd.concat([first_column, last_column_by_name], axis=1)\n",
    "PV_PECOTA_2012=PV_PECOTA_2012.sort_values(by='P_Value_PECOTA', ascending = False)\n",
    "\n",
    "alpha = 0.05\n",
    "m = 30\n",
    "PV_PECOTA_2012.reset_index(drop=True, inplace=True)\n",
    "PV_PECOTA_2012['BH_Threshold'] = (m - PV_PECOTA_2012.index) / m * alpha\n",
    "K_PECOTA_2012 = 0\n",
    "\n",
    "for i, row in PV_PECOTA_2012.iterrows():\n",
    "    if row['P_Value_PECOTA'] > row['BH_Threshold']:\n",
    "        K_PECOTA_2012 = i+1\n",
    "    else:\n",
    "        break\n",
    "\n",
    "K_PECOTA_2012 = 30 - K_PECOTA_2012\n",
    "K_PECOTA_2012"
   ]
  },
  {
   "cell_type": "code",
   "execution_count": 370,
   "metadata": {},
   "outputs": [
    {
     "data": {
      "text/plain": [
       "2"
      ]
     },
     "execution_count": 370,
     "metadata": {},
     "output_type": "execute_result"
    }
   ],
   "source": [
    "data_2011['Z_PECOTA']=(data_2011['pcg_Actual']-data_2011['pcg_PECOTA'])/(data_2011['pcg_PECOTA']*(1-data_2011['pcg_PECOTA'])/162)**(1/2)\n",
    "data_2011['P_Value_PECOTA'] =(1 - norm.cdf(abs(data_2011['Z_PECOTA']))) * 2\n",
    "first_column = data_2011.iloc[:, [0]].copy()\n",
    "last_column_by_name = data_2011.loc[:, ['P_Value_PECOTA']].copy()\n",
    "PV_PECOTA_2011 = pd.concat([first_column, last_column_by_name], axis=1)\n",
    "PV_PECOTA_2011=PV_PECOTA_2011.sort_values(by='P_Value_PECOTA', ascending = False)\n",
    "\n",
    "alpha = 0.05\n",
    "m = 30\n",
    "PV_PECOTA_2011.reset_index(drop=True, inplace=True)\n",
    "PV_PECOTA_2011['BH_Threshold'] = (m - PV_PECOTA_2011.index) / m * alpha\n",
    "K_PECOTA_2011 = 0\n",
    "\n",
    "for i, row in PV_PECOTA_2011.iterrows():\n",
    "    if row['P_Value_PECOTA'] > row['BH_Threshold']:\n",
    "        K_PECOTA_2011 = i+1\n",
    "    else:\n",
    "        break\n",
    "\n",
    "K_PECOTA_2011 = 30 - K_PECOTA_2011\n",
    "K_PECOTA_2011"
   ]
  },
  {
   "cell_type": "code",
   "execution_count": 371,
   "metadata": {},
   "outputs": [
    {
     "data": {
      "text/plain": [
       "2"
      ]
     },
     "execution_count": 371,
     "metadata": {},
     "output_type": "execute_result"
    }
   ],
   "source": [
    "data_2010['Z_PECOTA']=(data_2010['pcg_Actual']-data_2010['pcg_PECOTA'])/(data_2010['pcg_PECOTA']*(1-data_2010['pcg_PECOTA'])/162)**(1/2)\n",
    "data_2010['P_Value_PECOTA'] =(1 - norm.cdf(abs(data_2010['Z_PECOTA']))) * 2\n",
    "first_column = data_2010.iloc[:, [0]].copy()\n",
    "last_column_by_name = data_2010.loc[:, ['P_Value_PECOTA']].copy()\n",
    "PV_PECOTA_2010 = pd.concat([first_column, last_column_by_name], axis=1)\n",
    "PV_PECOTA_2010=PV_PECOTA_2010.sort_values(by='P_Value_PECOTA', ascending = False)\n",
    "\n",
    "alpha = 0.05\n",
    "m = 30\n",
    "PV_PECOTA_2010.reset_index(drop=True, inplace=True)\n",
    "PV_PECOTA_2010['BH_Threshold'] = (m - PV_PECOTA_2010.index) / m * alpha\n",
    "K_PECOTA_2010 = 0\n",
    "\n",
    "for i, row in PV_PECOTA_2010.iterrows():\n",
    "    if row['P_Value_PECOTA'] > row['BH_Threshold']:\n",
    "        K_PECOTA_2010 = i+1\n",
    "    else:\n",
    "        break\n",
    "\n",
    "K_PECOTA_2010 = 30 - K_PECOTA_2010\n",
    "K_PECOTA_2010"
   ]
  },
  {
   "cell_type": "code",
   "execution_count": 372,
   "metadata": {},
   "outputs": [
    {
     "data": {
      "text/plain": [
       "4"
      ]
     },
     "execution_count": 372,
     "metadata": {},
     "output_type": "execute_result"
    }
   ],
   "source": [
    "data_2009['Z_PECOTA']=(data_2009['pcg_Actual']-data_2009['pcg_PECOTA'])/(data_2009['pcg_PECOTA']*(1-data_2009['pcg_PECOTA'])/162)**(1/2)\n",
    "data_2009['P_Value_PECOTA'] =(1 - norm.cdf(abs(data_2009['Z_PECOTA']))) * 2\n",
    "first_column = data_2009.iloc[:, [0]].copy()\n",
    "last_column_by_name = data_2009.loc[:, ['P_Value_PECOTA']].copy()\n",
    "PV_PECOTA_2009 = pd.concat([first_column, last_column_by_name], axis=1)\n",
    "PV_PECOTA_2009=PV_PECOTA_2009.sort_values(by='P_Value_PECOTA', ascending = False)\n",
    "\n",
    "alpha = 0.05\n",
    "m = 30\n",
    "PV_PECOTA_2009.reset_index(drop=True, inplace=True)\n",
    "PV_PECOTA_2009['BH_Threshold'] = (m - PV_PECOTA_2009.index) / m * alpha\n",
    "K_PECOTA_2009 = 0\n",
    "\n",
    "for i, row in PV_PECOTA_2009.iterrows():\n",
    "    if row['P_Value_PECOTA'] > row['BH_Threshold']:\n",
    "        K_PECOTA_2009 = i+1\n",
    "    else:\n",
    "        break\n",
    "\n",
    "K_PECOTA_2009 = 30 - K_PECOTA_2009\n",
    "K_PECOTA_2009"
   ]
  },
  {
   "cell_type": "code",
   "execution_count": 373,
   "metadata": {},
   "outputs": [
    {
     "data": {
      "text/plain": [
       "0"
      ]
     },
     "execution_count": 373,
     "metadata": {},
     "output_type": "execute_result"
    }
   ],
   "source": [
    "data_2008['Z_PECOTA']=(data_2008['pcg_Actual']-data_2008['pcg_PECOTA'])/(data_2008['pcg_PECOTA']*(1-data_2008['pcg_PECOTA'])/162)**(1/2)\n",
    "data_2008['P_Value_PECOTA'] =(1 - norm.cdf(abs(data_2008['Z_PECOTA']))) * 2\n",
    "first_column = data_2008.iloc[:, [0]].copy()\n",
    "last_column_by_name = data_2008.loc[:, ['P_Value_PECOTA']].copy()\n",
    "PV_PECOTA_2008 = pd.concat([first_column, last_column_by_name], axis=1)\n",
    "PV_PECOTA_2008=PV_PECOTA_2008.sort_values(by='P_Value_PECOTA', ascending = False)\n",
    "\n",
    "alpha = 0.05\n",
    "m = 30\n",
    "PV_PECOTA_2008.reset_index(drop=True, inplace=True)\n",
    "PV_PECOTA_2008['BH_Threshold'] = (m - PV_PECOTA_2008.index) / m * alpha\n",
    "K_PECOTA_2008 = 0\n",
    "\n",
    "for i, row in PV_PECOTA_2008.iterrows():\n",
    "    if row['P_Value_PECOTA'] > row['BH_Threshold']:\n",
    "        K_PECOTA_2008 = i+1\n",
    "    else:\n",
    "        break\n",
    "\n",
    "K_PECOTA_2008 = 30 - K_PECOTA_2008\n",
    "K_PECOTA_2008"
   ]
  },
  {
   "cell_type": "markdown",
   "metadata": {},
   "source": [
    "### FanGraphs"
   ]
  },
  {
   "cell_type": "code",
   "execution_count": 374,
   "metadata": {},
   "outputs": [
    {
     "data": {
      "text/plain": [
       "3"
      ]
     },
     "execution_count": 374,
     "metadata": {},
     "output_type": "execute_result"
    }
   ],
   "source": [
    "data_2023['Z_FanGraphs']=(data_2023['pcg_Actual']-data_2023['pcg_FanGraphs'])/(data_2023['pcg_FanGraphs']*(1-data_2023['pcg_FanGraphs'])/162)**(1/2)\n",
    "data_2023['P_Value_FanGraphs'] =(1 - norm.cdf(abs(data_2023['Z_FanGraphs']))) * 2\n",
    "first_column = data_2023.iloc[:, [0]].copy()\n",
    "last_column_by_name = data_2023.loc[:, ['P_Value_FanGraphs']].copy()\n",
    "PV_FanGraphs_2023 = pd.concat([first_column, last_column_by_name], axis=1)\n",
    "PV_FanGraphs_2023=PV_FanGraphs_2023.sort_values(by='P_Value_FanGraphs', ascending = False)\n",
    "\n",
    "alpha = 0.05\n",
    "m = 30\n",
    "PV_FanGraphs_2023.reset_index(drop=True, inplace=True)\n",
    "PV_FanGraphs_2023['BH_Threshold'] = (m - PV_FanGraphs_2023.index) / m * alpha\n",
    "K_FanGraphs_2023 = 0\n",
    "\n",
    "for i, row in PV_FanGraphs_2023.iterrows():\n",
    "    if row['P_Value_FanGraphs'] > row['BH_Threshold']:\n",
    "        K_FanGraphs_2023 = i+1\n",
    "    else:\n",
    "        break\n",
    "\n",
    "K_FanGraphs_2023 = 30 - K_FanGraphs_2023\n",
    "K_FanGraphs_2023\n"
   ]
  },
  {
   "cell_type": "code",
   "execution_count": 375,
   "metadata": {},
   "outputs": [
    {
     "data": {
      "text/plain": [
       "0"
      ]
     },
     "execution_count": 375,
     "metadata": {},
     "output_type": "execute_result"
    }
   ],
   "source": [
    "data_2022['Z_FanGraphs']=(data_2022['pcg_Actual']-data_2022['pcg_FanGraphs'])/(data_2022['pcg_FanGraphs']*(1-data_2022['pcg_FanGraphs'])/162)**(1/2)\n",
    "data_2022['P_Value_FanGraphs'] =(1 - norm.cdf(abs(data_2022['Z_FanGraphs']))) * 2\n",
    "first_column = data_2022.iloc[:, [0]].copy()\n",
    "last_column_by_name = data_2022.loc[:, ['P_Value_FanGraphs']].copy()\n",
    "PV_FanGraphs_2022 = pd.concat([first_column, last_column_by_name], axis=1)\n",
    "PV_FanGraphs_2022=PV_FanGraphs_2022.sort_values(by='P_Value_FanGraphs', ascending = False)\n",
    "\n",
    "alpha = 0.05\n",
    "m = 30\n",
    "PV_FanGraphs_2022.reset_index(drop=True, inplace=True)\n",
    "PV_FanGraphs_2022['BH_Threshold'] = (m - PV_FanGraphs_2022.index) / m * alpha\n",
    "K_FanGraphs_2022 = 0\n",
    "\n",
    "for i, row in PV_FanGraphs_2022.iterrows():\n",
    "    if row['P_Value_FanGraphs'] > row['BH_Threshold']:\n",
    "        K_FanGraphs_2022 = i+1\n",
    "    else:\n",
    "        break\n",
    "\n",
    "K_FanGraphs_2022 = 30 - K_FanGraphs_2022\n",
    "K_FanGraphs_2022\n"
   ]
  },
  {
   "cell_type": "code",
   "execution_count": 376,
   "metadata": {},
   "outputs": [
    {
     "data": {
      "text/plain": [
       "7"
      ]
     },
     "execution_count": 376,
     "metadata": {},
     "output_type": "execute_result"
    }
   ],
   "source": [
    "data_2021['Z_FanGraphs']=(data_2021['pcg_Actual']-data_2021['pcg_FanGraphs'])/(data_2021['pcg_FanGraphs']*(1-data_2021['pcg_FanGraphs'])/162)**(1/2)\n",
    "data_2021['P_Value_FanGraphs'] =(1 - norm.cdf(abs(data_2021['Z_FanGraphs']))) * 2\n",
    "first_column = data_2021.iloc[:, [0]].copy()\n",
    "last_column_by_name = data_2021.loc[:, ['P_Value_FanGraphs']].copy()\n",
    "PV_FanGraphs_2021 = pd.concat([first_column, last_column_by_name], axis=1)\n",
    "PV_FanGraphs_2021=PV_FanGraphs_2021.sort_values(by='P_Value_FanGraphs', ascending = False)\n",
    "\n",
    "alpha = 0.05\n",
    "m = 30\n",
    "PV_FanGraphs_2021.reset_index(drop=True, inplace=True)\n",
    "PV_FanGraphs_2021['BH_Threshold'] = (m - PV_FanGraphs_2021.index) / m * alpha\n",
    "K_FanGraphs_2021 = 0\n",
    "\n",
    "for i, row in PV_FanGraphs_2021.iterrows():\n",
    "    if row['P_Value_FanGraphs'] > row['BH_Threshold']:\n",
    "        K_FanGraphs_2021 = i+1\n",
    "    else:\n",
    "        break\n",
    "\n",
    "K_FanGraphs_2021 = 30 - K_FanGraphs_2021\n",
    "K_FanGraphs_2021\n"
   ]
  },
  {
   "cell_type": "code",
   "execution_count": 377,
   "metadata": {},
   "outputs": [
    {
     "data": {
      "text/plain": [
       "0"
      ]
     },
     "execution_count": 377,
     "metadata": {},
     "output_type": "execute_result"
    }
   ],
   "source": [
    "data_2020['Z_FanGraphs']=(data_2020['pcg_Actual']-data_2020['pcg_FanGraphs'])/(data_2020['pcg_FanGraphs']*(1-data_2020['pcg_FanGraphs'])/60)**(1/2)\n",
    "data_2020['P_Value_FanGraphs'] =(1 - norm.cdf(abs(data_2020['Z_FanGraphs']))) * 2\n",
    "first_column = data_2020.iloc[:, [0]].copy()\n",
    "last_column_by_name = data_2020.loc[:, ['P_Value_FanGraphs']].copy()\n",
    "PV_FanGraphs_2020 = pd.concat([first_column, last_column_by_name], axis=1)\n",
    "PV_FanGraphs_2020=PV_FanGraphs_2020.sort_values(by='P_Value_FanGraphs', ascending = False)\n",
    "\n",
    "alpha = 0.05\n",
    "m = 30\n",
    "PV_FanGraphs_2020.reset_index(drop=True, inplace=True)\n",
    "PV_FanGraphs_2020['BH_Threshold'] = (m - PV_FanGraphs_2020.index) / m * alpha\n",
    "K_FanGraphs_2020 = 0\n",
    "\n",
    "for i, row in PV_FanGraphs_2020.iterrows():\n",
    "    if row['P_Value_FanGraphs'] > row['BH_Threshold']:\n",
    "        K_FanGraphs_2020 = i+1\n",
    "    else:\n",
    "        break\n",
    "\n",
    "K_FanGraphs_2020 = 30 - K_FanGraphs_2020\n",
    "K_FanGraphs_2020\n"
   ]
  },
  {
   "cell_type": "code",
   "execution_count": 378,
   "metadata": {},
   "outputs": [
    {
     "data": {
      "text/plain": [
       "1"
      ]
     },
     "execution_count": 378,
     "metadata": {},
     "output_type": "execute_result"
    }
   ],
   "source": [
    "data_2019['Z_FanGraphs']=(data_2019['pcg_Actual']-data_2019['pcg_FanGraphs'])/(data_2019['pcg_FanGraphs']*(1-data_2019['pcg_FanGraphs'])/162)**(1/2)\n",
    "data_2019['P_Value_FanGraphs'] =(1 - norm.cdf(abs(data_2019['Z_FanGraphs']))) * 2\n",
    "first_column = data_2019.iloc[:, [0]].copy()\n",
    "last_column_by_name = data_2019.loc[:, ['P_Value_FanGraphs']].copy()\n",
    "PV_FanGraphs_2019 = pd.concat([first_column, last_column_by_name], axis=1)\n",
    "PV_FanGraphs_2019=PV_FanGraphs_2019.sort_values(by='P_Value_FanGraphs', ascending = False)\n",
    "\n",
    "alpha = 0.05\n",
    "m = 30\n",
    "PV_FanGraphs_2019.reset_index(drop=True, inplace=True)\n",
    "PV_FanGraphs_2019['BH_Threshold'] = (m - PV_FanGraphs_2019.index) / m * alpha\n",
    "K_FanGraphs_2019 = 0\n",
    "\n",
    "for i, row in PV_FanGraphs_2019.iterrows():\n",
    "    if row['P_Value_FanGraphs'] > row['BH_Threshold']:\n",
    "        K_FanGraphs_2019 = i+1\n",
    "    else:\n",
    "        break\n",
    "\n",
    "K_FanGraphs_2019 = 30 - K_FanGraphs_2019\n",
    "K_FanGraphs_2019\n"
   ]
  },
  {
   "cell_type": "code",
   "execution_count": 379,
   "metadata": {},
   "outputs": [
    {
     "data": {
      "text/plain": [
       "1"
      ]
     },
     "execution_count": 379,
     "metadata": {},
     "output_type": "execute_result"
    }
   ],
   "source": [
    "data_2018['Z_FanGraphs']=(data_2018['pcg_Actual']-data_2018['pcg_FanGraphs'])/(data_2018['pcg_FanGraphs']*(1-data_2018['pcg_FanGraphs'])/162)**(1/2)\n",
    "data_2018['P_Value_FanGraphs'] =(1 - norm.cdf(abs(data_2018['Z_FanGraphs']))) * 2\n",
    "first_column = data_2018.iloc[:, [0]].copy()\n",
    "last_column_by_name = data_2018.loc[:, ['P_Value_FanGraphs']].copy()\n",
    "PV_FanGraphs_2018 = pd.concat([first_column, last_column_by_name], axis=1)\n",
    "PV_FanGraphs_2018=PV_FanGraphs_2018.sort_values(by='P_Value_FanGraphs', ascending = False)\n",
    "\n",
    "alpha = 0.05\n",
    "m = 30\n",
    "PV_FanGraphs_2018.reset_index(drop=True, inplace=True)\n",
    "PV_FanGraphs_2018['BH_Threshold'] = (m - PV_FanGraphs_2018.index) / m * alpha\n",
    "K_FanGraphs_2018 = 0\n",
    "\n",
    "for i, row in PV_FanGraphs_2018.iterrows():\n",
    "    if row['P_Value_FanGraphs'] > row['BH_Threshold']:\n",
    "        K_FanGraphs_2018 = i+1\n",
    "    else:\n",
    "        break\n",
    "\n",
    "K_FanGraphs_2018 = 30 - K_FanGraphs_2018\n",
    "K_FanGraphs_2018\n"
   ]
  },
  {
   "cell_type": "code",
   "execution_count": 380,
   "metadata": {},
   "outputs": [
    {
     "data": {
      "text/plain": [
       "1"
      ]
     },
     "execution_count": 380,
     "metadata": {},
     "output_type": "execute_result"
    }
   ],
   "source": [
    "data_2017['Z_FanGraphs']=(data_2017['pcg_Actual']-data_2017['pcg_FanGraphs'])/(data_2017['pcg_FanGraphs']*(1-data_2017['pcg_FanGraphs'])/162)**(1/2)\n",
    "data_2017['P_Value_FanGraphs'] =(1 - norm.cdf(abs(data_2017['Z_FanGraphs']))) * 2\n",
    "first_column = data_2017.iloc[:, [0]].copy()\n",
    "last_column_by_name = data_2017.loc[:, ['P_Value_FanGraphs']].copy()\n",
    "PV_FanGraphs_2017 = pd.concat([first_column, last_column_by_name], axis=1)\n",
    "PV_FanGraphs_2017=PV_FanGraphs_2017.sort_values(by='P_Value_FanGraphs', ascending = False)\n",
    "\n",
    "alpha = 0.05\n",
    "m = 30\n",
    "PV_FanGraphs_2017.reset_index(drop=True, inplace=True)\n",
    "PV_FanGraphs_2017['BH_Threshold'] = (m - PV_FanGraphs_2017.index) / m * alpha\n",
    "K_FanGraphs_2017 = 0\n",
    "\n",
    "for i, row in PV_FanGraphs_2017.iterrows():\n",
    "    if row['P_Value_FanGraphs'] > row['BH_Threshold']:\n",
    "        K_FanGraphs_2017 = i+1\n",
    "    else:\n",
    "        break\n",
    "\n",
    "K_FanGraphs_2017 = 30 - K_FanGraphs_2017\n",
    "K_FanGraphs_2017\n"
   ]
  },
  {
   "cell_type": "code",
   "execution_count": 381,
   "metadata": {},
   "outputs": [
    {
     "data": {
      "text/plain": [
       "0"
      ]
     },
     "execution_count": 381,
     "metadata": {},
     "output_type": "execute_result"
    }
   ],
   "source": [
    "data_2016['Z_FanGraphs']=(data_2016['pcg_Actual']-data_2016['pcg_FanGraphs'])/(data_2016['pcg_FanGraphs']*(1-data_2016['pcg_FanGraphs'])/162)**(1/2)\n",
    "data_2016['P_Value_FanGraphs'] =(1 - norm.cdf(abs(data_2016['Z_FanGraphs']))) * 2\n",
    "first_column = data_2016.iloc[:, [0]].copy()\n",
    "last_column_by_name = data_2016.loc[:, ['P_Value_FanGraphs']].copy()\n",
    "PV_FanGraphs_2016 = pd.concat([first_column, last_column_by_name], axis=1)\n",
    "PV_FanGraphs_2016=PV_FanGraphs_2016.sort_values(by='P_Value_FanGraphs', ascending = False)\n",
    "\n",
    "alpha = 0.05\n",
    "m = 30\n",
    "PV_FanGraphs_2016.reset_index(drop=True, inplace=True)\n",
    "PV_FanGraphs_2016['BH_Threshold'] = (m - PV_FanGraphs_2016.index) / m * alpha\n",
    "K_FanGraphs_2016 = 0\n",
    "\n",
    "for i, row in PV_FanGraphs_2016.iterrows():\n",
    "    if row['P_Value_FanGraphs'] > row['BH_Threshold']:\n",
    "        K_FanGraphs_2016 = i+1\n",
    "    else:\n",
    "        break\n",
    "\n",
    "K_FanGraphs_2016 = 30 - K_FanGraphs_2016\n",
    "K_FanGraphs_2016\n"
   ]
  },
  {
   "cell_type": "code",
   "execution_count": 382,
   "metadata": {},
   "outputs": [
    {
     "data": {
      "text/plain": [
       "0"
      ]
     },
     "execution_count": 382,
     "metadata": {},
     "output_type": "execute_result"
    }
   ],
   "source": [
    "data_2015['Z_FanGraphs']=(data_2015['pcg_Actual']-data_2015['pcg_FanGraphs'])/(data_2015['pcg_FanGraphs']*(1-data_2015['pcg_FanGraphs'])/162)**(1/2)\n",
    "data_2015['P_Value_FanGraphs'] =(1 - norm.cdf(abs(data_2015['Z_FanGraphs']))) * 2\n",
    "first_column = data_2015.iloc[:, [0]].copy()\n",
    "last_column_by_name = data_2015.loc[:, ['P_Value_FanGraphs']].copy()\n",
    "PV_FanGraphs_2015 = pd.concat([first_column, last_column_by_name], axis=1)\n",
    "PV_FanGraphs_2015=PV_FanGraphs_2015.sort_values(by='P_Value_FanGraphs', ascending = False)\n",
    "\n",
    "alpha = 0.05\n",
    "m = 30\n",
    "PV_FanGraphs_2015.reset_index(drop=True, inplace=True)\n",
    "PV_FanGraphs_2015['BH_Threshold'] = (m - PV_FanGraphs_2015.index) / m * alpha\n",
    "K_FanGraphs_2015 = 0\n",
    "\n",
    "for i, row in PV_FanGraphs_2015.iterrows():\n",
    "    if row['P_Value_FanGraphs'] > row['BH_Threshold']:\n",
    "        K_FanGraphs_2015 = i+1\n",
    "    else:\n",
    "        break\n",
    "\n",
    "K_FanGraphs_2015 = 30 - K_FanGraphs_2015\n",
    "K_FanGraphs_2015\n"
   ]
  },
  {
   "cell_type": "code",
   "execution_count": 383,
   "metadata": {},
   "outputs": [
    {
     "data": {
      "text/plain": [
       "0"
      ]
     },
     "execution_count": 383,
     "metadata": {},
     "output_type": "execute_result"
    }
   ],
   "source": [
    "data_2014['Z_FanGraphs']=(data_2014['pcg_Actual']-data_2014['pcg_FanGraphs'])/(data_2014['pcg_FanGraphs']*(1-data_2014['pcg_FanGraphs'])/162)**(1/2)\n",
    "data_2014['P_Value_FanGraphs'] =(1 - norm.cdf(abs(data_2014['Z_FanGraphs']))) * 2\n",
    "first_column = data_2014.iloc[:, [0]].copy()\n",
    "last_column_by_name = data_2014.loc[:, ['P_Value_FanGraphs']].copy()\n",
    "PV_FanGraphs_2014 = pd.concat([first_column, last_column_by_name], axis=1)\n",
    "PV_FanGraphs_2014=PV_FanGraphs_2014.sort_values(by='P_Value_FanGraphs', ascending = False)\n",
    "\n",
    "alpha = 0.05\n",
    "m = 30\n",
    "PV_FanGraphs_2014.reset_index(drop=True, inplace=True)\n",
    "PV_FanGraphs_2014['BH_Threshold'] = (m - PV_FanGraphs_2014.index) / m * alpha\n",
    "K_FanGraphs_2014 = 0\n",
    "\n",
    "for i, row in PV_FanGraphs_2014.iterrows():\n",
    "    if row['P_Value_FanGraphs'] > row['BH_Threshold']:\n",
    "        K_FanGraphs_2014 = i+1\n",
    "    else:\n",
    "        break\n",
    "\n",
    "K_FanGraphs_2014 = 30 - K_FanGraphs_2014\n",
    "K_FanGraphs_2014\n"
   ]
  },
  {
   "cell_type": "code",
   "execution_count": 384,
   "metadata": {},
   "outputs": [
    {
     "data": {
      "text/plain": [
       "0"
      ]
     },
     "execution_count": 384,
     "metadata": {},
     "output_type": "execute_result"
    }
   ],
   "source": [
    "data_2013['Z_FanGraphs']=(data_2013['pcg_Actual']-data_2013['pcg_FanGraphs'])/(data_2013['pcg_FanGraphs']*(1-data_2013['pcg_FanGraphs'])/162)**(1/2)\n",
    "data_2013['P_Value_FanGraphs'] =(1 - norm.cdf(abs(data_2013['Z_FanGraphs']))) * 2\n",
    "first_column = data_2013.iloc[:, [0]].copy()\n",
    "last_column_by_name = data_2013.loc[:, ['P_Value_FanGraphs']].copy()\n",
    "PV_FanGraphs_2013 = pd.concat([first_column, last_column_by_name], axis=1)\n",
    "PV_FanGraphs_2013=PV_FanGraphs_2013.sort_values(by='P_Value_FanGraphs', ascending = False)\n",
    "\n",
    "alpha = 0.05\n",
    "m = 30\n",
    "PV_FanGraphs_2013.reset_index(drop=True, inplace=True)\n",
    "PV_FanGraphs_2013['BH_Threshold'] = (m - PV_FanGraphs_2013.index) / m * alpha\n",
    "K_FanGraphs_2013 = 0\n",
    "\n",
    "for i, row in PV_FanGraphs_2013.iterrows():\n",
    "    if row['P_Value_FanGraphs'] > row['BH_Threshold']:\n",
    "        K_FanGraphs_2013 = i+1\n",
    "    else:\n",
    "        break\n",
    "\n",
    "K_FanGraphs_2013 = 30 - K_FanGraphs_2013\n",
    "K_FanGraphs_2013\n"
   ]
  },
  {
   "cell_type": "markdown",
   "metadata": {},
   "source": [
    "### ZiPs"
   ]
  },
  {
   "cell_type": "code",
   "execution_count": 385,
   "metadata": {},
   "outputs": [
    {
     "data": {
      "text/plain": [
       "4"
      ]
     },
     "execution_count": 385,
     "metadata": {},
     "output_type": "execute_result"
    }
   ],
   "source": [
    "data_2023['Z_ZiPs']=(data_2023['pcg_Actual']-data_2023['pcg_ZiPs'])/(data_2023['pcg_ZiPs']*(1-data_2023['pcg_ZiPs'])/162)**(1/2)\n",
    "data_2023['P_Value_ZiPs'] =(1 - norm.cdf(abs(data_2023['Z_ZiPs']))) * 2\n",
    "first_column = data_2023.iloc[:, [0]].copy()\n",
    "last_column_by_name = data_2023.loc[:, ['P_Value_ZiPs']].copy()\n",
    "PV_ZiPs_2023 = pd.concat([first_column, last_column_by_name], axis=1)\n",
    "PV_ZiPs_2023=PV_ZiPs_2023.sort_values(by='P_Value_ZiPs', ascending = False)\n",
    "\n",
    "alpha = 0.05\n",
    "m = 30\n",
    "PV_ZiPs_2023.reset_index(drop=True, inplace=True)\n",
    "PV_ZiPs_2023['BH_Threshold'] = (m - PV_ZiPs_2023.index) / m * alpha\n",
    "K_ZiPs_2023 = 0\n",
    "\n",
    "for i, row in PV_ZiPs_2023.iterrows():\n",
    "    if row['P_Value_ZiPs'] > row['BH_Threshold']:\n",
    "        K_ZiPs_2023 = i+1\n",
    "    else:\n",
    "        break\n",
    "\n",
    "K_ZiPs_2023 = 30 - K_ZiPs_2023\n",
    "K_ZiPs_2023\n"
   ]
  },
  {
   "cell_type": "code",
   "execution_count": 386,
   "metadata": {},
   "outputs": [
    {
     "data": {
      "text/plain": [
       "3"
      ]
     },
     "execution_count": 386,
     "metadata": {},
     "output_type": "execute_result"
    }
   ],
   "source": [
    "data_2022['Z_ZiPs']=(data_2022['pcg_Actual']-data_2022['pcg_ZiPs'])/(data_2022['pcg_ZiPs']*(1-data_2022['pcg_ZiPs'])/162)**(1/2)\n",
    "data_2022['P_Value_ZiPs'] =(1 - norm.cdf(abs(data_2022['Z_ZiPs']))) * 2\n",
    "first_column = data_2022.iloc[:, [0]].copy()\n",
    "last_column_by_name = data_2022.loc[:, ['P_Value_ZiPs']].copy()\n",
    "PV_ZiPs_2022 = pd.concat([first_column, last_column_by_name], axis=1)\n",
    "PV_ZiPs_2022=PV_ZiPs_2022.sort_values(by='P_Value_ZiPs', ascending = False)\n",
    "\n",
    "alpha = 0.05\n",
    "m = 30\n",
    "PV_ZiPs_2022.reset_index(drop=True, inplace=True)\n",
    "PV_ZiPs_2022['BH_Threshold'] = (m - PV_ZiPs_2022.index) / m * alpha\n",
    "K_ZiPs_2022 = 0\n",
    "\n",
    "for i, row in PV_ZiPs_2022.iterrows():\n",
    "    if row['P_Value_ZiPs'] > row['BH_Threshold']:\n",
    "        K_ZiPs_2022 = i+1\n",
    "    else:\n",
    "        break\n",
    "\n",
    "K_ZiPs_2022 = 30 - K_ZiPs_2022\n",
    "K_ZiPs_2022\n"
   ]
  },
  {
   "cell_type": "code",
   "execution_count": 387,
   "metadata": {},
   "outputs": [
    {
     "data": {
      "text/plain": [
       "6"
      ]
     },
     "execution_count": 387,
     "metadata": {},
     "output_type": "execute_result"
    }
   ],
   "source": [
    "data_2021['Z_ZiPs']=(data_2021['pcg_Actual']-data_2021['pcg_ZiPs'])/(data_2021['pcg_ZiPs']*(1-data_2021['pcg_ZiPs'])/162)**(1/2)\n",
    "data_2021['P_Value_ZiPs'] =(1 - norm.cdf(abs(data_2021['Z_ZiPs']))) * 2\n",
    "first_column = data_2021.iloc[:, [0]].copy()\n",
    "last_column_by_name = data_2021.loc[:, ['P_Value_ZiPs']].copy()\n",
    "PV_ZiPs_2021 = pd.concat([first_column, last_column_by_name], axis=1)\n",
    "PV_ZiPs_2021=PV_ZiPs_2021.sort_values(by='P_Value_ZiPs', ascending = False)\n",
    "\n",
    "alpha = 0.05\n",
    "m = 30\n",
    "PV_ZiPs_2021.reset_index(drop=True, inplace=True)\n",
    "PV_ZiPs_2021['BH_Threshold'] = (m - PV_ZiPs_2021.index) / m * alpha\n",
    "K_ZiPs_2021 = 0\n",
    "\n",
    "for i, row in PV_ZiPs_2021.iterrows():\n",
    "    if row['P_Value_ZiPs'] > row['BH_Threshold']:\n",
    "        K_ZiPs_2021 = i+1\n",
    "    else:\n",
    "        break\n",
    "\n",
    "K_ZiPs_2021 = 30 - K_ZiPs_2021\n",
    "K_ZiPs_2021\n"
   ]
  },
  {
   "cell_type": "code",
   "execution_count": 388,
   "metadata": {},
   "outputs": [
    {
     "data": {
      "text/plain": [
       "0"
      ]
     },
     "execution_count": 388,
     "metadata": {},
     "output_type": "execute_result"
    }
   ],
   "source": [
    "data_2020['Z_ZiPs']=(data_2020['pcg_Actual']-data_2020['pcg_ZiPs'])/(data_2020['pcg_ZiPs']*(1-data_2020['pcg_ZiPs'])/60)**(1/2)\n",
    "data_2020['P_Value_ZiPs'] =(1 - norm.cdf(abs(data_2020['Z_ZiPs']))) * 2\n",
    "first_column = data_2020.iloc[:, [0]].copy()\n",
    "last_column_by_name = data_2020.loc[:, ['P_Value_ZiPs']].copy()\n",
    "PV_ZiPs_2020 = pd.concat([first_column, last_column_by_name], axis=1)\n",
    "PV_ZiPs_2020=PV_ZiPs_2020.sort_values(by='P_Value_ZiPs', ascending = False)\n",
    "\n",
    "alpha = 0.05\n",
    "m = 30\n",
    "PV_ZiPs_2020.reset_index(drop=True, inplace=True)\n",
    "PV_ZiPs_2020['BH_Threshold'] = (m - PV_ZiPs_2020.index) / m * alpha\n",
    "K_ZiPs_2020 = 0\n",
    "\n",
    "for i, row in PV_ZiPs_2020.iterrows():\n",
    "    if row['P_Value_ZiPs'] > row['BH_Threshold']:\n",
    "        K_ZiPs_2020 = i+1\n",
    "    else:\n",
    "        break\n",
    "\n",
    "K_ZiPs_2020 = 30 - K_ZiPs_2020\n",
    "K_ZiPs_2020\n"
   ]
  },
  {
   "cell_type": "code",
   "execution_count": 389,
   "metadata": {},
   "outputs": [
    {
     "data": {
      "text/plain": [
       "1"
      ]
     },
     "execution_count": 389,
     "metadata": {},
     "output_type": "execute_result"
    }
   ],
   "source": [
    "data_2019['Z_ZiPs']=(data_2019['pcg_Actual']-data_2019['pcg_ZiPs'])/(data_2019['pcg_ZiPs']*(1-data_2019['pcg_ZiPs'])/162)**(1/2)\n",
    "data_2019['P_Value_ZiPs'] =(1 - norm.cdf(abs(data_2019['Z_ZiPs']))) * 2\n",
    "first_column = data_2019.iloc[:, [0]].copy()\n",
    "last_column_by_name = data_2019.loc[:, ['P_Value_ZiPs']].copy()\n",
    "PV_ZiPs_2019 = pd.concat([first_column, last_column_by_name], axis=1)\n",
    "PV_ZiPs_2019=PV_ZiPs_2019.sort_values(by='P_Value_ZiPs', ascending = False)\n",
    "\n",
    "alpha = 0.05\n",
    "m = 30\n",
    "PV_ZiPs_2019.reset_index(drop=True, inplace=True)\n",
    "PV_ZiPs_2019['BH_Threshold'] = (m - PV_ZiPs_2019.index) / m * alpha\n",
    "K_ZiPs_2019 = 0\n",
    "\n",
    "for i, row in PV_ZiPs_2019.iterrows():\n",
    "    if row['P_Value_ZiPs'] > row['BH_Threshold']:\n",
    "        K_ZiPs_2019 = i+1\n",
    "    else:\n",
    "        break\n",
    "\n",
    "K_ZiPs_2019 = 30 - K_ZiPs_2019\n",
    "K_ZiPs_2019\n"
   ]
  },
  {
   "cell_type": "code",
   "execution_count": 390,
   "metadata": {},
   "outputs": [
    {
     "data": {
      "text/plain": [
       "3"
      ]
     },
     "execution_count": 390,
     "metadata": {},
     "output_type": "execute_result"
    }
   ],
   "source": [
    "data_2018['Z_ZiPs']=(data_2018['pcg_Actual']-data_2018['pcg_ZiPs'])/(data_2018['pcg_ZiPs']*(1-data_2018['pcg_ZiPs'])/162)**(1/2)\n",
    "data_2018['P_Value_ZiPs'] =(1 - norm.cdf(abs(data_2018['Z_ZiPs']))) * 2\n",
    "first_column = data_2018.iloc[:, [0]].copy()\n",
    "last_column_by_name = data_2018.loc[:, ['P_Value_ZiPs']].copy()\n",
    "PV_ZiPs_2018 = pd.concat([first_column, last_column_by_name], axis=1)\n",
    "PV_ZiPs_2018=PV_ZiPs_2018.sort_values(by='P_Value_ZiPs', ascending = False)\n",
    "\n",
    "alpha = 0.05\n",
    "m = 30\n",
    "PV_ZiPs_2018.reset_index(drop=True, inplace=True)\n",
    "PV_ZiPs_2018['BH_Threshold'] = (m - PV_ZiPs_2018.index) / m * alpha\n",
    "K_ZiPs_2018 = 0\n",
    "\n",
    "for i, row in PV_ZiPs_2018.iterrows():\n",
    "    if row['P_Value_ZiPs'] > row['BH_Threshold']:\n",
    "        K_ZiPs_2018 = i+1\n",
    "    else:\n",
    "        break\n",
    "\n",
    "K_ZiPs_2018 = 30 - K_ZiPs_2018\n",
    "K_ZiPs_2018\n"
   ]
  },
  {
   "cell_type": "code",
   "execution_count": 391,
   "metadata": {},
   "outputs": [
    {
     "data": {
      "text/plain": [
       "1"
      ]
     },
     "execution_count": 391,
     "metadata": {},
     "output_type": "execute_result"
    }
   ],
   "source": [
    "data_2017['Z_ZiPs']=(data_2017['pcg_Actual']-data_2017['pcg_ZiPs'])/(data_2017['pcg_ZiPs']*(1-data_2017['pcg_ZiPs'])/162)**(1/2)\n",
    "data_2017['P_Value_ZiPs'] =(1 - norm.cdf(abs(data_2017['Z_ZiPs']))) * 2\n",
    "first_column = data_2017.iloc[:, [0]].copy()\n",
    "last_column_by_name = data_2017.loc[:, ['P_Value_ZiPs']].copy()\n",
    "PV_ZiPs_2017 = pd.concat([first_column, last_column_by_name], axis=1)\n",
    "PV_ZiPs_2017=PV_ZiPs_2017.sort_values(by='P_Value_ZiPs', ascending = False)\n",
    "\n",
    "alpha = 0.05\n",
    "m = 30\n",
    "PV_ZiPs_2017.reset_index(drop=True, inplace=True)\n",
    "PV_ZiPs_2017['BH_Threshold'] = (m - PV_ZiPs_2017.index) / m * alpha\n",
    "K_ZiPs_2017 = 0\n",
    "\n",
    "for i, row in PV_ZiPs_2017.iterrows():\n",
    "    if row['P_Value_ZiPs'] > row['BH_Threshold']:\n",
    "        K_ZiPs_2017 = i+1\n",
    "    else:\n",
    "        break\n",
    "\n",
    "K_ZiPs_2017 = 30 - K_ZiPs_2017\n",
    "K_ZiPs_2017\n"
   ]
  },
  {
   "cell_type": "code",
   "execution_count": 392,
   "metadata": {},
   "outputs": [
    {
     "data": {
      "text/plain": [
       "0"
      ]
     },
     "execution_count": 392,
     "metadata": {},
     "output_type": "execute_result"
    }
   ],
   "source": [
    "data_2016['Z_ZiPs']=(data_2016['pcg_Actual']-data_2016['pcg_ZiPs'])/(data_2016['pcg_ZiPs']*(1-data_2016['pcg_ZiPs'])/162)**(1/2)\n",
    "data_2016['P_Value_ZiPs'] =(1 - norm.cdf(abs(data_2016['Z_ZiPs']))) * 2\n",
    "first_column = data_2016.iloc[:, [0]].copy()\n",
    "last_column_by_name = data_2016.loc[:, ['P_Value_ZiPs']].copy()\n",
    "PV_ZiPs_2016 = pd.concat([first_column, last_column_by_name], axis=1)\n",
    "PV_ZiPs_2016=PV_ZiPs_2016.sort_values(by='P_Value_ZiPs', ascending = False)\n",
    "\n",
    "alpha = 0.05\n",
    "m = 30\n",
    "PV_ZiPs_2016.reset_index(drop=True, inplace=True)\n",
    "PV_ZiPs_2016['BH_Threshold'] = (m - PV_ZiPs_2016.index) / m * alpha\n",
    "K_ZiPs_2016 = 0\n",
    "\n",
    "for i, row in PV_ZiPs_2016.iterrows():\n",
    "    if row['P_Value_ZiPs'] > row['BH_Threshold']:\n",
    "        K_ZiPs_2016 = i+1\n",
    "    else:\n",
    "        break\n",
    "\n",
    "K_ZiPs_2016 = 30 - K_ZiPs_2016\n",
    "K_ZiPs_2016\n"
   ]
  },
  {
   "cell_type": "code",
   "execution_count": 393,
   "metadata": {},
   "outputs": [
    {
     "data": {
      "text/plain": [
       "0"
      ]
     },
     "execution_count": 393,
     "metadata": {},
     "output_type": "execute_result"
    }
   ],
   "source": [
    "data_2015['Z_ZiPs']=(data_2015['pcg_Actual']-data_2015['pcg_ZiPs'])/(data_2015['pcg_ZiPs']*(1-data_2015['pcg_ZiPs'])/162)**(1/2)\n",
    "data_2015['P_Value_ZiPs'] =(1 - norm.cdf(abs(data_2015['Z_ZiPs']))) * 2\n",
    "first_column = data_2015.iloc[:, [0]].copy()\n",
    "last_column_by_name = data_2015.loc[:, ['P_Value_ZiPs']].copy()\n",
    "PV_ZiPs_2015 = pd.concat([first_column, last_column_by_name], axis=1)\n",
    "PV_ZiPs_2015=PV_ZiPs_2015.sort_values(by='P_Value_ZiPs', ascending = False)\n",
    "\n",
    "alpha = 0.05\n",
    "m = 30\n",
    "PV_ZiPs_2015.reset_index(drop=True, inplace=True)\n",
    "PV_ZiPs_2015['BH_Threshold'] = (m - PV_ZiPs_2015.index) / m * alpha\n",
    "K_ZiPs_2015 = 0\n",
    "\n",
    "for i, row in PV_ZiPs_2015.iterrows():\n",
    "    if row['P_Value_ZiPs'] > row['BH_Threshold']:\n",
    "        K_ZiPs_2015 = i+1\n",
    "    else:\n",
    "        break\n",
    "\n",
    "K_ZiPs_2015 = 30 - K_ZiPs_2015\n",
    "K_ZiPs_2015\n"
   ]
  },
  {
   "cell_type": "code",
   "execution_count": 394,
   "metadata": {},
   "outputs": [
    {
     "data": {
      "text/plain": [
       "2"
      ]
     },
     "execution_count": 394,
     "metadata": {},
     "output_type": "execute_result"
    }
   ],
   "source": [
    "data_2014['Z_ZiPs']=(data_2014['pcg_Actual']-data_2014['pcg_ZiPs'])/(data_2014['pcg_ZiPs']*(1-data_2014['pcg_ZiPs'])/162)**(1/2)\n",
    "data_2014['P_Value_ZiPs'] =(1 - norm.cdf(abs(data_2014['Z_ZiPs']))) * 2\n",
    "first_column = data_2014.iloc[:, [0]].copy()\n",
    "last_column_by_name = data_2014.loc[:, ['P_Value_ZiPs']].copy()\n",
    "PV_ZiPs_2014 = pd.concat([first_column, last_column_by_name], axis=1)\n",
    "PV_ZiPs_2014=PV_ZiPs_2014.sort_values(by='P_Value_ZiPs', ascending = False)\n",
    "\n",
    "alpha = 0.05\n",
    "m = 30\n",
    "PV_ZiPs_2014.reset_index(drop=True, inplace=True)\n",
    "PV_ZiPs_2014['BH_Threshold'] = (m - PV_ZiPs_2014.index) / m * alpha\n",
    "K_ZiPs_2014 = 0\n",
    "\n",
    "for i, row in PV_ZiPs_2014.iterrows():\n",
    "    if row['P_Value_ZiPs'] > row['BH_Threshold']:\n",
    "        K_ZiPs_2014 = i+1\n",
    "    else:\n",
    "        break\n",
    "\n",
    "K_ZiPs_2014 = 30 - K_ZiPs_2014\n",
    "K_ZiPs_2014\n"
   ]
  },
  {
   "cell_type": "code",
   "execution_count": 395,
   "metadata": {},
   "outputs": [
    {
     "data": {
      "text/plain": [
       "1"
      ]
     },
     "execution_count": 395,
     "metadata": {},
     "output_type": "execute_result"
    }
   ],
   "source": [
    "data_2013['Z_ZiPs']=(data_2013['pcg_Actual']-data_2013['pcg_ZiPs'])/(data_2013['pcg_ZiPs']*(1-data_2013['pcg_ZiPs'])/162)**(1/2)\n",
    "data_2013['P_Value_ZiPs'] =(1 - norm.cdf(abs(data_2013['Z_ZiPs']))) * 2\n",
    "first_column = data_2013.iloc[:, [0]].copy()\n",
    "last_column_by_name = data_2013.loc[:, ['P_Value_ZiPs']].copy()\n",
    "PV_ZiPs_2013 = pd.concat([first_column, last_column_by_name], axis=1)\n",
    "PV_ZiPs_2013=PV_ZiPs_2013.sort_values(by='P_Value_ZiPs', ascending = False)\n",
    "\n",
    "alpha = 0.05\n",
    "m = 30\n",
    "PV_ZiPs_2013.reset_index(drop=True, inplace=True)\n",
    "PV_ZiPs_2013['BH_Threshold'] = (m - PV_ZiPs_2013.index) / m * alpha\n",
    "K_ZiPs_2013 = 0\n",
    "\n",
    "for i, row in PV_ZiPs_2013.iterrows():\n",
    "    if row['P_Value_ZiPs'] > row['BH_Threshold']:\n",
    "        K_ZiPs_2013 = i+1\n",
    "    else:\n",
    "        break\n",
    "\n",
    "K_ZiPs_2013 = 30 - K_ZiPs_2013\n",
    "K_ZiPs_2013\n"
   ]
  },
  {
   "cell_type": "code",
   "execution_count": 396,
   "metadata": {},
   "outputs": [
    {
     "data": {
      "text/plain": [
       "5"
      ]
     },
     "execution_count": 396,
     "metadata": {},
     "output_type": "execute_result"
    }
   ],
   "source": [
    "data_2012['Z_ZiPs']=(data_2012['pcg_Actual']-data_2012['pcg_ZiPs'])/(data_2012['pcg_ZiPs']*(1-data_2012['pcg_ZiPs'])/162)**(1/2)\n",
    "data_2012['P_Value_ZiPs'] =(1 - norm.cdf(abs(data_2012['Z_ZiPs']))) * 2\n",
    "first_column = data_2012.iloc[:, [0]].copy()\n",
    "last_column_by_name = data_2012.loc[:, ['P_Value_ZiPs']].copy()\n",
    "PV_ZiPs_2012 = pd.concat([first_column, last_column_by_name], axis=1)\n",
    "PV_ZiPs_2012=PV_ZiPs_2012.sort_values(by='P_Value_ZiPs', ascending = False)\n",
    "\n",
    "alpha = 0.05\n",
    "m = 30\n",
    "PV_ZiPs_2012.reset_index(drop=True, inplace=True)\n",
    "PV_ZiPs_2012['BH_Threshold'] = (m - PV_ZiPs_2012.index) / m * alpha\n",
    "K_ZiPs_2012 = 0\n",
    "\n",
    "for i, row in PV_ZiPs_2012.iterrows():\n",
    "    if row['P_Value_ZiPs'] > row['BH_Threshold']:\n",
    "        K_ZiPs_2012 = i+1\n",
    "    else:\n",
    "        break\n",
    "\n",
    "K_ZiPs_2012 = 30 - K_ZiPs_2012\n",
    "K_ZiPs_2012\n"
   ]
  },
  {
   "cell_type": "code",
   "execution_count": 397,
   "metadata": {},
   "outputs": [
    {
     "data": {
      "text/plain": [
       "2"
      ]
     },
     "execution_count": 397,
     "metadata": {},
     "output_type": "execute_result"
    }
   ],
   "source": [
    "data_2011['Z_ZiPs']=(data_2011['pcg_Actual']-data_2011['pcg_ZiPs'])/(data_2011['pcg_ZiPs']*(1-data_2011['pcg_ZiPs'])/162)**(1/2)\n",
    "data_2011['P_Value_ZiPs'] =(1 - norm.cdf(abs(data_2011['Z_ZiPs']))) * 2\n",
    "first_column = data_2011.iloc[:, [0]].copy()\n",
    "last_column_by_name = data_2011.loc[:, ['P_Value_ZiPs']].copy()\n",
    "PV_ZiPs_2011 = pd.concat([first_column, last_column_by_name], axis=1)\n",
    "PV_ZiPs_2011=PV_ZiPs_2011.sort_values(by='P_Value_ZiPs', ascending = False)\n",
    "\n",
    "alpha = 0.05\n",
    "m = 30\n",
    "PV_ZiPs_2011.reset_index(drop=True, inplace=True)\n",
    "PV_ZiPs_2011['BH_Threshold'] = (m - PV_ZiPs_2011.index) / m * alpha\n",
    "K_ZiPs_2011 = 0\n",
    "\n",
    "for i, row in PV_ZiPs_2011.iterrows():\n",
    "    if row['P_Value_ZiPs'] > row['BH_Threshold']:\n",
    "        K_ZiPs_2011 = i+1\n",
    "    else:\n",
    "        break\n",
    "\n",
    "K_ZiPs_2011 = 30 - K_ZiPs_2011\n",
    "K_ZiPs_2011\n"
   ]
  },
  {
   "cell_type": "code",
   "execution_count": 398,
   "metadata": {},
   "outputs": [
    {
     "data": {
      "text/plain": [
       "2"
      ]
     },
     "execution_count": 398,
     "metadata": {},
     "output_type": "execute_result"
    }
   ],
   "source": [
    "data_2010['Z_ZiPs']=(data_2010['pcg_Actual']-data_2010['pcg_ZiPs'])/(data_2010['pcg_ZiPs']*(1-data_2010['pcg_ZiPs'])/162)**(1/2)\n",
    "data_2010['P_Value_ZiPs'] =(1 - norm.cdf(abs(data_2010['Z_ZiPs']))) * 2\n",
    "first_column = data_2010.iloc[:, [0]].copy()\n",
    "last_column_by_name = data_2010.loc[:, ['P_Value_ZiPs']].copy()\n",
    "PV_ZiPs_2010 = pd.concat([first_column, last_column_by_name], axis=1)\n",
    "PV_ZiPs_2010=PV_ZiPs_2010.sort_values(by='P_Value_ZiPs', ascending = False)\n",
    "\n",
    "alpha = 0.05\n",
    "m = 30\n",
    "PV_ZiPs_2010.reset_index(drop=True, inplace=True)\n",
    "PV_ZiPs_2010['BH_Threshold'] = (m - PV_ZiPs_2010.index) / m * alpha\n",
    "K_ZiPs_2010 = 0\n",
    "\n",
    "for i, row in PV_ZiPs_2010.iterrows():\n",
    "    if row['P_Value_ZiPs'] > row['BH_Threshold']:\n",
    "        K_ZiPs_2010 = i+1\n",
    "    else:\n",
    "        break\n",
    "\n",
    "K_ZiPs_2010 = 30 - K_ZiPs_2010\n",
    "K_ZiPs_2010\n"
   ]
  },
  {
   "cell_type": "code",
   "execution_count": 399,
   "metadata": {},
   "outputs": [
    {
     "data": {
      "text/plain": [
       "4"
      ]
     },
     "execution_count": 399,
     "metadata": {},
     "output_type": "execute_result"
    }
   ],
   "source": [
    "data_2009['Z_ZiPs']=(data_2009['pcg_Actual']-data_2009['pcg_ZiPs'])/(data_2009['pcg_ZiPs']*(1-data_2009['pcg_ZiPs'])/162)**(1/2)\n",
    "data_2009['P_Value_ZiPs'] =(1 - norm.cdf(abs(data_2009['Z_ZiPs']))) * 2\n",
    "first_column = data_2009.iloc[:, [0]].copy()\n",
    "last_column_by_name = data_2009.loc[:, ['P_Value_ZiPs']].copy()\n",
    "PV_ZiPs_2009 = pd.concat([first_column, last_column_by_name], axis=1)\n",
    "PV_ZiPs_2009=PV_ZiPs_2009.sort_values(by='P_Value_ZiPs', ascending = False)\n",
    "\n",
    "alpha = 0.05\n",
    "m = 30\n",
    "PV_ZiPs_2009.reset_index(drop=True, inplace=True)\n",
    "PV_ZiPs_2009['BH_Threshold'] = (m - PV_ZiPs_2009.index) / m * alpha\n",
    "K_ZiPs_2009 = 0\n",
    "\n",
    "for i, row in PV_ZiPs_2009.iterrows():\n",
    "    if row['P_Value_ZiPs'] > row['BH_Threshold']:\n",
    "        K_ZiPs_2009 = i+1\n",
    "    else:\n",
    "        break\n",
    "\n",
    "K_ZiPs_2009 = 30 - K_ZiPs_2009\n",
    "K_ZiPs_2009\n"
   ]
  },
  {
   "cell_type": "code",
   "execution_count": 400,
   "metadata": {},
   "outputs": [
    {
     "data": {
      "text/plain": [
       "1"
      ]
     },
     "execution_count": 400,
     "metadata": {},
     "output_type": "execute_result"
    }
   ],
   "source": [
    "data_2008['Z_ZiPs']=(data_2008['pcg_Actual']-data_2008['pcg_ZiPs'])/(data_2008['pcg_ZiPs']*(1-data_2008['pcg_ZiPs'])/162)**(1/2)\n",
    "data_2008['P_Value_ZiPs'] =(1 - norm.cdf(abs(data_2008['Z_ZiPs']))) * 2\n",
    "first_column = data_2008.iloc[:, [0]].copy()\n",
    "last_column_by_name = data_2008.loc[:, ['P_Value_ZiPs']].copy()\n",
    "PV_ZiPs_2008 = pd.concat([first_column, last_column_by_name], axis=1)\n",
    "PV_ZiPs_2008=PV_ZiPs_2008.sort_values(by='P_Value_ZiPs', ascending = False)\n",
    "\n",
    "alpha = 0.05\n",
    "m = 30\n",
    "PV_ZiPs_2008.reset_index(drop=True, inplace=True)\n",
    "PV_ZiPs_2008['BH_Threshold'] = (m - PV_ZiPs_2008.index) / m * alpha\n",
    "K_ZiPs_2008 = 0\n",
    "\n",
    "for i, row in PV_ZiPs_2008.iterrows():\n",
    "    if row['P_Value_ZiPs'] > row['BH_Threshold']:\n",
    "        K_ZiPs_2008 = i+1\n",
    "    else:\n",
    "        break\n",
    "\n",
    "K_ZiPs_2008 = 30 - K_ZiPs_2008\n",
    "K_ZiPs_2008\n"
   ]
  },
  {
   "cell_type": "markdown",
   "metadata": {},
   "source": [
    "### Steamer"
   ]
  },
  {
   "cell_type": "code",
   "execution_count": 401,
   "metadata": {},
   "outputs": [
    {
     "data": {
      "text/plain": [
       "2"
      ]
     },
     "execution_count": 401,
     "metadata": {},
     "output_type": "execute_result"
    }
   ],
   "source": [
    "data_2018['Z_Steamer']=(data_2018['pcg_Actual']-data_2018['pcg_Steamer'])/(data_2018['pcg_Steamer']*(1-data_2018['pcg_Steamer'])/162)**(1/2)\n",
    "data_2018['P_Value_Steamer'] =(1 - norm.cdf(abs(data_2018['Z_Steamer']))) * 2\n",
    "first_column = data_2018.iloc[:, [0]].copy()\n",
    "last_column_by_name = data_2018.loc[:, ['P_Value_Steamer']].copy()\n",
    "PV_Steamer_2018 = pd.concat([first_column, last_column_by_name], axis=1)\n",
    "PV_Steamer_2018=PV_Steamer_2018.sort_values(by='P_Value_Steamer', ascending = False)\n",
    "\n",
    "alpha = 0.05\n",
    "m = 30\n",
    "PV_Steamer_2018.reset_index(drop=True, inplace=True)\n",
    "PV_Steamer_2018['BH_Threshold'] = (m - PV_Steamer_2018.index) / m * alpha\n",
    "K_Steamer_2018 = 0\n",
    "\n",
    "for i, row in PV_Steamer_2018.iterrows():\n",
    "    if row['P_Value_Steamer'] > row['BH_Threshold']:\n",
    "        K_Steamer_2018 = i+1\n",
    "    else:\n",
    "        break\n",
    "\n",
    "K_Steamer_2018 = 30 - K_Steamer_2018\n",
    "K_Steamer_2018"
   ]
  },
  {
   "cell_type": "code",
   "execution_count": 402,
   "metadata": {},
   "outputs": [
    {
     "data": {
      "text/plain": [
       "3"
      ]
     },
     "execution_count": 402,
     "metadata": {},
     "output_type": "execute_result"
    }
   ],
   "source": [
    "data_2017['Z_Steamer']=(data_2017['pcg_Actual']-data_2017['pcg_Steamer'])/(data_2017['pcg_Steamer']*(1-data_2017['pcg_Steamer'])/162)**(1/2)\n",
    "data_2017['P_Value_Steamer'] =(1 - norm.cdf(abs(data_2017['Z_Steamer']))) * 2\n",
    "first_column = data_2017.iloc[:, [0]].copy()\n",
    "last_column_by_name = data_2017.loc[:, ['P_Value_Steamer']].copy()\n",
    "PV_Steamer_2017 = pd.concat([first_column, last_column_by_name], axis=1)\n",
    "PV_Steamer_2017=PV_Steamer_2017.sort_values(by='P_Value_Steamer', ascending = False)\n",
    "\n",
    "alpha = 0.05\n",
    "m = 30\n",
    "PV_Steamer_2017.reset_index(drop=True, inplace=True)\n",
    "PV_Steamer_2017['BH_Threshold'] = (m - PV_Steamer_2017.index) / m * alpha\n",
    "K_Steamer_2017 = 0\n",
    "\n",
    "for i, row in PV_Steamer_2017.iterrows():\n",
    "    if row['P_Value_Steamer'] > row['BH_Threshold']:\n",
    "        K_Steamer_2017 = i+1\n",
    "    else:\n",
    "        break\n",
    "\n",
    "K_Steamer_2017 = 30 - K_Steamer_2017\n",
    "K_Steamer_2017"
   ]
  },
  {
   "cell_type": "code",
   "execution_count": 403,
   "metadata": {},
   "outputs": [
    {
     "data": {
      "text/plain": [
       "0"
      ]
     },
     "execution_count": 403,
     "metadata": {},
     "output_type": "execute_result"
    }
   ],
   "source": [
    "data_2016['Z_Steamer']=(data_2016['pcg_Actual']-data_2016['pcg_Steamer'])/(data_2016['pcg_Steamer']*(1-data_2016['pcg_Steamer'])/162)**(1/2)\n",
    "data_2016['P_Value_Steamer'] =(1 - norm.cdf(abs(data_2016['Z_Steamer']))) * 2\n",
    "first_column = data_2016.iloc[:, [0]].copy()\n",
    "last_column_by_name = data_2016.loc[:, ['P_Value_Steamer']].copy()\n",
    "PV_Steamer_2016 = pd.concat([first_column, last_column_by_name], axis=1)\n",
    "PV_Steamer_2016=PV_Steamer_2016.sort_values(by='P_Value_Steamer', ascending = False)\n",
    "\n",
    "alpha = 0.05\n",
    "m = 30\n",
    "PV_Steamer_2016.reset_index(drop=True, inplace=True)\n",
    "PV_Steamer_2016['BH_Threshold'] = (m - PV_Steamer_2016.index) / m * alpha\n",
    "K_Steamer_2016 = 0\n",
    "\n",
    "for i, row in PV_Steamer_2016.iterrows():\n",
    "    if row['P_Value_Steamer'] > row['BH_Threshold']:\n",
    "        K_Steamer_2016 = i+1\n",
    "    else:\n",
    "        break\n",
    "\n",
    "K_Steamer_2016 = 30 - K_Steamer_2016\n",
    "K_Steamer_2016"
   ]
  },
  {
   "cell_type": "code",
   "execution_count": 404,
   "metadata": {},
   "outputs": [
    {
     "data": {
      "text/plain": [
       "0"
      ]
     },
     "execution_count": 404,
     "metadata": {},
     "output_type": "execute_result"
    }
   ],
   "source": [
    "data_2015['Z_Steamer']=(data_2015['pcg_Actual']-data_2015['pcg_Steamer'])/(data_2015['pcg_Steamer']*(1-data_2015['pcg_Steamer'])/162)**(1/2)\n",
    "data_2015['P_Value_Steamer'] =(1 - norm.cdf(abs(data_2015['Z_Steamer']))) * 2\n",
    "first_column = data_2015.iloc[:, [0]].copy()\n",
    "last_column_by_name = data_2015.loc[:, ['P_Value_Steamer']].copy()\n",
    "PV_Steamer_2015 = pd.concat([first_column, last_column_by_name], axis=1)\n",
    "PV_Steamer_2015=PV_Steamer_2015.sort_values(by='P_Value_Steamer', ascending = False)\n",
    "\n",
    "alpha = 0.05\n",
    "m = 30\n",
    "PV_Steamer_2015.reset_index(drop=True, inplace=True)\n",
    "PV_Steamer_2015['BH_Threshold'] = (m - PV_Steamer_2015.index) / m * alpha\n",
    "K_Steamer_2015 = 0\n",
    "\n",
    "for i, row in PV_Steamer_2015.iterrows():\n",
    "    if row['P_Value_Steamer'] > row['BH_Threshold']:\n",
    "        K_Steamer_2015 = i+1\n",
    "    else:\n",
    "        break\n",
    "\n",
    "K_Steamer_2015 = 30 - K_Steamer_2015\n",
    "K_Steamer_2015"
   ]
  },
  {
   "cell_type": "code",
   "execution_count": 405,
   "metadata": {},
   "outputs": [
    {
     "data": {
      "text/plain": [
       "1"
      ]
     },
     "execution_count": 405,
     "metadata": {},
     "output_type": "execute_result"
    }
   ],
   "source": [
    "data_2014['Z_Steamer']=(data_2014['pcg_Actual']-data_2014['pcg_Steamer'])/(data_2014['pcg_Steamer']*(1-data_2014['pcg_Steamer'])/162)**(1/2)\n",
    "data_2014['P_Value_Steamer'] =(1 - norm.cdf(abs(data_2014['Z_Steamer']))) * 2\n",
    "first_column = data_2014.iloc[:, [0]].copy()\n",
    "last_column_by_name = data_2014.loc[:, ['P_Value_Steamer']].copy()\n",
    "PV_Steamer_2014 = pd.concat([first_column, last_column_by_name], axis=1)\n",
    "PV_Steamer_2014=PV_Steamer_2014.sort_values(by='P_Value_Steamer', ascending = False)\n",
    "\n",
    "alpha = 0.05\n",
    "m = 30\n",
    "PV_Steamer_2014.reset_index(drop=True, inplace=True)\n",
    "PV_Steamer_2014['BH_Threshold'] = (m - PV_Steamer_2014.index) / m * alpha\n",
    "K_Steamer_2014 = 0\n",
    "\n",
    "for i, row in PV_Steamer_2014.iterrows():\n",
    "    if row['P_Value_Steamer'] > row['BH_Threshold']:\n",
    "        K_Steamer_2014 = i+1\n",
    "    else:\n",
    "        break\n",
    "\n",
    "K_Steamer_2014 = 30 - K_Steamer_2014\n",
    "K_Steamer_2014"
   ]
  },
  {
   "cell_type": "code",
   "execution_count": 406,
   "metadata": {},
   "outputs": [
    {
     "data": {
      "text/plain": [
       "0"
      ]
     },
     "execution_count": 406,
     "metadata": {},
     "output_type": "execute_result"
    }
   ],
   "source": [
    "data_2013['Z_Steamer']=(data_2013['pcg_Actual']-data_2013['pcg_Steamer'])/(data_2013['pcg_Steamer']*(1-data_2013['pcg_Steamer'])/162)**(1/2)\n",
    "data_2013['P_Value_Steamer'] =(1 - norm.cdf(abs(data_2013['Z_Steamer']))) * 2\n",
    "first_column = data_2013.iloc[:, [0]].copy()\n",
    "last_column_by_name = data_2013.loc[:, ['P_Value_Steamer']].copy()\n",
    "PV_Steamer_2013 = pd.concat([first_column, last_column_by_name], axis=1)\n",
    "PV_Steamer_2013=PV_Steamer_2013.sort_values(by='P_Value_Steamer', ascending = False)\n",
    "\n",
    "alpha = 0.05\n",
    "m = 30\n",
    "PV_Steamer_2013.reset_index(drop=True, inplace=True)\n",
    "PV_Steamer_2013['BH_Threshold'] = (m - PV_Steamer_2013.index) / m * alpha\n",
    "K_Steamer_2013 = 0\n",
    "\n",
    "for i, row in PV_Steamer_2013.iterrows():\n",
    "    if row['P_Value_Steamer'] > row['BH_Threshold']:\n",
    "        K_Steamer_2013 = i+1\n",
    "    else:\n",
    "        break\n",
    "\n",
    "K_Steamer_2013 = 30 - K_Steamer_2013\n",
    "K_Steamer_2013"
   ]
  },
  {
   "cell_type": "markdown",
   "metadata": {},
   "source": [
    "### Table"
   ]
  },
  {
   "cell_type": "code",
   "execution_count": 407,
   "metadata": {},
   "outputs": [],
   "source": [
    "K_data = {\n",
    "        'PECOTA':[K_PECOTA_2023,K_PECOTA_2022,K_PECOTA_2021,K_PECOTA_2020,K_PECOTA_2019,K_PECOTA_2018,K_PECOTA_2017,K_PECOTA_2016,K_PECOTA_2015,K_PECOTA_2014,K_PECOTA_2013,K_PECOTA_2012,K_PECOTA_2011,K_PECOTA_2010,K_PECOTA_2009,K_PECOTA_2008],\n",
    "        'FanGraphs':[K_FanGraphs_2023,K_FanGraphs_2022,K_FanGraphs_2021,K_FanGraphs_2020,K_FanGraphs_2019,K_FanGraphs_2018,K_FanGraphs_2017,K_FanGraphs_2016,K_FanGraphs_2015,K_FanGraphs_2014,K_FanGraphs_2013],\n",
    "        'ZiPs':[K_ZiPs_2023,K_ZiPs_2022,K_ZiPs_2021,K_ZiPs_2020,K_ZiPs_2019,K_ZiPs_2018,K_ZiPs_2017,K_ZiPs_2016,K_ZiPs_2015,K_ZiPs_2014,K_ZiPs_2013,K_ZiPs_2012,K_ZiPs_2011,K_ZiPs_2010,K_ZiPs_2009,K_ZiPs_2008]\n",
    "}\n",
    "K_data['FanGraphs'].extend([None] * 5)\n",
    "K_data['Steamer'] = [None] * 5 + [K_Steamer_2018, K_Steamer_2017, K_Steamer_2016, K_Steamer_2015, K_Steamer_2014, K_Steamer_2013] + [None] * 5"
   ]
  },
  {
   "cell_type": "code",
   "execution_count": 408,
   "metadata": {},
   "outputs": [],
   "source": [
    "K=pd.DataFrame(\n",
    "    K_data,index=['2023','2022','2021','2020','2019','2018','2017','2016','2015','2014','2013','2012','2011','2010','2009','2008']\n",
    "                )\n",
    "K = K.round(3)"
   ]
  },
  {
   "cell_type": "code",
   "execution_count": 409,
   "metadata": {},
   "outputs": [
    {
     "data": {
      "text/html": [
       "<div>\n",
       "<style scoped>\n",
       "    .dataframe tbody tr th:only-of-type {\n",
       "        vertical-align: middle;\n",
       "    }\n",
       "\n",
       "    .dataframe tbody tr th {\n",
       "        vertical-align: top;\n",
       "    }\n",
       "\n",
       "    .dataframe thead th {\n",
       "        text-align: right;\n",
       "    }\n",
       "</style>\n",
       "<table border=\"1\" class=\"dataframe\">\n",
       "  <thead>\n",
       "    <tr style=\"text-align: right;\">\n",
       "      <th></th>\n",
       "      <th>PECOTA</th>\n",
       "      <th>FanGraphs</th>\n",
       "      <th>ZiPs</th>\n",
       "      <th>Steamer</th>\n",
       "    </tr>\n",
       "  </thead>\n",
       "  <tbody>\n",
       "    <tr>\n",
       "      <th>2023</th>\n",
       "      <td>3</td>\n",
       "      <td>3.0</td>\n",
       "      <td>4</td>\n",
       "      <td>NaN</td>\n",
       "    </tr>\n",
       "    <tr>\n",
       "      <th>2022</th>\n",
       "      <td>1</td>\n",
       "      <td>0.0</td>\n",
       "      <td>3</td>\n",
       "      <td>NaN</td>\n",
       "    </tr>\n",
       "    <tr>\n",
       "      <th>2021</th>\n",
       "      <td>7</td>\n",
       "      <td>7.0</td>\n",
       "      <td>6</td>\n",
       "      <td>NaN</td>\n",
       "    </tr>\n",
       "    <tr>\n",
       "      <th>2020</th>\n",
       "      <td>0</td>\n",
       "      <td>0.0</td>\n",
       "      <td>0</td>\n",
       "      <td>NaN</td>\n",
       "    </tr>\n",
       "    <tr>\n",
       "      <th>2019</th>\n",
       "      <td>3</td>\n",
       "      <td>1.0</td>\n",
       "      <td>1</td>\n",
       "      <td>NaN</td>\n",
       "    </tr>\n",
       "    <tr>\n",
       "      <th>2018</th>\n",
       "      <td>3</td>\n",
       "      <td>1.0</td>\n",
       "      <td>3</td>\n",
       "      <td>2.0</td>\n",
       "    </tr>\n",
       "    <tr>\n",
       "      <th>2017</th>\n",
       "      <td>1</td>\n",
       "      <td>1.0</td>\n",
       "      <td>1</td>\n",
       "      <td>3.0</td>\n",
       "    </tr>\n",
       "    <tr>\n",
       "      <th>2016</th>\n",
       "      <td>2</td>\n",
       "      <td>0.0</td>\n",
       "      <td>0</td>\n",
       "      <td>0.0</td>\n",
       "    </tr>\n",
       "    <tr>\n",
       "      <th>2015</th>\n",
       "      <td>1</td>\n",
       "      <td>0.0</td>\n",
       "      <td>0</td>\n",
       "      <td>0.0</td>\n",
       "    </tr>\n",
       "    <tr>\n",
       "      <th>2014</th>\n",
       "      <td>3</td>\n",
       "      <td>0.0</td>\n",
       "      <td>2</td>\n",
       "      <td>1.0</td>\n",
       "    </tr>\n",
       "    <tr>\n",
       "      <th>2013</th>\n",
       "      <td>0</td>\n",
       "      <td>0.0</td>\n",
       "      <td>1</td>\n",
       "      <td>0.0</td>\n",
       "    </tr>\n",
       "    <tr>\n",
       "      <th>2012</th>\n",
       "      <td>4</td>\n",
       "      <td>NaN</td>\n",
       "      <td>5</td>\n",
       "      <td>NaN</td>\n",
       "    </tr>\n",
       "    <tr>\n",
       "      <th>2011</th>\n",
       "      <td>2</td>\n",
       "      <td>NaN</td>\n",
       "      <td>2</td>\n",
       "      <td>NaN</td>\n",
       "    </tr>\n",
       "    <tr>\n",
       "      <th>2010</th>\n",
       "      <td>2</td>\n",
       "      <td>NaN</td>\n",
       "      <td>2</td>\n",
       "      <td>NaN</td>\n",
       "    </tr>\n",
       "    <tr>\n",
       "      <th>2009</th>\n",
       "      <td>4</td>\n",
       "      <td>NaN</td>\n",
       "      <td>4</td>\n",
       "      <td>NaN</td>\n",
       "    </tr>\n",
       "    <tr>\n",
       "      <th>2008</th>\n",
       "      <td>0</td>\n",
       "      <td>NaN</td>\n",
       "      <td>1</td>\n",
       "      <td>NaN</td>\n",
       "    </tr>\n",
       "  </tbody>\n",
       "</table>\n",
       "</div>"
      ],
      "text/plain": [
       "      PECOTA  FanGraphs  ZiPs  Steamer\n",
       "2023       3        3.0     4      NaN\n",
       "2022       1        0.0     3      NaN\n",
       "2021       7        7.0     6      NaN\n",
       "2020       0        0.0     0      NaN\n",
       "2019       3        1.0     1      NaN\n",
       "2018       3        1.0     3      2.0\n",
       "2017       1        1.0     1      3.0\n",
       "2016       2        0.0     0      0.0\n",
       "2015       1        0.0     0      0.0\n",
       "2014       3        0.0     2      1.0\n",
       "2013       0        0.0     1      0.0\n",
       "2012       4        NaN     5      NaN\n",
       "2011       2        NaN     2      NaN\n",
       "2010       2        NaN     2      NaN\n",
       "2009       4        NaN     4      NaN\n",
       "2008       0        NaN     1      NaN"
      ]
     },
     "execution_count": 409,
     "metadata": {},
     "output_type": "execute_result"
    }
   ],
   "source": [
    "K"
   ]
  },
  {
   "cell_type": "code",
   "execution_count": 410,
   "metadata": {},
   "outputs": [],
   "source": [
    "K.to_excel('Table 6.xlsx')"
   ]
  },
  {
   "cell_type": "markdown",
   "metadata": {},
   "source": [
    "# Simulations"
   ]
  },
  {
   "cell_type": "code",
   "execution_count": 411,
   "metadata": {},
   "outputs": [
    {
     "data": {
      "text/html": [
       "<div>\n",
       "<style scoped>\n",
       "    .dataframe tbody tr th:only-of-type {\n",
       "        vertical-align: middle;\n",
       "    }\n",
       "\n",
       "    .dataframe tbody tr th {\n",
       "        vertical-align: top;\n",
       "    }\n",
       "\n",
       "    .dataframe thead th {\n",
       "        text-align: right;\n",
       "    }\n",
       "</style>\n",
       "<table border=\"1\" class=\"dataframe\">\n",
       "  <thead>\n",
       "    <tr style=\"text-align: right;\">\n",
       "      <th></th>\n",
       "      <th>Teams</th>\n",
       "      <th>Arizona</th>\n",
       "      <th>Atlanta</th>\n",
       "      <th>Baltimore</th>\n",
       "      <th>Boston Red Sox</th>\n",
       "      <th>Chicago Cubs</th>\n",
       "      <th>Chicago White Sox</th>\n",
       "      <th>Cincinnati reds</th>\n",
       "      <th>Cleveland Indians</th>\n",
       "      <th>Colorado</th>\n",
       "      <th>...</th>\n",
       "      <th>Phillies</th>\n",
       "      <th>Pirates</th>\n",
       "      <th>Padres</th>\n",
       "      <th>Giants</th>\n",
       "      <th>Mariners</th>\n",
       "      <th>Cardinals</th>\n",
       "      <th>Rays</th>\n",
       "      <th>Rangers</th>\n",
       "      <th>BlueJays</th>\n",
       "      <th>Nationals</th>\n",
       "    </tr>\n",
       "  </thead>\n",
       "  <tbody>\n",
       "    <tr>\n",
       "      <th>0</th>\n",
       "      <td>Arizona Diamondbacks</td>\n",
       "      <td>0</td>\n",
       "      <td>5</td>\n",
       "      <td>0</td>\n",
       "      <td>2</td>\n",
       "      <td>4</td>\n",
       "      <td>0</td>\n",
       "      <td>4</td>\n",
       "      <td>0</td>\n",
       "      <td>3</td>\n",
       "      <td>...</td>\n",
       "      <td>4</td>\n",
       "      <td>3</td>\n",
       "      <td>8</td>\n",
       "      <td>7</td>\n",
       "      <td>0</td>\n",
       "      <td>4</td>\n",
       "      <td>0</td>\n",
       "      <td>0</td>\n",
       "      <td>0</td>\n",
       "      <td>2</td>\n",
       "    </tr>\n",
       "    <tr>\n",
       "      <th>1</th>\n",
       "      <td>Atlanta Braves</td>\n",
       "      <td>3</td>\n",
       "      <td>0</td>\n",
       "      <td>0</td>\n",
       "      <td>0</td>\n",
       "      <td>6</td>\n",
       "      <td>0</td>\n",
       "      <td>3</td>\n",
       "      <td>0</td>\n",
       "      <td>3</td>\n",
       "      <td>...</td>\n",
       "      <td>14</td>\n",
       "      <td>5</td>\n",
       "      <td>1</td>\n",
       "      <td>5</td>\n",
       "      <td>1</td>\n",
       "      <td>5</td>\n",
       "      <td>0</td>\n",
       "      <td>2</td>\n",
       "      <td>2</td>\n",
       "      <td>12</td>\n",
       "    </tr>\n",
       "    <tr>\n",
       "      <th>2</th>\n",
       "      <td>Baltimore Orioles</td>\n",
       "      <td>0</td>\n",
       "      <td>0</td>\n",
       "      <td>0</td>\n",
       "      <td>12</td>\n",
       "      <td>1</td>\n",
       "      <td>5</td>\n",
       "      <td>0</td>\n",
       "      <td>4</td>\n",
       "      <td>0</td>\n",
       "      <td>...</td>\n",
       "      <td>0</td>\n",
       "      <td>1</td>\n",
       "      <td>0</td>\n",
       "      <td>0</td>\n",
       "      <td>2</td>\n",
       "      <td>0</td>\n",
       "      <td>15</td>\n",
       "      <td>5</td>\n",
       "      <td>12</td>\n",
       "      <td>3</td>\n",
       "    </tr>\n",
       "    <tr>\n",
       "      <th>3</th>\n",
       "      <td>Boston Red Sox</td>\n",
       "      <td>1</td>\n",
       "      <td>0</td>\n",
       "      <td>6</td>\n",
       "      <td>0</td>\n",
       "      <td>0</td>\n",
       "      <td>3</td>\n",
       "      <td>1</td>\n",
       "      <td>1</td>\n",
       "      <td>0</td>\n",
       "      <td>...</td>\n",
       "      <td>1</td>\n",
       "      <td>0</td>\n",
       "      <td>0</td>\n",
       "      <td>0</td>\n",
       "      <td>3</td>\n",
       "      <td>2</td>\n",
       "      <td>10</td>\n",
       "      <td>1</td>\n",
       "      <td>9</td>\n",
       "      <td>0</td>\n",
       "    </tr>\n",
       "    <tr>\n",
       "      <th>4</th>\n",
       "      <td>Chicago Cubs</td>\n",
       "      <td>2</td>\n",
       "      <td>0</td>\n",
       "      <td>2</td>\n",
       "      <td>0</td>\n",
       "      <td>0</td>\n",
       "      <td>3</td>\n",
       "      <td>7</td>\n",
       "      <td>0</td>\n",
       "      <td>1</td>\n",
       "      <td>...</td>\n",
       "      <td>4</td>\n",
       "      <td>4</td>\n",
       "      <td>2</td>\n",
       "      <td>7</td>\n",
       "      <td>0</td>\n",
       "      <td>6</td>\n",
       "      <td>3</td>\n",
       "      <td>0</td>\n",
       "      <td>1</td>\n",
       "      <td>3</td>\n",
       "    </tr>\n",
       "    <tr>\n",
       "      <th>5</th>\n",
       "      <td>Chicago White Sox</td>\n",
       "      <td>0</td>\n",
       "      <td>0</td>\n",
       "      <td>4</td>\n",
       "      <td>4</td>\n",
       "      <td>3</td>\n",
       "      <td>0</td>\n",
       "      <td>0</td>\n",
       "      <td>7</td>\n",
       "      <td>2</td>\n",
       "      <td>...</td>\n",
       "      <td>0</td>\n",
       "      <td>0</td>\n",
       "      <td>0</td>\n",
       "      <td>0</td>\n",
       "      <td>1</td>\n",
       "      <td>0</td>\n",
       "      <td>6</td>\n",
       "      <td>3</td>\n",
       "      <td>7</td>\n",
       "      <td>0</td>\n",
       "    </tr>\n",
       "    <tr>\n",
       "      <th>6</th>\n",
       "      <td>Cincinnati Reds</td>\n",
       "      <td>2</td>\n",
       "      <td>3</td>\n",
       "      <td>0</td>\n",
       "      <td>2</td>\n",
       "      <td>8</td>\n",
       "      <td>0</td>\n",
       "      <td>0</td>\n",
       "      <td>1</td>\n",
       "      <td>5</td>\n",
       "      <td>...</td>\n",
       "      <td>5</td>\n",
       "      <td>9</td>\n",
       "      <td>3</td>\n",
       "      <td>1</td>\n",
       "      <td>0</td>\n",
       "      <td>10</td>\n",
       "      <td>0</td>\n",
       "      <td>0</td>\n",
       "      <td>2</td>\n",
       "      <td>3</td>\n",
       "    </tr>\n",
       "    <tr>\n",
       "      <th>7</th>\n",
       "      <td>Cleveland Indians</td>\n",
       "      <td>0</td>\n",
       "      <td>0</td>\n",
       "      <td>4</td>\n",
       "      <td>5</td>\n",
       "      <td>0</td>\n",
       "      <td>11</td>\n",
       "      <td>5</td>\n",
       "      <td>0</td>\n",
       "      <td>3</td>\n",
       "      <td>...</td>\n",
       "      <td>0</td>\n",
       "      <td>0</td>\n",
       "      <td>1</td>\n",
       "      <td>2</td>\n",
       "      <td>5</td>\n",
       "      <td>0</td>\n",
       "      <td>2</td>\n",
       "      <td>4</td>\n",
       "      <td>1</td>\n",
       "      <td>0</td>\n",
       "    </tr>\n",
       "    <tr>\n",
       "      <th>8</th>\n",
       "      <td>Colorado Rockies</td>\n",
       "      <td>15</td>\n",
       "      <td>4</td>\n",
       "      <td>0</td>\n",
       "      <td>0</td>\n",
       "      <td>5</td>\n",
       "      <td>1</td>\n",
       "      <td>1</td>\n",
       "      <td>0</td>\n",
       "      <td>0</td>\n",
       "      <td>...</td>\n",
       "      <td>5</td>\n",
       "      <td>2</td>\n",
       "      <td>9</td>\n",
       "      <td>7</td>\n",
       "      <td>0</td>\n",
       "      <td>4</td>\n",
       "      <td>0</td>\n",
       "      <td>0</td>\n",
       "      <td>0</td>\n",
       "      <td>3</td>\n",
       "    </tr>\n",
       "    <tr>\n",
       "      <th>9</th>\n",
       "      <td>Detroit Tigers</td>\n",
       "      <td>2</td>\n",
       "      <td>0</td>\n",
       "      <td>4</td>\n",
       "      <td>5</td>\n",
       "      <td>0</td>\n",
       "      <td>12</td>\n",
       "      <td>0</td>\n",
       "      <td>11</td>\n",
       "      <td>0</td>\n",
       "      <td>...</td>\n",
       "      <td>0</td>\n",
       "      <td>0</td>\n",
       "      <td>1</td>\n",
       "      <td>1</td>\n",
       "      <td>3</td>\n",
       "      <td>1</td>\n",
       "      <td>4</td>\n",
       "      <td>3</td>\n",
       "      <td>5</td>\n",
       "      <td>0</td>\n",
       "    </tr>\n",
       "    <tr>\n",
       "      <th>10</th>\n",
       "      <td>Houston Astros</td>\n",
       "      <td>4</td>\n",
       "      <td>3</td>\n",
       "      <td>3</td>\n",
       "      <td>1</td>\n",
       "      <td>8</td>\n",
       "      <td>0</td>\n",
       "      <td>3</td>\n",
       "      <td>0</td>\n",
       "      <td>3</td>\n",
       "      <td>...</td>\n",
       "      <td>4</td>\n",
       "      <td>8</td>\n",
       "      <td>3</td>\n",
       "      <td>1</td>\n",
       "      <td>0</td>\n",
       "      <td>8</td>\n",
       "      <td>1</td>\n",
       "      <td>3</td>\n",
       "      <td>0</td>\n",
       "      <td>2</td>\n",
       "    </tr>\n",
       "    <tr>\n",
       "      <th>11</th>\n",
       "      <td>Kansas City Royals</td>\n",
       "      <td>1</td>\n",
       "      <td>0</td>\n",
       "      <td>5</td>\n",
       "      <td>6</td>\n",
       "      <td>0</td>\n",
       "      <td>12</td>\n",
       "      <td>0</td>\n",
       "      <td>10</td>\n",
       "      <td>0</td>\n",
       "      <td>...</td>\n",
       "      <td>0</td>\n",
       "      <td>0</td>\n",
       "      <td>0</td>\n",
       "      <td>1</td>\n",
       "      <td>2</td>\n",
       "      <td>2</td>\n",
       "      <td>5</td>\n",
       "      <td>7</td>\n",
       "      <td>5</td>\n",
       "      <td>0</td>\n",
       "    </tr>\n",
       "    <tr>\n",
       "      <th>12</th>\n",
       "      <td>Los Angeles Angels</td>\n",
       "      <td>0</td>\n",
       "      <td>2</td>\n",
       "      <td>3</td>\n",
       "      <td>1</td>\n",
       "      <td>0</td>\n",
       "      <td>5</td>\n",
       "      <td>0</td>\n",
       "      <td>4</td>\n",
       "      <td>0</td>\n",
       "      <td>...</td>\n",
       "      <td>0</td>\n",
       "      <td>0</td>\n",
       "      <td>0</td>\n",
       "      <td>0</td>\n",
       "      <td>5</td>\n",
       "      <td>0</td>\n",
       "      <td>6</td>\n",
       "      <td>7</td>\n",
       "      <td>3</td>\n",
       "      <td>1</td>\n",
       "    </tr>\n",
       "    <tr>\n",
       "      <th>13</th>\n",
       "      <td>Los Angeles Dodgers</td>\n",
       "      <td>8</td>\n",
       "      <td>4</td>\n",
       "      <td>0</td>\n",
       "      <td>0</td>\n",
       "      <td>5</td>\n",
       "      <td>2</td>\n",
       "      <td>1</td>\n",
       "      <td>2</td>\n",
       "      <td>8</td>\n",
       "      <td>...</td>\n",
       "      <td>4</td>\n",
       "      <td>2</td>\n",
       "      <td>7</td>\n",
       "      <td>9</td>\n",
       "      <td>0</td>\n",
       "      <td>4</td>\n",
       "      <td>0</td>\n",
       "      <td>0</td>\n",
       "      <td>0</td>\n",
       "      <td>3</td>\n",
       "    </tr>\n",
       "    <tr>\n",
       "      <th>14</th>\n",
       "      <td>Miami Marlins</td>\n",
       "      <td>2</td>\n",
       "      <td>10</td>\n",
       "      <td>0</td>\n",
       "      <td>0</td>\n",
       "      <td>4</td>\n",
       "      <td>0</td>\n",
       "      <td>6</td>\n",
       "      <td>0</td>\n",
       "      <td>5</td>\n",
       "      <td>...</td>\n",
       "      <td>8</td>\n",
       "      <td>2</td>\n",
       "      <td>2</td>\n",
       "      <td>3</td>\n",
       "      <td>1</td>\n",
       "      <td>5</td>\n",
       "      <td>5</td>\n",
       "      <td>0</td>\n",
       "      <td>0</td>\n",
       "      <td>3</td>\n",
       "    </tr>\n",
       "    <tr>\n",
       "      <th>15</th>\n",
       "      <td>Milwaukee Brewers</td>\n",
       "      <td>2</td>\n",
       "      <td>3</td>\n",
       "      <td>1</td>\n",
       "      <td>3</td>\n",
       "      <td>9</td>\n",
       "      <td>0</td>\n",
       "      <td>10</td>\n",
       "      <td>0</td>\n",
       "      <td>4</td>\n",
       "      <td>...</td>\n",
       "      <td>5</td>\n",
       "      <td>1</td>\n",
       "      <td>3</td>\n",
       "      <td>0</td>\n",
       "      <td>0</td>\n",
       "      <td>5</td>\n",
       "      <td>0</td>\n",
       "      <td>0</td>\n",
       "      <td>0</td>\n",
       "      <td>2</td>\n",
       "    </tr>\n",
       "    <tr>\n",
       "      <th>16</th>\n",
       "      <td>Minnesota Twins</td>\n",
       "      <td>0</td>\n",
       "      <td>0</td>\n",
       "      <td>3</td>\n",
       "      <td>4</td>\n",
       "      <td>0</td>\n",
       "      <td>9</td>\n",
       "      <td>0</td>\n",
       "      <td>8</td>\n",
       "      <td>2</td>\n",
       "      <td>...</td>\n",
       "      <td>0</td>\n",
       "      <td>0</td>\n",
       "      <td>0</td>\n",
       "      <td>0</td>\n",
       "      <td>4</td>\n",
       "      <td>0</td>\n",
       "      <td>3</td>\n",
       "      <td>5</td>\n",
       "      <td>6</td>\n",
       "      <td>0</td>\n",
       "    </tr>\n",
       "    <tr>\n",
       "      <th>17</th>\n",
       "      <td>New York Mets</td>\n",
       "      <td>3</td>\n",
       "      <td>11</td>\n",
       "      <td>0</td>\n",
       "      <td>0</td>\n",
       "      <td>4</td>\n",
       "      <td>0</td>\n",
       "      <td>3</td>\n",
       "      <td>0</td>\n",
       "      <td>3</td>\n",
       "      <td>...</td>\n",
       "      <td>7</td>\n",
       "      <td>3</td>\n",
       "      <td>5</td>\n",
       "      <td>1</td>\n",
       "      <td>2</td>\n",
       "      <td>3</td>\n",
       "      <td>0</td>\n",
       "      <td>1</td>\n",
       "      <td>0</td>\n",
       "      <td>6</td>\n",
       "    </tr>\n",
       "    <tr>\n",
       "      <th>18</th>\n",
       "      <td>New York Yankees</td>\n",
       "      <td>0</td>\n",
       "      <td>0</td>\n",
       "      <td>7</td>\n",
       "      <td>18</td>\n",
       "      <td>0</td>\n",
       "      <td>2</td>\n",
       "      <td>2</td>\n",
       "      <td>4</td>\n",
       "      <td>0</td>\n",
       "      <td>...</td>\n",
       "      <td>0</td>\n",
       "      <td>2</td>\n",
       "      <td>0</td>\n",
       "      <td>0</td>\n",
       "      <td>2</td>\n",
       "      <td>0</td>\n",
       "      <td>7</td>\n",
       "      <td>4</td>\n",
       "      <td>9</td>\n",
       "      <td>0</td>\n",
       "    </tr>\n",
       "    <tr>\n",
       "      <th>19</th>\n",
       "      <td>Oakland Athletics</td>\n",
       "      <td>2</td>\n",
       "      <td>2</td>\n",
       "      <td>0</td>\n",
       "      <td>6</td>\n",
       "      <td>0</td>\n",
       "      <td>5</td>\n",
       "      <td>0</td>\n",
       "      <td>5</td>\n",
       "      <td>0</td>\n",
       "      <td>...</td>\n",
       "      <td>1</td>\n",
       "      <td>0</td>\n",
       "      <td>0</td>\n",
       "      <td>2</td>\n",
       "      <td>9</td>\n",
       "      <td>0</td>\n",
       "      <td>6</td>\n",
       "      <td>12</td>\n",
       "      <td>6</td>\n",
       "      <td>0</td>\n",
       "    </tr>\n",
       "    <tr>\n",
       "      <th>20</th>\n",
       "      <td>Philadelphia Phillies</td>\n",
       "      <td>3</td>\n",
       "      <td>4</td>\n",
       "      <td>0</td>\n",
       "      <td>2</td>\n",
       "      <td>3</td>\n",
       "      <td>0</td>\n",
       "      <td>3</td>\n",
       "      <td>0</td>\n",
       "      <td>0</td>\n",
       "      <td>...</td>\n",
       "      <td>0</td>\n",
       "      <td>2</td>\n",
       "      <td>2</td>\n",
       "      <td>3</td>\n",
       "      <td>0</td>\n",
       "      <td>4</td>\n",
       "      <td>0</td>\n",
       "      <td>2</td>\n",
       "      <td>2</td>\n",
       "      <td>6</td>\n",
       "    </tr>\n",
       "    <tr>\n",
       "      <th>21</th>\n",
       "      <td>Pittsburgh Pirates</td>\n",
       "      <td>4</td>\n",
       "      <td>2</td>\n",
       "      <td>2</td>\n",
       "      <td>0</td>\n",
       "      <td>14</td>\n",
       "      <td>3</td>\n",
       "      <td>6</td>\n",
       "      <td>0</td>\n",
       "      <td>5</td>\n",
       "      <td>...</td>\n",
       "      <td>4</td>\n",
       "      <td>0</td>\n",
       "      <td>4</td>\n",
       "      <td>2</td>\n",
       "      <td>0</td>\n",
       "      <td>7</td>\n",
       "      <td>2</td>\n",
       "      <td>0</td>\n",
       "      <td>1</td>\n",
       "      <td>4</td>\n",
       "    </tr>\n",
       "    <tr>\n",
       "      <th>22</th>\n",
       "      <td>San Diego Padres</td>\n",
       "      <td>10</td>\n",
       "      <td>5</td>\n",
       "      <td>0</td>\n",
       "      <td>0</td>\n",
       "      <td>5</td>\n",
       "      <td>0</td>\n",
       "      <td>4</td>\n",
       "      <td>2</td>\n",
       "      <td>9</td>\n",
       "      <td>...</td>\n",
       "      <td>4</td>\n",
       "      <td>3</td>\n",
       "      <td>0</td>\n",
       "      <td>13</td>\n",
       "      <td>5</td>\n",
       "      <td>6</td>\n",
       "      <td>0</td>\n",
       "      <td>0</td>\n",
       "      <td>0</td>\n",
       "      <td>1</td>\n",
       "    </tr>\n",
       "    <tr>\n",
       "      <th>23</th>\n",
       "      <td>San Francisco Giants</td>\n",
       "      <td>11</td>\n",
       "      <td>2</td>\n",
       "      <td>0</td>\n",
       "      <td>0</td>\n",
       "      <td>4</td>\n",
       "      <td>3</td>\n",
       "      <td>5</td>\n",
       "      <td>1</td>\n",
       "      <td>11</td>\n",
       "      <td>...</td>\n",
       "      <td>3</td>\n",
       "      <td>4</td>\n",
       "      <td>5</td>\n",
       "      <td>0</td>\n",
       "      <td>0</td>\n",
       "      <td>3</td>\n",
       "      <td>0</td>\n",
       "      <td>0</td>\n",
       "      <td>0</td>\n",
       "      <td>0</td>\n",
       "    </tr>\n",
       "    <tr>\n",
       "      <th>24</th>\n",
       "      <td>Seattle Mariners</td>\n",
       "      <td>0</td>\n",
       "      <td>2</td>\n",
       "      <td>8</td>\n",
       "      <td>6</td>\n",
       "      <td>0</td>\n",
       "      <td>5</td>\n",
       "      <td>0</td>\n",
       "      <td>4</td>\n",
       "      <td>0</td>\n",
       "      <td>...</td>\n",
       "      <td>0</td>\n",
       "      <td>0</td>\n",
       "      <td>1</td>\n",
       "      <td>0</td>\n",
       "      <td>0</td>\n",
       "      <td>0</td>\n",
       "      <td>4</td>\n",
       "      <td>1</td>\n",
       "      <td>4</td>\n",
       "      <td>3</td>\n",
       "    </tr>\n",
       "    <tr>\n",
       "      <th>25</th>\n",
       "      <td>St. Louis Cardinals</td>\n",
       "      <td>3</td>\n",
       "      <td>2</td>\n",
       "      <td>0</td>\n",
       "      <td>1</td>\n",
       "      <td>9</td>\n",
       "      <td>0</td>\n",
       "      <td>5</td>\n",
       "      <td>0</td>\n",
       "      <td>3</td>\n",
       "      <td>...</td>\n",
       "      <td>5</td>\n",
       "      <td>10</td>\n",
       "      <td>1</td>\n",
       "      <td>4</td>\n",
       "      <td>0</td>\n",
       "      <td>0</td>\n",
       "      <td>1</td>\n",
       "      <td>0</td>\n",
       "      <td>0</td>\n",
       "      <td>1</td>\n",
       "    </tr>\n",
       "    <tr>\n",
       "      <th>26</th>\n",
       "      <td>Tampa Bay Rays</td>\n",
       "      <td>0</td>\n",
       "      <td>0</td>\n",
       "      <td>3</td>\n",
       "      <td>8</td>\n",
       "      <td>0</td>\n",
       "      <td>4</td>\n",
       "      <td>0</td>\n",
       "      <td>5</td>\n",
       "      <td>0</td>\n",
       "      <td>...</td>\n",
       "      <td>0</td>\n",
       "      <td>1</td>\n",
       "      <td>0</td>\n",
       "      <td>0</td>\n",
       "      <td>3</td>\n",
       "      <td>2</td>\n",
       "      <td>0</td>\n",
       "      <td>3</td>\n",
       "      <td>7</td>\n",
       "      <td>0</td>\n",
       "    </tr>\n",
       "    <tr>\n",
       "      <th>27</th>\n",
       "      <td>Texas Rangers</td>\n",
       "      <td>0</td>\n",
       "      <td>1</td>\n",
       "      <td>4</td>\n",
       "      <td>9</td>\n",
       "      <td>0</td>\n",
       "      <td>3</td>\n",
       "      <td>0</td>\n",
       "      <td>6</td>\n",
       "      <td>0</td>\n",
       "      <td>...</td>\n",
       "      <td>1</td>\n",
       "      <td>0</td>\n",
       "      <td>0</td>\n",
       "      <td>0</td>\n",
       "      <td>8</td>\n",
       "      <td>0</td>\n",
       "      <td>6</td>\n",
       "      <td>0</td>\n",
       "      <td>4</td>\n",
       "      <td>1</td>\n",
       "    </tr>\n",
       "    <tr>\n",
       "      <th>28</th>\n",
       "      <td>Toronto Blue Jays</td>\n",
       "      <td>0</td>\n",
       "      <td>1</td>\n",
       "      <td>6</td>\n",
       "      <td>9</td>\n",
       "      <td>2</td>\n",
       "      <td>1</td>\n",
       "      <td>1</td>\n",
       "      <td>6</td>\n",
       "      <td>0</td>\n",
       "      <td>...</td>\n",
       "      <td>1</td>\n",
       "      <td>2</td>\n",
       "      <td>0</td>\n",
       "      <td>0</td>\n",
       "      <td>5</td>\n",
       "      <td>0</td>\n",
       "      <td>11</td>\n",
       "      <td>4</td>\n",
       "      <td>0</td>\n",
       "      <td>0</td>\n",
       "    </tr>\n",
       "    <tr>\n",
       "      <th>29</th>\n",
       "      <td>Washington Nationals</td>\n",
       "      <td>4</td>\n",
       "      <td>6</td>\n",
       "      <td>3</td>\n",
       "      <td>0</td>\n",
       "      <td>3</td>\n",
       "      <td>0</td>\n",
       "      <td>4</td>\n",
       "      <td>0</td>\n",
       "      <td>4</td>\n",
       "      <td>...</td>\n",
       "      <td>12</td>\n",
       "      <td>3</td>\n",
       "      <td>5</td>\n",
       "      <td>7</td>\n",
       "      <td>0</td>\n",
       "      <td>5</td>\n",
       "      <td>0</td>\n",
       "      <td>2</td>\n",
       "      <td>0</td>\n",
       "      <td>0</td>\n",
       "    </tr>\n",
       "  </tbody>\n",
       "</table>\n",
       "<p>30 rows × 31 columns</p>\n",
       "</div>"
      ],
      "text/plain": [
       "                    Teams  Arizona  Atlanta  Baltimore  Boston Red Sox  \\\n",
       "0    Arizona Diamondbacks        0        5          0               2   \n",
       "1          Atlanta Braves        3        0          0               0   \n",
       "2       Baltimore Orioles        0        0          0              12   \n",
       "3          Boston Red Sox        1        0          6               0   \n",
       "4            Chicago Cubs        2        0          2               0   \n",
       "5       Chicago White Sox        0        0          4               4   \n",
       "6         Cincinnati Reds        2        3          0               2   \n",
       "7       Cleveland Indians        0        0          4               5   \n",
       "8        Colorado Rockies       15        4          0               0   \n",
       "9          Detroit Tigers        2        0          4               5   \n",
       "10         Houston Astros        4        3          3               1   \n",
       "11     Kansas City Royals        1        0          5               6   \n",
       "12     Los Angeles Angels        0        2          3               1   \n",
       "13    Los Angeles Dodgers        8        4          0               0   \n",
       "14          Miami Marlins        2       10          0               0   \n",
       "15      Milwaukee Brewers        2        3          1               3   \n",
       "16        Minnesota Twins        0        0          3               4   \n",
       "17          New York Mets        3       11          0               0   \n",
       "18       New York Yankees        0        0          7              18   \n",
       "19      Oakland Athletics        2        2          0               6   \n",
       "20  Philadelphia Phillies        3        4          0               2   \n",
       "21     Pittsburgh Pirates        4        2          2               0   \n",
       "22       San Diego Padres       10        5          0               0   \n",
       "23   San Francisco Giants       11        2          0               0   \n",
       "24       Seattle Mariners        0        2          8               6   \n",
       "25    St. Louis Cardinals        3        2          0               1   \n",
       "26         Tampa Bay Rays        0        0          3               8   \n",
       "27          Texas Rangers        0        1          4               9   \n",
       "28      Toronto Blue Jays        0        1          6               9   \n",
       "29   Washington Nationals        4        6          3               0   \n",
       "\n",
       "    Chicago Cubs  Chicago White Sox  Cincinnati reds  Cleveland Indians  \\\n",
       "0              4                  0                4                  0   \n",
       "1              6                  0                3                  0   \n",
       "2              1                  5                0                  4   \n",
       "3              0                  3                1                  1   \n",
       "4              0                  3                7                  0   \n",
       "5              3                  0                0                  7   \n",
       "6              8                  0                0                  1   \n",
       "7              0                 11                5                  0   \n",
       "8              5                  1                1                  0   \n",
       "9              0                 12                0                 11   \n",
       "10             8                  0                3                  0   \n",
       "11             0                 12                0                 10   \n",
       "12             0                  5                0                  4   \n",
       "13             5                  2                1                  2   \n",
       "14             4                  0                6                  0   \n",
       "15             9                  0               10                  0   \n",
       "16             0                  9                0                  8   \n",
       "17             4                  0                3                  0   \n",
       "18             0                  2                2                  4   \n",
       "19             0                  5                0                  5   \n",
       "20             3                  0                3                  0   \n",
       "21            14                  3                6                  0   \n",
       "22             5                  0                4                  2   \n",
       "23             4                  3                5                  1   \n",
       "24             0                  5                0                  4   \n",
       "25             9                  0                5                  0   \n",
       "26             0                  4                0                  5   \n",
       "27             0                  3                0                  6   \n",
       "28             2                  1                1                  6   \n",
       "29             3                  0                4                  0   \n",
       "\n",
       "    Colorado  ...  Phillies   Pirates  Padres  Giants  Mariners  Cardinals  \\\n",
       "0          3  ...          4        3       8       7         0          4   \n",
       "1          3  ...         14        5       1       5         1          5   \n",
       "2          0  ...          0        1       0       0         2          0   \n",
       "3          0  ...          1        0       0       0         3          2   \n",
       "4          1  ...          4        4       2       7         0          6   \n",
       "5          2  ...          0        0       0       0         1          0   \n",
       "6          5  ...          5        9       3       1         0         10   \n",
       "7          3  ...          0        0       1       2         5          0   \n",
       "8          0  ...          5        2       9       7         0          4   \n",
       "9          0  ...          0        0       1       1         3          1   \n",
       "10         3  ...          4        8       3       1         0          8   \n",
       "11         0  ...          0        0       0       1         2          2   \n",
       "12         0  ...          0        0       0       0         5          0   \n",
       "13         8  ...          4        2       7       9         0          4   \n",
       "14         5  ...          8        2       2       3         1          5   \n",
       "15         4  ...          5        1       3       0         0          5   \n",
       "16         2  ...          0        0       0       0         4          0   \n",
       "17         3  ...          7        3       5       1         2          3   \n",
       "18         0  ...          0        2       0       0         2          0   \n",
       "19         0  ...          1        0       0       2         9          0   \n",
       "20         0  ...          0        2       2       3         0          4   \n",
       "21         5  ...          4        0       4       2         0          7   \n",
       "22         9  ...          4        3       0      13         5          6   \n",
       "23        11  ...          3        4       5       0         0          3   \n",
       "24         0  ...          0        0       1       0         0          0   \n",
       "25         3  ...          5       10       1       4         0          0   \n",
       "26         0  ...          0        1       0       0         3          2   \n",
       "27         0  ...          1        0       0       0         8          0   \n",
       "28         0  ...          1        2       0       0         5          0   \n",
       "29         4  ...         12        3       5       7         0          5   \n",
       "\n",
       "    Rays  Rangers  BlueJays  Nationals  \n",
       "0      0        0         0          2  \n",
       "1      0        2         2         12  \n",
       "2     15        5        12          3  \n",
       "3     10        1         9          0  \n",
       "4      3        0         1          3  \n",
       "5      6        3         7          0  \n",
       "6      0        0         2          3  \n",
       "7      2        4         1          0  \n",
       "8      0        0         0          3  \n",
       "9      4        3         5          0  \n",
       "10     1        3         0          2  \n",
       "11     5        7         5          0  \n",
       "12     6        7         3          1  \n",
       "13     0        0         0          3  \n",
       "14     5        0         0          3  \n",
       "15     0        0         0          2  \n",
       "16     3        5         6          0  \n",
       "17     0        1         0          6  \n",
       "18     7        4         9          0  \n",
       "19     6       12         6          0  \n",
       "20     0        2         2          6  \n",
       "21     2        0         1          4  \n",
       "22     0        0         0          1  \n",
       "23     0        0         0          0  \n",
       "24     4        1         4          3  \n",
       "25     1        0         0          1  \n",
       "26     0        3         7          0  \n",
       "27     6        0         4          1  \n",
       "28    11        4         0          0  \n",
       "29     0        2         0          0  \n",
       "\n",
       "[30 rows x 31 columns]"
      ]
     },
     "execution_count": 411,
     "metadata": {},
     "output_type": "execute_result"
    }
   ],
   "source": [
    "\n",
    "observed_2008 = pd.read_excel(\"Matchup Wins.xlsx\", sheet_name=\"2008\")\n",
    "observed_2008 = observed_2008.drop(observed_2008.index[-1])\n",
    "observed_2008"
   ]
  },
  {
   "cell_type": "code",
   "execution_count": 412,
   "metadata": {},
   "outputs": [],
   "source": [
    "# Function to simulate one matchup based on observed data\n",
    "def simulate_match(observed_wins, observed_losses):\n",
    "    if observed_wins + observed_losses == 0:\n",
    "        return 0  # if no observed matches, return 0\n",
    "    if (observed_wins == observed_wins + observed_losses) or observed_wins == 0:\n",
    "        win_probability = (observed_wins + 1) / (observed_wins + observed_losses + 2)\n",
    "        return np.random.binomial(observed_wins+observed_losses, win_probability)\n",
    "    win_probability = observed_wins / (observed_wins + observed_losses)\n",
    "    return np.random.binomial(observed_wins+observed_losses, win_probability)\n",
    "\n",
    "# Function to create one simulation\n",
    "def create_simulation(observed_matrix):\n",
    "    simulated_matrix = observed_matrix.copy()\n",
    "    for i in range(simulated_matrix.shape[0]):\n",
    "        for j in range(i+1, simulated_matrix.shape[1]):\n",
    "            observed_wins = observed_matrix.iloc[i, j]\n",
    "            observed_losses = observed_matrix.iloc[j, i]\n",
    "            simulated_matrix.iloc[i, j] = simulate_match(observed_wins, observed_losses)\n",
    "            simulated_matrix.iloc[j, i] = observed_wins+observed_losses - simulated_matrix.iloc[i, j]  # Opposite result for the other team\n",
    "    row_sums = simulated_matrix.sum(axis=1)\n",
    "    simulated_matrix['Total Wins'] = row_sums\n",
    "    return simulated_matrix\n",
    "\n",
    "# Creating 1000 simulations\n",
    "simulations_2008 = [pd.DataFrame(create_simulation(observed_2008.iloc[:,1:])) for _ in range(1000)]\n"
   ]
  },
  {
   "cell_type": "code",
   "execution_count": 413,
   "metadata": {},
   "outputs": [],
   "source": [
    "row_sums = df_2008.iloc[:,1:31].sum(axis=1)\n",
    "df_2008['Matches Played'] = row_sums+162"
   ]
  },
  {
   "cell_type": "code",
   "execution_count": 414,
   "metadata": {},
   "outputs": [],
   "source": [
    "Sim_K_PECOTA_2008= []\n",
    "for j in range(1000):\n",
    "    sim_2008 = pd.DataFrame()\n",
    "    sim_2008['pcg_Simulated'] = (simulations_2008[j]['Total Wins'] / df_2008['Matches Played'])\n",
    "    sim_2008['Z_PECOTA'] = ( sim_2008['pcg_Simulated'] - data_2008['pcg_PECOTA']) / (data_2008['pcg_PECOTA'] * (1 - data_2008['pcg_PECOTA']) / 162) ** 0.5\n",
    "    sim_2008['P_Value_PECOTA'] = (1 - norm.cdf(abs(sim_2008['Z_PECOTA']))) * 2\n",
    "    sim_2008 = sim_2008.sort_values(by='P_Value_PECOTA', ascending=False)\n",
    "\n",
    "    alpha = 0.05\n",
    "    m = 30\n",
    "    sim_2008.reset_index(drop=True, inplace=True)\n",
    "    sim_2008['BH_Threshold'] = (m - sim_2008.index) / m * alpha\n",
    "    Sim_K_PECOTA_2008.append(0)\n",
    "\n",
    "    for i, row in sim_2008.iterrows():\n",
    "        if row['P_Value_PECOTA'] > row['BH_Threshold']:\n",
    "            Sim_K_PECOTA_2008[j] = i + 1\n",
    "        else:\n",
    "            break\n",
    "\n",
    "    Sim_K_PECOTA_2008[j] = 30 - Sim_K_PECOTA_2008[j]"
   ]
  },
  {
   "cell_type": "code",
   "execution_count": 415,
   "metadata": {},
   "outputs": [
    {
     "data": {
      "text/plain": [
       "13.341"
      ]
     },
     "execution_count": 415,
     "metadata": {},
     "output_type": "execute_result"
    }
   ],
   "source": [
    "K_avg_PECOTA_2008=sum(Sim_K_PECOTA_2008)/1000\n",
    "K_avg_PECOTA_2008"
   ]
  },
  {
   "cell_type": "code",
   "execution_count": 416,
   "metadata": {},
   "outputs": [],
   "source": [
    "Sim_K_ZiPs_2008= []\n",
    "for j in range(1000):\n",
    "    sim_2008 = pd.DataFrame()\n",
    "    sim_2008['Z_ZiPs'] = ((simulations_2008[j]['Total Wins'] / df_2008['Matches Played']) - data_2008['pcg_ZiPs']) / (data_2008['pcg_ZiPs'] * (1 - data_2008['pcg_ZiPs']) / 162) ** 0.5\n",
    "    sim_2008['P_Value_ZiPs'] = (1 - norm.cdf(abs(sim_2008['Z_ZiPs']))) * 2\n",
    "    sim_2008 = sim_2008.sort_values(by='P_Value_ZiPs', ascending=False)\n",
    "\n",
    "    alpha = 0.05\n",
    "    m = 30\n",
    "    sim_2008.reset_index(drop=True, inplace=True)\n",
    "    sim_2008['BH_Threshold'] = (m - sim_2008.index) / m * alpha\n",
    "    Sim_K_ZiPs_2008.append(0)\n",
    "\n",
    "    for i, row in sim_2008.iterrows():\n",
    "        if row['P_Value_ZiPs'] > row['BH_Threshold']:\n",
    "            Sim_K_ZiPs_2008[j] = i + 1\n",
    "        else:\n",
    "            break\n",
    "\n",
    "    Sim_K_ZiPs_2008[j] = 30 - Sim_K_ZiPs_2008[j]"
   ]
  },
  {
   "cell_type": "code",
   "execution_count": 417,
   "metadata": {},
   "outputs": [
    {
     "data": {
      "text/plain": [
       "12.053"
      ]
     },
     "execution_count": 417,
     "metadata": {},
     "output_type": "execute_result"
    }
   ],
   "source": [
    "K_avg_ZiPs_2008=sum(Sim_K_ZiPs_2008)/1000\n",
    "K_avg_ZiPs_2008"
   ]
  },
  {
   "cell_type": "code",
   "execution_count": 418,
   "metadata": {},
   "outputs": [],
   "source": [
    "observed_2014 = pd.read_excel(\"Matchup Wins.xlsx\", sheet_name=\"2014\")\n",
    "observed_2014 = observed_2014.drop(observed_2014.index[-1])\n",
    "observed_2014\n",
    "\n",
    "simulations_2014 = [pd.DataFrame(create_simulation(observed_2014.iloc[:,1:])) for _ in range(1000)]\n",
    "\n",
    "row_sums = df_2014.iloc[:,1:31].sum(axis=1)\n",
    "df_2014['Matches Played'] = row_sums+162\n",
    "\n",
    "Sim_K_PECOTA_2014= []\n",
    "for j in range(1000):\n",
    "    sim_2014 = pd.DataFrame()\n",
    "    sim_2014['pcg_Simulated'] = (simulations_2014[j]['Total Wins'] / df_2014['Matches Played'])\n",
    "    sim_2014['Z_PECOTA'] = ( sim_2014['pcg_Simulated'] - data_2014['pcg_PECOTA']) / (data_2014['pcg_PECOTA'] * (1 - data_2014['pcg_PECOTA']) / 162) ** 0.5\n",
    "    sim_2014['P_Value_PECOTA'] = (1 - norm.cdf(abs(sim_2014['Z_PECOTA']))) * 2\n",
    "    sim_2014 = sim_2014.sort_values(by='P_Value_PECOTA', ascending=False)\n",
    "\n",
    "    alpha = 0.05\n",
    "    m = 30\n",
    "    sim_2014.reset_index(drop=True, inplace=True)\n",
    "    sim_2014['BH_Threshold'] = (m - sim_2014.index) / m * alpha\n",
    "    Sim_K_PECOTA_2014.append(0)\n",
    "\n",
    "    for i, row in sim_2014.iterrows():\n",
    "        if row['P_Value_PECOTA'] > row['BH_Threshold']:\n",
    "            Sim_K_PECOTA_2014[j] = i + 1\n",
    "        else:\n",
    "            break\n",
    "\n",
    "    Sim_K_PECOTA_2014[j] = 30 - Sim_K_PECOTA_2014[j]"
   ]
  },
  {
   "cell_type": "code",
   "execution_count": 419,
   "metadata": {},
   "outputs": [
    {
     "data": {
      "text/plain": [
       "9.85"
      ]
     },
     "execution_count": 419,
     "metadata": {},
     "output_type": "execute_result"
    }
   ],
   "source": [
    "K_avg_PECOTA_2014=sum(Sim_K_PECOTA_2014)/1000\n",
    "K_avg_PECOTA_2014"
   ]
  },
  {
   "cell_type": "code",
   "execution_count": 420,
   "metadata": {},
   "outputs": [
    {
     "data": {
      "text/plain": [
       "8.845"
      ]
     },
     "execution_count": 420,
     "metadata": {},
     "output_type": "execute_result"
    }
   ],
   "source": [
    "Sim_K_FanGraphs_2014= []\n",
    "for j in range(1000):\n",
    "    sim_2014 = pd.DataFrame()\n",
    "    sim_2014['pcg_Simulated'] = (simulations_2014[j]['Total Wins'] / df_2014['Matches Played'])\n",
    "    sim_2014['Z_FanGraphs'] = ( sim_2014['pcg_Simulated'] - data_2014['pcg_FanGraphs']) / (data_2014['pcg_FanGraphs'] * (1 - data_2014['pcg_FanGraphs']) / 162) ** 0.5\n",
    "    sim_2014['P_Value_FanGraphs'] = (1 - norm.cdf(abs(sim_2014['Z_FanGraphs']))) * 2\n",
    "    sim_2014 = sim_2014.sort_values(by='P_Value_FanGraphs', ascending=False)\n",
    "\n",
    "    alpha = 0.05\n",
    "    m = 30\n",
    "    sim_2014.reset_index(drop=True, inplace=True)\n",
    "    sim_2014['BH_Threshold'] = (m - sim_2014.index) / m * alpha\n",
    "    Sim_K_FanGraphs_2014.append(0)\n",
    "\n",
    "    for i, row in sim_2014.iterrows():\n",
    "        if row['P_Value_FanGraphs'] > row['BH_Threshold']:\n",
    "            Sim_K_FanGraphs_2014[j] = i + 1\n",
    "        else:\n",
    "            break\n",
    "\n",
    "    Sim_K_FanGraphs_2014[j] = 30 - Sim_K_FanGraphs_2014[j]\n",
    "\n",
    "K_avg_FanGraphs_2014=sum(Sim_K_FanGraphs_2014)/1000\n",
    "K_avg_FanGraphs_2014"
   ]
  },
  {
   "cell_type": "code",
   "execution_count": 421,
   "metadata": {},
   "outputs": [
    {
     "data": {
      "text/plain": [
       "11.109"
      ]
     },
     "execution_count": 421,
     "metadata": {},
     "output_type": "execute_result"
    }
   ],
   "source": [
    "Sim_K_ZiPs_2014= []\n",
    "for j in range(1000):\n",
    "    sim_2014 = pd.DataFrame()\n",
    "    sim_2014['pcg_Simulated'] = (simulations_2014[j]['Total Wins'] / df_2014['Matches Played'])\n",
    "    sim_2014['Z_ZiPs'] = ( sim_2014['pcg_Simulated'] - data_2014['pcg_ZiPs']) / (data_2014['pcg_ZiPs'] * (1 - data_2014['pcg_ZiPs']) / 162) ** 0.5\n",
    "    sim_2014['P_Value_ZiPs'] = (1 - norm.cdf(abs(sim_2014['Z_ZiPs']))) * 2\n",
    "    sim_2014 = sim_2014.sort_values(by='P_Value_ZiPs', ascending=False)\n",
    "\n",
    "    alpha = 0.05\n",
    "    m = 30\n",
    "    sim_2014.reset_index(drop=True, inplace=True)\n",
    "    sim_2014['BH_Threshold'] = (m - sim_2014.index) / m * alpha\n",
    "    Sim_K_ZiPs_2014.append(0)\n",
    "\n",
    "    for i, row in sim_2014.iterrows():\n",
    "        if row['P_Value_ZiPs'] > row['BH_Threshold']:\n",
    "            Sim_K_ZiPs_2014[j] = i + 1\n",
    "        else:\n",
    "            break\n",
    "\n",
    "    Sim_K_ZiPs_2014[j] = 30 - Sim_K_ZiPs_2014[j]\n",
    "\n",
    "K_avg_ZiPs_2014=sum(Sim_K_ZiPs_2014)/1000\n",
    "K_avg_ZiPs_2014"
   ]
  },
  {
   "cell_type": "code",
   "execution_count": 422,
   "metadata": {},
   "outputs": [
    {
     "data": {
      "text/plain": [
       "9.339"
      ]
     },
     "execution_count": 422,
     "metadata": {},
     "output_type": "execute_result"
    }
   ],
   "source": [
    "Sim_K_Steamer_2014= []\n",
    "for j in range(1000):\n",
    "    sim_2014 = pd.DataFrame()\n",
    "    sim_2014['pcg_Simulated'] = (simulations_2014[j]['Total Wins'] / df_2014['Matches Played'])\n",
    "    sim_2014['Z_Steamer'] = ( sim_2014['pcg_Simulated'] - data_2014['pcg_Steamer']) / (data_2014['pcg_Steamer'] * (1 - data_2014['pcg_Steamer']) / 162) ** 0.5\n",
    "    sim_2014['P_Value_Steamer'] = (1 - norm.cdf(abs(sim_2014['Z_Steamer']))) * 2\n",
    "    sim_2014 = sim_2014.sort_values(by='P_Value_Steamer', ascending=False)\n",
    "\n",
    "    alpha = 0.05\n",
    "    m = 30\n",
    "    sim_2014.reset_index(drop=True, inplace=True)\n",
    "    sim_2014['BH_Threshold'] = (m - sim_2014.index) / m * alpha\n",
    "    Sim_K_Steamer_2014.append(0)\n",
    "\n",
    "    for i, row in sim_2014.iterrows():\n",
    "        if row['P_Value_Steamer'] > row['BH_Threshold']:\n",
    "            Sim_K_Steamer_2014[j] = i + 1\n",
    "        else:\n",
    "            break\n",
    "\n",
    "    Sim_K_Steamer_2014[j] = 30 - Sim_K_Steamer_2014[j]\n",
    "\n",
    "K_avg_Steamer_2014=sum(Sim_K_Steamer_2014)/1000\n",
    "K_avg_Steamer_2014"
   ]
  },
  {
   "cell_type": "markdown",
   "metadata": {},
   "source": [
    "# Simulation B"
   ]
  },
  {
   "cell_type": "code",
   "execution_count": 436,
   "metadata": {},
   "outputs": [],
   "source": [
    "agg_matrix_2008 = pd.DataFrame(0, index=observed_2008.index, columns=observed_2008.columns[1:])"
   ]
  },
  {
   "cell_type": "code",
   "execution_count": 437,
   "metadata": {},
   "outputs": [],
   "source": [
    "for j in range(1000):\n",
    "    agg_matrix_2008=agg_matrix_2008+simulations_2008[j]\n"
   ]
  },
  {
   "cell_type": "code",
   "execution_count": 438,
   "metadata": {},
   "outputs": [
    {
     "data": {
      "text/html": [
       "<div>\n",
       "<style scoped>\n",
       "    .dataframe tbody tr th:only-of-type {\n",
       "        vertical-align: middle;\n",
       "    }\n",
       "\n",
       "    .dataframe tbody tr th {\n",
       "        vertical-align: top;\n",
       "    }\n",
       "\n",
       "    .dataframe thead th {\n",
       "        text-align: right;\n",
       "    }\n",
       "</style>\n",
       "<table border=\"1\" class=\"dataframe\">\n",
       "  <thead>\n",
       "    <tr style=\"text-align: right;\">\n",
       "      <th></th>\n",
       "      <th>Angels</th>\n",
       "      <th>Arizona</th>\n",
       "      <th>Athletics</th>\n",
       "      <th>Atlanta</th>\n",
       "      <th>Baltimore</th>\n",
       "      <th>BlueJays</th>\n",
       "      <th>Boston Red Sox</th>\n",
       "      <th>Brewers</th>\n",
       "      <th>Cardinals</th>\n",
       "      <th>Chicago Cubs</th>\n",
       "      <th>...</th>\n",
       "      <th>Mets</th>\n",
       "      <th>Nationals</th>\n",
       "      <th>Padres</th>\n",
       "      <th>Phillies</th>\n",
       "      <th>Pirates</th>\n",
       "      <th>Rangers</th>\n",
       "      <th>Rays</th>\n",
       "      <th>Total Wins</th>\n",
       "      <th>Twins</th>\n",
       "      <th>Yankees</th>\n",
       "    </tr>\n",
       "  </thead>\n",
       "  <tbody>\n",
       "    <tr>\n",
       "      <th>0</th>\n",
       "      <td>0</td>\n",
       "      <td>0</td>\n",
       "      <td>975</td>\n",
       "      <td>4982</td>\n",
       "      <td>0</td>\n",
       "      <td>0</td>\n",
       "      <td>2013</td>\n",
       "      <td>5034</td>\n",
       "      <td>3956</td>\n",
       "      <td>4017</td>\n",
       "      <td>...</td>\n",
       "      <td>3003</td>\n",
       "      <td>1954</td>\n",
       "      <td>7928</td>\n",
       "      <td>3998</td>\n",
       "      <td>3073</td>\n",
       "      <td>0</td>\n",
       "      <td>0</td>\n",
       "      <td>NaN</td>\n",
       "      <td>2436</td>\n",
       "      <td>0</td>\n",
       "    </tr>\n",
       "    <tr>\n",
       "      <th>1</th>\n",
       "      <td>936</td>\n",
       "      <td>3018</td>\n",
       "      <td>1021</td>\n",
       "      <td>0</td>\n",
       "      <td>0</td>\n",
       "      <td>1950</td>\n",
       "      <td>0</td>\n",
       "      <td>5978</td>\n",
       "      <td>4987</td>\n",
       "      <td>5213</td>\n",
       "      <td>...</td>\n",
       "      <td>7013</td>\n",
       "      <td>11960</td>\n",
       "      <td>1011</td>\n",
       "      <td>14053</td>\n",
       "      <td>5014</td>\n",
       "      <td>1993</td>\n",
       "      <td>0</td>\n",
       "      <td>NaN</td>\n",
       "      <td>0</td>\n",
       "      <td>0</td>\n",
       "    </tr>\n",
       "    <tr>\n",
       "      <th>2</th>\n",
       "      <td>6005</td>\n",
       "      <td>0</td>\n",
       "      <td>4324</td>\n",
       "      <td>0</td>\n",
       "      <td>0</td>\n",
       "      <td>11985</td>\n",
       "      <td>11990</td>\n",
       "      <td>2018</td>\n",
       "      <td>0</td>\n",
       "      <td>1040</td>\n",
       "      <td>...</td>\n",
       "      <td>0</td>\n",
       "      <td>2944</td>\n",
       "      <td>0</td>\n",
       "      <td>0</td>\n",
       "      <td>999</td>\n",
       "      <td>4982</td>\n",
       "      <td>15097</td>\n",
       "      <td>NaN</td>\n",
       "      <td>3011</td>\n",
       "      <td>11003</td>\n",
       "    </tr>\n",
       "    <tr>\n",
       "      <th>3</th>\n",
       "      <td>7998</td>\n",
       "      <td>987</td>\n",
       "      <td>3966</td>\n",
       "      <td>0</td>\n",
       "      <td>6010</td>\n",
       "      <td>9015</td>\n",
       "      <td>0</td>\n",
       "      <td>555</td>\n",
       "      <td>2000</td>\n",
       "      <td>0</td>\n",
       "      <td>...</td>\n",
       "      <td>0</td>\n",
       "      <td>0</td>\n",
       "      <td>0</td>\n",
       "      <td>1026</td>\n",
       "      <td>0</td>\n",
       "      <td>997</td>\n",
       "      <td>9982</td>\n",
       "      <td>NaN</td>\n",
       "      <td>3015</td>\n",
       "      <td>9020</td>\n",
       "    </tr>\n",
       "    <tr>\n",
       "      <th>4</th>\n",
       "      <td>0</td>\n",
       "      <td>1983</td>\n",
       "      <td>0</td>\n",
       "      <td>787</td>\n",
       "      <td>1960</td>\n",
       "      <td>999</td>\n",
       "      <td>0</td>\n",
       "      <td>6999</td>\n",
       "      <td>6017</td>\n",
       "      <td>0</td>\n",
       "      <td>...</td>\n",
       "      <td>1976</td>\n",
       "      <td>3005</td>\n",
       "      <td>1981</td>\n",
       "      <td>4007</td>\n",
       "      <td>4010</td>\n",
       "      <td>0</td>\n",
       "      <td>2431</td>\n",
       "      <td>NaN</td>\n",
       "      <td>0</td>\n",
       "      <td>0</td>\n",
       "    </tr>\n",
       "    <tr>\n",
       "      <th>5</th>\n",
       "      <td>4985</td>\n",
       "      <td>0</td>\n",
       "      <td>3964</td>\n",
       "      <td>0</td>\n",
       "      <td>4020</td>\n",
       "      <td>7042</td>\n",
       "      <td>4039</td>\n",
       "      <td>0</td>\n",
       "      <td>0</td>\n",
       "      <td>2978</td>\n",
       "      <td>...</td>\n",
       "      <td>0</td>\n",
       "      <td>0</td>\n",
       "      <td>0</td>\n",
       "      <td>0</td>\n",
       "      <td>570</td>\n",
       "      <td>2990</td>\n",
       "      <td>5961</td>\n",
       "      <td>NaN</td>\n",
       "      <td>10143</td>\n",
       "      <td>4928</td>\n",
       "    </tr>\n",
       "    <tr>\n",
       "      <th>6</th>\n",
       "      <td>0</td>\n",
       "      <td>2077</td>\n",
       "      <td>0</td>\n",
       "      <td>2994</td>\n",
       "      <td>0</td>\n",
       "      <td>2004</td>\n",
       "      <td>1989</td>\n",
       "      <td>8030</td>\n",
       "      <td>9971</td>\n",
       "      <td>8022</td>\n",
       "      <td>...</td>\n",
       "      <td>3971</td>\n",
       "      <td>3065</td>\n",
       "      <td>3044</td>\n",
       "      <td>5090</td>\n",
       "      <td>9081</td>\n",
       "      <td>0</td>\n",
       "      <td>0</td>\n",
       "      <td>NaN</td>\n",
       "      <td>0</td>\n",
       "      <td>997</td>\n",
       "    </tr>\n",
       "    <tr>\n",
       "      <th>7</th>\n",
       "      <td>5021</td>\n",
       "      <td>0</td>\n",
       "      <td>4086</td>\n",
       "      <td>0</td>\n",
       "      <td>3971</td>\n",
       "      <td>992</td>\n",
       "      <td>5025</td>\n",
       "      <td>0</td>\n",
       "      <td>0</td>\n",
       "      <td>0</td>\n",
       "      <td>...</td>\n",
       "      <td>0</td>\n",
       "      <td>0</td>\n",
       "      <td>1027</td>\n",
       "      <td>0</td>\n",
       "      <td>0</td>\n",
       "      <td>4046</td>\n",
       "      <td>1965</td>\n",
       "      <td>NaN</td>\n",
       "      <td>10155</td>\n",
       "      <td>3012</td>\n",
       "    </tr>\n",
       "    <tr>\n",
       "      <th>8</th>\n",
       "      <td>0</td>\n",
       "      <td>15052</td>\n",
       "      <td>0</td>\n",
       "      <td>4011</td>\n",
       "      <td>0</td>\n",
       "      <td>0</td>\n",
       "      <td>0</td>\n",
       "      <td>2994</td>\n",
       "      <td>4038</td>\n",
       "      <td>5009</td>\n",
       "      <td>...</td>\n",
       "      <td>6138</td>\n",
       "      <td>3023</td>\n",
       "      <td>9003</td>\n",
       "      <td>4300</td>\n",
       "      <td>2018</td>\n",
       "      <td>0</td>\n",
       "      <td>0</td>\n",
       "      <td>NaN</td>\n",
       "      <td>1024</td>\n",
       "      <td>0</td>\n",
       "    </tr>\n",
       "    <tr>\n",
       "      <th>9</th>\n",
       "      <td>5981</td>\n",
       "      <td>1973</td>\n",
       "      <td>6018</td>\n",
       "      <td>0</td>\n",
       "      <td>4039</td>\n",
       "      <td>5017</td>\n",
       "      <td>4991</td>\n",
       "      <td>0</td>\n",
       "      <td>1023</td>\n",
       "      <td>0</td>\n",
       "      <td>...</td>\n",
       "      <td>0</td>\n",
       "      <td>0</td>\n",
       "      <td>1000</td>\n",
       "      <td>0</td>\n",
       "      <td>0</td>\n",
       "      <td>2972</td>\n",
       "      <td>4031</td>\n",
       "      <td>NaN</td>\n",
       "      <td>11041</td>\n",
       "      <td>2018</td>\n",
       "    </tr>\n",
       "    <tr>\n",
       "      <th>10</th>\n",
       "      <td>0</td>\n",
       "      <td>3996</td>\n",
       "      <td>0</td>\n",
       "      <td>2986</td>\n",
       "      <td>2405</td>\n",
       "      <td>0</td>\n",
       "      <td>984</td>\n",
       "      <td>8012</td>\n",
       "      <td>7936</td>\n",
       "      <td>7968</td>\n",
       "      <td>...</td>\n",
       "      <td>1902</td>\n",
       "      <td>1980</td>\n",
       "      <td>3032</td>\n",
       "      <td>3995</td>\n",
       "      <td>7968</td>\n",
       "      <td>2975</td>\n",
       "      <td>1049</td>\n",
       "      <td>NaN</td>\n",
       "      <td>0</td>\n",
       "      <td>2346</td>\n",
       "    </tr>\n",
       "    <tr>\n",
       "      <th>11</th>\n",
       "      <td>2991</td>\n",
       "      <td>986</td>\n",
       "      <td>3006</td>\n",
       "      <td>0</td>\n",
       "      <td>4995</td>\n",
       "      <td>5013</td>\n",
       "      <td>6047</td>\n",
       "      <td>0</td>\n",
       "      <td>1993</td>\n",
       "      <td>0</td>\n",
       "      <td>...</td>\n",
       "      <td>0</td>\n",
       "      <td>0</td>\n",
       "      <td>0</td>\n",
       "      <td>0</td>\n",
       "      <td>0</td>\n",
       "      <td>7015</td>\n",
       "      <td>4994</td>\n",
       "      <td>NaN</td>\n",
       "      <td>12050</td>\n",
       "      <td>5047</td>\n",
       "    </tr>\n",
       "    <tr>\n",
       "      <th>12</th>\n",
       "      <td>0</td>\n",
       "      <td>0</td>\n",
       "      <td>8970</td>\n",
       "      <td>2064</td>\n",
       "      <td>2995</td>\n",
       "      <td>3025</td>\n",
       "      <td>1002</td>\n",
       "      <td>0</td>\n",
       "      <td>0</td>\n",
       "      <td>0</td>\n",
       "      <td>...</td>\n",
       "      <td>1998</td>\n",
       "      <td>983</td>\n",
       "      <td>0</td>\n",
       "      <td>600</td>\n",
       "      <td>0</td>\n",
       "      <td>6938</td>\n",
       "      <td>6022</td>\n",
       "      <td>NaN</td>\n",
       "      <td>3061</td>\n",
       "      <td>2977</td>\n",
       "    </tr>\n",
       "    <tr>\n",
       "      <th>13</th>\n",
       "      <td>3101</td>\n",
       "      <td>8021</td>\n",
       "      <td>0</td>\n",
       "      <td>3992</td>\n",
       "      <td>0</td>\n",
       "      <td>0</td>\n",
       "      <td>0</td>\n",
       "      <td>1993</td>\n",
       "      <td>3966</td>\n",
       "      <td>4981</td>\n",
       "      <td>...</td>\n",
       "      <td>3955</td>\n",
       "      <td>3122</td>\n",
       "      <td>7050</td>\n",
       "      <td>4065</td>\n",
       "      <td>1953</td>\n",
       "      <td>0</td>\n",
       "      <td>0</td>\n",
       "      <td>NaN</td>\n",
       "      <td>0</td>\n",
       "      <td>0</td>\n",
       "    </tr>\n",
       "    <tr>\n",
       "      <th>14</th>\n",
       "      <td>0</td>\n",
       "      <td>1936</td>\n",
       "      <td>1970</td>\n",
       "      <td>9997</td>\n",
       "      <td>0</td>\n",
       "      <td>0</td>\n",
       "      <td>0</td>\n",
       "      <td>1003</td>\n",
       "      <td>5009</td>\n",
       "      <td>3979</td>\n",
       "      <td>...</td>\n",
       "      <td>9896</td>\n",
       "      <td>2913</td>\n",
       "      <td>2039</td>\n",
       "      <td>8062</td>\n",
       "      <td>1977</td>\n",
       "      <td>0</td>\n",
       "      <td>4974</td>\n",
       "      <td>NaN</td>\n",
       "      <td>0</td>\n",
       "      <td>0</td>\n",
       "    </tr>\n",
       "    <tr>\n",
       "      <th>15</th>\n",
       "      <td>0</td>\n",
       "      <td>1966</td>\n",
       "      <td>0</td>\n",
       "      <td>3022</td>\n",
       "      <td>982</td>\n",
       "      <td>578</td>\n",
       "      <td>2445</td>\n",
       "      <td>0</td>\n",
       "      <td>5061</td>\n",
       "      <td>9001</td>\n",
       "      <td>...</td>\n",
       "      <td>3996</td>\n",
       "      <td>1968</td>\n",
       "      <td>2984</td>\n",
       "      <td>5022</td>\n",
       "      <td>1008</td>\n",
       "      <td>0</td>\n",
       "      <td>0</td>\n",
       "      <td>NaN</td>\n",
       "      <td>3948</td>\n",
       "      <td>0</td>\n",
       "    </tr>\n",
       "    <tr>\n",
       "      <th>16</th>\n",
       "      <td>4939</td>\n",
       "      <td>564</td>\n",
       "      <td>4981</td>\n",
       "      <td>0</td>\n",
       "      <td>2989</td>\n",
       "      <td>5254</td>\n",
       "      <td>3985</td>\n",
       "      <td>2052</td>\n",
       "      <td>0</td>\n",
       "      <td>0</td>\n",
       "      <td>...</td>\n",
       "      <td>0</td>\n",
       "      <td>626</td>\n",
       "      <td>549</td>\n",
       "      <td>0</td>\n",
       "      <td>0</td>\n",
       "      <td>5020</td>\n",
       "      <td>3105</td>\n",
       "      <td>NaN</td>\n",
       "      <td>0</td>\n",
       "      <td>5963</td>\n",
       "    </tr>\n",
       "    <tr>\n",
       "      <th>17</th>\n",
       "      <td>1002</td>\n",
       "      <td>2997</td>\n",
       "      <td>0</td>\n",
       "      <td>10987</td>\n",
       "      <td>0</td>\n",
       "      <td>0</td>\n",
       "      <td>0</td>\n",
       "      <td>2004</td>\n",
       "      <td>3043</td>\n",
       "      <td>4024</td>\n",
       "      <td>...</td>\n",
       "      <td>0</td>\n",
       "      <td>6079</td>\n",
       "      <td>4957</td>\n",
       "      <td>6994</td>\n",
       "      <td>2970</td>\n",
       "      <td>1020</td>\n",
       "      <td>0</td>\n",
       "      <td>NaN</td>\n",
       "      <td>0</td>\n",
       "      <td>2005</td>\n",
       "    </tr>\n",
       "    <tr>\n",
       "      <th>18</th>\n",
       "      <td>7023</td>\n",
       "      <td>0</td>\n",
       "      <td>993</td>\n",
       "      <td>0</td>\n",
       "      <td>6997</td>\n",
       "      <td>8954</td>\n",
       "      <td>17980</td>\n",
       "      <td>0</td>\n",
       "      <td>0</td>\n",
       "      <td>0</td>\n",
       "      <td>...</td>\n",
       "      <td>3995</td>\n",
       "      <td>0</td>\n",
       "      <td>609</td>\n",
       "      <td>0</td>\n",
       "      <td>2013</td>\n",
       "      <td>3948</td>\n",
       "      <td>6933</td>\n",
       "      <td>NaN</td>\n",
       "      <td>4037</td>\n",
       "      <td>0</td>\n",
       "    </tr>\n",
       "    <tr>\n",
       "      <th>19</th>\n",
       "      <td>10030</td>\n",
       "      <td>2025</td>\n",
       "      <td>0</td>\n",
       "      <td>1979</td>\n",
       "      <td>676</td>\n",
       "      <td>5259</td>\n",
       "      <td>6034</td>\n",
       "      <td>0</td>\n",
       "      <td>0</td>\n",
       "      <td>0</td>\n",
       "      <td>...</td>\n",
       "      <td>0</td>\n",
       "      <td>622</td>\n",
       "      <td>0</td>\n",
       "      <td>1027</td>\n",
       "      <td>0</td>\n",
       "      <td>11941</td>\n",
       "      <td>6032</td>\n",
       "      <td>NaN</td>\n",
       "      <td>5019</td>\n",
       "      <td>5007</td>\n",
       "    </tr>\n",
       "    <tr>\n",
       "      <th>20</th>\n",
       "      <td>2400</td>\n",
       "      <td>3002</td>\n",
       "      <td>1973</td>\n",
       "      <td>3947</td>\n",
       "      <td>0</td>\n",
       "      <td>2029</td>\n",
       "      <td>1974</td>\n",
       "      <td>978</td>\n",
       "      <td>4055</td>\n",
       "      <td>2993</td>\n",
       "      <td>...</td>\n",
       "      <td>11006</td>\n",
       "      <td>5937</td>\n",
       "      <td>1988</td>\n",
       "      <td>0</td>\n",
       "      <td>1975</td>\n",
       "      <td>1994</td>\n",
       "      <td>0</td>\n",
       "      <td>NaN</td>\n",
       "      <td>0</td>\n",
       "      <td>0</td>\n",
       "    </tr>\n",
       "    <tr>\n",
       "      <th>21</th>\n",
       "      <td>0</td>\n",
       "      <td>3927</td>\n",
       "      <td>0</td>\n",
       "      <td>1986</td>\n",
       "      <td>2001</td>\n",
       "      <td>999</td>\n",
       "      <td>0</td>\n",
       "      <td>13992</td>\n",
       "      <td>7044</td>\n",
       "      <td>13990</td>\n",
       "      <td>...</td>\n",
       "      <td>4030</td>\n",
       "      <td>4007</td>\n",
       "      <td>3906</td>\n",
       "      <td>4025</td>\n",
       "      <td>0</td>\n",
       "      <td>0</td>\n",
       "      <td>2047</td>\n",
       "      <td>NaN</td>\n",
       "      <td>0</td>\n",
       "      <td>987</td>\n",
       "    </tr>\n",
       "    <tr>\n",
       "      <th>22</th>\n",
       "      <td>0</td>\n",
       "      <td>10072</td>\n",
       "      <td>0</td>\n",
       "      <td>4989</td>\n",
       "      <td>0</td>\n",
       "      <td>0</td>\n",
       "      <td>0</td>\n",
       "      <td>4016</td>\n",
       "      <td>5977</td>\n",
       "      <td>5019</td>\n",
       "      <td>...</td>\n",
       "      <td>2043</td>\n",
       "      <td>1051</td>\n",
       "      <td>0</td>\n",
       "      <td>4012</td>\n",
       "      <td>3094</td>\n",
       "      <td>0</td>\n",
       "      <td>0</td>\n",
       "      <td>NaN</td>\n",
       "      <td>2451</td>\n",
       "      <td>2391</td>\n",
       "    </tr>\n",
       "    <tr>\n",
       "      <th>23</th>\n",
       "      <td>0</td>\n",
       "      <td>10997</td>\n",
       "      <td>4060</td>\n",
       "      <td>1987</td>\n",
       "      <td>0</td>\n",
       "      <td>0</td>\n",
       "      <td>0</td>\n",
       "      <td>5279</td>\n",
       "      <td>2983</td>\n",
       "      <td>3971</td>\n",
       "      <td>...</td>\n",
       "      <td>5003</td>\n",
       "      <td>811</td>\n",
       "      <td>5072</td>\n",
       "      <td>2989</td>\n",
       "      <td>4059</td>\n",
       "      <td>0</td>\n",
       "      <td>0</td>\n",
       "      <td>NaN</td>\n",
       "      <td>0</td>\n",
       "      <td>0</td>\n",
       "    </tr>\n",
       "    <tr>\n",
       "      <th>24</th>\n",
       "      <td>14027</td>\n",
       "      <td>0</td>\n",
       "      <td>10044</td>\n",
       "      <td>2000</td>\n",
       "      <td>8047</td>\n",
       "      <td>4021</td>\n",
       "      <td>6000</td>\n",
       "      <td>0</td>\n",
       "      <td>0</td>\n",
       "      <td>0</td>\n",
       "      <td>...</td>\n",
       "      <td>1022</td>\n",
       "      <td>2413</td>\n",
       "      <td>1019</td>\n",
       "      <td>0</td>\n",
       "      <td>0</td>\n",
       "      <td>972</td>\n",
       "      <td>4014</td>\n",
       "      <td>NaN</td>\n",
       "      <td>4938</td>\n",
       "      <td>7008</td>\n",
       "    </tr>\n",
       "    <tr>\n",
       "      <th>25</th>\n",
       "      <td>0</td>\n",
       "      <td>3044</td>\n",
       "      <td>0</td>\n",
       "      <td>2013</td>\n",
       "      <td>0</td>\n",
       "      <td>0</td>\n",
       "      <td>1000</td>\n",
       "      <td>9939</td>\n",
       "      <td>0</td>\n",
       "      <td>8983</td>\n",
       "      <td>...</td>\n",
       "      <td>3957</td>\n",
       "      <td>978</td>\n",
       "      <td>1023</td>\n",
       "      <td>4945</td>\n",
       "      <td>9956</td>\n",
       "      <td>0</td>\n",
       "      <td>1018</td>\n",
       "      <td>NaN</td>\n",
       "      <td>0</td>\n",
       "      <td>0</td>\n",
       "    </tr>\n",
       "    <tr>\n",
       "      <th>26</th>\n",
       "      <td>2978</td>\n",
       "      <td>0</td>\n",
       "      <td>2968</td>\n",
       "      <td>0</td>\n",
       "      <td>2903</td>\n",
       "      <td>6982</td>\n",
       "      <td>8018</td>\n",
       "      <td>0</td>\n",
       "      <td>1982</td>\n",
       "      <td>569</td>\n",
       "      <td>...</td>\n",
       "      <td>0</td>\n",
       "      <td>0</td>\n",
       "      <td>0</td>\n",
       "      <td>0</td>\n",
       "      <td>953</td>\n",
       "      <td>3063</td>\n",
       "      <td>0</td>\n",
       "      <td>NaN</td>\n",
       "      <td>2895</td>\n",
       "      <td>11067</td>\n",
       "    </tr>\n",
       "    <tr>\n",
       "      <th>27</th>\n",
       "      <td>12062</td>\n",
       "      <td>0</td>\n",
       "      <td>7059</td>\n",
       "      <td>1007</td>\n",
       "      <td>4018</td>\n",
       "      <td>4027</td>\n",
       "      <td>9003</td>\n",
       "      <td>0</td>\n",
       "      <td>0</td>\n",
       "      <td>0</td>\n",
       "      <td>...</td>\n",
       "      <td>1980</td>\n",
       "      <td>1002</td>\n",
       "      <td>0</td>\n",
       "      <td>1006</td>\n",
       "      <td>0</td>\n",
       "      <td>0</td>\n",
       "      <td>5937</td>\n",
       "      <td>NaN</td>\n",
       "      <td>4980</td>\n",
       "      <td>3052</td>\n",
       "    </tr>\n",
       "    <tr>\n",
       "      <th>28</th>\n",
       "      <td>5975</td>\n",
       "      <td>0</td>\n",
       "      <td>741</td>\n",
       "      <td>1050</td>\n",
       "      <td>6015</td>\n",
       "      <td>0</td>\n",
       "      <td>8985</td>\n",
       "      <td>2422</td>\n",
       "      <td>0</td>\n",
       "      <td>2001</td>\n",
       "      <td>...</td>\n",
       "      <td>0</td>\n",
       "      <td>0</td>\n",
       "      <td>0</td>\n",
       "      <td>971</td>\n",
       "      <td>2001</td>\n",
       "      <td>3973</td>\n",
       "      <td>11018</td>\n",
       "      <td>NaN</td>\n",
       "      <td>746</td>\n",
       "      <td>9046</td>\n",
       "    </tr>\n",
       "    <tr>\n",
       "      <th>29</th>\n",
       "      <td>2017</td>\n",
       "      <td>4046</td>\n",
       "      <td>3378</td>\n",
       "      <td>6040</td>\n",
       "      <td>3056</td>\n",
       "      <td>0</td>\n",
       "      <td>0</td>\n",
       "      <td>6032</td>\n",
       "      <td>5022</td>\n",
       "      <td>2995</td>\n",
       "      <td>...</td>\n",
       "      <td>11921</td>\n",
       "      <td>0</td>\n",
       "      <td>4949</td>\n",
       "      <td>12063</td>\n",
       "      <td>2993</td>\n",
       "      <td>1998</td>\n",
       "      <td>0</td>\n",
       "      <td>NaN</td>\n",
       "      <td>2374</td>\n",
       "      <td>0</td>\n",
       "    </tr>\n",
       "  </tbody>\n",
       "</table>\n",
       "<p>30 rows × 31 columns</p>\n",
       "</div>"
      ],
      "text/plain": [
       "    Angels  Arizona  Athletics  Atlanta  Baltimore  BlueJays  Boston Red Sox  \\\n",
       "0        0        0        975     4982          0         0            2013   \n",
       "1      936     3018       1021        0          0      1950               0   \n",
       "2     6005        0       4324        0          0     11985           11990   \n",
       "3     7998      987       3966        0       6010      9015               0   \n",
       "4        0     1983          0      787       1960       999               0   \n",
       "5     4985        0       3964        0       4020      7042            4039   \n",
       "6        0     2077          0     2994          0      2004            1989   \n",
       "7     5021        0       4086        0       3971       992            5025   \n",
       "8        0    15052          0     4011          0         0               0   \n",
       "9     5981     1973       6018        0       4039      5017            4991   \n",
       "10       0     3996          0     2986       2405         0             984   \n",
       "11    2991      986       3006        0       4995      5013            6047   \n",
       "12       0        0       8970     2064       2995      3025            1002   \n",
       "13    3101     8021          0     3992          0         0               0   \n",
       "14       0     1936       1970     9997          0         0               0   \n",
       "15       0     1966          0     3022        982       578            2445   \n",
       "16    4939      564       4981        0       2989      5254            3985   \n",
       "17    1002     2997          0    10987          0         0               0   \n",
       "18    7023        0        993        0       6997      8954           17980   \n",
       "19   10030     2025          0     1979        676      5259            6034   \n",
       "20    2400     3002       1973     3947          0      2029            1974   \n",
       "21       0     3927          0     1986       2001       999               0   \n",
       "22       0    10072          0     4989          0         0               0   \n",
       "23       0    10997       4060     1987          0         0               0   \n",
       "24   14027        0      10044     2000       8047      4021            6000   \n",
       "25       0     3044          0     2013          0         0            1000   \n",
       "26    2978        0       2968        0       2903      6982            8018   \n",
       "27   12062        0       7059     1007       4018      4027            9003   \n",
       "28    5975        0        741     1050       6015         0            8985   \n",
       "29    2017     4046       3378     6040       3056         0               0   \n",
       "\n",
       "    Brewers  Cardinals  Chicago Cubs  ...  Mets   Nationals  Padres  \\\n",
       "0      5034       3956          4017  ...   3003       1954    7928   \n",
       "1      5978       4987          5213  ...   7013      11960    1011   \n",
       "2      2018          0          1040  ...      0       2944       0   \n",
       "3       555       2000             0  ...      0          0       0   \n",
       "4      6999       6017             0  ...   1976       3005    1981   \n",
       "5         0          0          2978  ...      0          0       0   \n",
       "6      8030       9971          8022  ...   3971       3065    3044   \n",
       "7         0          0             0  ...      0          0    1027   \n",
       "8      2994       4038          5009  ...   6138       3023    9003   \n",
       "9         0       1023             0  ...      0          0    1000   \n",
       "10     8012       7936          7968  ...   1902       1980    3032   \n",
       "11        0       1993             0  ...      0          0       0   \n",
       "12        0          0             0  ...   1998        983       0   \n",
       "13     1993       3966          4981  ...   3955       3122    7050   \n",
       "14     1003       5009          3979  ...   9896       2913    2039   \n",
       "15        0       5061          9001  ...   3996       1968    2984   \n",
       "16     2052          0             0  ...      0        626     549   \n",
       "17     2004       3043          4024  ...      0       6079    4957   \n",
       "18        0          0             0  ...   3995          0     609   \n",
       "19        0          0             0  ...      0        622       0   \n",
       "20      978       4055          2993  ...  11006       5937    1988   \n",
       "21    13992       7044         13990  ...   4030       4007    3906   \n",
       "22     4016       5977          5019  ...   2043       1051       0   \n",
       "23     5279       2983          3971  ...   5003        811    5072   \n",
       "24        0          0             0  ...   1022       2413    1019   \n",
       "25     9939          0          8983  ...   3957        978    1023   \n",
       "26        0       1982           569  ...      0          0       0   \n",
       "27        0          0             0  ...   1980       1002       0   \n",
       "28     2422          0          2001  ...      0          0       0   \n",
       "29     6032       5022          2995  ...  11921          0    4949   \n",
       "\n",
       "    Phillies   Pirates  Rangers   Rays  Total Wins  Twins  Yankees   \n",
       "0        3998     3073        0      0         NaN   2436         0  \n",
       "1       14053     5014     1993      0         NaN      0         0  \n",
       "2           0      999     4982  15097         NaN   3011     11003  \n",
       "3        1026        0      997   9982         NaN   3015      9020  \n",
       "4        4007     4010        0   2431         NaN      0         0  \n",
       "5           0      570     2990   5961         NaN  10143      4928  \n",
       "6        5090     9081        0      0         NaN      0       997  \n",
       "7           0        0     4046   1965         NaN  10155      3012  \n",
       "8        4300     2018        0      0         NaN   1024         0  \n",
       "9           0        0     2972   4031         NaN  11041      2018  \n",
       "10       3995     7968     2975   1049         NaN      0      2346  \n",
       "11          0        0     7015   4994         NaN  12050      5047  \n",
       "12        600        0     6938   6022         NaN   3061      2977  \n",
       "13       4065     1953        0      0         NaN      0         0  \n",
       "14       8062     1977        0   4974         NaN      0         0  \n",
       "15       5022     1008        0      0         NaN   3948         0  \n",
       "16          0        0     5020   3105         NaN      0      5963  \n",
       "17       6994     2970     1020      0         NaN      0      2005  \n",
       "18          0     2013     3948   6933         NaN   4037         0  \n",
       "19       1027        0    11941   6032         NaN   5019      5007  \n",
       "20          0     1975     1994      0         NaN      0         0  \n",
       "21       4025        0        0   2047         NaN      0       987  \n",
       "22       4012     3094        0      0         NaN   2451      2391  \n",
       "23       2989     4059        0      0         NaN      0         0  \n",
       "24          0        0      972   4014         NaN   4938      7008  \n",
       "25       4945     9956        0   1018         NaN      0         0  \n",
       "26          0      953     3063      0         NaN   2895     11067  \n",
       "27       1006        0        0   5937         NaN   4980      3052  \n",
       "28        971     2001     3973  11018         NaN    746      9046  \n",
       "29      12063     2993     1998      0         NaN   2374         0  \n",
       "\n",
       "[30 rows x 31 columns]"
      ]
     },
     "execution_count": 438,
     "metadata": {},
     "output_type": "execute_result"
    }
   ],
   "source": [
    "agg_matrix_2008"
   ]
  },
  {
   "cell_type": "code",
   "execution_count": 439,
   "metadata": {},
   "outputs": [],
   "source": [
    "row_sums = agg_matrix_2008.iloc[:,1:31].sum(axis=1)\n",
    "agg_matrix_2008['Total Wins'] = (row_sums+162)/1000"
   ]
  },
  {
   "cell_type": "code",
   "execution_count": 443,
   "metadata": {},
   "outputs": [
    {
     "data": {
      "text/plain": [
       "14"
      ]
     },
     "execution_count": 443,
     "metadata": {},
     "output_type": "execute_result"
    }
   ],
   "source": [
    "simb_2008 = pd.DataFrame()\n",
    "simb_2008['pcg_Simulated'] = (agg_matrix_2008['Total Wins'] / df_2008['Matches Played'])\n",
    "simb_2008['Z_PECOTA'] = ( simb_2008['pcg_Simulated'] - data_2008['pcg_PECOTA']) / (data_2008['pcg_PECOTA'] * (1 - data_2008['pcg_PECOTA']) / 162) ** 0.5\n",
    "simb_2008['P_Value_PECOTA'] = (1 - norm.cdf(abs(simb_2008['Z_PECOTA']))) * 2\n",
    "simb_2008 = simb_2008.sort_values(by='P_Value_PECOTA', ascending=False)\n",
    "\n",
    "alpha = 0.05\n",
    "m = 30\n",
    "simb_2008.reset_index(drop=True, inplace=True)\n",
    "simb_2008['BH_Threshold'] = (m - simb_2008.index) / m * alpha\n",
    "simb_K_PECOTA_2008 = 0\n",
    "\n",
    "for i, row in simb_2008.iterrows():\n",
    "    if row['P_Value_PECOTA'] > row['BH_Threshold']:\n",
    "        simb_K_PECOTA_2008 = i + 1\n",
    "    else:\n",
    "        break\n",
    "\n",
    "simb_K_PECOTA_2008 = 30 - simb_K_PECOTA_2008\n",
    "simb_K_PECOTA_2008"
   ]
  },
  {
   "cell_type": "code",
   "execution_count": 444,
   "metadata": {},
   "outputs": [
    {
     "data": {
      "text/plain": [
       "12"
      ]
     },
     "execution_count": 444,
     "metadata": {},
     "output_type": "execute_result"
    }
   ],
   "source": [
    "simb_2008 = pd.DataFrame()\n",
    "simb_2008['pcg_Simulated'] = (agg_matrix_2008['Total Wins'] / df_2008['Matches Played'])\n",
    "simb_2008['Z_ZiPs'] = ( simb_2008['pcg_Simulated'] - data_2008['pcg_ZiPs']) / (data_2008['pcg_ZiPs'] * (1 - data_2008['pcg_ZiPs']) / 162) ** 0.5\n",
    "simb_2008['P_Value_ZiPs'] = (1 - norm.cdf(abs(simb_2008['Z_ZiPs']))) * 2\n",
    "simb_2008 = simb_2008.sort_values(by='P_Value_ZiPs', ascending=False)\n",
    "\n",
    "alpha = 0.05\n",
    "m = 30\n",
    "simb_2008.reset_index(drop=True, inplace=True)\n",
    "simb_2008['BH_Threshold'] = (m - simb_2008.index) / m * alpha\n",
    "simb_K_ZiPs_2008 = 0\n",
    "\n",
    "for i, row in simb_2008.iterrows():\n",
    "    if row['P_Value_ZiPs'] > row['BH_Threshold']:\n",
    "        simb_K_ZiPs_2008 = i + 1\n",
    "    else:\n",
    "        break\n",
    "\n",
    "simb_K_ZiPs_2008 = 30 - simb_K_ZiPs_2008\n",
    "simb_K_ZiPs_2008"
   ]
  },
  {
   "cell_type": "code",
   "execution_count": 445,
   "metadata": {},
   "outputs": [],
   "source": [
    "agg_matrix_2014 = pd.DataFrame(0, index=observed_2014.index, columns=observed_2014.columns[1:])\n",
    "\n",
    "for j in range(1000):\n",
    "    agg_matrix_2014=agg_matrix_2014+simulations_2014[j]\n",
    "\n",
    "row_sums = agg_matrix_2014.iloc[:,1:31].sum(axis=1)\n",
    "agg_matrix_2014['Total Wins'] = (row_sums+162)/1000"
   ]
  },
  {
   "cell_type": "code",
   "execution_count": 446,
   "metadata": {},
   "outputs": [
    {
     "data": {
      "text/plain": [
       "9"
      ]
     },
     "execution_count": 446,
     "metadata": {},
     "output_type": "execute_result"
    }
   ],
   "source": [
    "simb_2014 = pd.DataFrame()\n",
    "simb_2014['pcg_Simulated'] = (agg_matrix_2014['Total Wins'] / df_2014['Matches Played'])\n",
    "simb_2014['Z_PECOTA'] = ( simb_2014['pcg_Simulated'] - data_2014['pcg_PECOTA']) / (data_2014['pcg_PECOTA'] * (1 - data_2014['pcg_PECOTA']) / 162) ** 0.5\n",
    "simb_2014['P_Value_PECOTA'] = (1 - norm.cdf(abs(simb_2014['Z_PECOTA']))) * 2\n",
    "simb_2014 = simb_2014.sort_values(by='P_Value_PECOTA', ascending=False)\n",
    "\n",
    "alpha = 0.05\n",
    "m = 30\n",
    "simb_2014.reset_index(drop=True, inplace=True)\n",
    "simb_2014['BH_Threshold'] = (m - simb_2014.index) / m * alpha\n",
    "simb_K_PECOTA_2014 = 0\n",
    "\n",
    "for i, row in simb_2014.iterrows():\n",
    "    if row['P_Value_PECOTA'] > row['BH_Threshold']:\n",
    "        simb_K_PECOTA_2014 = i + 1\n",
    "    else:\n",
    "        break\n",
    "\n",
    "simb_K_PECOTA_2014 = 30 - simb_K_PECOTA_2014\n",
    "simb_K_PECOTA_2014"
   ]
  },
  {
   "cell_type": "code",
   "execution_count": 447,
   "metadata": {},
   "outputs": [
    {
     "data": {
      "text/plain": [
       "5"
      ]
     },
     "execution_count": 447,
     "metadata": {},
     "output_type": "execute_result"
    }
   ],
   "source": [
    "simb_2014 = pd.DataFrame()\n",
    "simb_2014['pcg_Simulated'] = (agg_matrix_2014['Total Wins'] / df_2014['Matches Played'])\n",
    "simb_2014['Z_FanGraphs'] = ( simb_2014['pcg_Simulated'] - data_2014['pcg_FanGraphs']) / (data_2014['pcg_FanGraphs'] * (1 - data_2014['pcg_FanGraphs']) / 162) ** 0.5\n",
    "simb_2014['P_Value_FanGraphs'] = (1 - norm.cdf(abs(simb_2014['Z_FanGraphs']))) * 2\n",
    "simb_2014 = simb_2014.sort_values(by='P_Value_FanGraphs', ascending=False)\n",
    "\n",
    "alpha = 0.05\n",
    "m = 30\n",
    "simb_2014.reset_index(drop=True, inplace=True)\n",
    "simb_2014['BH_Threshold'] = (m - simb_2014.index) / m * alpha\n",
    "simb_K_FanGraphs_2014 = 0\n",
    "\n",
    "for i, row in simb_2014.iterrows():\n",
    "    if row['P_Value_FanGraphs'] > row['BH_Threshold']:\n",
    "        simb_K_FanGraphs_2014 = i + 1\n",
    "    else:\n",
    "        break\n",
    "\n",
    "simb_K_FanGraphs_2014 = 30 - simb_K_FanGraphs_2014\n",
    "simb_K_FanGraphs_2014"
   ]
  },
  {
   "cell_type": "code",
   "execution_count": 448,
   "metadata": {},
   "outputs": [
    {
     "data": {
      "text/plain": [
       "9"
      ]
     },
     "execution_count": 448,
     "metadata": {},
     "output_type": "execute_result"
    }
   ],
   "source": [
    "simb_2014 = pd.DataFrame()\n",
    "simb_2014['pcg_Simulated'] = (agg_matrix_2014['Total Wins'] / df_2014['Matches Played'])\n",
    "simb_2014['Z_ZiPs'] = ( simb_2014['pcg_Simulated'] - data_2014['pcg_ZiPs']) / (data_2014['pcg_ZiPs'] * (1 - data_2014['pcg_ZiPs']) / 162) ** 0.5\n",
    "simb_2014['P_Value_ZiPs'] = (1 - norm.cdf(abs(simb_2014['Z_ZiPs']))) * 2\n",
    "simb_2014 = simb_2014.sort_values(by='P_Value_ZiPs', ascending=False)\n",
    "\n",
    "alpha = 0.05\n",
    "m = 30\n",
    "simb_2014.reset_index(drop=True, inplace=True)\n",
    "simb_2014['BH_Threshold'] = (m - simb_2014.index) / m * alpha\n",
    "simb_K_ZiPs_2014 = 0\n",
    "\n",
    "for i, row in simb_2014.iterrows():\n",
    "    if row['P_Value_ZiPs'] > row['BH_Threshold']:\n",
    "        simb_K_ZiPs_2014 = i + 1\n",
    "    else:\n",
    "        break\n",
    "\n",
    "simb_K_ZiPs_2014 = 30 - simb_K_ZiPs_2014\n",
    "simb_K_ZiPs_2014"
   ]
  },
  {
   "cell_type": "code",
   "execution_count": 449,
   "metadata": {},
   "outputs": [
    {
     "data": {
      "text/plain": [
       "7"
      ]
     },
     "execution_count": 449,
     "metadata": {},
     "output_type": "execute_result"
    }
   ],
   "source": [
    "simb_2014 = pd.DataFrame()\n",
    "simb_2014['pcg_Simulated'] = (agg_matrix_2014['Total Wins'] / df_2014['Matches Played'])\n",
    "simb_2014['Z_Steamer'] = ( simb_2014['pcg_Simulated'] - data_2014['pcg_Steamer']) / (data_2014['pcg_Steamer'] * (1 - data_2014['pcg_Steamer']) / 162) ** 0.5\n",
    "simb_2014['P_Value_Steamer'] = (1 - norm.cdf(abs(simb_2014['Z_Steamer']))) * 2\n",
    "simb_2014 = simb_2014.sort_values(by='P_Value_Steamer', ascending=False)\n",
    "\n",
    "alpha = 0.05\n",
    "m = 30\n",
    "simb_2014.reset_index(drop=True, inplace=True)\n",
    "simb_2014['BH_Threshold'] = (m - simb_2014.index) / m * alpha\n",
    "simb_K_Steamer_2014 = 0\n",
    "\n",
    "for i, row in simb_2014.iterrows():\n",
    "    if row['P_Value_Steamer'] > row['BH_Threshold']:\n",
    "        simb_K_Steamer_2014 = i + 1\n",
    "    else:\n",
    "        break\n",
    "\n",
    "simb_K_Steamer_2014 = 30 - simb_K_Steamer_2014\n",
    "simb_K_Steamer_2014"
   ]
  }
 ],
 "metadata": {
  "kernelspec": {
   "display_name": "Python 3",
   "language": "python",
   "name": "python3"
  },
  "language_info": {
   "codemirror_mode": {
    "name": "ipython",
    "version": 3
   },
   "file_extension": ".py",
   "mimetype": "text/x-python",
   "name": "python",
   "nbconvert_exporter": "python",
   "pygments_lexer": "ipython3",
   "version": "3.11.6"
  },
  "orig_nbformat": 4
 },
 "nbformat": 4,
 "nbformat_minor": 2
}
